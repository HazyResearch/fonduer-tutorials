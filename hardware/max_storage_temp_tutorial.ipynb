{
 "cells": [
  {
   "cell_type": "markdown",
   "metadata": {},
   "source": [
    "# Tutorial: Extracting Maximum Storage Temperatures for Transistors from PDF Datasheets"
   ]
  },
  {
   "cell_type": "markdown",
   "metadata": {},
   "source": [
    "# Introduction\n",
    "\n",
    "We will walk through the process of using `Fonduer` to extract relations from [**richly formatted** data](https://hazyresearch.github.io/snorkel/blog/fonduer.html), where information is conveyed via combinations of textual, structural, tabular, and visual expressions, as seen in webpages, business reports, product specifications, and scientific literature.\n",
    "\n",
    "In this tutorial, we use `Fonduer` to identify mentions of the maximum storage temperature of transistors (e.g. `150°C`) in a corpus of transistor datasheets from [Digikey.com](https://www.digikey.com/products/en/discrete-semiconductor-products/transistors-bipolar-bjt-single/276).\n",
    "\n",
    "The tutorial is broken into several parts, each covering a phase of the `Fonduer` pipeline (as outlined in the [paper](https://arxiv.org/abs/1703.05028)), and the iterative KBC process:\n",
    "\n",
    "1. KBC Initialization\n",
    "2. Candidate Generation and Multimodal Featurization\n",
    "3. Probabilistic Relation Classification\n",
    "4. Error Analysis and Iterative KBC\n",
    "\n",
    "In addition, we show how users can iteratively improve labeling functions to improve relation extraction quality.\n",
    "\n",
    "# Phase 1: KBC Initialization\n",
    "\n",
    "In this first phase of `Fonduer`'s pipeline, `Fonduer` uses a user-specified _schema_ to initialize a relational database where the output KB will be stored. Furthermore, `Fonduer` iterates over its input _corpus_ and transforms each document into a unified data model, which captures the variability and multimodality of richly formatted data. This unified data model then servers as an intermediate representation used in the rest of the phases.\n",
    "\n",
    "This preprocessed data is saved to a database. The connection string to the database is provided to the `Meta` object, which will initialize a PostgreSQL database for parallel execution.\n",
    "\n",
    "We initialize several variables for convenience that define what the database should be called and what level of parallelization the `Fonduer` pipeline will be run with.\n",
    "\n",
    "Before you continue, please make sure that you have PostgreSQL installed and have created a new database named `stg_temp_max`."
   ]
  },
  {
   "cell_type": "code",
   "execution_count": 1,
   "metadata": {
    "scrolled": false
   },
   "outputs": [],
   "source": [
    "%load_ext autoreload\n",
    "%autoreload 2\n",
    "%matplotlib inline\n",
    "import os\n",
    "import sys\n",
    "import logging\n",
    "\n",
    "# Configure logging for Fonduer\n",
    "logging.basicConfig(stream=sys.stdout, format='[%(levelname)s] %(name)s - %(message)s')\n",
    "log = logging.getLogger('fonduer')\n",
    "log.setLevel(logging.INFO)\n",
    "\n",
    "PARALLEL = 4 # assuming a quad-core machine\n",
    "ATTRIBUTE = \"stg_temp_max\"\n",
    "conn_string = 'postgresql://localhost:5432/' + ATTRIBUTE"
   ]
  },
  {
   "cell_type": "markdown",
   "metadata": {},
   "source": [
    "## 1.1 Parsing and Transforming the Input Documents into Unified Data Models\n",
    "\n",
    "We first initialize a `Meta` object, which manages the connection to the database automatically, and enables us to save intermediate results."
   ]
  },
  {
   "cell_type": "code",
   "execution_count": 2,
   "metadata": {
    "scrolled": false
   },
   "outputs": [
    {
     "name": "stdout",
     "output_type": "stream",
     "text": [
      "[INFO] fonduer.meta - Connecting user:None to localhost:5432/stg_temp_max\n",
      "[INFO] fonduer.meta - Initializing the storage schema\n"
     ]
    }
   ],
   "source": [
    "from fonduer import Meta\n",
    "\n",
    "session = Meta.init(conn_string).Session()"
   ]
  },
  {
   "cell_type": "markdown",
   "metadata": {},
   "source": [
    "Next, we load the corpus of datasheets and transform them into the unified data model. Each datasheet has a PDF and HTML representation (in this example, the HTML is created using Adobe Acrobat). Both representations are used in conjunction to create a robust unified data model with textual, structural, tabular, and visual modality information. Note that since each document is independent of each other, we can parse the documents in parallel. We depend on PostgreSQL for this functionality.\n",
    "\n",
    "### Configuring an `HTMLDocPreprocessor`\n",
    "We start by setting the paths to where our documents are stored, and defining a `HTMLDocPreprocessor` to read in the documents found in the specified paths. `max_docs` specified the number of documents to parse. For the sake of this tutorial, we only look at 100 documents.\n",
    "\n",
    "**Note that you need to have run `download_data.sh` before executing these next steps or you won't have the documents needed for the tutorial.**"
   ]
  },
  {
   "cell_type": "code",
   "execution_count": 3,
   "metadata": {},
   "outputs": [],
   "source": [
    "from fonduer.parser.preprocessors import HTMLDocPreprocessor\n",
    "from fonduer.parser import Parser\n",
    "\n",
    "docs_path = 'data/html/'\n",
    "pdf_path = 'data/pdf/'\n",
    "\n",
    "max_docs = 100\n",
    "doc_preprocessor = HTMLDocPreprocessor(docs_path, max_docs=max_docs)"
   ]
  },
  {
   "cell_type": "markdown",
   "metadata": {},
   "source": [
    "### Configuring a `Parser`\n",
    "Next, we configure a `Parser`, which serves as our `CorpusParser` for PDF documents. We use [spaCy](https://spacy.io/) as a preprocessing tool to split our documents into sentences and tokens, and to provide annotations such as part-of-speech tags and dependency parse structures for these sentences. In addition, we can specify which modality information to include in the unified data model for each document. Below, we enable all modality information."
   ]
  },
  {
   "cell_type": "code",
   "execution_count": 4,
   "metadata": {
    "scrolled": false
   },
   "outputs": [
    {
     "name": "stdout",
     "output_type": "stream",
     "text": [
      "[INFO] fonduer.utils.udf - Running UDF...\n"
     ]
    },
    {
     "data": {
      "application/vnd.jupyter.widget-view+json": {
       "model_id": "11bf7f6536954a02a8b0f31c37e825a0",
       "version_major": 2,
       "version_minor": 0
      },
      "text/plain": [
       "HBox(children=(IntProgress(value=0), HTML(value='')))"
      ]
     },
     "metadata": {},
     "output_type": "display_data"
    },
    {
     "name": "stdout",
     "output_type": "stream",
     "text": [
      "\n",
      "CPU times: user 2.56 s, sys: 428 ms, total: 2.99 s\n",
      "Wall time: 5min 4s\n"
     ]
    }
   ],
   "source": [
    "corpus_parser = Parser(session, structural=True, lingual=True, visual=True, pdf_path=pdf_path)\n",
    "%time corpus_parser.apply(doc_preprocessor, parallelism=PARALLEL)"
   ]
  },
  {
   "cell_type": "markdown",
   "metadata": {},
   "source": [
    "We can then use simple database queries (written in the syntax of [SQLAlchemy](http://www.sqlalchemy.org/), which `Fonduer` uses) to check how many documents and sentences were parsed, or even check how many sentences are contained in each document."
   ]
  },
  {
   "cell_type": "code",
   "execution_count": 5,
   "metadata": {
    "scrolled": false
   },
   "outputs": [
    {
     "name": "stdout",
     "output_type": "stream",
     "text": [
      "Documents: 100\n",
      "Sentences: 43803\n"
     ]
    }
   ],
   "source": [
    "from fonduer.parser.models import Document, Sentence\n",
    "\n",
    "print(\"Documents:\", session.query(Document).count())\n",
    "print(\"Sentences:\", session.query(Sentence).count())"
   ]
  },
  {
   "cell_type": "markdown",
   "metadata": {},
   "source": [
    "## 1.2 Dividing the Corpus into Test and Train\n",
    "\n",
    "We'll split the documents 80/10/10 into train/dev/test splits. Note that here we do this in a non-random order to preverse the consistency in the tutorial, and we reference the splits by 0/1/2 respectively."
   ]
  },
  {
   "cell_type": "code",
   "execution_count": 6,
   "metadata": {},
   "outputs": [
    {
     "name": "stdout",
     "output_type": "stream",
     "text": [
      "['CSEMS05383-1',\n",
      " 'PHGLS19500-1',\n",
      " '2N4124',\n",
      " 'BournsInc_TIP152S',\n",
      " 'DISES00023-1',\n",
      " 'DiodesIncorporated_ZTX953STZ',\n",
      " 'MOTOS04796-1',\n",
      " 'BC546',\n",
      " 'DISES00242-1',\n",
      " 'CentralSemiconductorCorp_CMPT5401ETR',\n",
      " 'DiodesIncorporated_ZTX688BSTZ',\n",
      " 'MOTOS04676-1',\n",
      " '112823',\n",
      " 'DISES00189-1',\n",
      " 'DiodesIncorporated_ZTX789ASTZ',\n",
      " 'MCCCS08984-1',\n",
      " 'NXPUSAInc_PBSS5360PASX',\n",
      " 'CentralSemiconductorCorp_2N4013',\n",
      " 'DISES00192-1',\n",
      " 'BournsInc_BD246BS',\n",
      " 'JCSTS01155-1',\n",
      " 'ONSMS04099-1',\n",
      " 'FairchildSemiconductor_KSC2310YTA',\n",
      " 'INFNS19372-1',\n",
      " 'ONSemiconductor_MMBT6521LT1',\n",
      " 'BC818-40LT1-D',\n",
      " 'DIODS00215-1',\n",
      " 'DISES00645-1',\n",
      " 'MOTOS03160-1',\n",
      " 'DiodesIncorporated_ZXT690BKTC',\n",
      " 'LITES00686-1',\n",
      " 'MCCCS08818-1',\n",
      " 'BC182',\n",
      " 'MMMCS17742-1',\n",
      " 'BC818',\n",
      " 'LITES00689-1',\n",
      " 'DISES00490-1',\n",
      " '2N6427',\n",
      " 'DIODS13249-1',\n",
      " 'MOTOS03189-1',\n",
      " 'FAIRS25065-1',\n",
      " 'LITES00424-1',\n",
      " 'DISES00616-1',\n",
      " 'MINDS00015-1',\n",
      " 'Infineon-BC817KSERIES_BC818KSERIES-DS-v01_01-en',\n",
      " 'CSEMS03485-1',\n",
      " 'KECCS03676-1',\n",
      " 'KECCS05435-1',\n",
      " 'MMBT3904',\n",
      " 'CentralSemiconductorCorp_CXT4033TR',\n",
      " 'FAIRS19194-1',\n",
      " 'MCCCS09540-1',\n",
      " 'LTSCS02910-1',\n",
      " 'CSEMS02742-1',\n",
      " 'BC337',\n",
      " '2N6426-D',\n",
      " 'BC182-D',\n",
      " '2N4123-D',\n",
      " '2N3906-D',\n",
      " 'Infineon-BC857SERIES_BC858SERIES_BC859SERIES_BC860SERIES-DS-v01_01-en',\n",
      " 'MicroCommercialCo_2N3904AP',\n",
      " 'AUKCS04635-1',\n",
      " 'LITES00690-1',\n",
      " 'DiodesIncorporated_FZT651TC',\n",
      " 'MCCCS09741-1',\n",
      " 'LTSCS02920-1',\n",
      " 'DiodesIncorporated_2DD26527',\n",
      " 'MicrosemiCorporation_2N2484UB',\n",
      " '2N3906',\n",
      " 'BC337-D',\n",
      " 'LTSCS02912-1',\n",
      " 'DiodesIncorporated_FCX491ATA',\n",
      " 'PHGLS20267-1',\n",
      " 'MCCCS08610-1',\n",
      " 'MicroCommercialCo_TIP29ABP',\n",
      " 'BC546-BC548C(TO-92)',\n",
      " 'BC547',\n",
      " 'CSEMS05382-1',\n",
      " 'CentralSemiconductorCorp_CENU45',\n",
      " 'BC546A_Series_B14-521026']\n"
     ]
    }
   ],
   "source": [
    "docs = session.query(Document).order_by(Document.name).all()\n",
    "ld   = len(docs)\n",
    "\n",
    "train_docs = set()\n",
    "dev_docs   = set()\n",
    "test_docs  = set()\n",
    "splits = (0.8, 0.9)\n",
    "data = [(doc.name, doc) for doc in docs]\n",
    "data.sort(key=lambda x: x[0])\n",
    "for i, (doc_name, doc) in enumerate(data):\n",
    "    if i < splits[0] * ld:\n",
    "        train_docs.add(doc)\n",
    "    elif i < splits[1] * ld:\n",
    "        dev_docs.add(doc)\n",
    "    else:\n",
    "        test_docs.add(doc)\n",
    "from pprint import pprint\n",
    "pprint([x.name for x in train_docs])"
   ]
  },
  {
   "cell_type": "markdown",
   "metadata": {},
   "source": [
    "# Phase 2: Mention Extraction, Candidate Extraction Multimodal Featurization\n",
    "\n",
    "Given the unified data model from Phase 1, `Fonduer` extracts relation\n",
    "candidates based on user-provided **matchers** and **throttlers**. Then,\n",
    "`Fonduer` leverages the multimodality information captured in the unified data\n",
    "model to provide multimodal features for each candidate.\n",
    "\n",
    "## 2.1 Mention Extraction\n",
    "\n",
    "The first step is to extract **mentions** from our corpus. A `mention` is the\n",
    "type of object which makes up a `candidate`. For example, if we wanted to\n",
    "extract pairs of transistor part numbers and their corresponding maximum\n",
    "storage temperatures, the transistor part number would be one `mention` while\n",
    "the temperature value would be another. These `mention`s are then combined to\n",
    "create `candidates`, where our task is to predict which `candidates` are true\n",
    "in the associated document.\n",
    "\n",
    "We first start by defining and naming our two `mention`s:"
   ]
  },
  {
   "cell_type": "code",
   "execution_count": 7,
   "metadata": {},
   "outputs": [],
   "source": [
    "from fonduer.candidates.models import mention_subclass\n",
    "\n",
    "Part = mention_subclass(\"Part\")\n",
    "Temp = mention_subclass(\"Temp\")"
   ]
  },
  {
   "cell_type": "markdown",
   "metadata": {},
   "source": [
    "Next, we write **matchers** to define which spans of text in the corpus are\n",
    "instances of each entity. Matchers can leverage a variety of information from\n",
    "regular expressions, to dictionaries, to user-defined functions. Furthermore,\n",
    "different techniques can be combined to form higher quality matchers. In\n",
    "general, matchers should seek to be as precise as possible while maintaining\n",
    "complete recall. More documentation about Matchers can be found on [Read the Docs](https://fonduer.readthedocs.io/en/stable/user/matchers.html).\n",
    "\n",
    "In our case, we need to write a matcher that defines a transistor part number\n",
    "and a matcher to define a valid temperature value.\n",
    "\n",
    "### Writing a simple temperature matcher\n",
    "\n",
    "Our maximum storage temperature matcher can be a very simple regular expression\n",
    "since we know that we are looking for integers, and by inspecting a portion of\n",
    "our corpus, we see that maximum storage temperatures fall within a fairly\n",
    "narrow range."
   ]
  },
  {
   "cell_type": "code",
   "execution_count": 8,
   "metadata": {},
   "outputs": [],
   "source": [
    "from fonduer.candidates.matchers import RegexMatchSpan, DictionaryMatch, LambdaFunctionMatcher, Intersect, Union\n",
    "\n",
    "temp_matcher = RegexMatchSpan(rgx=r\"(?:[1][5-9]|20)[05]\", longest_match_only=False)"
   ]
  },
  {
   "cell_type": "markdown",
   "metadata": {},
   "source": [
    "### Writing an advanced transistor part matcher\n",
    "\n",
    "In contrast, transistor part numbers are complex expressions. Here, we show how transistor part numbers can leverage [naming conventions](https://en.wikipedia.org/wiki/Transistor#Part_numbering_standards.2Fspecifications) as regular expressions, and use a dictionary of known part numbers, and use user-defined functions together. First, we create a regular expression matcher for standard transistor naming conventions."
   ]
  },
  {
   "cell_type": "code",
   "execution_count": 9,
   "metadata": {},
   "outputs": [],
   "source": [
    "### Transistor Naming Conventions as Regular Expressions ###\n",
    "eeca_rgx = r'([ABC][A-Z][WXYZ]?[0-9]{3,5}(?:[A-Z]){0,5}[0-9]?[A-Z]?(?:-[A-Z0-9]{1,7})?(?:[-][A-Z0-9]{1,2})?(?:\\/DG)?)'\n",
    "jedec_rgx = r'(2N\\d{3,4}[A-Z]{0,5}[0-9]?[A-Z]?)'\n",
    "jis_rgx = r'(2S[ABCDEFGHJKMQRSTVZ]{1}[\\d]{2,4})'\n",
    "others_rgx = r'((?:NSVBC|SMBT|MJ|MJE|MPS|MRF|RCA|TIP|ZTX|ZT|ZXT|TIS|TIPL|DTC|MMBT|SMMBT|PZT|FZT|STD|BUV|PBSS|KSC|CXT|FCX|CMPT){1}[\\d]{2,4}[A-Z]{0,5}(?:-[A-Z0-9]{0,6})?(?:[-][A-Z0-9]{0,1})?)'\n",
    "\n",
    "part_rgx = '|'.join([eeca_rgx, jedec_rgx, jis_rgx, others_rgx])\n",
    "part_rgx_matcher = RegexMatchSpan(rgx=part_rgx, longest_match_only=True)"
   ]
  },
  {
   "cell_type": "markdown",
   "metadata": {},
   "source": [
    "Next, we can create a matcher from a dictionary of known part numbers:"
   ]
  },
  {
   "cell_type": "code",
   "execution_count": 10,
   "metadata": {},
   "outputs": [],
   "source": [
    "import csv\n",
    "\n",
    "def get_digikey_parts_set(path):\n",
    "    \"\"\"\n",
    "    Reads in the digikey part dictionary and yeilds each part.\n",
    "    \"\"\"\n",
    "    all_parts = set()\n",
    "    with open(path, \"r\") as csvinput:\n",
    "        reader = csv.reader(csvinput)\n",
    "        for line in reader:\n",
    "            (part, url) = line\n",
    "            all_parts.add(part)\n",
    "    return all_parts\n",
    "\n",
    "### Dictionary of known transistor parts ###\n",
    "dict_path = 'data/digikey_part_dictionary.csv'\n",
    "part_dict_matcher = DictionaryMatch(d=get_digikey_parts_set(dict_path))"
   ]
  },
  {
   "cell_type": "markdown",
   "metadata": {},
   "source": [
    "We can also use user-defined functions to further improve our matchers. For example, here we use patterns in the document filenames as a signal for whether a span of text in a document is a valid transistor part number."
   ]
  },
  {
   "cell_type": "code",
   "execution_count": 11,
   "metadata": {},
   "outputs": [],
   "source": [
    "from builtins import range\n",
    "\n",
    "def common_prefix_length_diff(str1, str2):\n",
    "    for i in range(min(len(str1), len(str2))):\n",
    "        if str1[i] != str2[i]:\n",
    "            return min(len(str1), len(str2)) - i\n",
    "    return 0\n",
    "\n",
    "def part_file_name_conditions(attr):\n",
    "    file_name = attr.sentence.document.name\n",
    "    if len(file_name.split('_')) != 2: return False\n",
    "    if attr.get_span()[0] == '-': return False\n",
    "    name = attr.get_span().replace('-', '')\n",
    "    return any(char.isdigit() for char in name) and any(char.isalpha() for char in name) and common_prefix_length_diff(file_name.split('_')[1], name) <= 2\n",
    "\n",
    "add_rgx = '^[A-Z0-9\\-]{5,15}$'\n",
    "\n",
    "part_file_name_lambda_matcher = LambdaFunctionMatcher(func=part_file_name_conditions)\n",
    "part_file_name_matcher = Intersect(RegexMatchSpan(rgx=add_rgx, longest_match_only=True), part_file_name_lambda_matcher)"
   ]
  },
  {
   "cell_type": "markdown",
   "metadata": {},
   "source": [
    "Then, we can union all of these matchers together to form our final part matcher."
   ]
  },
  {
   "cell_type": "code",
   "execution_count": 12,
   "metadata": {},
   "outputs": [],
   "source": [
    "part_matcher = Union(part_rgx_matcher, part_dict_matcher, part_file_name_matcher)"
   ]
  },
  {
   "cell_type": "markdown",
   "metadata": {},
   "source": [
    "These two matchers define each entity in our relation schema."
   ]
  },
  {
   "cell_type": "markdown",
   "metadata": {},
   "source": [
    "### Define a Mention's `MentionSpace`\n",
    "\n",
    "Next, in order to define the \"space\" of all mentions that are even considered\n",
    "from the document, we need to define a `MentionSpace` for each component of the\n",
    "relation we wish to extract. Fonduer provides a default `MentionSpace` for you\n",
    "to use, but you can also extend the default `MentionSpace` depending on your\n",
    "needs.\n",
    "\n",
    "In the case of transistor part numbers, the `MentionSpace` can be quite complex\n",
    "due to the need to handle implicit part numbers that are implied in text like\n",
    "\"BC546A/B/C...BC548A/B/C\", which refers to 9 unique part numbers. To handle\n",
    "these, we consider all n-grams up to 3 words long.\n",
    "\n",
    "In contrast, the `MentionSpace` for temperature values is simpler: we only need\n",
    "to process different Unicode representations of a (`-`), and don't need to look\n",
    "at more than two words at a time.\n",
    "\n",
    "When no special preprocessing like this is needed, we could have used the\n",
    "default `Ngrams` class provided by `fonduer`. For example, if we were looking\n",
    "to match polarities, which only take the form of \"NPN\" or \"PNP\", we could've\n",
    "used `ngrams = MentionNgrams(n_max=1)`."
   ]
  },
  {
   "cell_type": "code",
   "execution_count": 13,
   "metadata": {},
   "outputs": [],
   "source": [
    "from hardware_spaces import MentionNgramsPart, MentionNgramsTemp\n",
    "    \n",
    "part_ngrams = MentionNgramsPart(parts_by_doc=None, n_max=3)\n",
    "temp_ngrams = MentionNgramsTemp(n_max=2)"
   ]
  },
  {
   "cell_type": "markdown",
   "metadata": {},
   "source": [
    "### Running Mention Extraction \n",
    "\n",
    "Next, we create a `MentionExtractor` to extract the mentions from all of\n",
    "our documents based on the `MentionSpace` and matchers we defined above.\n",
    "\n",
    "View the API for the MentionExtractor on [ReadTheDocs](https://fonduer.readthedocs.io/en/latest/user/candidates.html#fonduer.candidates.MentionExtractor).\n"
   ]
  },
  {
   "cell_type": "code",
   "execution_count": 14,
   "metadata": {},
   "outputs": [],
   "source": [
    "from fonduer.candidates import MentionExtractor \n",
    "\n",
    "mention_extractor = MentionExtractor(\n",
    "    session, [Part, Temp], [part_ngrams, temp_ngrams], [part_matcher, temp_matcher]\n",
    ")"
   ]
  },
  {
   "cell_type": "markdown",
   "metadata": {},
   "source": [
    "Then, we run the extractor on all of our documents."
   ]
  },
  {
   "cell_type": "code",
   "execution_count": 15,
   "metadata": {},
   "outputs": [
    {
     "name": "stdout",
     "output_type": "stream",
     "text": [
      "[INFO] fonduer.candidates.mentions - Clearing table: part\n",
      "[INFO] fonduer.candidates.mentions - Clearing table: temp\n",
      "[INFO] fonduer.utils.udf - Running UDF...\n"
     ]
    },
    {
     "data": {
      "application/vnd.jupyter.widget-view+json": {
       "model_id": "26e7573318fe4688b85aec0258d40c09",
       "version_major": 2,
       "version_minor": 0
      },
      "text/plain": [
       "HBox(children=(IntProgress(value=0), HTML(value='')))"
      ]
     },
     "metadata": {},
     "output_type": "display_data"
    },
    {
     "name": "stdout",
     "output_type": "stream",
     "text": [
      "\n",
      "Total Mentions: 3578\n"
     ]
    }
   ],
   "source": [
    "from fonduer.candidates.models import Mention\n",
    "\n",
    "mention_extractor.apply(docs, parallelism=PARALLEL)\n",
    "\n",
    "print(\"Total Mentions: {}\".format(session.query(Mention).count()))"
   ]
  },
  {
   "cell_type": "markdown",
   "metadata": {},
   "source": [
    "## 2.2 Candidate Extraction\n",
    "\n",
    "Now that we have both defined and extracted the Mentions that can be used to compose Candidates, we are ready to move on to extracting Candidates. Like we did with the Mentions, we first define what each candidate schema looks like. In this example, we create a candidate that is composed of a `Part` and a `Temp` mention as we defined above. We name this candidate \"PartTemp\"."
   ]
  },
  {
   "cell_type": "code",
   "execution_count": 16,
   "metadata": {},
   "outputs": [],
   "source": [
    "from fonduer.candidates.models import candidate_subclass\n",
    "\n",
    "PartTemp = candidate_subclass(\"PartTemp\", [Part, Temp])"
   ]
  },
  {
   "cell_type": "markdown",
   "metadata": {},
   "source": [
    "### Defining candidate `Throttlers`\n",
    "\n",
    "Next, we need to define **throttlers**, which allow us to further prune excess candidates and avoid unnecessarily materializing invalid candidates. Throttlers, like matchers, act as hard filters, and should be created to have high precision while maintaining complete recall, if possible.\n",
    "\n",
    "Here, we create a throttler that discards candidates if they are in the same table, but the part and storage temperature are not vertically or horizontally aligned."
   ]
  },
  {
   "cell_type": "code",
   "execution_count": 17,
   "metadata": {},
   "outputs": [],
   "source": [
    "from fonduer.utils.data_model_utils import *\n",
    "import re\n",
    "\n",
    "def stg_temp_filter(c):\n",
    "    (part, attr) = c\n",
    "    if same_table((part, attr)):\n",
    "        return (is_horz_aligned((part, attr)) or is_vert_aligned((part, attr)))\n",
    "    return True\n",
    "\n",
    "temp_throttler = stg_temp_filter"
   ]
  },
  {
   "cell_type": "markdown",
   "metadata": {},
   "source": [
    "### Running the `CandidateExtractor`\n",
    "\n",
    "Now, we have all the component necessary to perform candidate extraction. We have defined the Mentions that compose each candidate and a throttler to prunes away excess candidates. We now can define the `CandidateExtractor` with the candidate subclass and corresponding throttler to use.\n",
    "\n",
    "View the API for the CandidateExtractor on [ReadTheDocs](https://fonduer.readthedocs.io/en/docstrings/user/candidates.html#fonduer.candidates.CandidateExtractor)."
   ]
  },
  {
   "cell_type": "code",
   "execution_count": 18,
   "metadata": {
    "scrolled": false
   },
   "outputs": [],
   "source": [
    "from fonduer.candidates import CandidateExtractor\n",
    "\n",
    "\n",
    "candidate_extractor = CandidateExtractor(session, [PartTemp], throttlers=[temp_throttler])"
   ]
  },
  {
   "cell_type": "markdown",
   "metadata": {},
   "source": [
    "Here we specified that these `Candidates` belong to the training set by specifying `split=0`; recall that we're referring to train/dev/test as splits 0/1/2."
   ]
  },
  {
   "cell_type": "code",
   "execution_count": 19,
   "metadata": {},
   "outputs": [
    {
     "name": "stdout",
     "output_type": "stream",
     "text": [
      "[INFO] fonduer.candidates.candidates - Clearing table part_temp (split 0)\n",
      "[INFO] fonduer.utils.udf - Running UDF...\n"
     ]
    },
    {
     "data": {
      "application/vnd.jupyter.widget-view+json": {
       "model_id": "32927e37792f46c0a68859d2011c1f7a",
       "version_major": 2,
       "version_minor": 0
      },
      "text/plain": [
       "HBox(children=(IntProgress(value=0, max=80), HTML(value='')))"
      ]
     },
     "metadata": {},
     "output_type": "display_data"
    },
    {
     "name": "stdout",
     "output_type": "stream",
     "text": [
      "\n",
      "Number of Candidates in split=0: 30132\n",
      "[INFO] fonduer.candidates.candidates - Clearing table part_temp (split 1)\n",
      "[INFO] fonduer.utils.udf - Running UDF...\n"
     ]
    },
    {
     "data": {
      "application/vnd.jupyter.widget-view+json": {
       "model_id": "1e98643c919a4274a3816062ca0e7514",
       "version_major": 2,
       "version_minor": 0
      },
      "text/plain": [
       "HBox(children=(IntProgress(value=0, max=10), HTML(value='')))"
      ]
     },
     "metadata": {},
     "output_type": "display_data"
    },
    {
     "name": "stdout",
     "output_type": "stream",
     "text": [
      "\n",
      "Number of Candidates in split=1: 2699\n",
      "[INFO] fonduer.candidates.candidates - Clearing table part_temp (split 2)\n",
      "[INFO] fonduer.utils.udf - Running UDF...\n"
     ]
    },
    {
     "data": {
      "application/vnd.jupyter.widget-view+json": {
       "model_id": "0d985bab7f7e4771902412845244af73",
       "version_major": 2,
       "version_minor": 0
      },
      "text/plain": [
       "HBox(children=(IntProgress(value=0, max=10), HTML(value='')))"
      ]
     },
     "metadata": {},
     "output_type": "display_data"
    },
    {
     "name": "stdout",
     "output_type": "stream",
     "text": [
      "\n",
      "Number of Candidates in split=2: 1862\n"
     ]
    }
   ],
   "source": [
    "for i, docs in enumerate([train_docs, dev_docs, test_docs]):\n",
    "    candidate_extractor.apply(docs, split=i, parallelism=PARALLEL)\n",
    "    print(\"Number of Candidates in split={}: {}\".format(i, session.query(PartTemp).filter(PartTemp.split == i).count()))\n",
    "\n",
    "train_cands = candidate_extractor.get_candidates(split = 0)\n",
    "dev_cands = candidate_extractor.get_candidates(split = 1)\n",
    "test_cands = candidate_extractor.get_candidates(split = 2)"
   ]
  },
  {
   "cell_type": "markdown",
   "metadata": {},
   "source": [
    "## 2.2 Multimodal Featurization\n",
    "Unlike dealing with plain unstructured text, `Fonduer` deals with richly formatted data, and consequently featurizes each candidate with a baseline library of multimodal features. \n",
    "\n",
    "### Featurize with `Fonduer`'s optimized Postgres Featurizer\n",
    "We now annotate the candidates in our training, dev, and test sets with features. The `Featurizer` provided by `Fonduer` allows this to be done in parallel to improve performance.\n",
    "\n",
    "View the API provided by the `Featurizer` on [ReadTheDocs](https://fonduer.readthedocs.io/en/latest/user/features.html#fonduer.features.Featurizer)."
   ]
  },
  {
   "cell_type": "code",
   "execution_count": 20,
   "metadata": {},
   "outputs": [
    {
     "name": "stdout",
     "output_type": "stream",
     "text": [
      "[INFO] fonduer.features.featurizer - Clearing Features (split 0)\n",
      "[INFO] fonduer.utils.udf - Running UDF...\n"
     ]
    },
    {
     "data": {
      "application/vnd.jupyter.widget-view+json": {
       "model_id": "fcbea7ce567e41d0b6fcc0c37d7e0cfa",
       "version_major": 2,
       "version_minor": 0
      },
      "text/plain": [
       "HBox(children=(IntProgress(value=0, max=80), HTML(value='')))"
      ]
     },
     "metadata": {},
     "output_type": "display_data"
    },
    {
     "name": "stdout",
     "output_type": "stream",
     "text": [
      "\n",
      "CPU times: user 1.09 s, sys: 196 ms, total: 1.29 s\n",
      "Wall time: 1min 42s\n",
      "CPU times: user 51.9 s, sys: 2.41 s, total: 54.4 s\n",
      "Wall time: 1min 11s\n"
     ]
    }
   ],
   "source": [
    "from fonduer.features import Featurizer\n",
    "\n",
    "featurizer = Featurizer(session, [PartTemp])\n",
    "%time featurizer.apply(split=0, train=True, parallelism=PARALLEL)\n",
    "%time F_train = featurizer.get_feature_matrices(train_cands)"
   ]
  },
  {
   "cell_type": "code",
   "execution_count": 21,
   "metadata": {},
   "outputs": [
    {
     "name": "stdout",
     "output_type": "stream",
     "text": [
      "(30132, 23791)\n",
      "[INFO] fonduer.features.featurizer - Clearing Features (split 1)\n",
      "[INFO] fonduer.utils.udf - Running UDF...\n"
     ]
    },
    {
     "data": {
      "application/vnd.jupyter.widget-view+json": {
       "model_id": "2f64fd77e6294b1583d00e4042f49398",
       "version_major": 2,
       "version_minor": 0
      },
      "text/plain": [
       "HBox(children=(IntProgress(value=0, max=10), HTML(value='')))"
      ]
     },
     "metadata": {},
     "output_type": "display_data"
    },
    {
     "name": "stdout",
     "output_type": "stream",
     "text": [
      "\n",
      "CPU times: user 867 ms, sys: 280 ms, total: 1.15 s\n",
      "Wall time: 13.2 s\n",
      "CPU times: user 4.82 s, sys: 201 ms, total: 5.02 s\n",
      "Wall time: 6.5 s\n",
      "(2699, 23791)\n"
     ]
    }
   ],
   "source": [
    "print(F_train[0].shape)\n",
    "%time featurizer.apply(split=1, parallelism=PARALLEL)\n",
    "%time F_dev = featurizer.get_feature_matrices(dev_cands)\n",
    "print(F_dev[0].shape)"
   ]
  },
  {
   "cell_type": "code",
   "execution_count": 22,
   "metadata": {},
   "outputs": [
    {
     "name": "stdout",
     "output_type": "stream",
     "text": [
      "[INFO] fonduer.features.featurizer - Clearing Features (split 2)\n",
      "[INFO] fonduer.utils.udf - Running UDF...\n"
     ]
    },
    {
     "data": {
      "application/vnd.jupyter.widget-view+json": {
       "model_id": "d84818c8d8154904946857fcb4576800",
       "version_major": 2,
       "version_minor": 0
      },
      "text/plain": [
       "HBox(children=(IntProgress(value=0, max=9), HTML(value='')))"
      ]
     },
     "metadata": {},
     "output_type": "display_data"
    },
    {
     "name": "stdout",
     "output_type": "stream",
     "text": [
      "\n",
      "CPU times: user 355 ms, sys: 163 ms, total: 518 ms\n",
      "Wall time: 11.3 s\n",
      "CPU times: user 3.76 s, sys: 146 ms, total: 3.9 s\n",
      "Wall time: 4.97 s\n",
      "(1862, 23791)\n"
     ]
    }
   ],
   "source": [
    "%time featurizer.apply(split=2, parallelism=PARALLEL)\n",
    "%time F_test = featurizer.get_feature_matrices(test_cands)\n",
    "print(F_test[0].shape)"
   ]
  },
  {
   "cell_type": "markdown",
   "metadata": {},
   "source": [
    "At the end of this phase, `Fonduer` has generated the set of candidates and the feature matrix. Note that Phase 1 and 2 are relatively static and typically are only executed once during the KBC process.\n",
    "\n",
    "# Phase 3: Probabilistic Relation Classification\n",
    "In this phase, `Fonduer` applies user-defined **labeling functions**, which express various heuristics, patterns, and [weak supervision](http://hazyresearch.github.io/snorkel/blog/weak_supervision.html) strategies to label our data, to each of the candidates to create a label matrix that is used by our data programming engine.\n",
    "\n",
    "In the wild, hand-labeled training data is rare and expensive. A common scenario is to have access to tons of unlabeled training data, and have some idea of how to label them programmatically. For example:\n",
    "* We may be able to think of text patterns that would indicate a part and polarity mention are related, for example the word \"temperature\" appearing between them.\n",
    "* We may have access to an external knowledge base that lists some pairs of parts and polarities, and can use these to noisily label some of our mention pairs.\n",
    "Our labeling functions will capture these types of strategies. We know that these labeling functions will not be perfect, and some may be quite low-quality, so we will model their accuracies with a generative model, which `Fonduer` will help us easily apply.\n",
    "\n",
    "Using data programming, we can then train machine learning models to learn which features are the most important in classifying candidates.\n",
    "\n",
    "### Loading Gold Data\n",
    "For convenience in error analysis and evaluation, we have already annotated the dev and test set for this tutorial, and we'll now load it using an externally-defined helper function. If you're interested in the example implementation details, please see the script we now load:"
   ]
  },
  {
   "cell_type": "code",
   "execution_count": 23,
   "metadata": {},
   "outputs": [
    {
     "name": "stdout",
     "output_type": "stream",
     "text": [
      "Loading 34693 candidate labels\n"
     ]
    },
    {
     "data": {
      "application/vnd.jupyter.widget-view+json": {
       "model_id": "cf3657c4f71c4e6da366cb32a3d525dc",
       "version_major": 2,
       "version_minor": 0
      },
      "text/plain": [
       "HBox(children=(IntProgress(value=0, max=34693), HTML(value='')))"
      ]
     },
     "metadata": {},
     "output_type": "display_data"
    },
    {
     "name": "stdout",
     "output_type": "stream",
     "text": [
      "\n",
      "GoldLabels created: 34693\n"
     ]
    }
   ],
   "source": [
    "from hardware_utils import load_hardware_labels\n",
    "\n",
    "gold_file = 'data/hardware_tutorial_gold.csv'\n",
    "load_hardware_labels(session, PartTemp, gold_file, ATTRIBUTE ,annotator_name='gold')"
   ]
  },
  {
   "cell_type": "markdown",
   "metadata": {},
   "source": [
    "### Creating Labeling Functions\n",
    "\n",
    "In `Fonduer`, our primary interface through which we provide training signal to\n",
    "the end extraction model we are training is by writing labeling functions\n",
    "(**LFs**) (as opposed to hand-labeling massive training sets).\n",
    "\n",
    "A labeling function isn't anything special. It's just a Python function that\n",
    "accepts a `Candidate` as the input argument and returns `2` if it says the\n",
    "Candidate should be marked as true, `1` if it says the `Candidate` should be\n",
    "marked as false, and `0` if it doesn't know how to vote and abstains. In\n",
    "practice, many labeling functions are unipolar: it labels only 2s and 0s, or it\n",
    "labels only 1s and 0s.\n",
    "\n",
    "Recall that our goal is ultimately to train a high-performance classification\n",
    "model that predicts which of our Candidates are true mentions of maximum\n",
    "storage temperature relations. It turns out that we can do this by writing\n",
    "potentially low-quality labeling functions!\n",
    "\n",
    "With `Fonduer`, labeling functions can be written using intuitive patterns\n",
    "discovered by inspecting the target corpus. A library of data model utilities\n",
    "which can be used to write labeling functions are outline in [Read the\n",
    "Docs](http://fonduer.readthedocs.io/en/latest/user/data_model_utils.html). \n",
    "\n",
    "For example, inspecting several documents may reveal that storage temperatures\n",
    "are typically listed inside a table where the row header contains the word\n",
    "\"storage\". This intuitive pattern can be directly expressed as a labeling\n",
    "function. Similarly, the word \"temperature\" is an obvious positive signal."
   ]
  },
  {
   "cell_type": "code",
   "execution_count": 24,
   "metadata": {},
   "outputs": [],
   "source": [
    "from fonduer.utils.data_model_utils import *\n",
    "import re\n",
    "\n",
    "ABSTAIN = 0\n",
    "FALSE = 1\n",
    "TRUE = 2\n",
    "\n",
    "def LF_storage_row(c):\n",
    "    return TRUE if 'storage' in get_row_ngrams(c.temp) else ABSTAIN\n",
    "\n",
    "def LF_temperature_row(c):\n",
    "    return TRUE if 'temperature' in get_row_ngrams(c.temp) else ABSTAIN"
   ]
  },
  {
   "cell_type": "markdown",
   "metadata": {},
   "source": [
    "We express several of these simple patterns below as a set of labeling functions:"
   ]
  },
  {
   "cell_type": "code",
   "execution_count": 25,
   "metadata": {},
   "outputs": [],
   "source": [
    "def LF_operating_row(c):\n",
    "    return TRUE if 'operating' in get_row_ngrams(c.temp) else ABSTAIN\n",
    "\n",
    "def LF_tstg_row(c):\n",
    "    return TRUE if overlap(\n",
    "        ['tstg','stg','ts'], \n",
    "        list(get_row_ngrams(c.temp))) else ABSTAIN\n",
    "\n",
    "\n",
    "def LF_to_left(c):\n",
    "    return TRUE if 'to' in get_left_ngrams(c.temp, window=2) else ABSTAIN\n",
    "\n",
    "def LF_negative_number_left(c):\n",
    "    return TRUE if any([re.match(r'-\\s*\\d+', ngram) for ngram in get_left_ngrams(c.temp, window=4)]) else ABSTAIN"
   ]
  },
  {
   "cell_type": "markdown",
   "metadata": {},
   "source": [
    "Then, we collect all of the labeling function we would like to use into a single list, which is provided as input to the `Labeler`."
   ]
  },
  {
   "cell_type": "code",
   "execution_count": 26,
   "metadata": {},
   "outputs": [],
   "source": [
    "stg_temp_lfs = [\n",
    "    LF_storage_row,\n",
    "    LF_operating_row,\n",
    "    LF_temperature_row,\n",
    "    LF_tstg_row,\n",
    "    LF_to_left,\n",
    "    LF_negative_number_left,\n",
    "]"
   ]
  },
  {
   "cell_type": "markdown",
   "metadata": {},
   "source": [
    "### Applying the Labeling Functions\n",
    "\n",
    "Next, we need to actually run the LFs over all of our training candidates, producing a set of `Labels` and `LabelKeys` (just the names of the LFs) in the database. Note that this will delete any existing `Labels` and `LabelKeys` for this candidate set.\n",
    "\n",
    "View the API provided by the `Labeler` on [ReadTheDocs](https://fonduer.readthedocs.io/en/latest/user/supervision.html#fonduer.supervision.Labeler)."
   ]
  },
  {
   "cell_type": "code",
   "execution_count": 27,
   "metadata": {},
   "outputs": [
    {
     "name": "stdout",
     "output_type": "stream",
     "text": [
      "[INFO] fonduer.supervision.labeler - Clearing Labels (split 0)\n",
      "[INFO] fonduer.utils.udf - Running UDF...\n"
     ]
    },
    {
     "data": {
      "application/vnd.jupyter.widget-view+json": {
       "model_id": "0355b80e492c4c3fb8a07b1c930d296b",
       "version_major": 2,
       "version_minor": 0
      },
      "text/plain": [
       "HBox(children=(IntProgress(value=0, max=80), HTML(value='')))"
      ]
     },
     "metadata": {},
     "output_type": "display_data"
    },
    {
     "name": "stdout",
     "output_type": "stream",
     "text": [
      "\n",
      "CPU times: user 1.33 s, sys: 211 ms, total: 1.54 s\n",
      "Wall time: 2min 44s\n",
      "CPU times: user 44 s, sys: 1.94 s, total: 45.9 s\n",
      "Wall time: 59.6 s\n"
     ]
    }
   ],
   "source": [
    "from fonduer.supervision import Labeler\n",
    "\n",
    "labeler = Labeler(session, [PartTemp])\n",
    "%time labeler.apply(split=0, lfs=[stg_temp_lfs], train=True, parallelism=PARALLEL)\n",
    "%time L_train = labeler.get_label_matrices(train_cands)"
   ]
  },
  {
   "cell_type": "markdown",
   "metadata": {},
   "source": [
    "We can also view statistics about the resulting label matrix.\n",
    "* **Coverage** is the fraction of candidates that the labeling function emits a non-zero label for.\n",
    "* **Overlap** is the fraction candidates that the labeling function emits a non-zero label for and that another labeling function emits a non-zero label for.\n",
    "* **Conflict** is the fraction candidates that the labeling function emits a non-zero label for and that another labeling function emits a conflicting non-zero label for.\n",
    "\n",
    "In addition, because we have already loaded the gold labels, we can view the emperical accuracy of these labeling functions when compared to our gold labels using the `analysis` module of [MeTaL](https://github.com/HazyResearch/metal)."
   ]
  },
  {
   "cell_type": "code",
   "execution_count": 28,
   "metadata": {},
   "outputs": [],
   "source": [
    "from fonduer.supervision import get_gold_labels\n",
    "L_gold_train = get_gold_labels(session, train_cands, annotator_name='gold')"
   ]
  },
  {
   "cell_type": "code",
   "execution_count": 29,
   "metadata": {},
   "outputs": [
    {
     "data": {
      "text/html": [
       "<div>\n",
       "<style scoped>\n",
       "    .dataframe tbody tr th:only-of-type {\n",
       "        vertical-align: middle;\n",
       "    }\n",
       "\n",
       "    .dataframe tbody tr th {\n",
       "        vertical-align: top;\n",
       "    }\n",
       "\n",
       "    .dataframe thead th {\n",
       "        text-align: right;\n",
       "    }\n",
       "</style>\n",
       "<table border=\"1\" class=\"dataframe\">\n",
       "  <thead>\n",
       "    <tr style=\"text-align: right;\">\n",
       "      <th></th>\n",
       "      <th>j</th>\n",
       "      <th>Polarity</th>\n",
       "      <th>Coverage</th>\n",
       "      <th>Overlaps</th>\n",
       "      <th>Conflicts</th>\n",
       "      <th>Correct</th>\n",
       "      <th>Incorrect</th>\n",
       "      <th>Emp. Acc.</th>\n",
       "    </tr>\n",
       "  </thead>\n",
       "  <tbody>\n",
       "    <tr>\n",
       "      <th>LabelKey (LF_negative_number_left)</th>\n",
       "      <td>0</td>\n",
       "      <td>2</td>\n",
       "      <td>0.083367</td>\n",
       "      <td>0.082338</td>\n",
       "      <td>0.0</td>\n",
       "      <td>2243</td>\n",
       "      <td>269</td>\n",
       "      <td>0.892914</td>\n",
       "    </tr>\n",
       "    <tr>\n",
       "      <th>LabelKey (LF_operating_row)</th>\n",
       "      <td>1</td>\n",
       "      <td>2</td>\n",
       "      <td>0.061363</td>\n",
       "      <td>0.061363</td>\n",
       "      <td>0.0</td>\n",
       "      <td>1157</td>\n",
       "      <td>692</td>\n",
       "      <td>0.625744</td>\n",
       "    </tr>\n",
       "    <tr>\n",
       "      <th>LabelKey (LF_storage_row)</th>\n",
       "      <td>2</td>\n",
       "      <td>2</td>\n",
       "      <td>0.105071</td>\n",
       "      <td>0.105071</td>\n",
       "      <td>0.0</td>\n",
       "      <td>2262</td>\n",
       "      <td>904</td>\n",
       "      <td>0.714466</td>\n",
       "    </tr>\n",
       "    <tr>\n",
       "      <th>LabelKey (LF_temperature_row)</th>\n",
       "      <td>3</td>\n",
       "      <td>2</td>\n",
       "      <td>0.137395</td>\n",
       "      <td>0.118910</td>\n",
       "      <td>0.0</td>\n",
       "      <td>3235</td>\n",
       "      <td>905</td>\n",
       "      <td>0.781401</td>\n",
       "    </tr>\n",
       "    <tr>\n",
       "      <th>LabelKey (LF_to_left)</th>\n",
       "      <td>4</td>\n",
       "      <td>2</td>\n",
       "      <td>0.101951</td>\n",
       "      <td>0.101951</td>\n",
       "      <td>0.0</td>\n",
       "      <td>2285</td>\n",
       "      <td>787</td>\n",
       "      <td>0.743815</td>\n",
       "    </tr>\n",
       "    <tr>\n",
       "      <th>LabelKey (LF_tstg_row)</th>\n",
       "      <td>5</td>\n",
       "      <td>2</td>\n",
       "      <td>0.105469</td>\n",
       "      <td>0.105071</td>\n",
       "      <td>0.0</td>\n",
       "      <td>2262</td>\n",
       "      <td>916</td>\n",
       "      <td>0.711768</td>\n",
       "    </tr>\n",
       "  </tbody>\n",
       "</table>\n",
       "</div>"
      ],
      "text/plain": [
       "                                    j  Polarity  Coverage  Overlaps  \\\n",
       "LabelKey (LF_negative_number_left)  0         2  0.083367  0.082338   \n",
       "LabelKey (LF_operating_row)         1         2  0.061363  0.061363   \n",
       "LabelKey (LF_storage_row)           2         2  0.105071  0.105071   \n",
       "LabelKey (LF_temperature_row)       3         2  0.137395  0.118910   \n",
       "LabelKey (LF_to_left)               4         2  0.101951  0.101951   \n",
       "LabelKey (LF_tstg_row)              5         2  0.105469  0.105071   \n",
       "\n",
       "                                    Conflicts  Correct  Incorrect  Emp. Acc.  \n",
       "LabelKey (LF_negative_number_left)        0.0     2243        269   0.892914  \n",
       "LabelKey (LF_operating_row)               0.0     1157        692   0.625744  \n",
       "LabelKey (LF_storage_row)                 0.0     2262        904   0.714466  \n",
       "LabelKey (LF_temperature_row)             0.0     3235        905   0.781401  \n",
       "LabelKey (LF_to_left)                     0.0     2285        787   0.743815  \n",
       "LabelKey (LF_tstg_row)                    0.0     2262        916   0.711768  "
      ]
     },
     "execution_count": 29,
     "metadata": {},
     "output_type": "execute_result"
    }
   ],
   "source": [
    "from metal import analysis\n",
    "\n",
    "analysis.lf_summary(L_train[0], lf_names=labeler.get_keys(), Y=L_gold_train[0].todense().reshape(-1,).tolist()[0])"
   ]
  },
  {
   "cell_type": "markdown",
   "metadata": {},
   "source": [
    "### Fitting the Generative Model\n",
    "\n",
    "Now, we'll train a model of the LFs to estimate their accuracies. Once the model is trained, we can combine the outputs of the LFs into a single, noise-aware training label set for our extractor. Intuitively, we'll model the LFs by observing how they overlap and conflict with each other. To do so, we use [MeTaL](https://github.com/HazyResearch/metal)'s single-task label model."
   ]
  },
  {
   "cell_type": "code",
   "execution_count": 30,
   "metadata": {},
   "outputs": [
    {
     "name": "stdout",
     "output_type": "stream",
     "text": [
      "Computing O...\n",
      "Estimating \\mu...\n",
      "[E:0]\tTrain Loss: 0.223\n",
      "[E:100]\tTrain Loss: 0.001\n",
      "[E:200]\tTrain Loss: 0.001\n",
      "[E:300]\tTrain Loss: 0.001\n",
      "[E:400]\tTrain Loss: 0.001\n",
      "[E:499]\tTrain Loss: 0.001\n",
      "Finished Training\n",
      "CPU times: user 610 ms, sys: 11.3 ms, total: 621 ms\n",
      "Wall time: 357 ms\n"
     ]
    }
   ],
   "source": [
    "from metal.label_model import LabelModel\n",
    "\n",
    "gen_model = LabelModel(k=2)\n",
    "%time gen_model.train_model(L_train[0], n_epochs=500, print_every=100)"
   ]
  },
  {
   "cell_type": "markdown",
   "metadata": {},
   "source": [
    "We now apply the generative model to the training candidates to get the noise-aware training label set. We'll refer to these as the training marginals:"
   ]
  },
  {
   "cell_type": "code",
   "execution_count": 31,
   "metadata": {},
   "outputs": [],
   "source": [
    "train_marginals = gen_model.predict_proba(L_train[0])[:, 1]"
   ]
  },
  {
   "cell_type": "markdown",
   "metadata": {},
   "source": [
    "We'll look at the distribution of the training marginals:"
   ]
  },
  {
   "cell_type": "code",
   "execution_count": 32,
   "metadata": {},
   "outputs": [
    {
     "data": {
      "image/png": "[encoded data removed]",
      "text/plain": [
       "<Figure size 432x288 with 1 Axes>"
      ]
     },
     "metadata": {},
     "output_type": "display_data"
    }
   ],
   "source": [
    "import matplotlib.pyplot as plt\n",
    "plt.hist(train_marginals, bins=20)\n",
    "plt.show()"
   ]
  },
  {
   "cell_type": "markdown",
   "metadata": {},
   "source": [
    "We can view the learned accuracy parameters as well."
   ]
  },
  {
   "cell_type": "code",
   "execution_count": 33,
   "metadata": {},
   "outputs": [
    {
     "data": {
      "text/plain": [
       "(30132, 6)"
      ]
     },
     "execution_count": 33,
     "metadata": {},
     "output_type": "execute_result"
    }
   ],
   "source": [
    "# gen_model.weights.lf_accuracy\n",
    "L_train[0].shape"
   ]
  },
  {
   "cell_type": "markdown",
   "metadata": {
    "scrolled": true
   },
   "source": [
    "### Using the Model to Iterate on Labeling Functions\n",
    "\n",
    "Now that we have learned the generative model, we can stop here and use this to potentially debug and/or improve our labeling function set. First, we apply the LFs to our development set:"
   ]
  },
  {
   "cell_type": "code",
   "execution_count": 34,
   "metadata": {},
   "outputs": [
    {
     "name": "stdout",
     "output_type": "stream",
     "text": [
      "[INFO] fonduer.supervision.labeler - Clearing Labels (split 1)\n",
      "[INFO] fonduer.utils.udf - Running UDF...\n"
     ]
    },
    {
     "data": {
      "application/vnd.jupyter.widget-view+json": {
       "model_id": "c12cbfc00ba2420882344b1b11bc6f55",
       "version_major": 2,
       "version_minor": 0
      },
      "text/plain": [
       "HBox(children=(IntProgress(value=0, max=10), HTML(value='')))"
      ]
     },
     "metadata": {},
     "output_type": "display_data"
    },
    {
     "name": "stdout",
     "output_type": "stream",
     "text": [
      "\n",
      "CPU times: user 4.02 s, sys: 138 ms, total: 4.16 s\n",
      "Wall time: 5.36 s\n"
     ]
    }
   ],
   "source": [
    "labeler.apply(split=1, lfs=[stg_temp_lfs], parallelism=PARALLEL)\n",
    "%time L_dev = labeler.get_label_matrices(dev_cands)"
   ]
  },
  {
   "cell_type": "code",
   "execution_count": 35,
   "metadata": {},
   "outputs": [
    {
     "data": {
      "text/plain": [
       "(2699, 6)"
      ]
     },
     "execution_count": 35,
     "metadata": {},
     "output_type": "execute_result"
    }
   ],
   "source": [
    "L_dev[0].shape"
   ]
  },
  {
   "cell_type": "markdown",
   "metadata": {},
   "source": [
    "### Interpreting Generative Model Performance\n",
    "\n",
    "At this point, we should be getting an F1 score of around 0.6 to 0.7 on the development set, which is pretty good! However, we should be very careful in interpreting this. Since we developed our labeling functions using this development set as a guide, and our generative model is composed of these labeling functions, we expect it to score very well here!\n",
    "\n",
    "In fact, it is probably somewhat overfit to this set. However this is fine, since in the next, we'll train a more powerful end extraction model which will generalize beyond the development set, and which we will evaluate on a blind test set (i.e. one we never looked at during development).\n",
    "\n",
    "\n",
    "### Training the Discriminative Model\n",
    "\n",
    "Now, we'll use the noisy training labels we generated in the last part to train our end extraction model. For this tutorial, we will be training a simple--but fairly effective--logistic regression model.\n",
    "\n",
    "We use the training marginals to train a discriminative model that classifies each Candidate as a true or false mention. "
   ]
  },
  {
   "cell_type": "code",
   "execution_count": 36,
   "metadata": {},
   "outputs": [
    {
     "name": "stdout",
     "output_type": "stream",
     "text": [
      "[INFO] fonduer.learning.disc_learning - Load defalut parameters for Logistic Regression\n",
      "[INFO] fonduer.learning.disc_learning - Settings: {'n_epochs': 50, 'lr': 0.001, 'batch_size': 256, 'seed': 1234, 'host_device': 'CPU', 'bias': False, 'input_dim': 23791}\n",
      "[INFO] fonduer.learning.disc_learning - [LogisticRegression] Training model\n",
      "[INFO] fonduer.learning.disc_learning - [LogisticRegression] n_train=4267  #epochs=50  batch size=256\n",
      "[INFO] fonduer.learning.disc_learning - [LogisticRegression] Epoch 1 (0.49s)\tAverage loss=0.347894\n",
      "[INFO] fonduer.learning.disc_learning - [LogisticRegression] Epoch 5 (2.02s)\tAverage loss=0.030987\n",
      "[INFO] fonduer.learning.disc_learning - [LogisticRegression] Epoch 10 (4.05s)\tAverage loss=0.022079\n",
      "[INFO] fonduer.learning.disc_learning - [LogisticRegression] Epoch 15 (5.92s)\tAverage loss=0.019727\n",
      "[INFO] fonduer.learning.disc_learning - [LogisticRegression] Epoch 20 (7.83s)\tAverage loss=0.018561\n",
      "[INFO] fonduer.learning.disc_learning - [LogisticRegression] Epoch 25 (9.71s)\tAverage loss=0.017992\n",
      "[INFO] fonduer.learning.disc_learning - [LogisticRegression] Epoch 30 (11.62s)\tAverage loss=0.017505\n",
      "[INFO] fonduer.learning.disc_learning - [LogisticRegression] Epoch 35 (13.49s)\tAverage loss=0.017235\n",
      "[INFO] fonduer.learning.disc_learning - [LogisticRegression] Epoch 40 (15.30s)\tAverage loss=0.016970\n",
      "[INFO] fonduer.learning.disc_learning - [LogisticRegression] Epoch 45 (17.21s)\tAverage loss=0.016694\n",
      "[INFO] fonduer.learning.disc_learning - [LogisticRegression] Epoch 50 (19.10s)\tAverage loss=0.016751\n",
      "[INFO] fonduer.learning.disc_learning - [LogisticRegression] Training done (19.11s)\n",
      "CPU times: user 52.7 s, sys: 1.86 s, total: 54.5 s\n",
      "Wall time: 21.2 s\n"
     ]
    }
   ],
   "source": [
    "from fonduer.learning import LogisticRegression\n",
    "\n",
    "disc_model = LogisticRegression()\n",
    "%time disc_model.train((train_cands[0], F_train[0]), train_marginals, n_epochs=50, lr=0.001)"
   ]
  },
  {
   "cell_type": "markdown",
   "metadata": {},
   "source": [
    "### Evaluating on the Test Set\n",
    "In this final section, we'll get the score we've been after: the performance of the extraction model on the blind test set (split 2). First, we load the test set labels and gold candidates from earlier:"
   ]
  },
  {
   "cell_type": "code",
   "execution_count": 37,
   "metadata": {},
   "outputs": [],
   "source": [
    "import numpy as np\n",
    "from hardware_utils import entity_level_f1\n",
    "import pickle\n",
    "pickle_file = 'data/parts_by_doc_dict.pkl'\n",
    "with open(pickle_file, 'rb') as f:\n",
    "    parts_by_doc = pickle.load(f)"
   ]
  },
  {
   "cell_type": "markdown",
   "metadata": {
    "scrolled": true
   },
   "source": [
    "Now, we score using the discriminitive model:"
   ]
  },
  {
   "cell_type": "code",
   "execution_count": 38,
   "metadata": {},
   "outputs": [
    {
     "name": "stdout",
     "output_type": "stream",
     "text": [
      "Preparing candidates...\n"
     ]
    },
    {
     "data": {
      "application/vnd.jupyter.widget-view+json": {
       "model_id": "7d159144d86149819ff4fb243cdfa920",
       "version_major": 2,
       "version_minor": 0
      },
      "text/plain": [
       "HBox(children=(IntProgress(value=0, max=1862), HTML(value='')))"
      ]
     },
     "metadata": {},
     "output_type": "display_data"
    },
    {
     "name": "stdout",
     "output_type": "stream",
     "text": [
      "\n",
      "========================================\n",
      "Scoring on Entity-Level Gold Data\n",
      "========================================\n",
      "Corpus Precision 0.333\n",
      "Corpus Recall    0.94\n",
      "Corpus F1        0.492\n",
      "----------------------------------------\n",
      "TP: 78 | FP: 156 | FN: 5\n",
      "========================================\n",
      "\n",
      "CPU times: user 3.4 s, sys: 141 ms, total: 3.54 s\n",
      "Wall time: 4.37 s\n"
     ]
    }
   ],
   "source": [
    "test_score = disc_model.predictions((test_cands[0], F_test[0]), b=0.6)\n",
    "true_pred = [test_cands[0][_] for _ in np.nditer(np.where(test_score > 0))]\n",
    "%time (TP, FP, FN) = entity_level_f1(true_pred, gold_file, ATTRIBUTE, test_docs, parts_by_doc=parts_by_doc)"
   ]
  },
  {
   "cell_type": "markdown",
   "metadata": {},
   "source": [
    "# Phase 4:  Error Analysis & Iterative KBC\n",
    "\n",
    "During the development process, we can iteratively improve the quality of our labeling functions through error analysis, without executing the full pipeline as in previous techniques. \n",
    "\n",
    "You may have noticed that our final score is about 50 F1 points. To remedy this and improve our quality, we can perform error analysis to understand what kinds of patterns we may have missed, or what issues exist with our labeling functions. Then, we can edit our set of labeling functions and rerun Phase 3, Probabilistic Relation Classification. \n",
    "\n",
    "## Error Analysis\n",
    "For example, notice that our `entity_level_f1` returns `TP`, `FP`, `FN` sets. We can also see that our recall is high, but we have low precision, so let's look at our false positivies, `FP`."
   ]
  },
  {
   "cell_type": "code",
   "execution_count": 39,
   "metadata": {},
   "outputs": [
    {
     "data": {
      "text/plain": [
       "[('BC546-D', 'BC546', '180'),\n",
       " ('BC546-D', 'BC546', '200'),\n",
       " ('BC546-D', 'BC546B', '180'),\n",
       " ('BC546-D', 'BC546B', '200'),\n",
       " ('BC546-D', 'BC546BG', '180'),\n",
       " ('BC546-D', 'BC546BG', '200'),\n",
       " ('BC546-D', 'BC546BRL1', '180'),\n",
       " ('BC546-D', 'BC546BRL1', '200'),\n",
       " ('BC546-D', 'BC546BRL1G', '180'),\n",
       " ('BC546-D', 'BC546BRL1G', '200'),\n",
       " ('BC546-D', 'BC546BZL1G', '180'),\n",
       " ('BC546-D', 'BC546BZL1G', '200'),\n",
       " ('BC546-D', 'BC547', '180'),\n",
       " ('BC546-D', 'BC547', '200'),\n",
       " ('BC546-D', 'BC547A', '180'),\n",
       " ('BC546-D', 'BC547A', '200'),\n",
       " ('BC546-D', 'BC547ARL', '180'),\n",
       " ('BC546-D', 'BC547ARL', '200'),\n",
       " ('BC546-D', 'BC547ARLG', '180'),\n",
       " ('BC546-D', 'BC547ARLG', '200'),\n",
       " ('BC546-D', 'BC547AZL1G', '180'),\n",
       " ('BC546-D', 'BC547AZL1G', '200'),\n",
       " ('BC546-D', 'BC547B', '180'),\n",
       " ('BC546-D', 'BC547B', '200'),\n",
       " ('BC546-D', 'BC547BG', '180'),\n",
       " ('BC546-D', 'BC547BG', '200'),\n",
       " ('BC546-D', 'BC547BRL1G', '180'),\n",
       " ('BC546-D', 'BC547BRL1G', '200'),\n",
       " ('BC546-D', 'BC547BZL1G', '180'),\n",
       " ('BC546-D', 'BC547BZL1G', '200'),\n",
       " ('BC546-D', 'BC547C', '180'),\n",
       " ('BC546-D', 'BC547C', '200'),\n",
       " ('BC546-D', 'BC547CG', '180'),\n",
       " ('BC546-D', 'BC547CG', '200'),\n",
       " ('BC546-D', 'BC547CZL1G', '180'),\n",
       " ('BC546-D', 'BC547CZL1G', '200'),\n",
       " ('BC546-D', 'BC548', '180'),\n",
       " ('BC546-D', 'BC548', '200'),\n",
       " ('BC546-D', 'BC548B', '180'),\n",
       " ('BC546-D', 'BC548B', '200'),\n",
       " ('BC546-D', 'BC548BG', '180'),\n",
       " ('BC546-D', 'BC548BG', '200'),\n",
       " ('BC546-D', 'BC548BRL1G', '180'),\n",
       " ('BC546-D', 'BC548BRL1G', '200'),\n",
       " ('BC546-D', 'BC548BZL1G', '180'),\n",
       " ('BC546-D', 'BC548BZL1G', '200'),\n",
       " ('BC546-D', 'BC548C', '180'),\n",
       " ('BC546-D', 'BC548C', '200'),\n",
       " ('BC546-D', 'BC548CG', '180'),\n",
       " ('BC546-D', 'BC548CG', '200'),\n",
       " ('BC546-D', 'BC548CZL1G', '180'),\n",
       " ('BC546-D', 'BC548CZL1G', '200'),\n",
       " ('BC546_DIOTEC', 'BC546', '200'),\n",
       " ('BC546_DIOTEC', 'BC546A', '200'),\n",
       " ('BC546_DIOTEC', 'BC546B', '200'),\n",
       " ('BC546_DIOTEC', 'BC546C', '150'),\n",
       " ('BC546_DIOTEC', 'BC546C', '200'),\n",
       " ('BC546_DIOTEC', 'BC547', '200'),\n",
       " ('BC546_DIOTEC', 'BC547A', '200'),\n",
       " ('BC546_DIOTEC', 'BC547B', '200'),\n",
       " ('BC546_DIOTEC', 'BC547C', '200'),\n",
       " ('BC546_DIOTEC', 'BC548', '200'),\n",
       " ('BC546_DIOTEC', 'BC548A', '200'),\n",
       " ('BC546_DIOTEC', 'BC548B', '200'),\n",
       " ('BC546_DIOTEC', 'BC548C', '200'),\n",
       " ('BC546_DIOTEC', 'BC549', '200'),\n",
       " ('BC546_DIOTEC', 'BC549A', '150'),\n",
       " ('BC546_DIOTEC', 'BC549A', '200'),\n",
       " ('BC546_DIOTEC', 'BC549B', '200'),\n",
       " ('BC546_DIOTEC', 'BC549C', '200'),\n",
       " ('BC546_DIOTEC', 'BC558', '150'),\n",
       " ('BC546_DIOTEC', 'BC558', '200'),\n",
       " ('BC550', 'BC546', '200'),\n",
       " ('BC550', 'BC546A', '200'),\n",
       " ('BC550', 'BC546B', '200'),\n",
       " ('BC550', 'BC546C', '200'),\n",
       " ('BC550', 'BC547', '200'),\n",
       " ('BC550', 'BC547A', '200'),\n",
       " ('BC550', 'BC547B', '200'),\n",
       " ('BC550', 'BC547C', '200'),\n",
       " ('BC550', 'BC548', '200'),\n",
       " ('BC550', 'BC548A', '200'),\n",
       " ('BC550', 'BC548B', '200'),\n",
       " ('BC550', 'BC548C', '200'),\n",
       " ('BC550', 'BC549', '200'),\n",
       " ('BC550', 'BC549A', '200'),\n",
       " ('BC550', 'BC549B', '200'),\n",
       " ('BC550', 'BC549C', '200'),\n",
       " ('BC550', 'BC550', '200'),\n",
       " ('BC550', 'BC550A', '200'),\n",
       " ('BC550', 'BC550B', '200'),\n",
       " ('BC550', 'BC550C', '200'),\n",
       " ('BC550', 'BC556', '150'),\n",
       " ('BC550', 'BC556', '200'),\n",
       " ('BC550', 'BC560', '150'),\n",
       " ('BC550', 'BC560', '200'),\n",
       " ('DTC114W', 'DTC114W', '180'),\n",
       " ('DTC114W', 'DTC114W', '200'),\n",
       " ('DTC114W', 'DTC114WE', '180'),\n",
       " ('DTC114W', 'DTC114WE', '200'),\n",
       " ('DTC114W', 'DTC114WKA', '180'),\n",
       " ('DTC114W', 'DTC114WKA', '200'),\n",
       " ('DTC114W', 'DTC114WUA', '180'),\n",
       " ('DTC114W', 'DTC114WUA', '200'),\n",
       " ('RECTS01214-1', 'DTC114EUA', '200'),\n",
       " ('RECTS01325-1', 'DTC114YUA', '200'),\n",
       " ('UTCLS01324-1', 'MMBT3904', '200'),\n",
       " ('UTCLS01324-1', 'MMBT3904-E', '150'),\n",
       " ('UTCLS01324-1', 'MMBT3904-E', '200'),\n",
       " ('UTCLS01324-1', 'MMBT3904G-AE3-R', '200'),\n",
       " ('UTCLS01324-1', 'MMBT3904G-AL3-R', '200'),\n",
       " ('UTCLS01324-1', 'MMBT3904L-AE3-R', '200'),\n",
       " ('UTCLS01324-1', 'MMBT3904L-AL3-R', '200'),\n",
       " ('UTCLS01324-1', 'MMBT3906', '150'),\n",
       " ('UTCLS01324-1', 'MMBT3906', '200'),\n",
       " ('VSMIS00373-1', 'BC327', '150'),\n",
       " ('VSMIS00373-1', 'BC327', '160'),\n",
       " ('VSMIS00373-1', 'BC327', '170'),\n",
       " ('VSMIS00373-1', 'BC327', '200'),\n",
       " ('VSMIS00373-1', 'BC328', '150'),\n",
       " ('VSMIS00373-1', 'BC328', '160'),\n",
       " ('VSMIS00373-1', 'BC328', '170'),\n",
       " ('VSMIS00373-1', 'BC328', '200'),\n",
       " ('VSMIS00373-1', 'BC337', '160'),\n",
       " ('VSMIS00373-1', 'BC337', '170'),\n",
       " ('VSMIS00373-1', 'BC337', '200'),\n",
       " ('VSMIS00373-1', 'BC337-16', '160'),\n",
       " ('VSMIS00373-1', 'BC337-16', '170'),\n",
       " ('VSMIS00373-1', 'BC337-16', '200'),\n",
       " ('VSMIS00373-1', 'BC337-25', '160'),\n",
       " ('VSMIS00373-1', 'BC337-25', '170'),\n",
       " ('VSMIS00373-1', 'BC337-25', '200'),\n",
       " ('VSMIS00373-1', 'BC337-40', '160'),\n",
       " ('VSMIS00373-1', 'BC337-40', '170'),\n",
       " ('VSMIS00373-1', 'BC337-40', '200'),\n",
       " ('VSMIS00373-1', 'BC338', '160'),\n",
       " ('VSMIS00373-1', 'BC338', '170'),\n",
       " ('VSMIS00373-1', 'BC338', '200'),\n",
       " ('VSMIS00373-1', 'BC338-16', '160'),\n",
       " ('VSMIS00373-1', 'BC338-16', '170'),\n",
       " ('VSMIS00373-1', 'BC338-16', '200'),\n",
       " ('VSMIS00373-1', 'BC338-25', '160'),\n",
       " ('VSMIS00373-1', 'BC338-25', '170'),\n",
       " ('VSMIS00373-1', 'BC338-25', '200'),\n",
       " ('VSMIS00373-1', 'BC338-40', '160'),\n",
       " ('VSMIS00373-1', 'BC338-40', '170'),\n",
       " ('VSMIS00373-1', 'BC338-40', '200'),\n",
       " ('WEITS00252-1', 'BC807', '150'),\n",
       " ('WEITS00252-1', 'BC807', '160'),\n",
       " ('WEITS00252-1', 'BC807-1', '150'),\n",
       " ('WEITS00252-1', 'BC807-1', '160'),\n",
       " ('WEITS00252-1', 'BC807-16', '160'),\n",
       " ('WEITS00252-1', 'BC807-17', '150'),\n",
       " ('WEITS00252-1', 'BC807-17', '160'),\n",
       " ('WEITS00252-1', 'BC807-25', '160'),\n",
       " ('WEITS00252-1', 'BC807-40', '160')]"
      ]
     },
     "execution_count": 39,
     "metadata": {},
     "output_type": "execute_result"
    }
   ],
   "source": [
    "FP"
   ]
  },
  {
   "cell_type": "markdown",
   "metadata": {},
   "source": [
    "We can see that there are actually only a few documents that are causing us problems. In particular, we see that `BC546-D` is giving us many false positives. So, let's inspect one of those candidates. "
   ]
  },
  {
   "cell_type": "code",
   "execution_count": 40,
   "metadata": {},
   "outputs": [
    {
     "data": {
      "image/png": "[encoded data removed]",
      "text/plain": [
       "<wand.image.Image: 98f0b5d 'PDF' (612x792)>"
      ]
     },
     "metadata": {},
     "output_type": "display_data"
    },
    {
     "data": {
      "image/png": "[encoded data removed]",
      "text/plain": [
       "<wand.image.Image: fa447d5 'PDF' (612x792)>"
      ]
     },
     "metadata": {},
     "output_type": "display_data"
    }
   ],
   "source": [
    "from fonduer.utils.visualizer import Visualizer\n",
    "from hardware_utils import entity_to_candidates\n",
    "vis = Visualizer(pdf_path)\n",
    "\n",
    "# Get a list of candidates that match the FN[10] entity\n",
    "fp_cands = entity_to_candidates(FP[10], test_cands[0])\n",
    "# Display a candidate\n",
    "vis.display_candidates([fp_cands[0]])"
   ]
  },
  {
   "cell_type": "markdown",
   "metadata": {},
   "source": [
    "Here, the candidates are boxed in blue. We see that the temperature falls within the range of numbers that our matcher for storage temperature allows to match. By inspecting candidates like this, or just by examining the problematic PDFs directly, we can notice some patterns that we can exploit as new labeling functions."
   ]
  },
  {
   "cell_type": "code",
   "execution_count": 41,
   "metadata": {},
   "outputs": [
    {
     "data": {
      "image/png": "[encoded data removed]",
      "text/plain": [
       "<wand.image.Image: 6a67aa9 'PDF' (612x792)>"
      ]
     },
     "metadata": {},
     "output_type": "display_data"
    },
    {
     "data": {
      "image/png": "[encoded data removed]",
      "text/plain": [
       "<wand.image.Image: fa447d5 'PDF' (612x792)>"
      ]
     },
     "metadata": {},
     "output_type": "display_data"
    }
   ],
   "source": [
    "# Get a list of candidates that match the FN[10] entity\n",
    "fp_cands = entity_to_candidates(FP[2], test_cands[0])\n",
    "\n",
    "# # Display this candidate\n",
    "vis.display_candidates([fp_cands[0]])"
   ]
  },
  {
   "cell_type": "markdown",
   "metadata": {},
   "source": [
    "## Iteratively Improving Labeling Functions\n",
    "\n",
    "From this error analysis, we may notice two important things. First, our original set of labeling functions had no labeling functions that labeled candidates a negative. This resulted in most skewing the models to accept most candidates, and hurt our precision. Second, we have now noticed that we need to focus on negatively labeling numbers that pass through our storage temperature matchers, but are not related to storage temperature.\n",
    "\n",
    "Below are a set of negative labeling functions that capture some of these patterns. For example, we label candidates an negative if the number is aligned with attributes that are not related to storage temperature, if a candidate represents a typical value, rather than a maximum value, if a temperature value is found outside of a table, and other intuitive patterns we noticed when carefully inspecting our false positives."
   ]
  },
  {
   "cell_type": "code",
   "execution_count": 42,
   "metadata": {},
   "outputs": [],
   "source": [
    "from itertools import chain\n",
    "\n",
    "def LF_test_condition_aligned(c):\n",
    "    return (\n",
    "        FALSE\n",
    "        if overlap([\"test\", \"condition\"], list(get_aligned_ngrams(c.temp)))\n",
    "        else ABSTAIN\n",
    "    )\n",
    "\n",
    "\n",
    "def LF_collector_aligned(c):\n",
    "    return (\n",
    "        FALSE\n",
    "        if overlap(\n",
    "            [\"collector\", \"collector-current\", \"collector-base\", \"collector-emitter\"],\n",
    "            list(get_aligned_ngrams(c.temp)),\n",
    "        )\n",
    "        else ABSTAIN\n",
    "    )\n",
    "\n",
    "\n",
    "def LF_current_aligned(c):\n",
    "    return (\n",
    "        FALSE\n",
    "        if overlap([\"current\", \"dc\", \"ic\"], list(get_aligned_ngrams(c.temp)))\n",
    "        else ABSTAIN\n",
    "    )\n",
    "\n",
    "\n",
    "def LF_voltage_row_temp(c):\n",
    "    return (\n",
    "        FALSE\n",
    "        if overlap(\n",
    "            [\"voltage\", \"cbo\", \"ceo\", \"ebo\", \"v\"], list(get_aligned_ngrams(c.temp))\n",
    "        )\n",
    "        else ABSTAIN\n",
    "    )\n",
    "\n",
    "\n",
    "def LF_voltage_row_part(c):\n",
    "    return (\n",
    "        FALSE\n",
    "        if overlap(\n",
    "            [\"voltage\", \"cbo\", \"ceo\", \"ebo\", \"v\"], list(get_aligned_ngrams(c.temp))\n",
    "        )\n",
    "        else ABSTAIN\n",
    "    )\n",
    "\n",
    "\n",
    "def LF_typ_row(c):\n",
    "    return FALSE if overlap([\"typ\", \"typ.\"], list(get_row_ngrams(c.temp))) else ABSTAIN\n",
    "\n",
    "\n",
    "def LF_complement_left_row(c):\n",
    "    return (\n",
    "        FALSE\n",
    "        if (\n",
    "            overlap(\n",
    "                [\"complement\", \"complementary\"],\n",
    "                chain.from_iterable(\n",
    "                    [get_row_ngrams(c.part), get_left_ngrams(c.part, window=10)]\n",
    "                ),\n",
    "            )\n",
    "        )\n",
    "        else ABSTAIN\n",
    "    )\n",
    "\n",
    "\n",
    "def LF_too_many_numbers_row(c):\n",
    "    num_numbers = list(get_row_ngrams(c.temp, attrib=\"ner_tags\")).count(\"number\")\n",
    "    return FALSE if num_numbers >= 3 else ABSTAIN\n",
    "\n",
    "\n",
    "def LF_temp_on_high_page_num(c):\n",
    "    return FALSE if c.temp.span.get_attrib_tokens(\"page\")[0] > 2 else ABSTAIN\n",
    "\n",
    "\n",
    "def LF_temp_outside_table(c):\n",
    "    return FALSE if not c.temp.span.sentence.is_tabular() is None else ABSTAIN\n",
    "\n",
    "\n",
    "def LF_not_temp_relevant(c):\n",
    "    return (\n",
    "        FALSE\n",
    "        if not overlap(\n",
    "            [\"storage\", \"temperature\", \"tstg\", \"stg\", \"ts\"],\n",
    "            list(get_aligned_ngrams(c.temp)),\n",
    "        )\n",
    "        else ABSTAIN\n",
    "    )"
   ]
  },
  {
   "cell_type": "markdown",
   "metadata": {
    "collapsed": true
   },
   "source": [
    "Then, we can add these to our list of labeling functions"
   ]
  },
  {
   "cell_type": "code",
   "execution_count": 43,
   "metadata": {},
   "outputs": [],
   "source": [
    "stg_temp_lfs_2 = [\n",
    "    LF_test_condition_aligned,\n",
    "    LF_collector_aligned,\n",
    "    LF_current_aligned,\n",
    "    LF_voltage_row_temp,\n",
    "    LF_voltage_row_part,\n",
    "    LF_typ_row,\n",
    "    LF_complement_left_row,\n",
    "    LF_too_many_numbers_row,\n",
    "    LF_temp_on_high_page_num,\n",
    "    LF_temp_outside_table,\n",
    "    LF_not_temp_relevant,\n",
    "]"
   ]
  },
  {
   "cell_type": "markdown",
   "metadata": {},
   "source": [
    "And rerun labeling. Importantly, this time we use the `.update()` function to reflect the fact that we are adding new labeling functions, but do not want to throw away the computations already performed in the previous iteration."
   ]
  },
  {
   "cell_type": "code",
   "execution_count": 44,
   "metadata": {},
   "outputs": [
    {
     "name": "stdout",
     "output_type": "stream",
     "text": [
      "[INFO] fonduer.utils.udf - Running UDF...\n"
     ]
    },
    {
     "data": {
      "application/vnd.jupyter.widget-view+json": {
       "model_id": "0617336ed1e74b4390165ca9737f7008",
       "version_major": 2,
       "version_minor": 0
      },
      "text/plain": [
       "HBox(children=(IntProgress(value=0, max=80), HTML(value='')))"
      ]
     },
     "metadata": {},
     "output_type": "display_data"
    },
    {
     "name": "stdout",
     "output_type": "stream",
     "text": [
      "\n",
      "CPU times: user 1.4 s, sys: 207 ms, total: 1.61 s\n",
      "Wall time: 9min 32s\n",
      "CPU times: user 1min 5s, sys: 2.5 s, total: 1min 7s\n",
      "Wall time: 1min 27s\n",
      "(30132, 16)\n"
     ]
    }
   ],
   "source": [
    "%time labeler.update(split=0, lfs=[stg_temp_lfs_2], parallelism=PARALLEL)\n",
    "%time L_train = labeler.get_label_matrices(train_cands)\n",
    "print(L_train[0].shape)"
   ]
  },
  {
   "cell_type": "code",
   "execution_count": 45,
   "metadata": {},
   "outputs": [
    {
     "data": {
      "text/html": [
       "<div>\n",
       "<style scoped>\n",
       "    .dataframe tbody tr th:only-of-type {\n",
       "        vertical-align: middle;\n",
       "    }\n",
       "\n",
       "    .dataframe tbody tr th {\n",
       "        vertical-align: top;\n",
       "    }\n",
       "\n",
       "    .dataframe thead th {\n",
       "        text-align: right;\n",
       "    }\n",
       "</style>\n",
       "<table border=\"1\" class=\"dataframe\">\n",
       "  <thead>\n",
       "    <tr style=\"text-align: right;\">\n",
       "      <th></th>\n",
       "      <th>j</th>\n",
       "      <th>Polarity</th>\n",
       "      <th>Coverage</th>\n",
       "      <th>Overlaps</th>\n",
       "      <th>Conflicts</th>\n",
       "    </tr>\n",
       "  </thead>\n",
       "  <tbody>\n",
       "    <tr>\n",
       "      <th>LabelKey (LF_collector_aligned)</th>\n",
       "      <td>0</td>\n",
       "      <td>1</td>\n",
       "      <td>0.042314</td>\n",
       "      <td>0.042314</td>\n",
       "      <td>0.000000</td>\n",
       "    </tr>\n",
       "    <tr>\n",
       "      <th>LabelKey (LF_complement_left_row)</th>\n",
       "      <td>1</td>\n",
       "      <td>1</td>\n",
       "      <td>0.011118</td>\n",
       "      <td>0.011118</td>\n",
       "      <td>0.004016</td>\n",
       "    </tr>\n",
       "    <tr>\n",
       "      <th>LabelKey (LF_current_aligned)</th>\n",
       "      <td>2</td>\n",
       "      <td>1</td>\n",
       "      <td>0.300976</td>\n",
       "      <td>0.300976</td>\n",
       "      <td>0.002157</td>\n",
       "    </tr>\n",
       "    <tr>\n",
       "      <th>LabelKey (LF_negative_number_left)</th>\n",
       "      <td>3</td>\n",
       "      <td>2</td>\n",
       "      <td>0.083367</td>\n",
       "      <td>0.083367</td>\n",
       "      <td>0.083367</td>\n",
       "    </tr>\n",
       "    <tr>\n",
       "      <th>LabelKey (LF_not_temp_relevant)</th>\n",
       "      <td>4</td>\n",
       "      <td>1</td>\n",
       "      <td>0.858854</td>\n",
       "      <td>0.858854</td>\n",
       "      <td>0.001029</td>\n",
       "    </tr>\n",
       "    <tr>\n",
       "      <th>LabelKey (LF_operating_row)</th>\n",
       "      <td>5</td>\n",
       "      <td>2</td>\n",
       "      <td>0.061363</td>\n",
       "      <td>0.061363</td>\n",
       "      <td>0.061363</td>\n",
       "    </tr>\n",
       "    <tr>\n",
       "      <th>LabelKey (LF_storage_row)</th>\n",
       "      <td>6</td>\n",
       "      <td>2</td>\n",
       "      <td>0.105071</td>\n",
       "      <td>0.105071</td>\n",
       "      <td>0.105071</td>\n",
       "    </tr>\n",
       "    <tr>\n",
       "      <th>LabelKey (LF_temperature_row)</th>\n",
       "      <td>7</td>\n",
       "      <td>2</td>\n",
       "      <td>0.137395</td>\n",
       "      <td>0.137395</td>\n",
       "      <td>0.137395</td>\n",
       "    </tr>\n",
       "    <tr>\n",
       "      <th>LabelKey (LF_temp_on_high_page_num)</th>\n",
       "      <td>8</td>\n",
       "      <td>1</td>\n",
       "      <td>0.322382</td>\n",
       "      <td>0.322382</td>\n",
       "      <td>0.020112</td>\n",
       "    </tr>\n",
       "    <tr>\n",
       "      <th>LabelKey (LF_temp_outside_table)</th>\n",
       "      <td>9</td>\n",
       "      <td>1</td>\n",
       "      <td>1.000000</td>\n",
       "      <td>1.000000</td>\n",
       "      <td>0.141610</td>\n",
       "    </tr>\n",
       "    <tr>\n",
       "      <th>LabelKey (LF_test_condition_aligned)</th>\n",
       "      <td>10</td>\n",
       "      <td>1</td>\n",
       "      <td>0.000199</td>\n",
       "      <td>0.000199</td>\n",
       "      <td>0.000133</td>\n",
       "    </tr>\n",
       "    <tr>\n",
       "      <th>LabelKey (LF_to_left)</th>\n",
       "      <td>11</td>\n",
       "      <td>2</td>\n",
       "      <td>0.101951</td>\n",
       "      <td>0.101951</td>\n",
       "      <td>0.101951</td>\n",
       "    </tr>\n",
       "    <tr>\n",
       "      <th>LabelKey (LF_tstg_row)</th>\n",
       "      <td>12</td>\n",
       "      <td>2</td>\n",
       "      <td>0.105469</td>\n",
       "      <td>0.105469</td>\n",
       "      <td>0.105469</td>\n",
       "    </tr>\n",
       "    <tr>\n",
       "      <th>LabelKey (LF_typ_row)</th>\n",
       "      <td>13</td>\n",
       "      <td>1</td>\n",
       "      <td>0.001925</td>\n",
       "      <td>0.001925</td>\n",
       "      <td>0.000000</td>\n",
       "    </tr>\n",
       "    <tr>\n",
       "      <th>LabelKey (LF_voltage_row_part)</th>\n",
       "      <td>14</td>\n",
       "      <td>1</td>\n",
       "      <td>0.199190</td>\n",
       "      <td>0.199190</td>\n",
       "      <td>0.010023</td>\n",
       "    </tr>\n",
       "    <tr>\n",
       "      <th>LabelKey (LF_voltage_row_temp)</th>\n",
       "      <td>15</td>\n",
       "      <td>1</td>\n",
       "      <td>0.199190</td>\n",
       "      <td>0.199190</td>\n",
       "      <td>0.010023</td>\n",
       "    </tr>\n",
       "  </tbody>\n",
       "</table>\n",
       "</div>"
      ],
      "text/plain": [
       "                                       j  Polarity  Coverage  Overlaps  \\\n",
       "LabelKey (LF_collector_aligned)        0         1  0.042314  0.042314   \n",
       "LabelKey (LF_complement_left_row)      1         1  0.011118  0.011118   \n",
       "LabelKey (LF_current_aligned)          2         1  0.300976  0.300976   \n",
       "LabelKey (LF_negative_number_left)     3         2  0.083367  0.083367   \n",
       "LabelKey (LF_not_temp_relevant)        4         1  0.858854  0.858854   \n",
       "LabelKey (LF_operating_row)            5         2  0.061363  0.061363   \n",
       "LabelKey (LF_storage_row)              6         2  0.105071  0.105071   \n",
       "LabelKey (LF_temperature_row)          7         2  0.137395  0.137395   \n",
       "LabelKey (LF_temp_on_high_page_num)    8         1  0.322382  0.322382   \n",
       "LabelKey (LF_temp_outside_table)       9         1  1.000000  1.000000   \n",
       "LabelKey (LF_test_condition_aligned)  10         1  0.000199  0.000199   \n",
       "LabelKey (LF_to_left)                 11         2  0.101951  0.101951   \n",
       "LabelKey (LF_tstg_row)                12         2  0.105469  0.105469   \n",
       "LabelKey (LF_typ_row)                 13         1  0.001925  0.001925   \n",
       "LabelKey (LF_voltage_row_part)        14         1  0.199190  0.199190   \n",
       "LabelKey (LF_voltage_row_temp)        15         1  0.199190  0.199190   \n",
       "\n",
       "                                      Conflicts  \n",
       "LabelKey (LF_collector_aligned)        0.000000  \n",
       "LabelKey (LF_complement_left_row)      0.004016  \n",
       "LabelKey (LF_current_aligned)          0.002157  \n",
       "LabelKey (LF_negative_number_left)     0.083367  \n",
       "LabelKey (LF_not_temp_relevant)        0.001029  \n",
       "LabelKey (LF_operating_row)            0.061363  \n",
       "LabelKey (LF_storage_row)              0.105071  \n",
       "LabelKey (LF_temperature_row)          0.137395  \n",
       "LabelKey (LF_temp_on_high_page_num)    0.020112  \n",
       "LabelKey (LF_temp_outside_table)       0.141610  \n",
       "LabelKey (LF_test_condition_aligned)   0.000133  \n",
       "LabelKey (LF_to_left)                  0.101951  \n",
       "LabelKey (LF_tstg_row)                 0.105469  \n",
       "LabelKey (LF_typ_row)                  0.000000  \n",
       "LabelKey (LF_voltage_row_part)         0.010023  \n",
       "LabelKey (LF_voltage_row_temp)         0.010023  "
      ]
     },
     "execution_count": 45,
     "metadata": {},
     "output_type": "execute_result"
    }
   ],
   "source": [
    "analysis.lf_summary(L_train[0], lf_names=labeler.get_keys())"
   ]
  },
  {
   "cell_type": "markdown",
   "metadata": {},
   "source": [
    "Now, we can rerun probablistic relation classification, the same way we did above. We start with the generative model."
   ]
  },
  {
   "cell_type": "code",
   "execution_count": 46,
   "metadata": {},
   "outputs": [
    {
     "name": "stdout",
     "output_type": "stream",
     "text": [
      "Computing O...\n",
      "Estimating \\mu...\n",
      "[E:0]\tTrain Loss: 1.966\n",
      "[E:99]\tTrain Loss: 0.095\n",
      "Finished Training\n",
      "CPU times: user 290 ms, sys: 199 ms, total: 489 ms\n",
      "Wall time: 176 ms\n"
     ]
    },
    {
     "data": {
      "image/png": "[encoded data removed]",
      "text/plain": [
       "<Figure size 432x288 with 1 Axes>"
      ]
     },
     "metadata": {},
     "output_type": "display_data"
    }
   ],
   "source": [
    "gen_model = LabelModel(k=2)\n",
    "%time gen_model.train_model(L_train[0], epochs=500, print_every=100)\n",
    "train_marginals = gen_model.predict_proba(L_train[0])[:,1]\n",
    "plt.hist(train_marginals, bins=20)\n",
    "plt.show()"
   ]
  },
  {
   "cell_type": "markdown",
   "metadata": {},
   "source": [
    "Next, we rerun the discriminitive model and see that our score has improved significantly to about 80 F1 points."
   ]
  },
  {
   "cell_type": "code",
   "execution_count": 47,
   "metadata": {},
   "outputs": [
    {
     "name": "stdout",
     "output_type": "stream",
     "text": [
      "[INFO] fonduer.learning.disc_learning - Load defalut parameters for Logistic Regression\n",
      "[INFO] fonduer.learning.disc_learning - Settings: {'n_epochs': 50, 'lr': 0.001, 'batch_size': 256, 'seed': 1234, 'host_device': 'CPU', 'bias': False, 'input_dim': 23791}\n",
      "[INFO] fonduer.learning.disc_learning - [LogisticRegression] Training model\n",
      "[INFO] fonduer.learning.disc_learning - [LogisticRegression] n_train=30132  #epochs=50  batch size=256\n",
      "[INFO] fonduer.learning.disc_learning - [LogisticRegression] Epoch 1 (3.46s)\tAverage loss=0.433380\n",
      "[INFO] fonduer.learning.disc_learning - [LogisticRegression] Epoch 5 (14.17s)\tAverage loss=0.371020\n",
      "[INFO] fonduer.learning.disc_learning - [LogisticRegression] Epoch 10 (27.35s)\tAverage loss=0.369690\n",
      "[INFO] fonduer.learning.disc_learning - [LogisticRegression] Epoch 15 (40.67s)\tAverage loss=0.368999\n",
      "[INFO] fonduer.learning.disc_learning - [LogisticRegression] Epoch 20 (54.23s)\tAverage loss=0.368928\n",
      "[INFO] fonduer.learning.disc_learning - [LogisticRegression] Epoch 25 (67.81s)\tAverage loss=0.368986\n",
      "[INFO] fonduer.learning.disc_learning - [LogisticRegression] Epoch 30 (80.93s)\tAverage loss=0.368879\n",
      "[INFO] fonduer.learning.disc_learning - [LogisticRegression] Epoch 35 (94.02s)\tAverage loss=0.368967\n",
      "[INFO] fonduer.learning.disc_learning - [LogisticRegression] Epoch 40 (107.18s)\tAverage loss=0.368932\n",
      "[INFO] fonduer.learning.disc_learning - [LogisticRegression] Epoch 45 (121.40s)\tAverage loss=0.368815\n",
      "[INFO] fonduer.learning.disc_learning - [LogisticRegression] Epoch 50 (136.56s)\tAverage loss=0.368885\n",
      "[INFO] fonduer.learning.disc_learning - [LogisticRegression] Training done (136.56s)\n",
      "CPU times: user 6min 11s, sys: 2.95 s, total: 6min 14s\n",
      "Wall time: 2min 18s\n"
     ]
    }
   ],
   "source": [
    "disc_model = LogisticRegression()\n",
    "%time disc_model.train((train_cands[0], F_train[0]), train_marginals, n_epochs=50, lr=0.001)"
   ]
  },
  {
   "cell_type": "code",
   "execution_count": 48,
   "metadata": {},
   "outputs": [
    {
     "name": "stdout",
     "output_type": "stream",
     "text": [
      "Preparing candidates...\n"
     ]
    },
    {
     "data": {
      "application/vnd.jupyter.widget-view+json": {
       "model_id": "d1591ce795dc4d25aeb65e9ddd390080",
       "version_major": 2,
       "version_minor": 0
      },
      "text/plain": [
       "HBox(children=(IntProgress(value=0, max=348), HTML(value='')))"
      ]
     },
     "metadata": {},
     "output_type": "display_data"
    },
    {
     "name": "stdout",
     "output_type": "stream",
     "text": [
      "\n",
      "========================================\n",
      "Scoring on Entity-Level Gold Data\n",
      "========================================\n",
      "Corpus Precision 0.83\n",
      "Corpus Recall    0.94\n",
      "Corpus F1        0.881\n",
      "----------------------------------------\n",
      "TP: 78 | FP: 16 | FN: 5\n",
      "========================================\n",
      "\n",
      "CPU times: user 1.65 s, sys: 40.6 ms, total: 1.69 s\n",
      "Wall time: 2.05 s\n"
     ]
    }
   ],
   "source": [
    "test_score = disc_model.predictions((test_cands[0], F_test[0]), b=0.6)\n",
    "true_pred = [test_cands[0][_] for _ in np.nditer(np.where(test_score > 0))]\n",
    "# tp, fp, tn, fn = disc_model.score(session, F_test, L_gold_test)\n",
    "%time (TP, FP, FN) = entity_level_f1(true_pred, gold_file, ATTRIBUTE, test_docs, parts_by_doc=parts_by_doc)"
   ]
  },
  {
   "cell_type": "markdown",
   "metadata": {},
   "source": [
    "Using these new LFs, we've significantly improved precision and lowered our number of false positives for an F1 score of about 80."
   ]
  }
 ],
 "metadata": {
  "anaconda-cloud": {},
  "kernelspec": {
   "display_name": "Python 3",
   "language": "python",
   "name": "python3"
  },
  "language_info": {
   "codemirror_mode": {
    "name": "ipython",
    "version": 3
   },
   "file_extension": ".py",
   "mimetype": "text/x-python",
   "name": "python",
   "nbconvert_exporter": "python",
   "pygments_lexer": "ipython3",
   "version": "3.6.5"
  }
 },
 "nbformat": 4,
 "nbformat_minor": 1
}
