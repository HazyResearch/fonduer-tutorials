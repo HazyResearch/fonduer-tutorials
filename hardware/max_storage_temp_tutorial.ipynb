{
 "cells": [
  {
   "cell_type": "markdown",
   "metadata": {},
   "source": [
    "# Tutorial: Extracting Maximum Storage Temperatures for Transistors from PDF Datasheets"
   ]
  },
  {
   "cell_type": "markdown",
   "metadata": {},
   "source": [
    "# Introduction\n",
    "\n",
    "We will walk through the process of using `Fonduer` to extract relations from [**richly formatted** data](https://hazyresearch.github.io/snorkel/blog/fonduer.html), where information is conveyed via combinations of textual, structural, tabular, and visual expressions, as seen in webpages, business reports, product specifications, and scientific literature.\n",
    "\n",
    "In this tutorial, we use `Fonduer` to identify mentions of the maximum storage temperature of transistors (e.g. `150°C`) in a corpus of transistor datasheets from [Digikey.com](https://www.digikey.com/products/en/discrete-semiconductor-products/transistors-bipolar-bjt-single/276).\n",
    "\n",
    "The tutorial is broken into several parts, each covering a phase of the `Fonduer` pipeline (as outlined in the [paper](https://arxiv.org/abs/1703.05028)), and the iterative KBC process:\n",
    "\n",
    "1. KBC Initialization\n",
    "2. Candidate Generation and Multimodal Featurization\n",
    "3. Probabilistic Relation Classification\n",
    "4. Error Analysis and Iterative KBC\n",
    "\n",
    "In addition, we show how users can iteratively improve labeling functions to improve relation extraction quality.\n",
    "\n",
    "# Phase 1: KBC Initialization\n",
    "\n",
    "In this first phase of `Fonduer`'s pipeline, `Fonduer` uses a user-specified _schema_ to initialize a relational database where the output KB will be stored. Furthermore, `Fonduer` iterates over its input _corpus_ and transforms each document into a unified data model, which captures the variability and multimodality of richly formatted data. This unified data model then serves as an intermediate representation used in the rest of the phases.\n",
    "\n",
    "This preprocessed data is saved to a database. The connection string to the database is provided to the `Meta` object, which will initialize a PostgreSQL database for parallel execution.\n",
    "\n",
    "We initialize several variables for convenience that define what the database should be called and what level of parallelization the `Fonduer` pipeline will be run with.\n",
    "\n",
    "If you're running this tutorial interactively on your own machine, you'll need to create a new PostgreSQL database named `stg_temp_max`.\n",
    "\n",
    "If you already have the database `stg_temp_max` in your postgresql, please uncomment the first line to drop it."
   ]
  },
  {
   "cell_type": "code",
   "execution_count": null,
   "metadata": {},
   "outputs": [],
   "source": [
    "#! dropdb --if-exists stg_temp_max\n",
    "! createdb stg_temp_max"
   ]
  },
  {
   "cell_type": "code",
   "execution_count": null,
   "metadata": {},
   "outputs": [],
   "source": [
    "%load_ext autoreload\n",
    "%autoreload 2\n",
    "%matplotlib inline\n",
    "import os\n",
    "import sys\n",
    "import logging"
   ]
  },
  {
   "cell_type": "code",
   "execution_count": 1,
   "metadata": {
    "scrolled": false
   },
   "outputs": [],
   "source": [
    "PARALLEL = 4  # assuming a quad-core machine\n",
    "ATTRIBUTE = \"stg_temp_max\"\n",
    "conn_string = 'postgresql://localhost:5432/' + ATTRIBUTE"
   ]
  },
  {
   "cell_type": "markdown",
   "metadata": {},
   "source": [
    "## 1.1 Parsing and Transforming the Input Documents into Unified Data Models\n",
    "\n",
    "We first initialize a `Meta` object, which manages the connection to the database automatically, and enables us to save intermediate results."
   ]
  },
  {
   "cell_type": "code",
   "execution_count": 2,
   "metadata": {
    "scrolled": false
   },
   "outputs": [
    {
     "name": "stderr",
     "output_type": "stream",
     "text": [
      "[2019-04-01 20:41:02,311][INFO] fonduer.meta:50 - Setting logging directory to: logs/2019-04-01_20-41-02\n",
      "[2019-04-01 20:41:02,389][INFO] fonduer.meta:134 - Connecting user:None to localhost:5432/stg_temp_max\n",
      "[2019-04-01 20:41:04,174][INFO] fonduer.meta:161 - Initializing the storage schema\n"
     ]
    }
   ],
   "source": [
    "from fonduer import Meta, init_logging\n",
    "\n",
    "# Configure logging for Fonduer\n",
    "init_logging(log_dir=\"logs\")\n",
    "\n",
    "session = Meta.init(conn_string).Session()"
   ]
  },
  {
   "cell_type": "markdown",
   "metadata": {},
   "source": [
    "Next, we load the corpus of datasheets and transform them into the unified data model. Each datasheet has a PDF and HTML representation (in this example, the HTML is created using Adobe Acrobat). Both representations are used in conjunction to create a robust unified data model with textual, structural, tabular, and visual modality information. Note that since each document is independent of each other, we can parse the documents in parallel. We depend on PostgreSQL for this functionality.\n",
    "\n",
    "### Configuring an `HTMLDocPreprocessor`\n",
    "We start by setting the paths to where our documents are stored, and defining a `HTMLDocPreprocessor` to read in the documents found in the specified paths. `max_docs` specified the number of documents to parse. For the sake of this tutorial, we only look at 100 documents.\n",
    "\n",
    "**Note that you need to have run `download_data.sh` before executing these next steps or you won't have the documents needed for the tutorial.**"
   ]
  },
  {
   "cell_type": "code",
   "execution_count": 3,
   "metadata": {},
   "outputs": [],
   "source": [
    "from fonduer.parser.preprocessors import HTMLDocPreprocessor\n",
    "from fonduer.parser import Parser\n",
    "\n",
    "docs_path = 'data/html/'\n",
    "pdf_path = 'data/pdf/'\n",
    "\n",
    "max_docs = 100\n",
    "doc_preprocessor = HTMLDocPreprocessor(docs_path, max_docs=max_docs)"
   ]
  },
  {
   "cell_type": "markdown",
   "metadata": {},
   "source": [
    "### Configuring a `Parser`\n",
    "Next, we configure a `Parser`, which serves as our `CorpusParser` for PDF documents. We use [spaCy](https://spacy.io/) as a preprocessing tool to split our documents into sentences and tokens, and to provide annotations such as part-of-speech tags and dependency parse structures for these sentences. In addition, we can specify which modality information to include in the unified data model for each document. Below, we enable all modality information."
   ]
  },
  {
   "cell_type": "code",
   "execution_count": 4,
   "metadata": {
    "scrolled": false
   },
   "outputs": [
    {
     "name": "stderr",
     "output_type": "stream",
     "text": [
      "[2019-04-01 20:41:12,380][INFO] fonduer.utils.udf:54 - Running UDF...\n"
     ]
    },
    {
     "data": {
      "application/vnd.jupyter.widget-view+json": {
       "model_id": "3ab645ff52ea469e8995f282c57e9f88",
       "version_major": 2,
       "version_minor": 0
      },
      "text/plain": [
       "HBox(children=(IntProgress(value=0), HTML(value='')))"
      ]
     },
     "metadata": {},
     "output_type": "display_data"
    },
    {
     "name": "stdout",
     "output_type": "stream",
     "text": [
      "\n",
      "CPU times: user 8.7 s, sys: 249 ms, total: 8.95 s\n",
      "Wall time: 5min 12s\n"
     ]
    }
   ],
   "source": [
    "corpus_parser = Parser(session, structural=True, lingual=True, visual=True, pdf_path=pdf_path)\n",
    "%time corpus_parser.apply(doc_preprocessor, parallelism=PARALLEL)"
   ]
  },
  {
   "cell_type": "markdown",
   "metadata": {},
   "source": [
    "We can then use simple database queries (written in the syntax of [SQLAlchemy](http://www.sqlalchemy.org/), which `Fonduer` uses) to check how many documents and sentences were parsed, or even check how many sentences are contained in each document."
   ]
  },
  {
   "cell_type": "code",
   "execution_count": 5,
   "metadata": {
    "scrolled": false
   },
   "outputs": [
    {
     "name": "stdout",
     "output_type": "stream",
     "text": [
      "Documents: 100\n",
      "Sentences: 43803\n"
     ]
    }
   ],
   "source": [
    "from fonduer.parser.models import Document, Sentence\n",
    "\n",
    "print(f\"Documents: {session.query(Document).count()}\")\n",
    "print(f\"Sentences: {session.query(Sentence).count()}\")"
   ]
  },
  {
   "cell_type": "markdown",
   "metadata": {},
   "source": [
    "## 1.2 Dividing the Corpus into Test and Train\n",
    "\n",
    "We'll split the documents 80/10/10 into train/dev/test splits. Note that here we do this in a non-random order to preserve the consistency in the tutorial, and we reference the splits by 0/1/2 respectively."
   ]
  },
  {
   "cell_type": "code",
   "execution_count": 6,
   "metadata": {},
   "outputs": [
    {
     "name": "stdout",
     "output_type": "stream",
     "text": [
      "['2N6426-D',\n",
      " 'MOTOS03160-1',\n",
      " '2N4124',\n",
      " 'DIODS13249-1',\n",
      " 'DiodesIncorporated_ZXT690BKTC',\n",
      " 'CentralSemiconductorCorp_2N4013',\n",
      " 'FairchildSemiconductor_KSC2310YTA',\n",
      " 'MMBT3904',\n",
      " '2N3906',\n",
      " 'DISES00023-1',\n",
      " '2N6427',\n",
      " 'ONSemiconductor_MMBT6521LT1',\n",
      " 'BC182',\n",
      " 'AUKCS04635-1',\n",
      " '112823',\n",
      " 'DiodesIncorporated_ZTX688BSTZ',\n",
      " 'JCSTS01155-1',\n",
      " 'KECCS05435-1',\n",
      " 'BC818-40LT1-D',\n",
      " 'DISES00189-1',\n",
      " 'PHGLS20267-1',\n",
      " 'CSEMS05383-1',\n",
      " '2N4123-D',\n",
      " 'MCCCS09741-1',\n",
      " 'MCCCS08984-1',\n",
      " 'CentralSemiconductorCorp_CENU45',\n",
      " 'MicroCommercialCo_2N3904AP',\n",
      " 'MINDS00015-1',\n",
      " 'DISES00192-1',\n",
      " 'LTSCS02910-1',\n",
      " 'BC182-D',\n",
      " 'DiodesIncorporated_2DD26527',\n",
      " 'LTSCS02912-1',\n",
      " 'CSEMS05382-1',\n",
      " 'Infineon-BC817KSERIES_BC818KSERIES-DS-v01_01-en',\n",
      " 'MOTOS03189-1',\n",
      " 'PHGLS19500-1',\n",
      " 'ONSMS04099-1',\n",
      " 'DiodesIncorporated_FZT651TC',\n",
      " 'BC546',\n",
      " 'DISES00242-1',\n",
      " 'LITES00424-1',\n",
      " 'BC547',\n",
      " 'MOTOS04796-1',\n",
      " 'LITES00686-1',\n",
      " '2N3906-D',\n",
      " 'DIODS00215-1',\n",
      " 'BournsInc_TIP152S',\n",
      " 'BC546A_Series_B14-521026',\n",
      " 'CentralSemiconductorCorp_CMPT5401ETR',\n",
      " 'LTSCS02920-1',\n",
      " 'FAIRS19194-1',\n",
      " 'MOTOS04676-1',\n",
      " 'CentralSemiconductorCorp_CXT4033TR',\n",
      " 'Infineon-BC857SERIES_BC858SERIES_BC859SERIES_BC860SERIES-DS-v01_01-en',\n",
      " 'BC546-BC548C(TO-92)',\n",
      " 'DISES00616-1',\n",
      " 'LITES00689-1',\n",
      " 'MCCCS08818-1',\n",
      " 'DISES00490-1',\n",
      " 'MicroCommercialCo_TIP29ABP',\n",
      " 'BC337',\n",
      " 'BournsInc_BD246BS',\n",
      " 'DISES00645-1',\n",
      " 'INFNS19372-1',\n",
      " 'KECCS03676-1',\n",
      " 'LITES00690-1',\n",
      " 'MCCCS08610-1',\n",
      " 'CSEMS02742-1',\n",
      " 'DiodesIncorporated_ZTX953STZ',\n",
      " 'MMMCS17742-1',\n",
      " 'CSEMS03485-1',\n",
      " 'DiodesIncorporated_ZTX789ASTZ',\n",
      " 'BC337-D',\n",
      " 'DiodesIncorporated_FCX491ATA',\n",
      " 'NXPUSAInc_PBSS5360PASX',\n",
      " 'FAIRS25065-1',\n",
      " 'MicrosemiCorporation_2N2484UB',\n",
      " 'BC818',\n",
      " 'MCCCS09540-1']\n"
     ]
    }
   ],
   "source": [
    "docs = session.query(Document).order_by(Document.name).all()\n",
    "ld   = len(docs)\n",
    "\n",
    "train_docs = set()\n",
    "dev_docs   = set()\n",
    "test_docs  = set()\n",
    "splits = (0.8, 0.9)\n",
    "data = [(doc.name, doc) for doc in docs]\n",
    "data.sort(key=lambda x: x[0])\n",
    "for i, (doc_name, doc) in enumerate(data):\n",
    "    if i < splits[0] * ld:\n",
    "        train_docs.add(doc)\n",
    "    elif i < splits[1] * ld:\n",
    "        dev_docs.add(doc)\n",
    "    else:\n",
    "        test_docs.add(doc)\n",
    "from pprint import pprint\n",
    "pprint([x.name for x in train_docs])"
   ]
  },
  {
   "cell_type": "markdown",
   "metadata": {},
   "source": [
    "# Phase 2: Mention Extraction, Candidate Extraction Multimodal Featurization\n",
    "\n",
    "Given the unified data model from Phase 1, `Fonduer` extracts relation\n",
    "candidates based on user-provided **matchers** and **throttlers**. Then,\n",
    "`Fonduer` leverages the multimodality information captured in the unified data\n",
    "model to provide multimodal features for each candidate.\n",
    "\n",
    "## 2.1 Mention Extraction\n",
    "\n",
    "The first step is to extract **mentions** from our corpus. A `mention` is the\n",
    "type of object which makes up a `candidate`. For example, if we wanted to\n",
    "extract pairs of transistor part numbers and their corresponding maximum\n",
    "storage temperatures, the transistor part number would be one `mention` while\n",
    "the temperature value would be another. These `mention`s are then combined to\n",
    "create `candidates`, where our task is to predict which `candidates` are true\n",
    "in the associated document.\n",
    "\n",
    "We first start by defining and naming our two `mention`s:"
   ]
  },
  {
   "cell_type": "code",
   "execution_count": 7,
   "metadata": {},
   "outputs": [],
   "source": [
    "from fonduer.candidates.models import mention_subclass\n",
    "\n",
    "Part = mention_subclass(\"Part\")\n",
    "Temp = mention_subclass(\"Temp\")"
   ]
  },
  {
   "cell_type": "markdown",
   "metadata": {},
   "source": [
    "Next, we write **matchers** to define which spans of text in the corpus are\n",
    "instances of each entity. Matchers can leverage a variety of information from\n",
    "regular expressions, to dictionaries, to user-defined functions. Furthermore,\n",
    "different techniques can be combined to form higher quality matchers. In\n",
    "general, matchers should seek to be as precise as possible while maintaining\n",
    "complete recall. More documentation about Matchers can be found on [Read the Docs](https://fonduer.readthedocs.io/en/stable/user/candidates.html#matchers).\n",
    "\n",
    "In our case, we need to write a matcher that defines a transistor part number\n",
    "and a matcher to define a valid temperature value.\n",
    "\n",
    "### Writing a simple temperature matcher\n",
    "\n",
    "Our maximum storage temperature matcher can be a very simple regular expression\n",
    "since we know that we are looking for integers, and by inspecting a portion of\n",
    "our corpus, we see that maximum storage temperatures fall within a fairly\n",
    "narrow range."
   ]
  },
  {
   "cell_type": "code",
   "execution_count": 8,
   "metadata": {},
   "outputs": [],
   "source": [
    "from fonduer.candidates.matchers import RegexMatchSpan, DictionaryMatch, LambdaFunctionMatcher, Intersect, Union\n",
    "\n",
    "temp_matcher = RegexMatchSpan(rgx=r\"(?:[1][5-9]|20)[05]\", longest_match_only=False)"
   ]
  },
  {
   "cell_type": "markdown",
   "metadata": {},
   "source": [
    "### Writing an advanced transistor part matcher\n",
    "\n",
    "In contrast, transistor part numbers are complex expressions. Here, we show how transistor part numbers can leverage [naming conventions](https://en.wikipedia.org/wiki/Transistor#Part_numbering_standards.2Fspecifications) as regular expressions, and use a dictionary of known part numbers, and use user-defined functions together. First, we create a regular expression matcher for standard transistor naming conventions."
   ]
  },
  {
   "cell_type": "code",
   "execution_count": 9,
   "metadata": {},
   "outputs": [],
   "source": [
    "### Transistor Naming Conventions as Regular Expressions ###\n",
    "eeca_rgx = r'([ABC][A-Z][WXYZ]?[0-9]{3,5}(?:[A-Z]){0,5}[0-9]?[A-Z]?(?:-[A-Z0-9]{1,7})?(?:[-][A-Z0-9]{1,2})?(?:\\/DG)?)'\n",
    "jedec_rgx = r'(2N\\d{3,4}[A-Z]{0,5}[0-9]?[A-Z]?)'\n",
    "jis_rgx = r'(2S[ABCDEFGHJKMQRSTVZ]{1}[\\d]{2,4})'\n",
    "others_rgx = r'((?:NSVBC|SMBT|MJ|MJE|MPS|MRF|RCA|TIP|ZTX|ZT|ZXT|TIS|TIPL|DTC|MMBT|SMMBT|PZT|FZT|STD|BUV|PBSS|KSC|CXT|FCX|CMPT){1}[\\d]{2,4}[A-Z]{0,5}(?:-[A-Z0-9]{0,6})?(?:[-][A-Z0-9]{0,1})?)'\n",
    "\n",
    "part_rgx = '|'.join([eeca_rgx, jedec_rgx, jis_rgx, others_rgx])\n",
    "part_rgx_matcher = RegexMatchSpan(rgx=part_rgx, longest_match_only=True)"
   ]
  },
  {
   "cell_type": "markdown",
   "metadata": {},
   "source": [
    "Next, we can create a matcher from a dictionary of known part numbers:"
   ]
  },
  {
   "cell_type": "code",
   "execution_count": 10,
   "metadata": {},
   "outputs": [],
   "source": [
    "import csv\n",
    "\n",
    "def get_digikey_parts_set(path):\n",
    "    \"\"\"\n",
    "    Reads in the digikey part dictionary and yeilds each part.\n",
    "    \"\"\"\n",
    "    all_parts = set()\n",
    "    with open(path, \"r\") as csvinput:\n",
    "        reader = csv.reader(csvinput)\n",
    "        for line in reader:\n",
    "            (part, url) = line\n",
    "            all_parts.add(part)\n",
    "    return all_parts\n",
    "\n",
    "### Dictionary of known transistor parts ###\n",
    "dict_path = 'data/digikey_part_dictionary.csv'\n",
    "part_dict_matcher = DictionaryMatch(d=get_digikey_parts_set(dict_path))"
   ]
  },
  {
   "cell_type": "markdown",
   "metadata": {},
   "source": [
    "We can also use user-defined functions to further improve our matchers. For example, here we use patterns in the document filenames as a signal for whether a span of text in a document is a valid transistor part number."
   ]
  },
  {
   "cell_type": "code",
   "execution_count": 11,
   "metadata": {},
   "outputs": [],
   "source": [
    "from builtins import range\n",
    "\n",
    "def common_prefix_length_diff(str1, str2):\n",
    "    for i in range(min(len(str1), len(str2))):\n",
    "        if str1[i] != str2[i]:\n",
    "            return min(len(str1), len(str2)) - i\n",
    "    return 0\n",
    "\n",
    "def part_file_name_conditions(attr):\n",
    "    file_name = attr.sentence.document.name\n",
    "    if len(file_name.split('_')) != 2: return False\n",
    "    if attr.get_span()[0] == '-': return False\n",
    "    name = attr.get_span().replace('-', '')\n",
    "    return any(char.isdigit() for char in name) and any(char.isalpha() for char in name) and common_prefix_length_diff(file_name.split('_')[1], name) <= 2\n",
    "\n",
    "add_rgx = '^[A-Z0-9\\-]{5,15}$'\n",
    "\n",
    "part_file_name_lambda_matcher = LambdaFunctionMatcher(func=part_file_name_conditions)\n",
    "part_file_name_matcher = Intersect(RegexMatchSpan(rgx=add_rgx, longest_match_only=True), part_file_name_lambda_matcher)"
   ]
  },
  {
   "cell_type": "markdown",
   "metadata": {},
   "source": [
    "Then, we can union all of these matchers together to form our final part matcher."
   ]
  },
  {
   "cell_type": "code",
   "execution_count": 12,
   "metadata": {},
   "outputs": [],
   "source": [
    "part_matcher = Union(part_rgx_matcher, part_dict_matcher, part_file_name_matcher)"
   ]
  },
  {
   "cell_type": "markdown",
   "metadata": {},
   "source": [
    "These two matchers define each entity in our relation schema."
   ]
  },
  {
   "cell_type": "markdown",
   "metadata": {},
   "source": [
    "### Define a Mention's `MentionSpace`\n",
    "\n",
    "Next, in order to define the \"space\" of all mentions that are even considered\n",
    "from the document, we need to define a `MentionSpace` for each component of the\n",
    "relation we wish to extract. Fonduer provides a default `MentionSpace` for you\n",
    "to use, but you can also extend the default `MentionSpace` depending on your\n",
    "needs.\n",
    "\n",
    "In the case of transistor part numbers, the `MentionSpace` can be quite complex\n",
    "due to the need to handle implicit part numbers that are implied in text like\n",
    "\"BC546A/B/C...BC548A/B/C\", which refers to 9 unique part numbers. To handle\n",
    "these, we consider all n-grams up to 3 words long.\n",
    "\n",
    "In contrast, the `MentionSpace` for temperature values is simpler: we only need\n",
    "to process different Unicode representations of a (`-`), and don't need to look\n",
    "at more than two words at a time.\n",
    "\n",
    "When no special preprocessing like this is needed, we could have used the\n",
    "default `Ngrams` class provided by `fonduer`. For example, if we were looking\n",
    "to match polarities, which only take the form of \"NPN\" or \"PNP\", we could've\n",
    "used `ngrams = MentionNgrams(n_max=1)`."
   ]
  },
  {
   "cell_type": "code",
   "execution_count": 13,
   "metadata": {},
   "outputs": [],
   "source": [
    "from hardware_spaces import MentionNgramsPart, MentionNgramsTemp\n",
    "    \n",
    "part_ngrams = MentionNgramsPart(parts_by_doc=None, n_max=3)\n",
    "temp_ngrams = MentionNgramsTemp(n_max=2)"
   ]
  },
  {
   "cell_type": "markdown",
   "metadata": {},
   "source": [
    "### Running Mention Extraction \n",
    "\n",
    "Next, we create a `MentionExtractor` to extract the mentions from all of\n",
    "our documents based on the `MentionSpace` and matchers we defined above.\n",
    "\n",
    "View the API for the MentionExtractor on [ReadTheDocs](https://fonduer.readthedocs.io/en/stable/user/candidates.html#fonduer.candidates.MentionExtractor).\n"
   ]
  },
  {
   "cell_type": "code",
   "execution_count": 14,
   "metadata": {},
   "outputs": [],
   "source": [
    "from fonduer.candidates import MentionExtractor \n",
    "\n",
    "mention_extractor = MentionExtractor(\n",
    "    session, [Part, Temp], [part_ngrams, temp_ngrams], [part_matcher, temp_matcher]\n",
    ")"
   ]
  },
  {
   "cell_type": "markdown",
   "metadata": {},
   "source": [
    "Then, we run the extractor on all of our documents."
   ]
  },
  {
   "cell_type": "code",
   "execution_count": 15,
   "metadata": {},
   "outputs": [
    {
     "name": "stderr",
     "output_type": "stream",
     "text": [
      "[2019-04-01 20:46:18,281][INFO] fonduer.candidates.mentions:460 - Clearing table: part\n",
      "[2019-04-01 20:46:18,296][INFO] fonduer.candidates.mentions:460 - Clearing table: temp\n",
      "[2019-04-01 20:46:18,302][INFO] fonduer.utils.udf:54 - Running UDF...\n"
     ]
    },
    {
     "data": {
      "application/vnd.jupyter.widget-view+json": {
       "model_id": "4405f5afe3e547bc97a4517d834b030e",
       "version_major": 2,
       "version_minor": 0
      },
      "text/plain": [
       "HBox(children=(IntProgress(value=0), HTML(value='')))"
      ]
     },
     "metadata": {},
     "output_type": "display_data"
    },
    {
     "name": "stdout",
     "output_type": "stream",
     "text": [
      "\n",
      "Total Mentions: 3524\n"
     ]
    }
   ],
   "source": [
    "from fonduer.candidates.models import Mention\n",
    "\n",
    "mention_extractor.apply(docs, parallelism=PARALLEL)\n",
    "\n",
    "print(f\"Total Mentions: {session.query(Mention).count()}\")"
   ]
  },
  {
   "cell_type": "markdown",
   "metadata": {},
   "source": [
    "## 2.2 Candidate Extraction\n",
    "\n",
    "Now that we have both defined and extracted the Mentions that can be used to compose Candidates, we are ready to move on to extracting Candidates. Like we did with the Mentions, we first define what each candidate schema looks like. In this example, we create a candidate that is composed of a `Part` and a `Temp` mention as we defined above. We name this candidate \"PartTemp\"."
   ]
  },
  {
   "cell_type": "code",
   "execution_count": 16,
   "metadata": {},
   "outputs": [],
   "source": [
    "from fonduer.candidates.models import candidate_subclass\n",
    "\n",
    "PartTemp = candidate_subclass(\"PartTemp\", [Part, Temp])"
   ]
  },
  {
   "cell_type": "markdown",
   "metadata": {},
   "source": [
    "### Defining candidate `Throttlers`\n",
    "\n",
    "Next, we need to define **throttlers**, which allow us to further prune excess candidates and avoid unnecessarily materializing invalid candidates. Throttlers, like matchers, act as hard filters, and should be created to have high precision while maintaining complete recall, if possible.\n",
    "\n",
    "Here, we create a throttler that discards candidates if they are in the same table, but the part and storage temperature are not vertically or horizontally aligned."
   ]
  },
  {
   "cell_type": "code",
   "execution_count": 17,
   "metadata": {},
   "outputs": [],
   "source": [
    "from fonduer.utils.data_model_utils import *\n",
    "import re\n",
    "\n",
    "def stg_temp_filter(c):\n",
    "    (part, attr) = c\n",
    "    if same_table((part, attr)):\n",
    "        return (is_horz_aligned((part, attr)) or is_vert_aligned((part, attr)))\n",
    "    return True\n",
    "\n",
    "temp_throttler = stg_temp_filter"
   ]
  },
  {
   "cell_type": "markdown",
   "metadata": {},
   "source": [
    "### Running the `CandidateExtractor`\n",
    "\n",
    "Now, we have all the component necessary to perform candidate extraction. We have defined the Mentions that compose each candidate and a throttler to prune away excess candidates. We now can define the `CandidateExtractor` with the candidate subclass and corresponding throttler to use.\n",
    "\n",
    "View the API for the CandidateExtractor on [ReadTheDocs](https://fonduer.readthedocs.io/en/stable/user/candidates.html#fonduer.candidates.MentionExtractor)."
   ]
  },
  {
   "cell_type": "code",
   "execution_count": 18,
   "metadata": {
    "scrolled": false
   },
   "outputs": [],
   "source": [
    "from fonduer.candidates import CandidateExtractor\n",
    "\n",
    "\n",
    "candidate_extractor = CandidateExtractor(session, [PartTemp], throttlers=[temp_throttler])"
   ]
  },
  {
   "cell_type": "markdown",
   "metadata": {},
   "source": [
    "Here we specified that these `Candidates` belong to the training set by specifying `split=0`; recall that we're referring to train/dev/test as splits 0/1/2."
   ]
  },
  {
   "cell_type": "code",
   "execution_count": 19,
   "metadata": {},
   "outputs": [
    {
     "name": "stderr",
     "output_type": "stream",
     "text": [
      "[2019-04-01 20:46:57,719][INFO] fonduer.candidates.candidates:125 - Clearing table part_temp (split 0)\n",
      "[2019-04-01 20:46:57,867][INFO] fonduer.utils.udf:54 - Running UDF...\n"
     ]
    },
    {
     "data": {
      "application/vnd.jupyter.widget-view+json": {
       "model_id": "388519f1da42438491bbc5e2e67f2fe7",
       "version_major": 2,
       "version_minor": 0
      },
      "text/plain": [
       "HBox(children=(IntProgress(value=0, max=80), HTML(value='')))"
      ]
     },
     "metadata": {},
     "output_type": "display_data"
    },
    {
     "name": "stderr",
     "output_type": "stream",
     "text": [
      "[2019-04-01 20:47:43,971][INFO] fonduer.candidates.candidates:125 - Clearing table part_temp (split 1)\n",
      "[2019-04-01 20:47:43,975][INFO] fonduer.utils.udf:54 - Running UDF...\n"
     ]
    },
    {
     "name": "stdout",
     "output_type": "stream",
     "text": [
      "\n",
      "Number of Candidates in split=0: 28935\n"
     ]
    },
    {
     "data": {
      "application/vnd.jupyter.widget-view+json": {
       "model_id": "8f994905937c4671a00bebea776b88fc",
       "version_major": 2,
       "version_minor": 0
      },
      "text/plain": [
       "HBox(children=(IntProgress(value=0, max=10), HTML(value='')))"
      ]
     },
     "metadata": {},
     "output_type": "display_data"
    },
    {
     "name": "stderr",
     "output_type": "stream",
     "text": [
      "[2019-04-01 20:47:49,954][INFO] fonduer.candidates.candidates:125 - Clearing table part_temp (split 2)\n",
      "[2019-04-01 20:47:49,960][INFO] fonduer.utils.udf:54 - Running UDF...\n"
     ]
    },
    {
     "name": "stdout",
     "output_type": "stream",
     "text": [
      "\n",
      "Number of Candidates in split=1: 2553\n"
     ]
    },
    {
     "data": {
      "application/vnd.jupyter.widget-view+json": {
       "model_id": "8e7380fd0b7844a59ac8b07500eb1138",
       "version_major": 2,
       "version_minor": 0
      },
      "text/plain": [
       "HBox(children=(IntProgress(value=0, max=10), HTML(value='')))"
      ]
     },
     "metadata": {},
     "output_type": "display_data"
    },
    {
     "name": "stdout",
     "output_type": "stream",
     "text": [
      "\n",
      "Number of Candidates in split=2: 2080\n"
     ]
    }
   ],
   "source": [
    "for i, docs in enumerate([train_docs, dev_docs, test_docs]):\n",
    "    candidate_extractor.apply(docs, split=i, parallelism=PARALLEL)\n",
    "    print(f\"Number of Candidates in split={i}: {session.query(PartTemp).filter(PartTemp.split == i).count()}\")\n",
    "\n",
    "train_cands = candidate_extractor.get_candidates(split = 0)\n",
    "dev_cands = candidate_extractor.get_candidates(split = 1)\n",
    "test_cands = candidate_extractor.get_candidates(split = 2)"
   ]
  },
  {
   "cell_type": "markdown",
   "metadata": {},
   "source": [
    "## 2.2 Multimodal Featurization\n",
    "Unlike dealing with plain unstructured text, `Fonduer` deals with richly formatted data, and consequently featurizes each candidate with a baseline library of multimodal features. \n",
    "\n",
    "### Featurize with `Fonduer`'s optimized Postgres Featurizer\n",
    "We now annotate the candidates in our training, dev, and test sets with features. The `Featurizer` provided by `Fonduer` allows this to be done in parallel to improve performance.\n",
    "\n",
    "View the API provided by the `Featurizer` on [ReadTheDocs](https://fonduer.readthedocs.io/en/stable/user/features.html#fonduer.features.Featurizer)."
   ]
  },
  {
   "cell_type": "code",
   "execution_count": 20,
   "metadata": {},
   "outputs": [
    {
     "name": "stderr",
     "output_type": "stream",
     "text": [
      "[2019-04-01 20:47:59,536][INFO] fonduer.features.featurizer:190 - Clearing Features (split 0)\n",
      "[2019-04-01 20:47:59,545][INFO] fonduer.utils.udf:54 - Running UDF...\n"
     ]
    },
    {
     "data": {
      "application/vnd.jupyter.widget-view+json": {
       "model_id": "a7ad5786bf274620bccb31b39b52131d",
       "version_major": 2,
       "version_minor": 0
      },
      "text/plain": [
       "HBox(children=(IntProgress(value=0, max=80), HTML(value='')))"
      ]
     },
     "metadata": {},
     "output_type": "display_data"
    },
    {
     "name": "stdout",
     "output_type": "stream",
     "text": [
      "\n",
      "CPU times: user 1.29 s, sys: 168 ms, total: 1.46 s\n",
      "Wall time: 1min 39s\n",
      "CPU times: user 1min 2s, sys: 3.47 s, total: 1min 5s\n",
      "Wall time: 1min 26s\n"
     ]
    }
   ],
   "source": [
    "from fonduer.features import Featurizer\n",
    "\n",
    "featurizer = Featurizer(session, [PartTemp])\n",
    "%time featurizer.apply(split=0, train=True, parallelism=PARALLEL)\n",
    "%time F_train = featurizer.get_feature_matrices(train_cands)"
   ]
  },
  {
   "cell_type": "code",
   "execution_count": 21,
   "metadata": {},
   "outputs": [
    {
     "name": "stderr",
     "output_type": "stream",
     "text": [
      "[2019-04-01 20:51:05,140][INFO] fonduer.features.featurizer:190 - Clearing Features (split 1)\n"
     ]
    },
    {
     "name": "stdout",
     "output_type": "stream",
     "text": [
      "(28935, 24602)\n"
     ]
    },
    {
     "name": "stderr",
     "output_type": "stream",
     "text": [
      "[2019-04-01 20:51:05,181][INFO] fonduer.utils.udf:54 - Running UDF...\n"
     ]
    },
    {
     "data": {
      "application/vnd.jupyter.widget-view+json": {
       "model_id": "b562e2816624487c8a324897eaacba8f",
       "version_major": 2,
       "version_minor": 0
      },
      "text/plain": [
       "HBox(children=(IntProgress(value=0, max=10), HTML(value='')))"
      ]
     },
     "metadata": {},
     "output_type": "display_data"
    },
    {
     "name": "stdout",
     "output_type": "stream",
     "text": [
      "\n",
      "CPU times: user 793 ms, sys: 306 ms, total: 1.1 s\n",
      "Wall time: 12.7 s\n",
      "CPU times: user 6.25 s, sys: 253 ms, total: 6.51 s\n",
      "Wall time: 8.61 s\n",
      "(2553, 24602)\n"
     ]
    }
   ],
   "source": [
    "print(F_train[0].shape)\n",
    "%time featurizer.apply(split=1, parallelism=PARALLEL)\n",
    "%time F_dev = featurizer.get_feature_matrices(dev_cands)\n",
    "print(F_dev[0].shape)"
   ]
  },
  {
   "cell_type": "code",
   "execution_count": 22,
   "metadata": {},
   "outputs": [
    {
     "name": "stderr",
     "output_type": "stream",
     "text": [
      "[2019-04-01 20:51:26,407][INFO] fonduer.features.featurizer:190 - Clearing Features (split 2)\n",
      "[2019-04-01 20:51:26,439][INFO] fonduer.utils.udf:54 - Running UDF...\n"
     ]
    },
    {
     "data": {
      "application/vnd.jupyter.widget-view+json": {
       "model_id": "4f2256f8eb8248b6999efd3e440a58d9",
       "version_major": 2,
       "version_minor": 0
      },
      "text/plain": [
       "HBox(children=(IntProgress(value=0, max=9), HTML(value='')))"
      ]
     },
     "metadata": {},
     "output_type": "display_data"
    },
    {
     "name": "stdout",
     "output_type": "stream",
     "text": [
      "\n",
      "CPU times: user 350 ms, sys: 109 ms, total: 459 ms\n",
      "Wall time: 9.61 s\n",
      "CPU times: user 4.48 s, sys: 175 ms, total: 4.66 s\n",
      "Wall time: 6.13 s\n",
      "(2080, 24602)\n"
     ]
    }
   ],
   "source": [
    "%time featurizer.apply(split=2, parallelism=PARALLEL)\n",
    "%time F_test = featurizer.get_feature_matrices(test_cands)\n",
    "print(F_test[0].shape)"
   ]
  },
  {
   "cell_type": "markdown",
   "metadata": {},
   "source": [
    "At the end of this phase, `Fonduer` has generated the set of candidates and the feature matrix. Note that Phase 1 and 2 are relatively static and typically are only executed once during the KBC process.\n",
    "\n",
    "# Phase 3: Probabilistic Relation Classification\n",
    "In this phase, `Fonduer` applies user-defined **labeling functions**, which express various heuristics, patterns, and [weak supervision](http://hazyresearch.github.io/snorkel/blog/weak_supervision.html) strategies to label our data, to each of the candidates to create a label matrix that is used by our data programming engine.\n",
    "\n",
    "In the wild, hand-labeled training data is rare and expensive. A common scenario is to have access to tons of unlabeled training data, and have some idea of how to label them programmatically. For example:\n",
    "* We may be able to think of text patterns that would indicate a part and polarity mention are related, for example the word \"temperature\" appearing between them.\n",
    "* We may have access to an external knowledge base that lists some pairs of parts and polarities, and can use these to noisily label some of our mention pairs.\n",
    "Our labeling functions will capture these types of strategies. We know that these labeling functions will not be perfect, and some may be quite low-quality, so we will model their accuracies with a generative model, which `Fonduer` will help us easily apply.\n",
    "\n",
    "Using data programming, we can then train machine learning models to learn which features are the most important in classifying candidates.\n",
    "\n",
    "### Loading Gold Data\n",
    "For convenience in error analysis and evaluation, we have already annotated the dev and test set for this tutorial, and we'll now load it using an externally-defined helper function. If you're interested in the example implementation details, please see the script we now load:"
   ]
  },
  {
   "cell_type": "code",
   "execution_count": 23,
   "metadata": {},
   "outputs": [
    {
     "name": "stdout",
     "output_type": "stream",
     "text": [
      "Loading 33568 candidate labels\n"
     ]
    },
    {
     "data": {
      "application/vnd.jupyter.widget-view+json": {
       "model_id": "69c507d6a0ba4992aa20fcf13205ecfd",
       "version_major": 2,
       "version_minor": 0
      },
      "text/plain": [
       "HBox(children=(IntProgress(value=0, max=33568), HTML(value='')))"
      ]
     },
     "metadata": {},
     "output_type": "display_data"
    },
    {
     "name": "stdout",
     "output_type": "stream",
     "text": [
      "\n",
      "GoldLabels created: 33568\n"
     ]
    }
   ],
   "source": [
    "from hardware_utils import load_hardware_labels\n",
    "\n",
    "gold_file = 'data/hardware_tutorial_gold.csv'\n",
    "load_hardware_labels(session, PartTemp, gold_file, ATTRIBUTE ,annotator_name='gold')"
   ]
  },
  {
   "cell_type": "markdown",
   "metadata": {},
   "source": [
    "### Creating Labeling Functions\n",
    "\n",
    "In `Fonduer`, our primary interface through which we provide training signal to\n",
    "the end extraction model we are training is by writing labeling functions\n",
    "(**LFs**) (as opposed to hand-labeling massive training sets).\n",
    "\n",
    "A labeling function isn't anything special. It's just a Python function that\n",
    "accepts a `Candidate` as the input argument and returns `2` if it says the\n",
    "Candidate should be marked as true, `1` if it says the `Candidate` should be\n",
    "marked as false, and `0` if it doesn't know how to vote and abstains. In\n",
    "practice, many labeling functions are unipolar: it labels only 2s and 0s, or it\n",
    "labels only 1s and 0s.\n",
    "\n",
    "Recall that our goal is ultimately to train a high-performance classification\n",
    "model that predicts which of our Candidates are true mentions of maximum\n",
    "storage temperature relations. It turns out that we can do this by writing\n",
    "potentially low-quality labeling functions!\n",
    "\n",
    "With `Fonduer`, labeling functions can be written using intuitive patterns\n",
    "discovered by inspecting the target corpus. A library of data model utilities\n",
    "which can be used to write labeling functions are outline in [Read the\n",
    "Docs](http://fonduer.readthedocs.io/en/stable/user/data_model_utils.html). \n",
    "\n",
    "For example, inspecting several documents may reveal that storage temperatures\n",
    "are typically listed inside a table where the row header contains the word\n",
    "\"storage\". This intuitive pattern can be directly expressed as a labeling\n",
    "function. Similarly, the word \"temperature\" is an obvious positive signal."
   ]
  },
  {
   "cell_type": "code",
   "execution_count": 24,
   "metadata": {},
   "outputs": [],
   "source": [
    "from fonduer.utils.data_model_utils import *\n",
    "import re\n",
    "\n",
    "ABSTAIN = 0\n",
    "FALSE = 1\n",
    "TRUE = 2\n",
    "\n",
    "def LF_storage_row(c):\n",
    "    return TRUE if 'storage' in get_row_ngrams(c.temp) else ABSTAIN\n",
    "\n",
    "def LF_temperature_row(c):\n",
    "    return TRUE if 'temperature' in get_row_ngrams(c.temp) else ABSTAIN"
   ]
  },
  {
   "cell_type": "markdown",
   "metadata": {},
   "source": [
    "We express several of these simple patterns below as a set of labeling functions:"
   ]
  },
  {
   "cell_type": "code",
   "execution_count": 25,
   "metadata": {},
   "outputs": [],
   "source": [
    "def LF_operating_row(c):\n",
    "    return TRUE if 'operating' in get_row_ngrams(c.temp) else ABSTAIN\n",
    "\n",
    "def LF_tstg_row(c):\n",
    "    return TRUE if overlap(\n",
    "        ['tstg','stg','ts'], \n",
    "        list(get_row_ngrams(c.temp))) else ABSTAIN\n",
    "\n",
    "\n",
    "def LF_to_left(c):\n",
    "    return TRUE if 'to' in get_left_ngrams(c.temp, window=2) else ABSTAIN\n",
    "\n",
    "def LF_negative_number_left(c):\n",
    "    return TRUE if any([re.match(r'-\\s*\\d+', ngram) for ngram in get_left_ngrams(c.temp, window=4)]) else ABSTAIN"
   ]
  },
  {
   "cell_type": "markdown",
   "metadata": {},
   "source": [
    "Then, we collect all of the labeling function we would like to use into a single list, which is provided as input to the `Labeler`."
   ]
  },
  {
   "cell_type": "code",
   "execution_count": 26,
   "metadata": {},
   "outputs": [],
   "source": [
    "stg_temp_lfs = [\n",
    "    LF_storage_row,\n",
    "    LF_operating_row,\n",
    "    LF_temperature_row,\n",
    "    LF_tstg_row,\n",
    "    LF_to_left,\n",
    "    LF_negative_number_left,\n",
    "]"
   ]
  },
  {
   "cell_type": "markdown",
   "metadata": {},
   "source": [
    "### Applying the Labeling Functions\n",
    "\n",
    "Next, we need to actually run the LFs over all of our training candidates, producing a set of `Labels` and `LabelKeys` (just the names of the LFs) in the database. Note that this will delete any existing `Labels` and `LabelKeys` for this candidate set.\n",
    "\n",
    "View the API provided by the `Labeler` on [ReadTheDocs](https://fonduer.readthedocs.io/en/stable/user/supervision.html#fonduer.supervision.Labeler)."
   ]
  },
  {
   "cell_type": "code",
   "execution_count": 27,
   "metadata": {},
   "outputs": [
    {
     "name": "stderr",
     "output_type": "stream",
     "text": [
      "[2019-04-01 20:52:56,005][INFO] fonduer.supervision.labeler:219 - Clearing Labels (split 0)\n",
      "[2019-04-01 20:52:56,011][INFO] fonduer.utils.udf:54 - Running UDF...\n"
     ]
    },
    {
     "data": {
      "application/vnd.jupyter.widget-view+json": {
       "model_id": "ef67f9ae7d114ee28349744db542b84e",
       "version_major": 2,
       "version_minor": 0
      },
      "text/plain": [
       "HBox(children=(IntProgress(value=0, max=80), HTML(value='')))"
      ]
     },
     "metadata": {},
     "output_type": "display_data"
    },
    {
     "name": "stdout",
     "output_type": "stream",
     "text": [
      "\n",
      "CPU times: user 1.41 s, sys: 176 ms, total: 1.58 s\n",
      "Wall time: 2min 1s\n",
      "CPU times: user 47.1 s, sys: 2.33 s, total: 49.4 s\n",
      "Wall time: 1min 3s\n"
     ]
    }
   ],
   "source": [
    "from fonduer.supervision import Labeler\n",
    "\n",
    "labeler = Labeler(session, [PartTemp])\n",
    "%time labeler.apply(split=0, lfs=[stg_temp_lfs], train=True, parallelism=PARALLEL)\n",
    "%time L_train = labeler.get_label_matrices(train_cands)"
   ]
  },
  {
   "cell_type": "markdown",
   "metadata": {},
   "source": [
    "We can also view statistics about the resulting label matrix.\n",
    "* **Coverage** is the fraction of candidates that the labeling function emits a non-zero label for.\n",
    "* **Overlap** is the fraction candidates that the labeling function emits a non-zero label for and that another labeling function emits a non-zero label for.\n",
    "* **Conflict** is the fraction candidates that the labeling function emits a non-zero label for and that another labeling function emits a conflicting non-zero label for.\n",
    "\n",
    "In addition, because we have already loaded the gold labels, we can view the emperical accuracy of these labeling functions when compared to our gold labels using the `analysis` module of [MeTaL](https://github.com/HazyResearch/metal)."
   ]
  },
  {
   "cell_type": "code",
   "execution_count": 28,
   "metadata": {},
   "outputs": [],
   "source": [
    "L_gold_train = labeler.get_gold_labels(train_cands, annotator='gold')"
   ]
  },
  {
   "cell_type": "code",
   "execution_count": 29,
   "metadata": {},
   "outputs": [
    {
     "data": {
      "text/html": [
       "<div>\n",
       "<style scoped>\n",
       "    .dataframe tbody tr th:only-of-type {\n",
       "        vertical-align: middle;\n",
       "    }\n",
       "\n",
       "    .dataframe tbody tr th {\n",
       "        vertical-align: top;\n",
       "    }\n",
       "\n",
       "    .dataframe thead th {\n",
       "        text-align: right;\n",
       "    }\n",
       "</style>\n",
       "<table border=\"1\" class=\"dataframe\">\n",
       "  <thead>\n",
       "    <tr style=\"text-align: right;\">\n",
       "      <th></th>\n",
       "      <th>j</th>\n",
       "      <th>Polarity</th>\n",
       "      <th>Coverage</th>\n",
       "      <th>Overlaps</th>\n",
       "      <th>Conflicts</th>\n",
       "      <th>Correct</th>\n",
       "      <th>Incorrect</th>\n",
       "      <th>Emp. Acc.</th>\n",
       "    </tr>\n",
       "  </thead>\n",
       "  <tbody>\n",
       "    <tr>\n",
       "      <th>LabelKey (LF_negative_number_left)</th>\n",
       "      <td>0</td>\n",
       "      <td>2</td>\n",
       "      <td>0.051356</td>\n",
       "      <td>0.051356</td>\n",
       "      <td>0.0</td>\n",
       "      <td>1342</td>\n",
       "      <td>144</td>\n",
       "      <td>0.903096</td>\n",
       "    </tr>\n",
       "    <tr>\n",
       "      <th>LabelKey (LF_operating_row)</th>\n",
       "      <td>1</td>\n",
       "      <td>2</td>\n",
       "      <td>0.032072</td>\n",
       "      <td>0.032072</td>\n",
       "      <td>0.0</td>\n",
       "      <td>597</td>\n",
       "      <td>331</td>\n",
       "      <td>0.643319</td>\n",
       "    </tr>\n",
       "    <tr>\n",
       "      <th>LabelKey (LF_storage_row)</th>\n",
       "      <td>2</td>\n",
       "      <td>2</td>\n",
       "      <td>0.063522</td>\n",
       "      <td>0.063522</td>\n",
       "      <td>0.0</td>\n",
       "      <td>1335</td>\n",
       "      <td>503</td>\n",
       "      <td>0.726333</td>\n",
       "    </tr>\n",
       "    <tr>\n",
       "      <th>LabelKey (LF_temperature_row)</th>\n",
       "      <td>3</td>\n",
       "      <td>2</td>\n",
       "      <td>0.086504</td>\n",
       "      <td>0.068395</td>\n",
       "      <td>0.0</td>\n",
       "      <td>2014</td>\n",
       "      <td>489</td>\n",
       "      <td>0.804634</td>\n",
       "    </tr>\n",
       "    <tr>\n",
       "      <th>LabelKey (LF_to_left)</th>\n",
       "      <td>4</td>\n",
       "      <td>2</td>\n",
       "      <td>0.056575</td>\n",
       "      <td>0.053430</td>\n",
       "      <td>0.0</td>\n",
       "      <td>1233</td>\n",
       "      <td>404</td>\n",
       "      <td>0.753207</td>\n",
       "    </tr>\n",
       "    <tr>\n",
       "      <th>LabelKey (LF_tstg_row)</th>\n",
       "      <td>5</td>\n",
       "      <td>2</td>\n",
       "      <td>0.063522</td>\n",
       "      <td>0.063522</td>\n",
       "      <td>0.0</td>\n",
       "      <td>1335</td>\n",
       "      <td>503</td>\n",
       "      <td>0.726333</td>\n",
       "    </tr>\n",
       "  </tbody>\n",
       "</table>\n",
       "</div>"
      ],
      "text/plain": [
       "                                    j  Polarity  Coverage  Overlaps  \\\n",
       "LabelKey (LF_negative_number_left)  0         2  0.051356  0.051356   \n",
       "LabelKey (LF_operating_row)         1         2  0.032072  0.032072   \n",
       "LabelKey (LF_storage_row)           2         2  0.063522  0.063522   \n",
       "LabelKey (LF_temperature_row)       3         2  0.086504  0.068395   \n",
       "LabelKey (LF_to_left)               4         2  0.056575  0.053430   \n",
       "LabelKey (LF_tstg_row)              5         2  0.063522  0.063522   \n",
       "\n",
       "                                    Conflicts  Correct  Incorrect  Emp. Acc.  \n",
       "LabelKey (LF_negative_number_left)        0.0     1342        144   0.903096  \n",
       "LabelKey (LF_operating_row)               0.0      597        331   0.643319  \n",
       "LabelKey (LF_storage_row)                 0.0     1335        503   0.726333  \n",
       "LabelKey (LF_temperature_row)             0.0     2014        489   0.804634  \n",
       "LabelKey (LF_to_left)                     0.0     1233        404   0.753207  \n",
       "LabelKey (LF_tstg_row)                    0.0     1335        503   0.726333  "
      ]
     },
     "execution_count": 29,
     "metadata": {},
     "output_type": "execute_result"
    }
   ],
   "source": [
    "from metal import analysis\n",
    "\n",
    "analysis.lf_summary(L_train[0], lf_names=labeler.get_keys(), Y=L_gold_train[0].todense().reshape(-1,).tolist()[0])"
   ]
  },
  {
   "cell_type": "markdown",
   "metadata": {},
   "source": [
    "### Fitting the Generative Model\n",
    "\n",
    "Now, we'll train a model of the LFs to estimate their accuracies. Once the model is trained, we can combine the outputs of the LFs into a single, noise-aware training label set for our extractor. Intuitively, we'll model the LFs by observing how they overlap and conflict with each other. To do so, we use [MeTaL](https://github.com/HazyResearch/metal)'s single-task label model."
   ]
  },
  {
   "cell_type": "code",
   "execution_count": 30,
   "metadata": {},
   "outputs": [
    {
     "name": "stdout",
     "output_type": "stream",
     "text": [
      "Computing O...\n",
      "Estimating \\mu...\n",
      "[1 epo]: TRAIN:[loss=0.076]\n",
      "[2 epo]: TRAIN:[loss=0.076]\n",
      "[3 epo]: TRAIN:[loss=0.075]\n",
      "[4 epo]: TRAIN:[loss=0.074]\n",
      "[5 epo]: TRAIN:[loss=0.073]\n",
      "[6 epo]: TRAIN:[loss=0.072]\n",
      "[7 epo]: TRAIN:[loss=0.070]\n",
      "[8 epo]: TRAIN:[loss=0.069]\n",
      "[9 epo]: TRAIN:[loss=0.067]\n",
      "[10 epo]: TRAIN:[loss=0.065]\n",
      "[11 epo]: TRAIN:[loss=0.063]\n",
      "[12 epo]: TRAIN:[loss=0.062]\n",
      "[13 epo]: TRAIN:[loss=0.060]\n",
      "[14 epo]: TRAIN:[loss=0.058]\n",
      "[15 epo]: TRAIN:[loss=0.057]\n",
      "[16 epo]: TRAIN:[loss=0.055]\n",
      "[17 epo]: TRAIN:[loss=0.054]\n",
      "[18 epo]: TRAIN:[loss=0.053]\n",
      "[19 epo]: TRAIN:[loss=0.052]\n",
      "[20 epo]: TRAIN:[loss=0.051]\n",
      "[21 epo]: TRAIN:[loss=0.050]\n",
      "[22 epo]: TRAIN:[loss=0.049]\n",
      "[23 epo]: TRAIN:[loss=0.048]\n",
      "[24 epo]: TRAIN:[loss=0.048]\n",
      "[25 epo]: TRAIN:[loss=0.047]\n",
      "[26 epo]: TRAIN:[loss=0.047]\n",
      "[27 epo]: TRAIN:[loss=0.047]\n",
      "[28 epo]: TRAIN:[loss=0.046]\n",
      "[29 epo]: TRAIN:[loss=0.046]\n",
      "[30 epo]: TRAIN:[loss=0.046]\n",
      "[31 epo]: TRAIN:[loss=0.046]\n",
      "[32 epo]: TRAIN:[loss=0.046]\n",
      "[33 epo]: TRAIN:[loss=0.046]\n",
      "[34 epo]: TRAIN:[loss=0.045]\n",
      "[35 epo]: TRAIN:[loss=0.045]\n",
      "[36 epo]: TRAIN:[loss=0.045]\n",
      "[37 epo]: TRAIN:[loss=0.045]\n",
      "[38 epo]: TRAIN:[loss=0.045]\n",
      "[39 epo]: TRAIN:[loss=0.045]\n",
      "[40 epo]: TRAIN:[loss=0.045]\n",
      "[41 epo]: TRAIN:[loss=0.045]\n",
      "[42 epo]: TRAIN:[loss=0.045]\n",
      "[43 epo]: TRAIN:[loss=0.045]\n",
      "[44 epo]: TRAIN:[loss=0.045]\n",
      "[45 epo]: TRAIN:[loss=0.045]\n",
      "[46 epo]: TRAIN:[loss=0.045]\n",
      "[47 epo]: TRAIN:[loss=0.045]\n",
      "[48 epo]: TRAIN:[loss=0.044]\n",
      "[49 epo]: TRAIN:[loss=0.044]\n",
      "[50 epo]: TRAIN:[loss=0.044]\n",
      "[51 epo]: TRAIN:[loss=0.044]\n",
      "[52 epo]: TRAIN:[loss=0.044]\n",
      "[53 epo]: TRAIN:[loss=0.044]\n",
      "[54 epo]: TRAIN:[loss=0.043]\n",
      "[55 epo]: TRAIN:[loss=0.043]\n",
      "[56 epo]: TRAIN:[loss=0.043]\n",
      "[57 epo]: TRAIN:[loss=0.043]\n",
      "[58 epo]: TRAIN:[loss=0.043]\n",
      "[59 epo]: TRAIN:[loss=0.042]\n",
      "[60 epo]: TRAIN:[loss=0.042]\n",
      "[61 epo]: TRAIN:[loss=0.042]\n",
      "[62 epo]: TRAIN:[loss=0.042]\n",
      "[63 epo]: TRAIN:[loss=0.041]\n",
      "[64 epo]: TRAIN:[loss=0.041]\n",
      "[65 epo]: TRAIN:[loss=0.041]\n",
      "[66 epo]: TRAIN:[loss=0.040]\n",
      "[67 epo]: TRAIN:[loss=0.040]\n",
      "[68 epo]: TRAIN:[loss=0.040]\n",
      "[69 epo]: TRAIN:[loss=0.039]\n",
      "[70 epo]: TRAIN:[loss=0.039]\n",
      "[71 epo]: TRAIN:[loss=0.038]\n",
      "[72 epo]: TRAIN:[loss=0.038]\n",
      "[73 epo]: TRAIN:[loss=0.038]\n",
      "[74 epo]: TRAIN:[loss=0.037]\n",
      "[75 epo]: TRAIN:[loss=0.037]\n",
      "[76 epo]: TRAIN:[loss=0.036]\n",
      "[77 epo]: TRAIN:[loss=0.036]\n",
      "[78 epo]: TRAIN:[loss=0.035]\n",
      "[79 epo]: TRAIN:[loss=0.035]\n",
      "[80 epo]: TRAIN:[loss=0.034]\n",
      "[81 epo]: TRAIN:[loss=0.033]\n",
      "[82 epo]: TRAIN:[loss=0.033]\n",
      "[83 epo]: TRAIN:[loss=0.032]\n",
      "[84 epo]: TRAIN:[loss=0.031]\n",
      "[85 epo]: TRAIN:[loss=0.031]\n",
      "[86 epo]: TRAIN:[loss=0.030]\n",
      "[87 epo]: TRAIN:[loss=0.029]\n",
      "[88 epo]: TRAIN:[loss=0.029]\n",
      "[89 epo]: TRAIN:[loss=0.028]\n",
      "[90 epo]: TRAIN:[loss=0.027]\n",
      "[91 epo]: TRAIN:[loss=0.026]\n",
      "[92 epo]: TRAIN:[loss=0.025]\n",
      "[93 epo]: TRAIN:[loss=0.024]\n",
      "[94 epo]: TRAIN:[loss=0.024]\n",
      "[95 epo]: TRAIN:[loss=0.023]\n",
      "[96 epo]: TRAIN:[loss=0.022]\n",
      "[97 epo]: TRAIN:[loss=0.021]\n",
      "[98 epo]: TRAIN:[loss=0.020]\n",
      "[99 epo]: TRAIN:[loss=0.019]\n",
      "[100 epo]: TRAIN:[loss=0.018]\n",
      "[101 epo]: TRAIN:[loss=0.017]\n",
      "[102 epo]: TRAIN:[loss=0.016]\n",
      "[103 epo]: TRAIN:[loss=0.016]\n",
      "[104 epo]: TRAIN:[loss=0.015]\n",
      "[105 epo]: TRAIN:[loss=0.014]\n",
      "[106 epo]: TRAIN:[loss=0.013]\n",
      "[107 epo]: TRAIN:[loss=0.012]\n",
      "[108 epo]: TRAIN:[loss=0.011]\n",
      "[109 epo]: TRAIN:[loss=0.010]\n",
      "[110 epo]: TRAIN:[loss=0.010]\n",
      "[111 epo]: TRAIN:[loss=0.009]\n",
      "[112 epo]: TRAIN:[loss=0.008]\n",
      "[113 epo]: TRAIN:[loss=0.007]\n",
      "[114 epo]: TRAIN:[loss=0.007]\n",
      "[115 epo]: TRAIN:[loss=0.006]\n",
      "[116 epo]: TRAIN:[loss=0.006]\n",
      "[117 epo]: TRAIN:[loss=0.005]\n",
      "[118 epo]: TRAIN:[loss=0.004]\n",
      "[119 epo]: TRAIN:[loss=0.004]\n",
      "[120 epo]: TRAIN:[loss=0.004]\n",
      "[121 epo]: TRAIN:[loss=0.003]\n",
      "[122 epo]: TRAIN:[loss=0.003]\n",
      "[123 epo]: TRAIN:[loss=0.002]\n",
      "[124 epo]: TRAIN:[loss=0.002]\n",
      "[125 epo]: TRAIN:[loss=0.002]\n",
      "[126 epo]: TRAIN:[loss=0.002]\n",
      "[127 epo]: TRAIN:[loss=0.001]\n",
      "[128 epo]: TRAIN:[loss=0.001]\n",
      "[129 epo]: TRAIN:[loss=0.001]\n",
      "[130 epo]: TRAIN:[loss=0.001]\n",
      "[131 epo]: TRAIN:[loss=0.001]\n",
      "[132 epo]: TRAIN:[loss=0.001]\n",
      "[133 epo]: TRAIN:[loss=0.001]\n",
      "[134 epo]: TRAIN:[loss=0.001]\n",
      "[135 epo]: TRAIN:[loss=0.000]\n",
      "[136 epo]: TRAIN:[loss=0.000]\n",
      "[137 epo]: TRAIN:[loss=0.000]\n",
      "[138 epo]: TRAIN:[loss=0.000]\n",
      "[139 epo]: TRAIN:[loss=0.000]\n",
      "[140 epo]: TRAIN:[loss=0.000]\n",
      "[141 epo]: TRAIN:[loss=0.000]\n",
      "[142 epo]: TRAIN:[loss=0.000]\n",
      "[143 epo]: TRAIN:[loss=0.000]\n",
      "[144 epo]: TRAIN:[loss=0.000]\n",
      "[145 epo]: TRAIN:[loss=0.000]\n",
      "[146 epo]: TRAIN:[loss=0.000]\n",
      "[147 epo]: TRAIN:[loss=0.000]\n",
      "[148 epo]: TRAIN:[loss=0.000]\n",
      "[149 epo]: TRAIN:[loss=0.000]\n",
      "[150 epo]: TRAIN:[loss=0.000]\n",
      "[151 epo]: TRAIN:[loss=0.000]\n",
      "[152 epo]: TRAIN:[loss=0.000]\n",
      "[153 epo]: TRAIN:[loss=0.000]\n",
      "[154 epo]: TRAIN:[loss=0.000]\n",
      "[155 epo]: TRAIN:[loss=0.000]\n",
      "[156 epo]: TRAIN:[loss=0.000]\n",
      "[157 epo]: TRAIN:[loss=0.000]\n",
      "[158 epo]: TRAIN:[loss=0.000]\n",
      "[159 epo]: TRAIN:[loss=0.000]\n",
      "[160 epo]: TRAIN:[loss=0.000]\n",
      "[161 epo]: TRAIN:[loss=0.000]\n",
      "[162 epo]: TRAIN:[loss=0.000]\n",
      "[163 epo]: TRAIN:[loss=0.000]\n",
      "[164 epo]: TRAIN:[loss=0.000]\n",
      "[165 epo]: TRAIN:[loss=0.000]\n",
      "[166 epo]: TRAIN:[loss=0.000]\n",
      "[167 epo]: TRAIN:[loss=0.000]\n",
      "[168 epo]: TRAIN:[loss=0.000]\n",
      "[169 epo]: TRAIN:[loss=0.000]\n",
      "[170 epo]: TRAIN:[loss=0.000]\n",
      "[171 epo]: TRAIN:[loss=0.000]\n",
      "[172 epo]: TRAIN:[loss=0.000]\n",
      "[173 epo]: TRAIN:[loss=0.000]\n",
      "[174 epo]: TRAIN:[loss=0.000]\n",
      "[175 epo]: TRAIN:[loss=0.000]\n",
      "[176 epo]: TRAIN:[loss=0.000]\n",
      "[177 epo]: TRAIN:[loss=0.000]\n",
      "[178 epo]: TRAIN:[loss=0.000]\n",
      "[179 epo]: TRAIN:[loss=0.000]\n",
      "[180 epo]: TRAIN:[loss=0.000]\n",
      "[181 epo]: TRAIN:[loss=0.000]\n",
      "[182 epo]: TRAIN:[loss=0.000]\n",
      "[183 epo]: TRAIN:[loss=0.000]\n",
      "[184 epo]: TRAIN:[loss=0.000]\n",
      "[185 epo]: TRAIN:[loss=0.000]\n",
      "[186 epo]: TRAIN:[loss=0.000]\n",
      "[187 epo]: TRAIN:[loss=0.000]\n",
      "[188 epo]: TRAIN:[loss=0.000]\n",
      "[189 epo]: TRAIN:[loss=0.000]\n",
      "[190 epo]: TRAIN:[loss=0.000]\n",
      "[191 epo]: TRAIN:[loss=0.000]\n",
      "[192 epo]: TRAIN:[loss=0.000]\n",
      "[193 epo]: TRAIN:[loss=0.000]\n",
      "[194 epo]: TRAIN:[loss=0.000]\n",
      "[195 epo]: TRAIN:[loss=0.000]\n",
      "[196 epo]: TRAIN:[loss=0.000]\n",
      "[197 epo]: TRAIN:[loss=0.000]\n",
      "[198 epo]: TRAIN:[loss=0.000]\n",
      "[199 epo]: TRAIN:[loss=0.000]\n",
      "[200 epo]: TRAIN:[loss=0.000]\n",
      "[201 epo]: TRAIN:[loss=0.000]\n",
      "[202 epo]: TRAIN:[loss=0.000]\n",
      "[203 epo]: TRAIN:[loss=0.000]\n",
      "[204 epo]: TRAIN:[loss=0.000]\n",
      "[205 epo]: TRAIN:[loss=0.000]\n",
      "[206 epo]: TRAIN:[loss=0.000]\n",
      "[207 epo]: TRAIN:[loss=0.000]\n",
      "[208 epo]: TRAIN:[loss=0.000]\n",
      "[209 epo]: TRAIN:[loss=0.000]\n",
      "[210 epo]: TRAIN:[loss=0.000]\n",
      "[211 epo]: TRAIN:[loss=0.000]\n",
      "[212 epo]: TRAIN:[loss=0.000]\n",
      "[213 epo]: TRAIN:[loss=0.000]\n",
      "[214 epo]: TRAIN:[loss=0.000]\n",
      "[215 epo]: TRAIN:[loss=0.000]\n",
      "[216 epo]: TRAIN:[loss=0.000]\n",
      "[217 epo]: TRAIN:[loss=0.000]\n",
      "[218 epo]: TRAIN:[loss=0.000]\n",
      "[219 epo]: TRAIN:[loss=0.000]\n",
      "[220 epo]: TRAIN:[loss=0.000]\n",
      "[221 epo]: TRAIN:[loss=0.000]\n",
      "[222 epo]: TRAIN:[loss=0.000]\n",
      "[223 epo]: TRAIN:[loss=0.000]\n",
      "[224 epo]: TRAIN:[loss=0.000]\n",
      "[225 epo]: TRAIN:[loss=0.000]\n",
      "[226 epo]: TRAIN:[loss=0.000]\n",
      "[227 epo]: TRAIN:[loss=0.000]\n",
      "[228 epo]: TRAIN:[loss=0.000]\n",
      "[229 epo]: TRAIN:[loss=0.000]\n",
      "[230 epo]: TRAIN:[loss=0.000]\n",
      "[231 epo]: TRAIN:[loss=0.000]\n",
      "[232 epo]: TRAIN:[loss=0.000]\n",
      "[233 epo]: TRAIN:[loss=0.000]\n",
      "[234 epo]: TRAIN:[loss=0.000]\n",
      "[235 epo]: TRAIN:[loss=0.000]\n",
      "[236 epo]: TRAIN:[loss=0.000]\n",
      "[237 epo]: TRAIN:[loss=0.000]\n",
      "[238 epo]: TRAIN:[loss=0.000]\n",
      "[239 epo]: TRAIN:[loss=0.000]\n",
      "[240 epo]: TRAIN:[loss=0.000]\n",
      "[241 epo]: TRAIN:[loss=0.000]\n",
      "[242 epo]: TRAIN:[loss=0.000]\n",
      "[243 epo]: TRAIN:[loss=0.000]\n",
      "[244 epo]: TRAIN:[loss=0.000]\n",
      "[245 epo]: TRAIN:[loss=0.000]\n",
      "[246 epo]: TRAIN:[loss=0.000]\n",
      "[247 epo]: TRAIN:[loss=0.000]\n",
      "[248 epo]: TRAIN:[loss=0.000]\n",
      "[249 epo]: TRAIN:[loss=0.000]\n",
      "[250 epo]: TRAIN:[loss=0.000]\n",
      "[251 epo]: TRAIN:[loss=0.000]\n",
      "[252 epo]: TRAIN:[loss=0.000]\n",
      "[253 epo]: TRAIN:[loss=0.000]\n",
      "[254 epo]: TRAIN:[loss=0.000]\n",
      "[255 epo]: TRAIN:[loss=0.000]\n",
      "[256 epo]: TRAIN:[loss=0.000]\n",
      "[257 epo]: TRAIN:[loss=0.000]\n",
      "[258 epo]: TRAIN:[loss=0.000]\n",
      "[259 epo]: TRAIN:[loss=0.000]\n",
      "[260 epo]: TRAIN:[loss=0.000]\n",
      "[261 epo]: TRAIN:[loss=0.000]\n",
      "[262 epo]: TRAIN:[loss=0.000]\n",
      "[263 epo]: TRAIN:[loss=0.000]\n",
      "[264 epo]: TRAIN:[loss=0.000]\n",
      "[265 epo]: TRAIN:[loss=0.000]\n",
      "[266 epo]: TRAIN:[loss=0.000]\n",
      "[267 epo]: TRAIN:[loss=0.000]\n",
      "[268 epo]: TRAIN:[loss=0.000]\n",
      "[269 epo]: TRAIN:[loss=0.000]\n",
      "[270 epo]: TRAIN:[loss=0.000]\n",
      "[271 epo]: TRAIN:[loss=0.000]\n",
      "[272 epo]: TRAIN:[loss=0.000]\n",
      "[273 epo]: TRAIN:[loss=0.000]\n",
      "[274 epo]: TRAIN:[loss=0.000]\n",
      "[275 epo]: TRAIN:[loss=0.000]\n",
      "[276 epo]: TRAIN:[loss=0.000]\n",
      "[277 epo]: TRAIN:[loss=0.000]\n",
      "[278 epo]: TRAIN:[loss=0.000]\n",
      "[279 epo]: TRAIN:[loss=0.000]\n",
      "[280 epo]: TRAIN:[loss=0.000]\n",
      "[281 epo]: TRAIN:[loss=0.000]\n",
      "[282 epo]: TRAIN:[loss=0.000]\n",
      "[283 epo]: TRAIN:[loss=0.000]\n",
      "[284 epo]: TRAIN:[loss=0.000]\n",
      "[285 epo]: TRAIN:[loss=0.000]\n",
      "[286 epo]: TRAIN:[loss=0.000]\n",
      "[287 epo]: TRAIN:[loss=0.000]\n",
      "[288 epo]: TRAIN:[loss=0.000]\n",
      "[289 epo]: TRAIN:[loss=0.000]\n",
      "[290 epo]: TRAIN:[loss=0.000]\n",
      "[291 epo]: TRAIN:[loss=0.000]\n",
      "[292 epo]: TRAIN:[loss=0.000]\n",
      "[293 epo]: TRAIN:[loss=0.000]\n",
      "[294 epo]: TRAIN:[loss=0.000]\n",
      "[295 epo]: TRAIN:[loss=0.000]\n",
      "[296 epo]: TRAIN:[loss=0.000]\n",
      "[297 epo]: TRAIN:[loss=0.000]\n",
      "[298 epo]: TRAIN:[loss=0.000]\n",
      "[299 epo]: TRAIN:[loss=0.000]\n",
      "[300 epo]: TRAIN:[loss=0.000]\n",
      "[301 epo]: TRAIN:[loss=0.000]\n",
      "[302 epo]: TRAIN:[loss=0.000]\n",
      "[303 epo]: TRAIN:[loss=0.000]\n",
      "[304 epo]: TRAIN:[loss=0.000]\n",
      "[305 epo]: TRAIN:[loss=0.000]\n",
      "[306 epo]: TRAIN:[loss=0.000]\n",
      "[307 epo]: TRAIN:[loss=0.000]\n",
      "[308 epo]: TRAIN:[loss=0.000]\n",
      "[309 epo]: TRAIN:[loss=0.000]\n",
      "[310 epo]: TRAIN:[loss=0.000]\n",
      "[311 epo]: TRAIN:[loss=0.000]\n",
      "[312 epo]: TRAIN:[loss=0.000]\n",
      "[313 epo]: TRAIN:[loss=0.000]\n",
      "[314 epo]: TRAIN:[loss=0.000]\n",
      "[315 epo]: TRAIN:[loss=0.000]\n",
      "[316 epo]: TRAIN:[loss=0.000]\n",
      "[317 epo]: TRAIN:[loss=0.000]\n",
      "[318 epo]: TRAIN:[loss=0.000]\n",
      "[319 epo]: TRAIN:[loss=0.000]\n",
      "[320 epo]: TRAIN:[loss=0.000]\n",
      "[321 epo]: TRAIN:[loss=0.000]\n",
      "[322 epo]: TRAIN:[loss=0.000]\n",
      "[323 epo]: TRAIN:[loss=0.000]\n",
      "[324 epo]: TRAIN:[loss=0.000]\n",
      "[325 epo]: TRAIN:[loss=0.000]\n",
      "[326 epo]: TRAIN:[loss=0.000]\n",
      "[327 epo]: TRAIN:[loss=0.000]\n",
      "[328 epo]: TRAIN:[loss=0.000]\n",
      "[329 epo]: TRAIN:[loss=0.000]\n",
      "[330 epo]: TRAIN:[loss=0.000]\n",
      "[331 epo]: TRAIN:[loss=0.000]\n",
      "[332 epo]: TRAIN:[loss=0.000]\n",
      "[333 epo]: TRAIN:[loss=0.000]\n",
      "[334 epo]: TRAIN:[loss=0.000]\n",
      "[335 epo]: TRAIN:[loss=0.000]\n",
      "[336 epo]: TRAIN:[loss=0.000]\n",
      "[337 epo]: TRAIN:[loss=0.000]\n",
      "[338 epo]: TRAIN:[loss=0.000]\n",
      "[339 epo]: TRAIN:[loss=0.000]\n",
      "[340 epo]: TRAIN:[loss=0.000]\n",
      "[341 epo]: TRAIN:[loss=0.000]\n",
      "[342 epo]: TRAIN:[loss=0.000]\n",
      "[343 epo]: TRAIN:[loss=0.000]\n",
      "[344 epo]: TRAIN:[loss=0.000]\n",
      "[345 epo]: TRAIN:[loss=0.000]\n",
      "[346 epo]: TRAIN:[loss=0.000]\n",
      "[347 epo]: TRAIN:[loss=0.000]\n",
      "[348 epo]: TRAIN:[loss=0.000]\n",
      "[349 epo]: TRAIN:[loss=0.000]\n",
      "[350 epo]: TRAIN:[loss=0.000]\n",
      "[351 epo]: TRAIN:[loss=0.000]\n",
      "[352 epo]: TRAIN:[loss=0.000]\n",
      "[353 epo]: TRAIN:[loss=0.000]\n",
      "[354 epo]: TRAIN:[loss=0.000]\n",
      "[355 epo]: TRAIN:[loss=0.000]\n",
      "[356 epo]: TRAIN:[loss=0.000]\n",
      "[357 epo]: TRAIN:[loss=0.000]\n",
      "[358 epo]: TRAIN:[loss=0.000]\n",
      "[359 epo]: TRAIN:[loss=0.000]\n",
      "[360 epo]: TRAIN:[loss=0.000]\n",
      "[361 epo]: TRAIN:[loss=0.000]\n",
      "[362 epo]: TRAIN:[loss=0.000]\n",
      "[363 epo]: TRAIN:[loss=0.000]\n",
      "[364 epo]: TRAIN:[loss=0.000]\n",
      "[365 epo]: TRAIN:[loss=0.000]\n",
      "[366 epo]: TRAIN:[loss=0.000]\n",
      "[367 epo]: TRAIN:[loss=0.000]\n",
      "[368 epo]: TRAIN:[loss=0.000]\n",
      "[369 epo]: TRAIN:[loss=0.000]\n",
      "[370 epo]: TRAIN:[loss=0.000]\n",
      "[371 epo]: TRAIN:[loss=0.000]\n",
      "[372 epo]: TRAIN:[loss=0.000]\n",
      "[373 epo]: TRAIN:[loss=0.000]\n",
      "[374 epo]: TRAIN:[loss=0.000]\n",
      "[375 epo]: TRAIN:[loss=0.000]\n",
      "[376 epo]: TRAIN:[loss=0.000]\n",
      "[377 epo]: TRAIN:[loss=0.000]\n",
      "[378 epo]: TRAIN:[loss=0.000]\n",
      "[379 epo]: TRAIN:[loss=0.000]\n",
      "[380 epo]: TRAIN:[loss=0.000]\n"
     ]
    },
    {
     "name": "stdout",
     "output_type": "stream",
     "text": [
      "[381 epo]: TRAIN:[loss=0.000]\n",
      "[382 epo]: TRAIN:[loss=0.000]\n",
      "[383 epo]: TRAIN:[loss=0.000]\n",
      "[384 epo]: TRAIN:[loss=0.000]\n",
      "[385 epo]: TRAIN:[loss=0.000]\n",
      "[386 epo]: TRAIN:[loss=0.000]\n",
      "[387 epo]: TRAIN:[loss=0.000]\n",
      "[388 epo]: TRAIN:[loss=0.000]\n",
      "[389 epo]: TRAIN:[loss=0.000]\n",
      "[390 epo]: TRAIN:[loss=0.000]\n",
      "[391 epo]: TRAIN:[loss=0.000]\n",
      "[392 epo]: TRAIN:[loss=0.000]\n",
      "[393 epo]: TRAIN:[loss=0.000]\n",
      "[394 epo]: TRAIN:[loss=0.000]\n",
      "[395 epo]: TRAIN:[loss=0.000]\n",
      "[396 epo]: TRAIN:[loss=0.000]\n",
      "[397 epo]: TRAIN:[loss=0.000]\n",
      "[398 epo]: TRAIN:[loss=0.000]\n",
      "[399 epo]: TRAIN:[loss=0.000]\n",
      "[400 epo]: TRAIN:[loss=0.000]\n",
      "[401 epo]: TRAIN:[loss=0.000]\n",
      "[402 epo]: TRAIN:[loss=0.000]\n",
      "[403 epo]: TRAIN:[loss=0.000]\n",
      "[404 epo]: TRAIN:[loss=0.000]\n",
      "[405 epo]: TRAIN:[loss=0.000]\n",
      "[406 epo]: TRAIN:[loss=0.000]\n",
      "[407 epo]: TRAIN:[loss=0.000]\n",
      "[408 epo]: TRAIN:[loss=0.000]\n",
      "[409 epo]: TRAIN:[loss=0.000]\n",
      "[410 epo]: TRAIN:[loss=0.000]\n",
      "[411 epo]: TRAIN:[loss=0.000]\n",
      "[412 epo]: TRAIN:[loss=0.000]\n",
      "[413 epo]: TRAIN:[loss=0.000]\n",
      "[414 epo]: TRAIN:[loss=0.000]\n",
      "[415 epo]: TRAIN:[loss=0.000]\n",
      "[416 epo]: TRAIN:[loss=0.000]\n",
      "[417 epo]: TRAIN:[loss=0.000]\n",
      "[418 epo]: TRAIN:[loss=0.000]\n",
      "[419 epo]: TRAIN:[loss=0.000]\n",
      "[420 epo]: TRAIN:[loss=0.000]\n",
      "[421 epo]: TRAIN:[loss=0.000]\n",
      "[422 epo]: TRAIN:[loss=0.000]\n",
      "[423 epo]: TRAIN:[loss=0.000]\n",
      "[424 epo]: TRAIN:[loss=0.000]\n",
      "[425 epo]: TRAIN:[loss=0.000]\n",
      "[426 epo]: TRAIN:[loss=0.000]\n",
      "[427 epo]: TRAIN:[loss=0.000]\n",
      "[428 epo]: TRAIN:[loss=0.000]\n",
      "[429 epo]: TRAIN:[loss=0.000]\n",
      "[430 epo]: TRAIN:[loss=0.000]\n",
      "[431 epo]: TRAIN:[loss=0.000]\n",
      "[432 epo]: TRAIN:[loss=0.000]\n",
      "[433 epo]: TRAIN:[loss=0.000]\n",
      "[434 epo]: TRAIN:[loss=0.000]\n",
      "[435 epo]: TRAIN:[loss=0.000]\n",
      "[436 epo]: TRAIN:[loss=0.000]\n",
      "[437 epo]: TRAIN:[loss=0.000]\n",
      "[438 epo]: TRAIN:[loss=0.000]\n",
      "[439 epo]: TRAIN:[loss=0.000]\n",
      "[440 epo]: TRAIN:[loss=0.000]\n",
      "[441 epo]: TRAIN:[loss=0.000]\n",
      "[442 epo]: TRAIN:[loss=0.000]\n",
      "[443 epo]: TRAIN:[loss=0.000]\n",
      "[444 epo]: TRAIN:[loss=0.000]\n",
      "[445 epo]: TRAIN:[loss=0.000]\n",
      "[446 epo]: TRAIN:[loss=0.000]\n",
      "[447 epo]: TRAIN:[loss=0.000]\n",
      "[448 epo]: TRAIN:[loss=0.000]\n",
      "[449 epo]: TRAIN:[loss=0.000]\n",
      "[450 epo]: TRAIN:[loss=0.000]\n",
      "[451 epo]: TRAIN:[loss=0.000]\n",
      "[452 epo]: TRAIN:[loss=0.000]\n",
      "[453 epo]: TRAIN:[loss=0.000]\n",
      "[454 epo]: TRAIN:[loss=0.000]\n",
      "[455 epo]: TRAIN:[loss=0.000]\n",
      "[456 epo]: TRAIN:[loss=0.000]\n",
      "[457 epo]: TRAIN:[loss=0.000]\n",
      "[458 epo]: TRAIN:[loss=0.000]\n",
      "[459 epo]: TRAIN:[loss=0.000]\n",
      "[460 epo]: TRAIN:[loss=0.000]\n",
      "[461 epo]: TRAIN:[loss=0.000]\n",
      "[462 epo]: TRAIN:[loss=0.000]\n",
      "[463 epo]: TRAIN:[loss=0.000]\n",
      "[464 epo]: TRAIN:[loss=0.000]\n",
      "[465 epo]: TRAIN:[loss=0.000]\n",
      "[466 epo]: TRAIN:[loss=0.000]\n",
      "[467 epo]: TRAIN:[loss=0.000]\n",
      "[468 epo]: TRAIN:[loss=0.000]\n",
      "[469 epo]: TRAIN:[loss=0.000]\n",
      "[470 epo]: TRAIN:[loss=0.000]\n",
      "[471 epo]: TRAIN:[loss=0.000]\n",
      "[472 epo]: TRAIN:[loss=0.000]\n",
      "[473 epo]: TRAIN:[loss=0.000]\n",
      "[474 epo]: TRAIN:[loss=0.000]\n",
      "[475 epo]: TRAIN:[loss=0.000]\n",
      "[476 epo]: TRAIN:[loss=0.000]\n",
      "[477 epo]: TRAIN:[loss=0.000]\n",
      "[478 epo]: TRAIN:[loss=0.000]\n",
      "[479 epo]: TRAIN:[loss=0.000]\n",
      "[480 epo]: TRAIN:[loss=0.000]\n",
      "[481 epo]: TRAIN:[loss=0.000]\n",
      "[482 epo]: TRAIN:[loss=0.000]\n",
      "[483 epo]: TRAIN:[loss=0.000]\n",
      "[484 epo]: TRAIN:[loss=0.000]\n",
      "[485 epo]: TRAIN:[loss=0.000]\n",
      "[486 epo]: TRAIN:[loss=0.000]\n",
      "[487 epo]: TRAIN:[loss=0.000]\n",
      "[488 epo]: TRAIN:[loss=0.000]\n",
      "[489 epo]: TRAIN:[loss=0.000]\n",
      "[490 epo]: TRAIN:[loss=0.000]\n",
      "[491 epo]: TRAIN:[loss=0.000]\n",
      "[492 epo]: TRAIN:[loss=0.000]\n",
      "[493 epo]: TRAIN:[loss=0.000]\n",
      "[494 epo]: TRAIN:[loss=0.000]\n",
      "[495 epo]: TRAIN:[loss=0.000]\n",
      "[496 epo]: TRAIN:[loss=0.000]\n",
      "[497 epo]: TRAIN:[loss=0.000]\n",
      "[498 epo]: TRAIN:[loss=0.000]\n",
      "[499 epo]: TRAIN:[loss=0.000]\n",
      "[500 epo]: TRAIN:[loss=0.000]\n",
      "Finished Training\n",
      "CPU times: user 769 ms, sys: 47.6 ms, total: 817 ms\n",
      "Wall time: 804 ms\n"
     ]
    }
   ],
   "source": [
    "from metal.label_model import LabelModel\n",
    "\n",
    "gen_model = LabelModel(k=2)\n",
    "%time gen_model.train_model(L_train[0], n_epochs=500, print_every=100)"
   ]
  },
  {
   "cell_type": "markdown",
   "metadata": {},
   "source": [
    "We now apply the generative model to the training candidates to get the noise-aware training label set. We'll refer to these as the training marginals:"
   ]
  },
  {
   "cell_type": "code",
   "execution_count": 31,
   "metadata": {},
   "outputs": [],
   "source": [
    "train_marginals = gen_model.predict_proba(L_train[0])"
   ]
  },
  {
   "cell_type": "markdown",
   "metadata": {},
   "source": [
    "We'll look at the distribution of the training marginals:"
   ]
  },
  {
   "cell_type": "code",
   "execution_count": 32,
   "metadata": {},
   "outputs": [
    {
     "data": {
      "image/png": "[encoded data removed]",
      "text/plain": [
       "<Figure size 432x288 with 1 Axes>"
      ]
     },
     "metadata": {
      "needs_background": "light"
     },
     "output_type": "display_data"
    }
   ],
   "source": [
    "import matplotlib.pyplot as plt\n",
    "\n",
    "plt.hist(train_marginals[:, TRUE - 1], bins=20)\n",
    "plt.show()"
   ]
  },
  {
   "cell_type": "markdown",
   "metadata": {
    "scrolled": true
   },
   "source": [
    "### Using the Model to Iterate on Labeling Functions\n",
    "\n",
    "Now that we have learned the generative model, we can stop here and use this to potentially debug and/or improve our labeling function set. First, we apply the LFs to our development set:"
   ]
  },
  {
   "cell_type": "code",
   "execution_count": 33,
   "metadata": {},
   "outputs": [
    {
     "name": "stderr",
     "output_type": "stream",
     "text": [
      "[2019-04-01 20:56:23,809][INFO] fonduer.supervision.labeler:219 - Clearing Labels (split 1)\n",
      "[2019-04-01 20:56:23,825][INFO] fonduer.utils.udf:54 - Running UDF...\n"
     ]
    },
    {
     "data": {
      "application/vnd.jupyter.widget-view+json": {
       "model_id": "897c1894cece47b58700d896f6dd77d7",
       "version_major": 2,
       "version_minor": 0
      },
      "text/plain": [
       "HBox(children=(IntProgress(value=0, max=10), HTML(value='')))"
      ]
     },
     "metadata": {},
     "output_type": "display_data"
    },
    {
     "name": "stdout",
     "output_type": "stream",
     "text": [
      "\n",
      "CPU times: user 4.07 s, sys: 218 ms, total: 4.29 s\n",
      "Wall time: 5.54 s\n"
     ]
    }
   ],
   "source": [
    "labeler.apply(split=1, lfs=[stg_temp_lfs], parallelism=PARALLEL)\n",
    "%time L_dev = labeler.get_label_matrices(dev_cands)"
   ]
  },
  {
   "cell_type": "code",
   "execution_count": 34,
   "metadata": {},
   "outputs": [
    {
     "data": {
      "text/plain": [
       "(2553, 6)"
      ]
     },
     "execution_count": 34,
     "metadata": {},
     "output_type": "execute_result"
    }
   ],
   "source": [
    "L_dev[0].shape"
   ]
  },
  {
   "cell_type": "markdown",
   "metadata": {},
   "source": [
    "### Interpreting Generative Model Performance\n",
    "\n",
    "At this point, we should be getting an F1 score of around 0.6 to 0.7 on the development set, which is pretty good! However, we should be very careful in interpreting this. Since we developed our labeling functions using this development set as a guide, and our generative model is composed of these labeling functions, we expect it to score very well here!\n",
    "\n",
    "In fact, it is probably somewhat overfit to this set. However this is fine, since in the next, we'll train a more powerful end extraction model which will generalize beyond the development set, and which we will evaluate on a blind test set (i.e. one we never looked at during development).\n",
    "\n",
    "\n",
    "### Training the Discriminative Model\n",
    "\n",
    "Now, we'll use the noisy training labels we generated in the last part to train our end extraction model. For this tutorial, we will be training a simple--but fairly effective--logistic regression model.\n",
    "\n",
    "We use the training marginals to train a discriminative model that classifies each Candidate as a true or false mention. "
   ]
  },
  {
   "cell_type": "code",
   "execution_count": 35,
   "metadata": {},
   "outputs": [
    {
     "name": "stderr",
     "output_type": "stream",
     "text": [
      "[2019-04-01 20:56:34,807][INFO] fonduer.learning.classifier:98 - Loading default parameters for Logistic Regression\n",
      "[2019-04-01 20:56:39,002][INFO] fonduer.learning.classifier:215 - Settings: {'log_dir': 'logs/2019-04-01_20-41-02/2019-04-01_20-56-34_LogisticRegression', 'n_epochs': 50, 'lr': 0.001, 'batch_size': 256, 'shuffle': True, 'seed': 1234, 'host_device': 'CPU', 'bias': False, 'input_dim': 24602}\n",
      "[2019-04-01 20:56:39,004][INFO] fonduer.learning.classifier:233 - [LogisticRegression] Training model\n",
      "[2019-04-01 20:56:39,005][INFO] fonduer.learning.classifier:235 - [LogisticRegression] n_train=2696 #epochs=50 batch size=256\n",
      "[2019-04-01 20:57:04,628][INFO] fonduer.learning.classifier:289 - [LogisticRegression] Epoch 5 (25.62s)\tAverage loss=0.039405\n",
      "[2019-04-01 20:57:04,631][INFO] fonduer.learning.classifier:516 - [LogisticRegression] Model saved as checkpoint_epoch_5.pt in logs/2019-04-01_20-41-02/2019-04-01_20-56-34_LogisticRegression\n",
      "[2019-04-01 20:57:30,238][INFO] fonduer.learning.classifier:289 - [LogisticRegression] Epoch 10 (51.23s)\tAverage loss=0.036297\n",
      "[2019-04-01 20:57:30,240][INFO] fonduer.learning.classifier:516 - [LogisticRegression] Model saved as checkpoint_epoch_10.pt in logs/2019-04-01_20-41-02/2019-04-01_20-56-34_LogisticRegression\n",
      "[2019-04-01 20:57:55,681][INFO] fonduer.learning.classifier:289 - [LogisticRegression] Epoch 15 (76.68s)\tAverage loss=0.035029\n",
      "[2019-04-01 20:57:55,685][INFO] fonduer.learning.classifier:516 - [LogisticRegression] Model saved as checkpoint_epoch_15.pt in logs/2019-04-01_20-41-02/2019-04-01_20-56-34_LogisticRegression\n",
      "[2019-04-01 20:58:21,300][INFO] fonduer.learning.classifier:289 - [LogisticRegression] Epoch 20 (102.30s)\tAverage loss=0.034393\n",
      "[2019-04-01 20:58:21,302][INFO] fonduer.learning.classifier:516 - [LogisticRegression] Model saved as checkpoint_epoch_20.pt in logs/2019-04-01_20-41-02/2019-04-01_20-56-34_LogisticRegression\n",
      "[2019-04-01 20:58:47,849][INFO] fonduer.learning.classifier:289 - [LogisticRegression] Epoch 25 (128.85s)\tAverage loss=0.033961\n",
      "[2019-04-01 20:58:47,851][INFO] fonduer.learning.classifier:516 - [LogisticRegression] Model saved as checkpoint_epoch_25.pt in logs/2019-04-01_20-41-02/2019-04-01_20-56-34_LogisticRegression\n",
      "[2019-04-01 20:59:14,379][INFO] fonduer.learning.classifier:289 - [LogisticRegression] Epoch 30 (155.37s)\tAverage loss=0.033341\n",
      "[2019-04-01 20:59:14,380][INFO] fonduer.learning.classifier:516 - [LogisticRegression] Model saved as checkpoint_epoch_30.pt in logs/2019-04-01_20-41-02/2019-04-01_20-56-34_LogisticRegression\n",
      "[2019-04-01 20:59:41,088][INFO] fonduer.learning.classifier:289 - [LogisticRegression] Epoch 35 (182.08s)\tAverage loss=0.033335\n",
      "[2019-04-01 20:59:41,092][INFO] fonduer.learning.classifier:516 - [LogisticRegression] Model saved as checkpoint_epoch_35.pt in logs/2019-04-01_20-41-02/2019-04-01_20-56-34_LogisticRegression\n",
      "[2019-04-01 21:00:09,476][INFO] fonduer.learning.classifier:289 - [LogisticRegression] Epoch 40 (210.47s)\tAverage loss=0.032683\n",
      "[2019-04-01 21:00:09,477][INFO] fonduer.learning.classifier:516 - [LogisticRegression] Model saved as checkpoint_epoch_40.pt in logs/2019-04-01_20-41-02/2019-04-01_20-56-34_LogisticRegression\n",
      "[2019-04-01 21:00:36,307][INFO] fonduer.learning.classifier:289 - [LogisticRegression] Epoch 45 (237.30s)\tAverage loss=0.032836\n",
      "[2019-04-01 21:00:36,310][INFO] fonduer.learning.classifier:516 - [LogisticRegression] Model saved as checkpoint_epoch_45.pt in logs/2019-04-01_20-41-02/2019-04-01_20-56-34_LogisticRegression\n",
      "[2019-04-01 21:01:02,730][INFO] fonduer.learning.classifier:289 - [LogisticRegression] Epoch 50 (263.73s)\tAverage loss=0.032890\n",
      "[2019-04-01 21:01:02,762][INFO] fonduer.learning.classifier:516 - [LogisticRegression] Model saved as checkpoint_epoch_50.pt in logs/2019-04-01_20-41-02/2019-04-01_20-56-34_LogisticRegression\n",
      "[2019-04-01 21:01:02,763][INFO] fonduer.learning.classifier:317 - Saving final model as best checkpoint logs/2019-04-01_20-41-02/2019-04-01_20-56-34_LogisticRegression/checkpoint_epoch_50.pt.\n",
      "[2019-04-01 21:01:02,765][INFO] fonduer.learning.classifier:327 - [LogisticRegression] Training done (263.76s)\n",
      "[2019-04-01 21:01:02,765][INFO] fonduer.learning.classifier:330 - Loading best checkpoint\n",
      "[2019-04-01 21:01:02,767][INFO] fonduer.learning.classifier:546 - [LogisticRegression] Model loaded as best_model.pt in logs/2019-04-01_20-41-02/2019-04-01_20-56-34_LogisticRegression\n"
     ]
    },
    {
     "name": "stdout",
     "output_type": "stream",
     "text": [
      "CPU times: user 4min 47s, sys: 4.81 s, total: 4min 52s\n",
      "Wall time: 4min 27s\n"
     ]
    }
   ],
   "source": [
    "from fonduer.learning import LogisticRegression\n",
    "\n",
    "disc_model = LogisticRegression()\n",
    "%time disc_model.train((train_cands[0], F_train[0]), train_marginals, n_epochs=50, lr=0.001)"
   ]
  },
  {
   "cell_type": "markdown",
   "metadata": {},
   "source": [
    "### Evaluating on the Test Set\n",
    "In this final section, we'll get the score we've been after: the performance of the extraction model on the blind test set (split 2). First, we load the test set labels and gold candidates from earlier:"
   ]
  },
  {
   "cell_type": "code",
   "execution_count": 36,
   "metadata": {},
   "outputs": [],
   "source": [
    "import numpy as np\n",
    "from hardware_utils import entity_level_f1\n",
    "import pickle\n",
    "pickle_file = 'data/parts_by_doc_dict.pkl'\n",
    "with open(pickle_file, 'rb') as f:\n",
    "    parts_by_doc = pickle.load(f)"
   ]
  },
  {
   "cell_type": "markdown",
   "metadata": {
    "scrolled": true
   },
   "source": [
    "Now, we score using the discriminitive model:"
   ]
  },
  {
   "cell_type": "code",
   "execution_count": 37,
   "metadata": {},
   "outputs": [
    {
     "name": "stderr",
     "output_type": "stream",
     "text": [
      "[2019-04-01 21:01:07,276][INFO] fonduer.learning.classifier:403 - Using positive label class 2 with threshold 0.6\n"
     ]
    },
    {
     "name": "stdout",
     "output_type": "stream",
     "text": [
      "Preparing candidates...\n"
     ]
    },
    {
     "data": {
      "application/vnd.jupyter.widget-view+json": {
       "model_id": "bdc31dd1a6de49cfb287bac5b062d10e",
       "version_major": 2,
       "version_minor": 0
      },
      "text/plain": [
       "HBox(children=(IntProgress(value=0, max=2080), HTML(value='')))"
      ]
     },
     "metadata": {},
     "output_type": "display_data"
    },
    {
     "name": "stdout",
     "output_type": "stream",
     "text": [
      "\n",
      "========================================\n",
      "Scoring on Entity-Level Gold Data\n",
      "========================================\n",
      "Corpus Precision 0.328\n",
      "Corpus Recall    0.94\n",
      "Corpus F1        0.486\n",
      "----------------------------------------\n",
      "TP: 78 | FP: 160 | FN: 5\n",
      "========================================\n",
      "\n",
      "CPU times: user 4.67 s, sys: 169 ms, total: 4.84 s\n",
      "Wall time: 5.92 s\n"
     ]
    }
   ],
   "source": [
    "test_score = disc_model.predict((test_cands[0], F_test[0]), b=0.6, pos_label=TRUE)\n",
    "true_pred = [test_cands[0][_] for _ in np.nditer(np.where(test_score == TRUE))]\n",
    "%time (TP, FP, FN) = entity_level_f1(true_pred, gold_file, ATTRIBUTE, test_docs, parts_by_doc=parts_by_doc)"
   ]
  },
  {
   "cell_type": "markdown",
   "metadata": {},
   "source": [
    "# Phase 4:  Error Analysis & Iterative KBC\n",
    "\n",
    "During the development process, we can iteratively improve the quality of our labeling functions through error analysis, without executing the full pipeline as in previous techniques. \n",
    "\n",
    "You may have noticed that our final score is about 50 F1 points. To remedy this and improve our quality, we can perform error analysis to understand what kinds of patterns we may have missed, or what issues exist with our labeling functions. Then, we can edit our set of labeling functions and rerun Phase 3, Probabilistic Relation Classification. \n",
    "\n",
    "## Error Analysis\n",
    "For example, notice that our `entity_level_f1` returns `TP`, `FP`, `FN` sets. We can also see that our recall is high, but we have low precision, so let's look at our false positivies, `FP`."
   ]
  },
  {
   "cell_type": "code",
   "execution_count": 38,
   "metadata": {},
   "outputs": [
    {
     "data": {
      "text/plain": [
       "[('BC546-D', 'BC546', '180'),\n",
       " ('BC546-D', 'BC546', '200'),\n",
       " ('BC546-D', 'BC546B', '180'),\n",
       " ('BC546-D', 'BC546B', '200'),\n",
       " ('BC546-D', 'BC546BG', '180'),\n",
       " ('BC546-D', 'BC546BG', '200'),\n",
       " ('BC546-D', 'BC546BRL1', '180'),\n",
       " ('BC546-D', 'BC546BRL1', '200'),\n",
       " ('BC546-D', 'BC546BRL1G', '180'),\n",
       " ('BC546-D', 'BC546BRL1G', '200'),\n",
       " ('BC546-D', 'BC546BZL1G', '180'),\n",
       " ('BC546-D', 'BC546BZL1G', '200'),\n",
       " ('BC546-D', 'BC547', '180'),\n",
       " ('BC546-D', 'BC547', '200'),\n",
       " ('BC546-D', 'BC547A', '180'),\n",
       " ('BC546-D', 'BC547A', '200'),\n",
       " ('BC546-D', 'BC547ARL', '180'),\n",
       " ('BC546-D', 'BC547ARL', '200'),\n",
       " ('BC546-D', 'BC547ARLG', '180'),\n",
       " ('BC546-D', 'BC547ARLG', '200'),\n",
       " ('BC546-D', 'BC547AZL1G', '180'),\n",
       " ('BC546-D', 'BC547AZL1G', '200'),\n",
       " ('BC546-D', 'BC547B', '180'),\n",
       " ('BC546-D', 'BC547B', '200'),\n",
       " ('BC546-D', 'BC547BG', '180'),\n",
       " ('BC546-D', 'BC547BG', '200'),\n",
       " ('BC546-D', 'BC547BRL1G', '180'),\n",
       " ('BC546-D', 'BC547BRL1G', '200'),\n",
       " ('BC546-D', 'BC547BZL1G', '180'),\n",
       " ('BC546-D', 'BC547BZL1G', '200'),\n",
       " ('BC546-D', 'BC547C', '180'),\n",
       " ('BC546-D', 'BC547C', '200'),\n",
       " ('BC546-D', 'BC547CG', '180'),\n",
       " ('BC546-D', 'BC547CG', '200'),\n",
       " ('BC546-D', 'BC547CZL1G', '180'),\n",
       " ('BC546-D', 'BC547CZL1G', '200'),\n",
       " ('BC546-D', 'BC548', '180'),\n",
       " ('BC546-D', 'BC548', '200'),\n",
       " ('BC546-D', 'BC548B', '180'),\n",
       " ('BC546-D', 'BC548B', '200'),\n",
       " ('BC546-D', 'BC548BG', '180'),\n",
       " ('BC546-D', 'BC548BG', '200'),\n",
       " ('BC546-D', 'BC548BRL1G', '180'),\n",
       " ('BC546-D', 'BC548BRL1G', '200'),\n",
       " ('BC546-D', 'BC548BZL1G', '180'),\n",
       " ('BC546-D', 'BC548BZL1G', '200'),\n",
       " ('BC546-D', 'BC548C', '180'),\n",
       " ('BC546-D', 'BC548C', '200'),\n",
       " ('BC546-D', 'BC548CG', '180'),\n",
       " ('BC546-D', 'BC548CG', '200'),\n",
       " ('BC546-D', 'BC548CZL1G', '180'),\n",
       " ('BC546-D', 'BC548CZL1G', '200'),\n",
       " ('BC546_DIOTEC', 'BC546', '200'),\n",
       " ('BC546_DIOTEC', 'BC546A', '200'),\n",
       " ('BC546_DIOTEC', 'BC546B', '200'),\n",
       " ('BC546_DIOTEC', 'BC546C', '150'),\n",
       " ('BC546_DIOTEC', 'BC546C', '200'),\n",
       " ('BC546_DIOTEC', 'BC547', '200'),\n",
       " ('BC546_DIOTEC', 'BC547A', '200'),\n",
       " ('BC546_DIOTEC', 'BC547B', '200'),\n",
       " ('BC546_DIOTEC', 'BC547C', '200'),\n",
       " ('BC546_DIOTEC', 'BC548', '200'),\n",
       " ('BC546_DIOTEC', 'BC548A', '200'),\n",
       " ('BC546_DIOTEC', 'BC548B', '200'),\n",
       " ('BC546_DIOTEC', 'BC548C', '200'),\n",
       " ('BC546_DIOTEC', 'BC549', '200'),\n",
       " ('BC546_DIOTEC', 'BC549A', '150'),\n",
       " ('BC546_DIOTEC', 'BC549A', '200'),\n",
       " ('BC546_DIOTEC', 'BC549B', '200'),\n",
       " ('BC546_DIOTEC', 'BC549C', '200'),\n",
       " ('BC546_DIOTEC', 'BC556', '150'),\n",
       " ('BC546_DIOTEC', 'BC556', '200'),\n",
       " ('BC550', 'BC546', '200'),\n",
       " ('BC550', 'BC546A', '200'),\n",
       " ('BC550', 'BC546B', '200'),\n",
       " ('BC550', 'BC546C', '200'),\n",
       " ('BC550', 'BC548', '200'),\n",
       " ('BC550', 'BC548A', '200'),\n",
       " ('BC550', 'BC548B', '200'),\n",
       " ('BC550', 'BC548C', '200'),\n",
       " ('BC550', 'BC549', '200'),\n",
       " ('BC550', 'BC549A', '200'),\n",
       " ('BC550', 'BC549B', '200'),\n",
       " ('BC550', 'BC549C', '200'),\n",
       " ('BC550', 'BC550', '200'),\n",
       " ('BC550', 'BC550A', '200'),\n",
       " ('BC550', 'BC550B', '200'),\n",
       " ('BC550', 'BC550C', '200'),\n",
       " ('BC550', 'BC556', '150'),\n",
       " ('BC550', 'BC556', '200'),\n",
       " ('BC550', 'BC560', '150'),\n",
       " ('BC550', 'BC560', '200'),\n",
       " ('DTC114W', 'DTC114W', '180'),\n",
       " ('DTC114W', 'DTC114W', '200'),\n",
       " ('DTC114W', 'DTC114WE', '180'),\n",
       " ('DTC114W', 'DTC114WE', '200'),\n",
       " ('DTC114W', 'DTC114WKA', '180'),\n",
       " ('DTC114W', 'DTC114WKA', '200'),\n",
       " ('DTC114W', 'DTC114WUA', '180'),\n",
       " ('DTC114W', 'DTC114WUA', '200'),\n",
       " ('RECTS01214-1', 'DTC114ECA', '150'),\n",
       " ('RECTS01214-1', 'DTC114ECA', '200'),\n",
       " ('RECTS01214-1', 'DTC114ECA-1', '150'),\n",
       " ('RECTS01214-1', 'DTC114ECA-1', '200'),\n",
       " ('RECTS01214-1', 'DTC114EUA', '200'),\n",
       " ('RECTS01325-1', 'DTC114YCA', '150'),\n",
       " ('RECTS01325-1', 'DTC114YCA', '200'),\n",
       " ('RECTS01325-1', 'DTC114YCA-1', '150'),\n",
       " ('RECTS01325-1', 'DTC114YCA-1', '200'),\n",
       " ('RECTS01325-1', 'DTC114YUA', '200'),\n",
       " ('UTCLS01324-1', 'MMBT3904', '200'),\n",
       " ('UTCLS01324-1', 'MMBT3904-E', '150'),\n",
       " ('UTCLS01324-1', 'MMBT3904-E', '200'),\n",
       " ('UTCLS01324-1', 'MMBT3904G-AE3-R', '200'),\n",
       " ('UTCLS01324-1', 'MMBT3904G-AL3-R', '200'),\n",
       " ('UTCLS01324-1', 'MMBT3904L-AE3-R', '200'),\n",
       " ('UTCLS01324-1', 'MMBT3904L-AL3-R', '200'),\n",
       " ('UTCLS01324-1', 'MMBT3906', '150'),\n",
       " ('UTCLS01324-1', 'MMBT3906', '200'),\n",
       " ('VSMIS00373-1', 'BC327', '150'),\n",
       " ('VSMIS00373-1', 'BC327', '160'),\n",
       " ('VSMIS00373-1', 'BC327', '170'),\n",
       " ('VSMIS00373-1', 'BC327', '200'),\n",
       " ('VSMIS00373-1', 'BC328', '150'),\n",
       " ('VSMIS00373-1', 'BC328', '160'),\n",
       " ('VSMIS00373-1', 'BC328', '170'),\n",
       " ('VSMIS00373-1', 'BC328', '200'),\n",
       " ('VSMIS00373-1', 'BC337', '160'),\n",
       " ('VSMIS00373-1', 'BC337', '170'),\n",
       " ('VSMIS00373-1', 'BC337', '200'),\n",
       " ('VSMIS00373-1', 'BC337-16', '160'),\n",
       " ('VSMIS00373-1', 'BC337-16', '170'),\n",
       " ('VSMIS00373-1', 'BC337-16', '200'),\n",
       " ('VSMIS00373-1', 'BC337-25', '160'),\n",
       " ('VSMIS00373-1', 'BC337-25', '170'),\n",
       " ('VSMIS00373-1', 'BC337-25', '200'),\n",
       " ('VSMIS00373-1', 'BC337-40', '160'),\n",
       " ('VSMIS00373-1', 'BC337-40', '170'),\n",
       " ('VSMIS00373-1', 'BC337-40', '200'),\n",
       " ('VSMIS00373-1', 'BC338', '160'),\n",
       " ('VSMIS00373-1', 'BC338', '170'),\n",
       " ('VSMIS00373-1', 'BC338', '200'),\n",
       " ('VSMIS00373-1', 'BC338-16', '160'),\n",
       " ('VSMIS00373-1', 'BC338-16', '170'),\n",
       " ('VSMIS00373-1', 'BC338-16', '200'),\n",
       " ('VSMIS00373-1', 'BC338-25', '160'),\n",
       " ('VSMIS00373-1', 'BC338-25', '170'),\n",
       " ('VSMIS00373-1', 'BC338-25', '200'),\n",
       " ('VSMIS00373-1', 'BC338-40', '160'),\n",
       " ('VSMIS00373-1', 'BC338-40', '170'),\n",
       " ('VSMIS00373-1', 'BC338-40', '200'),\n",
       " ('WEITS00252-1', 'BC807', '150'),\n",
       " ('WEITS00252-1', 'BC807', '160'),\n",
       " ('WEITS00252-1', 'BC807-1', '150'),\n",
       " ('WEITS00252-1', 'BC807-1', '160'),\n",
       " ('WEITS00252-1', 'BC807-16', '160'),\n",
       " ('WEITS00252-1', 'BC807-17', '150'),\n",
       " ('WEITS00252-1', 'BC807-17', '160'),\n",
       " ('WEITS00252-1', 'BC807-25', '160'),\n",
       " ('WEITS00252-1', 'BC807-40', '160')]"
      ]
     },
     "execution_count": 38,
     "metadata": {},
     "output_type": "execute_result"
    }
   ],
   "source": [
    "FP"
   ]
  },
  {
   "cell_type": "markdown",
   "metadata": {},
   "source": [
    "We can see that there are actually only a few documents that are causing us problems. In particular, we see that `BC546-D` is giving us many false positives. So, let's inspect one of those candidates. "
   ]
  },
  {
   "cell_type": "code",
   "execution_count": 39,
   "metadata": {},
   "outputs": [
    {
     "data": {
      "image/png": "[encoded data removed]",
      "text/plain": [
       "<wand.image.Image: f18e112 'PDF' (612x792)>"
      ]
     },
     "metadata": {},
     "output_type": "display_data"
    },
    {
     "data": {
      "image/png": "[encoded data removed]",
      "text/plain": [
       "<wand.image.Image: 61ba794 'PDF' (612x792)>"
      ]
     },
     "metadata": {},
     "output_type": "display_data"
    }
   ],
   "source": [
    "from fonduer.utils.visualizer import Visualizer\n",
    "from hardware_utils import entity_to_candidates\n",
    "vis = Visualizer(pdf_path)\n",
    "\n",
    "# Get a list of candidates that match the FN[10] entity\n",
    "fp_cands = entity_to_candidates(FP[10], test_cands[0])\n",
    "# Display a candidate\n",
    "vis.display_candidates([fp_cands[0]])"
   ]
  },
  {
   "cell_type": "markdown",
   "metadata": {},
   "source": [
    "Here, the candidates are boxed in blue. We see that the temperature falls within the range of numbers that our matcher for storage temperature allows to match. By inspecting candidates like this, or just by examining the problematic PDFs directly, we can notice some patterns that we can exploit as new labeling functions."
   ]
  },
  {
   "cell_type": "code",
   "execution_count": 40,
   "metadata": {},
   "outputs": [
    {
     "data": {
      "image/png": "[encoded data removed]",
      "text/plain": [
       "<wand.image.Image: 2434d26 'PDF' (612x792)>"
      ]
     },
     "metadata": {},
     "output_type": "display_data"
    }
   ],
   "source": [
    "# Get a list of candidates that match the FN[10] entity\n",
    "fp_cands = entity_to_candidates(FP[2], test_cands[0])\n",
    "\n",
    "# # Display this candidate\n",
    "vis.display_candidates([fp_cands[0]])"
   ]
  },
  {
   "cell_type": "markdown",
   "metadata": {},
   "source": [
    "## Iteratively Improving Labeling Functions\n",
    "\n",
    "From this error analysis, we may notice two important things. First, our original set of labeling functions had no labeling functions that labeled candidates a negative. This resulted in most skewing the models to accept most candidates, and hurt our precision. Second, we have now noticed that we need to focus on negatively labeling numbers that pass through our storage temperature matchers, but are not related to storage temperature.\n",
    "\n",
    "Below are a set of negative labeling functions that capture some of these patterns. For example, we label candidates an negative if the number is aligned with attributes that are not related to storage temperature, if a candidate represents a typical value, rather than a maximum value, if a temperature value is found outside of a table, and other intuitive patterns we noticed when carefully inspecting our false positives."
   ]
  },
  {
   "cell_type": "code",
   "execution_count": 41,
   "metadata": {},
   "outputs": [],
   "source": [
    "from itertools import chain\n",
    "\n",
    "\n",
    "def LF_test_condition_aligned(c):\n",
    "    return (\n",
    "        FALSE\n",
    "        if overlap([\"test\", \"condition\"], list(get_aligned_ngrams(c.temp)))\n",
    "        else ABSTAIN\n",
    "    )\n",
    "\n",
    "\n",
    "def LF_collector_aligned(c):\n",
    "    return (\n",
    "        FALSE\n",
    "        if overlap(\n",
    "            [\"collector\", \"collector-current\", \"collector-base\", \"collector-emitter\"],\n",
    "            list(get_aligned_ngrams(c.temp)),\n",
    "        )\n",
    "        else ABSTAIN\n",
    "    )\n",
    "\n",
    "\n",
    "def LF_current_aligned(c):\n",
    "    return (\n",
    "        FALSE\n",
    "        if overlap([\"current\", \"dc\", \"ic\"], list(get_aligned_ngrams(c.temp)))\n",
    "        else ABSTAIN\n",
    "    )\n",
    "\n",
    "\n",
    "def LF_voltage_row_temp(c):\n",
    "    return (\n",
    "        FALSE\n",
    "        if overlap(\n",
    "            [\"voltage\", \"cbo\", \"ceo\", \"ebo\", \"v\"], list(get_aligned_ngrams(c.temp))\n",
    "        )\n",
    "        else ABSTAIN\n",
    "    )\n",
    "\n",
    "\n",
    "def LF_voltage_row_part(c):\n",
    "    return (\n",
    "        FALSE\n",
    "        if overlap(\n",
    "            [\"voltage\", \"cbo\", \"ceo\", \"ebo\", \"v\"], list(get_aligned_ngrams(c.temp))\n",
    "        )\n",
    "        else ABSTAIN\n",
    "    )\n",
    "\n",
    "\n",
    "def LF_typ_row(c):\n",
    "    return FALSE if overlap([\"typ\", \"typ.\"], list(get_row_ngrams(c.temp))) else ABSTAIN\n",
    "\n",
    "\n",
    "def LF_complement_left_row(c):\n",
    "    return (\n",
    "        FALSE\n",
    "        if (\n",
    "            overlap(\n",
    "                [\"complement\", \"complementary\"],\n",
    "                chain.from_iterable(\n",
    "                    [get_row_ngrams(c.part), get_left_ngrams(c.part, window=10)]\n",
    "                ),\n",
    "            )\n",
    "        )\n",
    "        else ABSTAIN\n",
    "    )\n",
    "\n",
    "\n",
    "def LF_too_many_numbers_row(c):\n",
    "    num_numbers = list(get_row_ngrams(c.temp, attrib=\"ner_tags\")).count(\"number\")\n",
    "    return FALSE if num_numbers >= 3 else ABSTAIN\n",
    "\n",
    "\n",
    "def LF_temp_on_high_page_num(c):\n",
    "    return FALSE if c.temp.context.get_attrib_tokens(\"page\")[0] > 2 else ABSTAIN\n",
    "\n",
    "\n",
    "def LF_temp_outside_table(c):\n",
    "    return FALSE if not c.temp.context.sentence.is_tabular() is None else ABSTAIN\n",
    "\n",
    "\n",
    "def LF_not_temp_relevant(c):\n",
    "    return (\n",
    "        FALSE\n",
    "        if not overlap(\n",
    "            [\"storage\", \"temperature\", \"tstg\", \"stg\", \"ts\"],\n",
    "            list(get_aligned_ngrams(c.temp)),\n",
    "        )\n",
    "        else ABSTAIN\n",
    "    )"
   ]
  },
  {
   "cell_type": "markdown",
   "metadata": {
    "collapsed": true
   },
   "source": [
    "Then, we can add these to our list of labeling functions"
   ]
  },
  {
   "cell_type": "code",
   "execution_count": 42,
   "metadata": {},
   "outputs": [],
   "source": [
    "stg_temp_lfs_2 = [\n",
    "    LF_test_condition_aligned,\n",
    "    LF_collector_aligned,\n",
    "    LF_current_aligned,\n",
    "    LF_voltage_row_temp,\n",
    "    LF_voltage_row_part,\n",
    "    LF_typ_row,\n",
    "    LF_complement_left_row,\n",
    "    LF_too_many_numbers_row,\n",
    "    LF_temp_on_high_page_num,\n",
    "    LF_temp_outside_table,\n",
    "    LF_not_temp_relevant,\n",
    "]"
   ]
  },
  {
   "cell_type": "markdown",
   "metadata": {},
   "source": [
    "And rerun labeling. Importantly, this time we use the `.update()` function to reflect the fact that we are adding new labeling functions, but do not want to throw away the computations already performed in the previous iteration."
   ]
  },
  {
   "cell_type": "code",
   "execution_count": 43,
   "metadata": {},
   "outputs": [
    {
     "name": "stderr",
     "output_type": "stream",
     "text": [
      "[2019-04-01 21:01:17,221][INFO] fonduer.utils.udf:54 - Running UDF...\n"
     ]
    },
    {
     "data": {
      "application/vnd.jupyter.widget-view+json": {
       "model_id": "4dd90e717b5f4d5b94fae77d68f717de",
       "version_major": 2,
       "version_minor": 0
      },
      "text/plain": [
       "HBox(children=(IntProgress(value=0, max=80), HTML(value='')))"
      ]
     },
     "metadata": {},
     "output_type": "display_data"
    },
    {
     "name": "stdout",
     "output_type": "stream",
     "text": [
      "\n",
      "CPU times: user 1.61 s, sys: 253 ms, total: 1.87 s\n",
      "Wall time: 6min 20s\n",
      "CPU times: user 55.3 s, sys: 2.82 s, total: 58.1 s\n",
      "Wall time: 1min 14s\n",
      "(28935, 16)\n"
     ]
    }
   ],
   "source": [
    "%time labeler.update(split=0, lfs=[stg_temp_lfs_2], parallelism=PARALLEL)\n",
    "%time L_train = labeler.get_label_matrices(train_cands)\n",
    "print(L_train[0].shape)"
   ]
  },
  {
   "cell_type": "code",
   "execution_count": 44,
   "metadata": {},
   "outputs": [
    {
     "data": {
      "text/html": [
       "<div>\n",
       "<style scoped>\n",
       "    .dataframe tbody tr th:only-of-type {\n",
       "        vertical-align: middle;\n",
       "    }\n",
       "\n",
       "    .dataframe tbody tr th {\n",
       "        vertical-align: top;\n",
       "    }\n",
       "\n",
       "    .dataframe thead th {\n",
       "        text-align: right;\n",
       "    }\n",
       "</style>\n",
       "<table border=\"1\" class=\"dataframe\">\n",
       "  <thead>\n",
       "    <tr style=\"text-align: right;\">\n",
       "      <th></th>\n",
       "      <th>j</th>\n",
       "      <th>Polarity</th>\n",
       "      <th>Coverage</th>\n",
       "      <th>Overlaps</th>\n",
       "      <th>Conflicts</th>\n",
       "    </tr>\n",
       "  </thead>\n",
       "  <tbody>\n",
       "    <tr>\n",
       "      <th>LabelKey (LF_collector_aligned)</th>\n",
       "      <td>0</td>\n",
       "      <td>1</td>\n",
       "      <td>0.043200</td>\n",
       "      <td>0.043200</td>\n",
       "      <td>0.000000</td>\n",
       "    </tr>\n",
       "    <tr>\n",
       "      <th>LabelKey (LF_complement_left_row)</th>\n",
       "      <td>1</td>\n",
       "      <td>1</td>\n",
       "      <td>0.009953</td>\n",
       "      <td>0.009953</td>\n",
       "      <td>0.002765</td>\n",
       "    </tr>\n",
       "    <tr>\n",
       "      <th>LabelKey (LF_current_aligned)</th>\n",
       "      <td>2</td>\n",
       "      <td>1</td>\n",
       "      <td>0.303266</td>\n",
       "      <td>0.303266</td>\n",
       "      <td>0.002246</td>\n",
       "    </tr>\n",
       "    <tr>\n",
       "      <th>LabelKey (LF_negative_number_left)</th>\n",
       "      <td>3</td>\n",
       "      <td>2</td>\n",
       "      <td>0.051356</td>\n",
       "      <td>0.051356</td>\n",
       "      <td>0.051356</td>\n",
       "    </tr>\n",
       "    <tr>\n",
       "      <th>LabelKey (LF_not_temp_relevant)</th>\n",
       "      <td>4</td>\n",
       "      <td>1</td>\n",
       "      <td>0.910005</td>\n",
       "      <td>0.910005</td>\n",
       "      <td>0.003767</td>\n",
       "    </tr>\n",
       "    <tr>\n",
       "      <th>LabelKey (LF_operating_row)</th>\n",
       "      <td>5</td>\n",
       "      <td>2</td>\n",
       "      <td>0.032072</td>\n",
       "      <td>0.032072</td>\n",
       "      <td>0.032072</td>\n",
       "    </tr>\n",
       "    <tr>\n",
       "      <th>LabelKey (LF_storage_row)</th>\n",
       "      <td>6</td>\n",
       "      <td>2</td>\n",
       "      <td>0.063522</td>\n",
       "      <td>0.063522</td>\n",
       "      <td>0.063522</td>\n",
       "    </tr>\n",
       "    <tr>\n",
       "      <th>LabelKey (LF_temperature_row)</th>\n",
       "      <td>7</td>\n",
       "      <td>2</td>\n",
       "      <td>0.086504</td>\n",
       "      <td>0.086504</td>\n",
       "      <td>0.086504</td>\n",
       "    </tr>\n",
       "    <tr>\n",
       "      <th>LabelKey (LF_temp_on_high_page_num)</th>\n",
       "      <td>8</td>\n",
       "      <td>1</td>\n",
       "      <td>0.331260</td>\n",
       "      <td>0.331260</td>\n",
       "      <td>0.005461</td>\n",
       "    </tr>\n",
       "    <tr>\n",
       "      <th>LabelKey (LF_temp_outside_table)</th>\n",
       "      <td>9</td>\n",
       "      <td>1</td>\n",
       "      <td>1.000000</td>\n",
       "      <td>1.000000</td>\n",
       "      <td>0.093174</td>\n",
       "    </tr>\n",
       "    <tr>\n",
       "      <th>LabelKey (LF_test_condition_aligned)</th>\n",
       "      <td>10</td>\n",
       "      <td>1</td>\n",
       "      <td>0.000138</td>\n",
       "      <td>0.000138</td>\n",
       "      <td>0.000069</td>\n",
       "    </tr>\n",
       "    <tr>\n",
       "      <th>LabelKey (LF_to_left)</th>\n",
       "      <td>11</td>\n",
       "      <td>2</td>\n",
       "      <td>0.056575</td>\n",
       "      <td>0.056575</td>\n",
       "      <td>0.056575</td>\n",
       "    </tr>\n",
       "    <tr>\n",
       "      <th>LabelKey (LF_tstg_row)</th>\n",
       "      <td>12</td>\n",
       "      <td>2</td>\n",
       "      <td>0.063522</td>\n",
       "      <td>0.063522</td>\n",
       "      <td>0.063522</td>\n",
       "    </tr>\n",
       "    <tr>\n",
       "      <th>LabelKey (LF_typ_row)</th>\n",
       "      <td>13</td>\n",
       "      <td>1</td>\n",
       "      <td>0.002004</td>\n",
       "      <td>0.002004</td>\n",
       "      <td>0.000000</td>\n",
       "    </tr>\n",
       "    <tr>\n",
       "      <th>LabelKey (LF_voltage_row_part)</th>\n",
       "      <td>14</td>\n",
       "      <td>1</td>\n",
       "      <td>0.203076</td>\n",
       "      <td>0.203076</td>\n",
       "      <td>0.009884</td>\n",
       "    </tr>\n",
       "    <tr>\n",
       "      <th>LabelKey (LF_voltage_row_temp)</th>\n",
       "      <td>15</td>\n",
       "      <td>1</td>\n",
       "      <td>0.203076</td>\n",
       "      <td>0.203076</td>\n",
       "      <td>0.009884</td>\n",
       "    </tr>\n",
       "  </tbody>\n",
       "</table>\n",
       "</div>"
      ],
      "text/plain": [
       "                                       j  Polarity  Coverage  Overlaps  \\\n",
       "LabelKey (LF_collector_aligned)        0         1  0.043200  0.043200   \n",
       "LabelKey (LF_complement_left_row)      1         1  0.009953  0.009953   \n",
       "LabelKey (LF_current_aligned)          2         1  0.303266  0.303266   \n",
       "LabelKey (LF_negative_number_left)     3         2  0.051356  0.051356   \n",
       "LabelKey (LF_not_temp_relevant)        4         1  0.910005  0.910005   \n",
       "LabelKey (LF_operating_row)            5         2  0.032072  0.032072   \n",
       "LabelKey (LF_storage_row)              6         2  0.063522  0.063522   \n",
       "LabelKey (LF_temperature_row)          7         2  0.086504  0.086504   \n",
       "LabelKey (LF_temp_on_high_page_num)    8         1  0.331260  0.331260   \n",
       "LabelKey (LF_temp_outside_table)       9         1  1.000000  1.000000   \n",
       "LabelKey (LF_test_condition_aligned)  10         1  0.000138  0.000138   \n",
       "LabelKey (LF_to_left)                 11         2  0.056575  0.056575   \n",
       "LabelKey (LF_tstg_row)                12         2  0.063522  0.063522   \n",
       "LabelKey (LF_typ_row)                 13         1  0.002004  0.002004   \n",
       "LabelKey (LF_voltage_row_part)        14         1  0.203076  0.203076   \n",
       "LabelKey (LF_voltage_row_temp)        15         1  0.203076  0.203076   \n",
       "\n",
       "                                      Conflicts  \n",
       "LabelKey (LF_collector_aligned)        0.000000  \n",
       "LabelKey (LF_complement_left_row)      0.002765  \n",
       "LabelKey (LF_current_aligned)          0.002246  \n",
       "LabelKey (LF_negative_number_left)     0.051356  \n",
       "LabelKey (LF_not_temp_relevant)        0.003767  \n",
       "LabelKey (LF_operating_row)            0.032072  \n",
       "LabelKey (LF_storage_row)              0.063522  \n",
       "LabelKey (LF_temperature_row)          0.086504  \n",
       "LabelKey (LF_temp_on_high_page_num)    0.005461  \n",
       "LabelKey (LF_temp_outside_table)       0.093174  \n",
       "LabelKey (LF_test_condition_aligned)   0.000069  \n",
       "LabelKey (LF_to_left)                  0.056575  \n",
       "LabelKey (LF_tstg_row)                 0.063522  \n",
       "LabelKey (LF_typ_row)                  0.000000  \n",
       "LabelKey (LF_voltage_row_part)         0.009884  \n",
       "LabelKey (LF_voltage_row_temp)         0.009884  "
      ]
     },
     "execution_count": 44,
     "metadata": {},
     "output_type": "execute_result"
    }
   ],
   "source": [
    "analysis.lf_summary(L_train[0], lf_names=labeler.get_keys())"
   ]
  },
  {
   "cell_type": "markdown",
   "metadata": {},
   "source": [
    "Now, we can rerun probablistic relation classification, the same way we did above. We start with the generative model."
   ]
  },
  {
   "cell_type": "code",
   "execution_count": 45,
   "metadata": {},
   "outputs": [
    {
     "name": "stdout",
     "output_type": "stream",
     "text": [
      "Computing O...\n",
      "Estimating \\mu...\n",
      "[1 epo]: TRAIN:[loss=1.967]\n",
      "[2 epo]: TRAIN:[loss=1.874]\n",
      "[3 epo]: TRAIN:[loss=1.700]\n",
      "[4 epo]: TRAIN:[loss=1.464]\n",
      "[5 epo]: TRAIN:[loss=1.189]\n",
      "[6 epo]: TRAIN:[loss=0.904]\n",
      "[7 epo]: TRAIN:[loss=0.644]\n",
      "[8 epo]: TRAIN:[loss=0.443]\n",
      "[9 epo]: TRAIN:[loss=0.328]\n",
      "[10 epo]: TRAIN:[loss=0.308]\n",
      "[11 epo]: TRAIN:[loss=0.366]\n",
      "[12 epo]: TRAIN:[loss=0.465]\n",
      "[13 epo]: TRAIN:[loss=0.555]\n",
      "[14 epo]: TRAIN:[loss=0.599]\n",
      "[15 epo]: TRAIN:[loss=0.583]\n",
      "[16 epo]: TRAIN:[loss=0.517]\n",
      "[17 epo]: TRAIN:[loss=0.429]\n",
      "[18 epo]: TRAIN:[loss=0.348]\n",
      "[19 epo]: TRAIN:[loss=0.291]\n",
      "[20 epo]: TRAIN:[loss=0.264]\n",
      "[21 epo]: TRAIN:[loss=0.263]\n",
      "[22 epo]: TRAIN:[loss=0.276]\n",
      "[23 epo]: TRAIN:[loss=0.294]\n",
      "[24 epo]: TRAIN:[loss=0.306]\n",
      "[25 epo]: TRAIN:[loss=0.309]\n",
      "[26 epo]: TRAIN:[loss=0.300]\n",
      "[27 epo]: TRAIN:[loss=0.282]\n",
      "[28 epo]: TRAIN:[loss=0.257]\n",
      "[29 epo]: TRAIN:[loss=0.230]\n",
      "[30 epo]: TRAIN:[loss=0.207]\n",
      "[31 epo]: TRAIN:[loss=0.190]\n",
      "[32 epo]: TRAIN:[loss=0.182]\n",
      "[33 epo]: TRAIN:[loss=0.181]\n",
      "[34 epo]: TRAIN:[loss=0.186]\n",
      "[35 epo]: TRAIN:[loss=0.192]\n",
      "[36 epo]: TRAIN:[loss=0.197]\n",
      "[37 epo]: TRAIN:[loss=0.197]\n",
      "[38 epo]: TRAIN:[loss=0.193]\n",
      "[39 epo]: TRAIN:[loss=0.184]\n",
      "[40 epo]: TRAIN:[loss=0.173]\n",
      "[41 epo]: TRAIN:[loss=0.162]\n",
      "[42 epo]: TRAIN:[loss=0.153]\n",
      "[43 epo]: TRAIN:[loss=0.146]\n",
      "[44 epo]: TRAIN:[loss=0.143]\n",
      "[45 epo]: TRAIN:[loss=0.142]\n",
      "[46 epo]: TRAIN:[loss=0.143]\n",
      "[47 epo]: TRAIN:[loss=0.143]\n",
      "[48 epo]: TRAIN:[loss=0.144]\n",
      "[49 epo]: TRAIN:[loss=0.143]\n",
      "[50 epo]: TRAIN:[loss=0.140]\n",
      "[51 epo]: TRAIN:[loss=0.137]\n",
      "[52 epo]: TRAIN:[loss=0.133]\n",
      "[53 epo]: TRAIN:[loss=0.130]\n",
      "[54 epo]: TRAIN:[loss=0.127]\n",
      "[55 epo]: TRAIN:[loss=0.124]\n",
      "[56 epo]: TRAIN:[loss=0.123]\n",
      "[57 epo]: TRAIN:[loss=0.122]\n",
      "[58 epo]: TRAIN:[loss=0.121]\n",
      "[59 epo]: TRAIN:[loss=0.121]\n",
      "[60 epo]: TRAIN:[loss=0.121]\n",
      "[61 epo]: TRAIN:[loss=0.120]\n",
      "[62 epo]: TRAIN:[loss=0.119]\n",
      "[63 epo]: TRAIN:[loss=0.118]\n",
      "[64 epo]: TRAIN:[loss=0.117]\n",
      "[65 epo]: TRAIN:[loss=0.116]\n",
      "[66 epo]: TRAIN:[loss=0.115]\n",
      "[67 epo]: TRAIN:[loss=0.114]\n",
      "[68 epo]: TRAIN:[loss=0.114]\n",
      "[69 epo]: TRAIN:[loss=0.114]\n",
      "[70 epo]: TRAIN:[loss=0.114]\n",
      "[71 epo]: TRAIN:[loss=0.113]\n",
      "[72 epo]: TRAIN:[loss=0.113]\n",
      "[73 epo]: TRAIN:[loss=0.113]\n",
      "[74 epo]: TRAIN:[loss=0.112]\n",
      "[75 epo]: TRAIN:[loss=0.112]\n",
      "[76 epo]: TRAIN:[loss=0.111]\n",
      "[77 epo]: TRAIN:[loss=0.111]\n",
      "[78 epo]: TRAIN:[loss=0.110]\n",
      "[79 epo]: TRAIN:[loss=0.110]\n",
      "[80 epo]: TRAIN:[loss=0.110]\n",
      "[81 epo]: TRAIN:[loss=0.110]\n",
      "[82 epo]: TRAIN:[loss=0.109]\n",
      "[83 epo]: TRAIN:[loss=0.109]\n",
      "[84 epo]: TRAIN:[loss=0.109]\n",
      "[85 epo]: TRAIN:[loss=0.109]\n",
      "[86 epo]: TRAIN:[loss=0.108]\n",
      "[87 epo]: TRAIN:[loss=0.108]\n",
      "[88 epo]: TRAIN:[loss=0.108]\n",
      "[89 epo]: TRAIN:[loss=0.108]\n",
      "[90 epo]: TRAIN:[loss=0.107]\n",
      "[91 epo]: TRAIN:[loss=0.107]\n",
      "[92 epo]: TRAIN:[loss=0.107]\n",
      "[93 epo]: TRAIN:[loss=0.107]\n",
      "[94 epo]: TRAIN:[loss=0.107]\n",
      "[95 epo]: TRAIN:[loss=0.107]\n",
      "[96 epo]: TRAIN:[loss=0.106]\n",
      "[97 epo]: TRAIN:[loss=0.106]\n",
      "[98 epo]: TRAIN:[loss=0.106]\n",
      "[99 epo]: TRAIN:[loss=0.106]\n",
      "[100 epo]: TRAIN:[loss=0.106]\n",
      "Finished Training\n",
      "CPU times: user 338 ms, sys: 126 ms, total: 465 ms\n",
      "Wall time: 300 ms\n"
     ]
    },
    {
     "data": {
      "image/png": "[encoded data removed]",
      "text/plain": [
       "<Figure size 432x288 with 1 Axes>"
      ]
     },
     "metadata": {
      "needs_background": "light"
     },
     "output_type": "display_data"
    }
   ],
   "source": [
    "gen_model = LabelModel(k=2)\n",
    "%time gen_model.train_model(L_train[0], epochs=500, print_every=100)\n",
    "train_marginals = gen_model.predict_proba(L_train[0])\n",
    "plt.hist(train_marginals[:, TRUE - 1], bins=20)\n",
    "plt.show()"
   ]
  },
  {
   "cell_type": "markdown",
   "metadata": {},
   "source": [
    "Next, we rerun the discriminitive model and see that our score has improved significantly to about 80 F1 points."
   ]
  },
  {
   "cell_type": "code",
   "execution_count": 46,
   "metadata": {},
   "outputs": [
    {
     "name": "stderr",
     "output_type": "stream",
     "text": [
      "[2019-04-01 21:08:52,323][INFO] fonduer.learning.classifier:98 - Loading default parameters for Logistic Regression\n",
      "[2019-04-01 21:08:58,605][INFO] fonduer.learning.classifier:215 - Settings: {'log_dir': 'logs/2019-04-01_20-41-02/2019-04-01_21-08-52_LogisticRegression', 'n_epochs': 50, 'lr': 0.001, 'batch_size': 256, 'shuffle': True, 'seed': 1234, 'host_device': 'CPU', 'bias': False, 'input_dim': 24602}\n",
      "[2019-04-01 21:08:58,607][INFO] fonduer.learning.classifier:233 - [LogisticRegression] Training model\n",
      "[2019-04-01 21:08:58,609][INFO] fonduer.learning.classifier:235 - [LogisticRegression] n_train=28935 #epochs=50 batch size=256\n",
      "[2019-04-01 21:13:47,880][INFO] fonduer.learning.classifier:289 - [LogisticRegression] Epoch 5 (289.27s)\tAverage loss=0.389215\n",
      "[2019-04-01 21:13:47,881][INFO] fonduer.learning.classifier:516 - [LogisticRegression] Model saved as checkpoint_epoch_5.pt in logs/2019-04-01_20-41-02/2019-04-01_21-08-52_LogisticRegression\n",
      "[2019-04-01 21:18:32,837][INFO] fonduer.learning.classifier:289 - [LogisticRegression] Epoch 10 (574.23s)\tAverage loss=0.390036\n",
      "[2019-04-01 21:18:32,842][INFO] fonduer.learning.classifier:516 - [LogisticRegression] Model saved as checkpoint_epoch_10.pt in logs/2019-04-01_20-41-02/2019-04-01_21-08-52_LogisticRegression\n",
      "[2019-04-01 21:23:04,812][INFO] fonduer.learning.classifier:289 - [LogisticRegression] Epoch 15 (846.20s)\tAverage loss=0.389408\n",
      "[2019-04-01 21:23:04,813][INFO] fonduer.learning.classifier:516 - [LogisticRegression] Model saved as checkpoint_epoch_15.pt in logs/2019-04-01_20-41-02/2019-04-01_21-08-52_LogisticRegression\n",
      "[2019-04-01 21:27:01,952][INFO] fonduer.learning.classifier:289 - [LogisticRegression] Epoch 20 (1083.34s)\tAverage loss=0.388204\n",
      "[2019-04-01 21:27:01,953][INFO] fonduer.learning.classifier:516 - [LogisticRegression] Model saved as checkpoint_epoch_20.pt in logs/2019-04-01_20-41-02/2019-04-01_21-08-52_LogisticRegression\n",
      "[2019-04-01 21:31:04,600][INFO] fonduer.learning.classifier:289 - [LogisticRegression] Epoch 25 (1325.99s)\tAverage loss=0.389589\n",
      "[2019-04-01 21:31:04,601][INFO] fonduer.learning.classifier:516 - [LogisticRegression] Model saved as checkpoint_epoch_25.pt in logs/2019-04-01_20-41-02/2019-04-01_21-08-52_LogisticRegression\n",
      "[2019-04-01 21:35:01,534][INFO] fonduer.learning.classifier:289 - [LogisticRegression] Epoch 30 (1562.93s)\tAverage loss=0.387920\n",
      "[2019-04-01 21:35:01,536][INFO] fonduer.learning.classifier:516 - [LogisticRegression] Model saved as checkpoint_epoch_30.pt in logs/2019-04-01_20-41-02/2019-04-01_21-08-52_LogisticRegression\n",
      "[2019-04-01 21:39:00,669][INFO] fonduer.learning.classifier:289 - [LogisticRegression] Epoch 35 (1802.06s)\tAverage loss=0.389325\n",
      "[2019-04-01 21:39:00,670][INFO] fonduer.learning.classifier:516 - [LogisticRegression] Model saved as checkpoint_epoch_35.pt in logs/2019-04-01_20-41-02/2019-04-01_21-08-52_LogisticRegression\n",
      "[2019-04-01 21:43:00,667][INFO] fonduer.learning.classifier:289 - [LogisticRegression] Epoch 40 (2042.06s)\tAverage loss=0.388927\n",
      "[2019-04-01 21:43:00,668][INFO] fonduer.learning.classifier:516 - [LogisticRegression] Model saved as checkpoint_epoch_40.pt in logs/2019-04-01_20-41-02/2019-04-01_21-08-52_LogisticRegression\n",
      "[2019-04-01 21:46:56,897][INFO] fonduer.learning.classifier:289 - [LogisticRegression] Epoch 45 (2278.29s)\tAverage loss=0.388934\n",
      "[2019-04-01 21:46:56,899][INFO] fonduer.learning.classifier:516 - [LogisticRegression] Model saved as checkpoint_epoch_45.pt in logs/2019-04-01_20-41-02/2019-04-01_21-08-52_LogisticRegression\n",
      "[2019-04-01 21:50:55,539][INFO] fonduer.learning.classifier:289 - [LogisticRegression] Epoch 50 (2516.93s)\tAverage loss=0.389334\n",
      "[2019-04-01 21:50:55,541][INFO] fonduer.learning.classifier:516 - [LogisticRegression] Model saved as checkpoint_epoch_50.pt in logs/2019-04-01_20-41-02/2019-04-01_21-08-52_LogisticRegression\n",
      "[2019-04-01 21:50:55,543][INFO] fonduer.learning.classifier:317 - Saving final model as best checkpoint logs/2019-04-01_20-41-02/2019-04-01_21-08-52_LogisticRegression/checkpoint_epoch_50.pt.\n",
      "[2019-04-01 21:50:55,552][INFO] fonduer.learning.classifier:327 - [LogisticRegression] Training done (2516.94s)\n",
      "[2019-04-01 21:50:55,553][INFO] fonduer.learning.classifier:330 - Loading best checkpoint\n",
      "[2019-04-01 21:50:55,555][INFO] fonduer.learning.classifier:546 - [LogisticRegression] Model loaded as best_model.pt in logs/2019-04-01_20-41-02/2019-04-01_21-08-52_LogisticRegression\n"
     ]
    },
    {
     "name": "stdout",
     "output_type": "stream",
     "text": [
      "CPU times: user 45min 55s, sys: 12.1 s, total: 46min 7s\n",
      "Wall time: 42min 3s\n"
     ]
    }
   ],
   "source": [
    "disc_model = LogisticRegression()\n",
    "%time disc_model.train((train_cands[0], F_train[0]), train_marginals, n_epochs=50, lr=0.001)"
   ]
  },
  {
   "cell_type": "code",
   "execution_count": 47,
   "metadata": {},
   "outputs": [
    {
     "name": "stderr",
     "output_type": "stream",
     "text": [
      "[2019-04-01 21:50:59,316][INFO] fonduer.learning.classifier:403 - Using positive label class 2 with threshold 0.6\n"
     ]
    },
    {
     "name": "stdout",
     "output_type": "stream",
     "text": [
      "Preparing candidates...\n"
     ]
    },
    {
     "data": {
      "application/vnd.jupyter.widget-view+json": {
       "model_id": "1f2ec4092d974109bd2a5566dfea259d",
       "version_major": 2,
       "version_minor": 0
      },
      "text/plain": [
       "HBox(children=(IntProgress(value=0, max=222), HTML(value='')))"
      ]
     },
     "metadata": {},
     "output_type": "display_data"
    },
    {
     "name": "stdout",
     "output_type": "stream",
     "text": [
      "\n",
      "========================================\n",
      "Scoring on Entity-Level Gold Data\n",
      "========================================\n",
      "Corpus Precision 0.83\n",
      "Corpus Recall    0.94\n",
      "Corpus F1        0.881\n",
      "----------------------------------------\n",
      "TP: 78 | FP: 16 | FN: 5\n",
      "========================================\n",
      "\n",
      "CPU times: user 968 ms, sys: 40.3 ms, total: 1.01 s\n",
      "Wall time: 1.23 s\n"
     ]
    }
   ],
   "source": [
    "test_score = disc_model.predict((test_cands[0], F_test[0]), b=0.6, pos_label=TRUE)\n",
    "true_pred = [test_cands[0][_] for _ in np.nditer(np.where(test_score == TRUE))]\n",
    "%time (TP, FP, FN) = entity_level_f1(true_pred, gold_file, ATTRIBUTE, test_docs, parts_by_doc=parts_by_doc)"
   ]
  },
  {
   "cell_type": "markdown",
   "metadata": {},
   "source": [
    "Using these new LFs, we've significantly improved precision and lowered our number of false positives for an F1 score of about 80."
   ]
  }
 ],
 "metadata": {
  "anaconda-cloud": {},
  "kernelspec": {
   "display_name": "Python 3",
   "language": "python",
   "name": "python3"
  },
  "language_info": {
   "codemirror_mode": {
    "name": "ipython",
    "version": 3
   },
   "file_extension": ".py",
   "mimetype": "text/x-python",
   "name": "python",
   "nbconvert_exporter": "python",
   "pygments_lexer": "ipython3",
   "version": "3.6.5"
  }
 },
 "nbformat": 4,
 "nbformat_minor": 1
}
