{
 "cells": [
  {
   "cell_type": "markdown",
   "metadata": {},
   "source": [
    "# Tutorial: Extracting Maximum Storage Temperatures for Transistors from PDF Datasheets"
   ]
  },
  {
   "cell_type": "markdown",
   "metadata": {},
   "source": [
    "# Introduction\n",
    "\n",
    "We will walk through the process of using `Fonduer` to extract relations from [**richly formatted** data](https://hazyresearch.github.io/snorkel/blog/fonduer.html), where information is conveyed via combinations of textual, structural, tabular, and visual expressions, as seen in webpages, business reports, product specifications, and scientific literature.\n",
    "\n",
    "In this tutorial, we use `Fonduer` to identify mentions of the maximum storage temperature of transistors (e.g. `150°C`) in a corpus of transistor datasheets from [Digikey.com](https://www.digikey.com/products/en/discrete-semiconductor-products/transistors-bipolar-bjt-single/276).\n",
    "\n",
    "The tutorial is broken into several parts, each covering a phase of the `Fonduer` pipeline (as outlined in the [paper](https://arxiv.org/abs/1703.05028)), and the iterative KBC process:\n",
    "\n",
    "1. KBC Initialization\n",
    "2. Candidate Generation and Multimodal Featurization\n",
    "3. Probabilistic Relation Classification\n",
    "4. Error Analysis and Iterative KBC\n",
    "\n",
    "In addition, we show how users can iteratively improve labeling functions to improve relation extraction quality.\n",
    "\n",
    "# Phase 1: KBC Initialization\n",
    "\n",
    "In this first phase of `Fonduer`'s pipeline, `Fonduer` uses a user-specified _schema_ to initialize a relational database where the output KB will be stored. Furthermore, `Fonduer` iterates over its input _corpus_ and transforms each document into a unified data model, which captures the variability and multimodality of richly formatted data. This unified data model then serves as an intermediate representation used in the rest of the phases.\n",
    "\n",
    "This preprocessed data is saved to a database. The connection string to the database is provided to the `Meta` object, which will initialize a PostgreSQL database for parallel execution.\n",
    "\n",
    "We initialize several variables for convenience that define what the database should be called and what level of parallelization the `Fonduer` pipeline will be run with.\n",
    "\n",
    "If you're running this tutorial interactively on your own machine, you'll need to create a new PostgreSQL database named `stg_temp_max`.\n",
    "\n",
    "If you already have the database `stg_temp_max` in your postgresql, please uncomment the first line to drop it."
   ]
  },
  {
   "cell_type": "code",
   "execution_count": 1,
   "metadata": {},
   "outputs": [
    {
     "name": "stdout",
     "output_type": "stream",
     "text": [
      "createdb: database creation failed: ERROR:  database \"stg_temp_max\" already exists\r\n"
     ]
    }
   ],
   "source": [
    "#! dropdb --if-exists stg_temp_max\n",
    "! createdb stg_temp_max"
   ]
  },
  {
   "cell_type": "code",
   "execution_count": 2,
   "metadata": {},
   "outputs": [],
   "source": [
    "%load_ext autoreload\n",
    "%autoreload 2\n",
    "%matplotlib inline\n",
    "import os\n",
    "import sys\n",
    "import logging"
   ]
  },
  {
   "cell_type": "code",
   "execution_count": 3,
   "metadata": {
    "scrolled": false
   },
   "outputs": [],
   "source": [
    "PARALLEL = 4  # assuming a quad-core machine\n",
    "ATTRIBUTE = \"stg_temp_max\"\n",
    "conn_string = 'postgresql://localhost:5432/' + ATTRIBUTE"
   ]
  },
  {
   "cell_type": "markdown",
   "metadata": {},
   "source": [
    "## 1.1 Parsing and Transforming the Input Documents into Unified Data Models\n",
    "\n",
    "We first initialize a `Meta` object, which manages the connection to the database automatically, and enables us to save intermediate results."
   ]
  },
  {
   "cell_type": "code",
   "execution_count": 4,
   "metadata": {
    "scrolled": false
   },
   "outputs": [
    {
     "name": "stderr",
     "output_type": "stream",
     "text": [
      "[2020-04-20 20:53:42,483][INFO] fonduer.meta:51 - Setting logging directory to: logs/2020-04-20_20-53-42\n",
      "[2020-04-20 20:53:42,556][INFO] fonduer.meta:135 - Connecting user:senwu to localhost:5433/stg_temp_max\n",
      "[2020-04-20 20:53:43,865][INFO] fonduer.meta:162 - Initializing the storage schema\n"
     ]
    }
   ],
   "source": [
    "from fonduer import Meta, init_logging\n",
    "\n",
    "# Configure logging for Fonduer\n",
    "init_logging(log_dir=\"logs\")\n",
    "\n",
    "session = Meta.init(conn_string).Session()"
   ]
  },
  {
   "cell_type": "markdown",
   "metadata": {},
   "source": [
    "Next, we load the corpus of datasheets and transform them into the unified data model. Each datasheet has a PDF and HTML representation (in this example, the HTML is created using Adobe Acrobat). Both representations are used in conjunction to create a robust unified data model with textual, structural, tabular, and visual modality information. Note that since each document is independent of each other, we can parse the documents in parallel. We depend on PostgreSQL for this functionality.\n",
    "\n",
    "### Configuring an `HTMLDocPreprocessor`\n",
    "We start by setting the paths to where our documents are stored, and defining a `HTMLDocPreprocessor` to read in the documents found in the specified paths. `max_docs` specified the number of documents to parse. For the sake of this tutorial, we only look at 100 documents.\n",
    "\n",
    "**Note that you need to have run `download_data.sh` before executing these next steps or you won't have the documents needed for the tutorial.**"
   ]
  },
  {
   "cell_type": "code",
   "execution_count": 5,
   "metadata": {},
   "outputs": [],
   "source": [
    "from fonduer.parser.preprocessors import HTMLDocPreprocessor\n",
    "from fonduer.parser import Parser\n",
    "\n",
    "docs_path = 'data/html/'\n",
    "pdf_path = 'data/pdf/'\n",
    "\n",
    "max_docs = 100\n",
    "doc_preprocessor = HTMLDocPreprocessor(docs_path, max_docs=max_docs)"
   ]
  },
  {
   "cell_type": "markdown",
   "metadata": {},
   "source": [
    "### Configuring a `Parser`\n",
    "Next, we configure a `Parser`, which serves as our `CorpusParser` for PDF documents. We use [spaCy](https://spacy.io/) as a preprocessing tool to split our documents into sentences and tokens, and to provide annotations such as part-of-speech tags and dependency parse structures for these sentences. In addition, we can specify which modality information to include in the unified data model for each document. Below, we enable all modality information."
   ]
  },
  {
   "cell_type": "code",
   "execution_count": 6,
   "metadata": {
    "scrolled": false
   },
   "outputs": [
    {
     "name": "stderr",
     "output_type": "stream",
     "text": [
      "[2020-04-20 20:59:58,615][INFO] fonduer.utils.udf:69 - Running UDF...\n"
     ]
    },
    {
     "data": {
      "application/vnd.jupyter.widget-view+json": {
       "model_id": "e0c6ab3436e2416fa382bd3973bdccf0",
       "version_major": 2,
       "version_minor": 0
      },
      "text/plain": [
       "HBox(children=(FloatProgress(value=0.0), HTML(value='')))"
      ]
     },
     "metadata": {},
     "output_type": "display_data"
    },
    {
     "name": "stdout",
     "output_type": "stream",
     "text": [
      "\n",
      "CPU times: user 34.6 s, sys: 1.3 s, total: 35.9 s\n",
      "Wall time: 18min 23s\n"
     ]
    }
   ],
   "source": [
    "corpus_parser = Parser(session, structural=True, lingual=True, visual=True, pdf_path=pdf_path)\n",
    "%time corpus_parser.apply(doc_preprocessor, parallelism=PARALLEL)"
   ]
  },
  {
   "cell_type": "markdown",
   "metadata": {},
   "source": [
    "We can then use simple database queries (written in the syntax of [SQLAlchemy](http://www.sqlalchemy.org/), which `Fonduer` uses) to check how many documents and sentences were parsed, or even check how many sentences are contained in each document."
   ]
  },
  {
   "cell_type": "code",
   "execution_count": 7,
   "metadata": {
    "scrolled": false
   },
   "outputs": [
    {
     "name": "stdout",
     "output_type": "stream",
     "text": [
      "Documents: 100\n",
      "Sentences: 43803\n"
     ]
    }
   ],
   "source": [
    "from fonduer.parser.models import Document, Sentence\n",
    "\n",
    "print(f\"Documents: {session.query(Document).count()}\")\n",
    "print(f\"Sentences: {session.query(Sentence).count()}\")"
   ]
  },
  {
   "cell_type": "markdown",
   "metadata": {},
   "source": [
    "## 1.2 Dividing the Corpus into Test and Train\n",
    "\n",
    "We'll split the documents 80/10/10 into train/dev/test splits. Note that here we do this in a non-random order to preserve the consistency in the tutorial, and we reference the splits by 0/1/2 respectively."
   ]
  },
  {
   "cell_type": "code",
   "execution_count": 8,
   "metadata": {},
   "outputs": [
    {
     "name": "stdout",
     "output_type": "stream",
     "text": [
      "['BournsInc_TIP152S',\n",
      " 'MINDS00015-1',\n",
      " 'DIODS00215-1',\n",
      " '112823',\n",
      " 'CentralSemiconductorCorp_CENU45',\n",
      " 'MicrosemiCorporation_2N2484UB',\n",
      " 'Infineon-BC857SERIES_BC858SERIES_BC859SERIES_BC860SERIES-DS-v01_01-en',\n",
      " 'BournsInc_BD246BS',\n",
      " '2N4123-D',\n",
      " 'MicroCommercialCo_TIP29ABP',\n",
      " '2N3906',\n",
      " 'DISES00490-1',\n",
      " 'MicroCommercialCo_2N3904AP',\n",
      " 'DISES00645-1',\n",
      " 'DISES00616-1',\n",
      " 'MCCCS09741-1',\n",
      " 'DiodesIncorporated_FZT651TC',\n",
      " 'MCCCS09540-1',\n",
      " 'DiodesIncorporated_FCX491ATA',\n",
      " 'PHGLS20267-1',\n",
      " 'AUKCS04635-1',\n",
      " 'CentralSemiconductorCorp_CMPT5401ETR',\n",
      " 'FAIRS25065-1',\n",
      " '2N6427',\n",
      " 'MCCCS08984-1',\n",
      " 'MCCCS08818-1',\n",
      " 'BC182-D',\n",
      " 'PHGLS19500-1',\n",
      " '2N6426-D',\n",
      " 'DISES00242-1',\n",
      " 'MCCCS08610-1',\n",
      " 'KECCS05435-1',\n",
      " 'Infineon-BC817KSERIES_BC818KSERIES-DS-v01_01-en',\n",
      " 'LTSCS02920-1',\n",
      " 'CentralSemiconductorCorp_CXT4033TR',\n",
      " 'ONSMS04099-1',\n",
      " 'BC818',\n",
      " 'DiodesIncorporated_ZTX953STZ',\n",
      " 'DiodesIncorporated_ZXT690BKTC',\n",
      " 'CSEMS02742-1',\n",
      " 'LTSCS02910-1',\n",
      " 'KECCS03676-1',\n",
      " 'ONSemiconductor_MMBT6521LT1',\n",
      " 'LITES00686-1',\n",
      " 'BC337-D',\n",
      " 'LITES00690-1',\n",
      " 'DiodesIncorporated_ZTX688BSTZ',\n",
      " 'NXPUSAInc_PBSS5360PASX',\n",
      " 'DiodesIncorporated_ZTX789ASTZ',\n",
      " 'MMBT3904',\n",
      " 'DiodesIncorporated_2DD26527',\n",
      " 'DISES00192-1',\n",
      " 'LITES00689-1',\n",
      " 'CSEMS05383-1',\n",
      " 'MOTOS04796-1',\n",
      " 'BC546A_Series_B14-521026',\n",
      " 'DISES00189-1',\n",
      " 'LTSCS02912-1',\n",
      " 'MOTOS04676-1',\n",
      " 'BC547',\n",
      " 'BC337',\n",
      " 'BC546-BC548C(TO-92)',\n",
      " 'DISES00023-1',\n",
      " 'DIODS13249-1',\n",
      " 'MOTOS03189-1',\n",
      " 'CSEMS05382-1',\n",
      " 'LITES00424-1',\n",
      " 'CentralSemiconductorCorp_2N4013',\n",
      " 'MOTOS03160-1',\n",
      " '2N4124',\n",
      " 'CSEMS03485-1',\n",
      " 'JCSTS01155-1',\n",
      " 'BC818-40LT1-D',\n",
      " 'MMMCS17742-1',\n",
      " '2N3906-D',\n",
      " 'INFNS19372-1',\n",
      " 'FAIRS19194-1',\n",
      " 'BC546',\n",
      " 'FairchildSemiconductor_KSC2310YTA',\n",
      " 'BC182']\n"
     ]
    }
   ],
   "source": [
    "docs = session.query(Document).order_by(Document.name).all()\n",
    "ld   = len(docs)\n",
    "\n",
    "train_docs = set()\n",
    "dev_docs   = set()\n",
    "test_docs  = set()\n",
    "splits = (0.8, 0.9)\n",
    "data = [(doc.name, doc) for doc in docs]\n",
    "data.sort(key=lambda x: x[0])\n",
    "for i, (doc_name, doc) in enumerate(data):\n",
    "    if i < splits[0] * ld:\n",
    "        train_docs.add(doc)\n",
    "    elif i < splits[1] * ld:\n",
    "        dev_docs.add(doc)\n",
    "    else:\n",
    "        test_docs.add(doc)\n",
    "from pprint import pprint\n",
    "pprint([x.name for x in train_docs])"
   ]
  },
  {
   "cell_type": "markdown",
   "metadata": {},
   "source": [
    "# Phase 2: Mention Extraction, Candidate Extraction Multimodal Featurization\n",
    "\n",
    "Given the unified data model from Phase 1, `Fonduer` extracts relation\n",
    "candidates based on user-provided **matchers** and **throttlers**. Then,\n",
    "`Fonduer` leverages the multimodality information captured in the unified data\n",
    "model to provide multimodal features for each candidate.\n",
    "\n",
    "## 2.1 Mention Extraction\n",
    "\n",
    "The first step is to extract **mentions** from our corpus. A `mention` is the\n",
    "type of object which makes up a `candidate`. For example, if we wanted to\n",
    "extract pairs of transistor part numbers and their corresponding maximum\n",
    "storage temperatures, the transistor part number would be one `mention` while\n",
    "the temperature value would be another. These `mention`s are then combined to\n",
    "create `candidates`, where our task is to predict which `candidates` are true\n",
    "in the associated document.\n",
    "\n",
    "We first start by defining and naming our two `mention`s:"
   ]
  },
  {
   "cell_type": "code",
   "execution_count": 9,
   "metadata": {},
   "outputs": [],
   "source": [
    "from fonduer.candidates.models import mention_subclass\n",
    "\n",
    "Part = mention_subclass(\"Part\")\n",
    "Temp = mention_subclass(\"Temp\")"
   ]
  },
  {
   "cell_type": "markdown",
   "metadata": {},
   "source": [
    "Next, we write **matchers** to define which spans of text in the corpus are\n",
    "instances of each entity. Matchers can leverage a variety of information from\n",
    "regular expressions, to dictionaries, to user-defined functions. Furthermore,\n",
    "different techniques can be combined to form higher quality matchers. In\n",
    "general, matchers should seek to be as precise as possible while maintaining\n",
    "complete recall. More documentation about Matchers can be found on [Read the Docs](https://fonduer.readthedocs.io/en/stable/user/candidates.html#matchers).\n",
    "\n",
    "In our case, we need to write a matcher that defines a transistor part number\n",
    "and a matcher to define a valid temperature value.\n",
    "\n",
    "### Writing a simple temperature matcher\n",
    "\n",
    "Our maximum storage temperature matcher can be a very simple regular expression\n",
    "since we know that we are looking for integers, and by inspecting a portion of\n",
    "our corpus, we see that maximum storage temperatures fall within a fairly\n",
    "narrow range."
   ]
  },
  {
   "cell_type": "code",
   "execution_count": 10,
   "metadata": {},
   "outputs": [],
   "source": [
    "from fonduer.candidates.matchers import RegexMatchSpan, DictionaryMatch, LambdaFunctionMatcher, Intersect, Union\n",
    "\n",
    "temp_matcher = RegexMatchSpan(rgx=r\"(?:[1][5-9]|20)[05]\", longest_match_only=False)"
   ]
  },
  {
   "cell_type": "markdown",
   "metadata": {},
   "source": [
    "### Writing an advanced transistor part matcher\n",
    "\n",
    "In contrast, transistor part numbers are complex expressions. Here, we show how transistor part numbers can leverage [naming conventions](https://en.wikipedia.org/wiki/Transistor#Part_numbering_standards.2Fspecifications) as regular expressions, and use a dictionary of known part numbers, and use user-defined functions together. First, we create a regular expression matcher for standard transistor naming conventions."
   ]
  },
  {
   "cell_type": "code",
   "execution_count": 11,
   "metadata": {},
   "outputs": [],
   "source": [
    "### Transistor Naming Conventions as Regular Expressions ###\n",
    "eeca_rgx = r'([ABC][A-Z][WXYZ]?[0-9]{3,5}(?:[A-Z]){0,5}[0-9]?[A-Z]?(?:-[A-Z0-9]{1,7})?(?:[-][A-Z0-9]{1,2})?(?:\\/DG)?)'\n",
    "jedec_rgx = r'(2N\\d{3,4}[A-Z]{0,5}[0-9]?[A-Z]?)'\n",
    "jis_rgx = r'(2S[ABCDEFGHJKMQRSTVZ]{1}[\\d]{2,4})'\n",
    "others_rgx = r'((?:NSVBC|SMBT|MJ|MJE|MPS|MRF|RCA|TIP|ZTX|ZT|ZXT|TIS|TIPL|DTC|MMBT|SMMBT|PZT|FZT|STD|BUV|PBSS|KSC|CXT|FCX|CMPT){1}[\\d]{2,4}[A-Z]{0,5}(?:-[A-Z0-9]{0,6})?(?:[-][A-Z0-9]{0,1})?)'\n",
    "\n",
    "part_rgx = '|'.join([eeca_rgx, jedec_rgx, jis_rgx, others_rgx])\n",
    "part_rgx_matcher = RegexMatchSpan(rgx=part_rgx, longest_match_only=True)"
   ]
  },
  {
   "cell_type": "markdown",
   "metadata": {},
   "source": [
    "Next, we can create a matcher from a dictionary of known part numbers:"
   ]
  },
  {
   "cell_type": "code",
   "execution_count": 12,
   "metadata": {},
   "outputs": [],
   "source": [
    "import csv\n",
    "\n",
    "def get_digikey_parts_set(path):\n",
    "    \"\"\"\n",
    "    Reads in the digikey part dictionary and yeilds each part.\n",
    "    \"\"\"\n",
    "    all_parts = set()\n",
    "    with open(path, \"r\") as csvinput:\n",
    "        reader = csv.reader(csvinput)\n",
    "        for line in reader:\n",
    "            (part, url) = line\n",
    "            all_parts.add(part)\n",
    "    return all_parts\n",
    "\n",
    "### Dictionary of known transistor parts ###\n",
    "dict_path = 'data/digikey_part_dictionary.csv'\n",
    "part_dict_matcher = DictionaryMatch(d=get_digikey_parts_set(dict_path))"
   ]
  },
  {
   "cell_type": "markdown",
   "metadata": {},
   "source": [
    "We can also use user-defined functions to further improve our matchers. For example, here we use patterns in the document filenames as a signal for whether a span of text in a document is a valid transistor part number."
   ]
  },
  {
   "cell_type": "code",
   "execution_count": 13,
   "metadata": {},
   "outputs": [],
   "source": [
    "from builtins import range\n",
    "\n",
    "def common_prefix_length_diff(str1, str2):\n",
    "    for i in range(min(len(str1), len(str2))):\n",
    "        if str1[i] != str2[i]:\n",
    "            return min(len(str1), len(str2)) - i\n",
    "    return 0\n",
    "\n",
    "def part_file_name_conditions(attr):\n",
    "    file_name = attr.sentence.document.name\n",
    "    if len(file_name.split('_')) != 2: return False\n",
    "    if attr.get_span()[0] == '-': return False\n",
    "    name = attr.get_span().replace('-', '')\n",
    "    return any(char.isdigit() for char in name) and any(char.isalpha() for char in name) and common_prefix_length_diff(file_name.split('_')[1], name) <= 2\n",
    "\n",
    "add_rgx = '^[A-Z0-9\\-]{5,15}$'\n",
    "\n",
    "part_file_name_lambda_matcher = LambdaFunctionMatcher(func=part_file_name_conditions)\n",
    "part_file_name_matcher = Intersect(RegexMatchSpan(rgx=add_rgx, longest_match_only=True), part_file_name_lambda_matcher)"
   ]
  },
  {
   "cell_type": "markdown",
   "metadata": {},
   "source": [
    "Then, we can union all of these matchers together to form our final part matcher."
   ]
  },
  {
   "cell_type": "code",
   "execution_count": 14,
   "metadata": {},
   "outputs": [],
   "source": [
    "part_matcher = Union(part_rgx_matcher, part_dict_matcher, part_file_name_matcher)"
   ]
  },
  {
   "cell_type": "markdown",
   "metadata": {},
   "source": [
    "These two matchers define each entity in our relation schema."
   ]
  },
  {
   "cell_type": "markdown",
   "metadata": {},
   "source": [
    "### Define a Mention's `MentionSpace`\n",
    "\n",
    "Next, in order to define the \"space\" of all mentions that are even considered\n",
    "from the document, we need to define a `MentionSpace` for each component of the\n",
    "relation we wish to extract. Fonduer provides a default `MentionSpace` for you\n",
    "to use, but you can also extend the default `MentionSpace` depending on your\n",
    "needs.\n",
    "\n",
    "In the case of transistor part numbers, the `MentionSpace` can be quite complex\n",
    "due to the need to handle implicit part numbers that are implied in text like\n",
    "\"BC546A/B/C...BC548A/B/C\", which refers to 9 unique part numbers. To handle\n",
    "these, we consider all n-grams up to 3 words long.\n",
    "\n",
    "In contrast, the `MentionSpace` for temperature values is simpler: we only need\n",
    "to process different Unicode representations of a (`-`), and don't need to look\n",
    "at more than two words at a time.\n",
    "\n",
    "When no special preprocessing like this is needed, we could have used the\n",
    "default `Ngrams` class provided by `fonduer`. For example, if we were looking\n",
    "to match polarities, which only take the form of \"NPN\" or \"PNP\", we could've\n",
    "used `ngrams = MentionNgrams(n_max=1)`."
   ]
  },
  {
   "cell_type": "code",
   "execution_count": 15,
   "metadata": {},
   "outputs": [],
   "source": [
    "from hardware_spaces import MentionNgramsPart, MentionNgramsTemp\n",
    "    \n",
    "part_ngrams = MentionNgramsPart(parts_by_doc=None, n_max=3)\n",
    "temp_ngrams = MentionNgramsTemp(n_max=2)"
   ]
  },
  {
   "cell_type": "markdown",
   "metadata": {},
   "source": [
    "### Running Mention Extraction \n",
    "\n",
    "Next, we create a `MentionExtractor` to extract the mentions from all of\n",
    "our documents based on the `MentionSpace` and matchers we defined above.\n",
    "\n",
    "View the API for the MentionExtractor on [ReadTheDocs](https://fonduer.readthedocs.io/en/stable/user/candidates.html#fonduer.candidates.MentionExtractor).\n"
   ]
  },
  {
   "cell_type": "code",
   "execution_count": 16,
   "metadata": {},
   "outputs": [],
   "source": [
    "from fonduer.candidates import MentionExtractor \n",
    "\n",
    "mention_extractor = MentionExtractor(\n",
    "    session, [Part, Temp], [part_ngrams, temp_ngrams], [part_matcher, temp_matcher]\n",
    ")"
   ]
  },
  {
   "cell_type": "markdown",
   "metadata": {},
   "source": [
    "Then, we run the extractor on all of our documents."
   ]
  },
  {
   "cell_type": "code",
   "execution_count": 17,
   "metadata": {},
   "outputs": [
    {
     "name": "stderr",
     "output_type": "stream",
     "text": [
      "[2020-04-20 21:12:08,157][INFO] fonduer.candidates.mentions:473 - Clearing table: part\n",
      "[2020-04-20 21:12:08,239][INFO] fonduer.candidates.mentions:473 - Clearing table: temp\n",
      "[2020-04-20 21:12:08,266][INFO] fonduer.utils.udf:69 - Running UDF...\n"
     ]
    },
    {
     "data": {
      "application/vnd.jupyter.widget-view+json": {
       "model_id": "fa6348cf58ca4bc5b0b72b198d9c4ba5",
       "version_major": 2,
       "version_minor": 0
      },
      "text/plain": [
       "HBox(children=(FloatProgress(value=0.0), HTML(value='')))"
      ]
     },
     "metadata": {},
     "output_type": "display_data"
    },
    {
     "name": "stdout",
     "output_type": "stream",
     "text": [
      "\n",
      "Total Mentions: 3524\n"
     ]
    }
   ],
   "source": [
    "from fonduer.candidates.models import Mention\n",
    "\n",
    "mention_extractor.apply(docs, parallelism=PARALLEL)\n",
    "\n",
    "print(f\"Total Mentions: {session.query(Mention).count()}\")"
   ]
  },
  {
   "cell_type": "markdown",
   "metadata": {},
   "source": [
    "## 2.2 Candidate Extraction\n",
    "\n",
    "Now that we have both defined and extracted the Mentions that can be used to compose Candidates, we are ready to move on to extracting Candidates. Like we did with the Mentions, we first define what each candidate schema looks like. In this example, we create a candidate that is composed of a `Part` and a `Temp` mention as we defined above. We name this candidate \"PartTemp\"."
   ]
  },
  {
   "cell_type": "code",
   "execution_count": 18,
   "metadata": {},
   "outputs": [],
   "source": [
    "from fonduer.candidates.models import candidate_subclass\n",
    "\n",
    "PartTemp = candidate_subclass(\"PartTemp\", [Part, Temp])"
   ]
  },
  {
   "cell_type": "markdown",
   "metadata": {},
   "source": [
    "### Defining candidate `Throttlers`\n",
    "\n",
    "Next, we need to define **throttlers**, which allow us to further prune excess candidates and avoid unnecessarily materializing invalid candidates. Throttlers, like matchers, act as hard filters, and should be created to have high precision while maintaining complete recall, if possible.\n",
    "\n",
    "Here, we create a throttler that discards candidates if they are in the same table, but the part and storage temperature are not vertically or horizontally aligned."
   ]
  },
  {
   "cell_type": "code",
   "execution_count": 19,
   "metadata": {},
   "outputs": [],
   "source": [
    "from fonduer.utils.data_model_utils import *\n",
    "import re\n",
    "\n",
    "def stg_temp_filter(c):\n",
    "    (part, attr) = c\n",
    "    if same_table((part, attr)):\n",
    "        return (is_horz_aligned((part, attr)) or is_vert_aligned((part, attr)))\n",
    "    return True\n",
    "\n",
    "temp_throttler = stg_temp_filter"
   ]
  },
  {
   "cell_type": "markdown",
   "metadata": {},
   "source": [
    "### Running the `CandidateExtractor`\n",
    "\n",
    "Now, we have all the component necessary to perform candidate extraction. We have defined the Mentions that compose each candidate and a throttler to prune away excess candidates. We now can define the `CandidateExtractor` with the candidate subclass and corresponding throttler to use.\n",
    "\n",
    "View the API for the CandidateExtractor on [ReadTheDocs](https://fonduer.readthedocs.io/en/stable/user/candidates.html#fonduer.candidates.MentionExtractor)."
   ]
  },
  {
   "cell_type": "code",
   "execution_count": 20,
   "metadata": {
    "scrolled": false
   },
   "outputs": [],
   "source": [
    "from fonduer.candidates import CandidateExtractor\n",
    "\n",
    "\n",
    "candidate_extractor = CandidateExtractor(session, [PartTemp], throttlers=[temp_throttler])"
   ]
  },
  {
   "cell_type": "markdown",
   "metadata": {},
   "source": [
    "Here we specified that these `Candidates` belong to the training set by specifying `split=0`; recall that we're referring to train/dev/test as splits 0/1/2."
   ]
  },
  {
   "cell_type": "code",
   "execution_count": 21,
   "metadata": {},
   "outputs": [
    {
     "name": "stderr",
     "output_type": "stream",
     "text": [
      "[2020-04-20 21:13:05,137][INFO] fonduer.candidates.candidates:145 - Clearing table part_temp (split 0)\n",
      "[2020-04-20 21:13:08,146][INFO] fonduer.utils.udf:69 - Running UDF...\n"
     ]
    },
    {
     "data": {
      "application/vnd.jupyter.widget-view+json": {
       "model_id": "af3a2b664d9f47309b636174cbe5f8a1",
       "version_major": 2,
       "version_minor": 0
      },
      "text/plain": [
       "HBox(children=(FloatProgress(value=0.0, max=80.0), HTML(value='')))"
      ]
     },
     "metadata": {},
     "output_type": "display_data"
    },
    {
     "name": "stderr",
     "output_type": "stream",
     "text": [
      "[2020-04-20 21:16:28,452][INFO] fonduer.candidates.candidates:145 - Clearing table part_temp (split 1)\n"
     ]
    },
    {
     "name": "stdout",
     "output_type": "stream",
     "text": [
      "\n",
      "Number of Candidates in split=0: 28935\n"
     ]
    },
    {
     "name": "stderr",
     "output_type": "stream",
     "text": [
      "[2020-04-20 21:16:28,880][INFO] fonduer.utils.udf:69 - Running UDF...\n"
     ]
    },
    {
     "data": {
      "application/vnd.jupyter.widget-view+json": {
       "model_id": "ac27c99908454b1d81a32f8c71f08fac",
       "version_major": 2,
       "version_minor": 0
      },
      "text/plain": [
       "HBox(children=(FloatProgress(value=0.0, max=10.0), HTML(value='')))"
      ]
     },
     "metadata": {},
     "output_type": "display_data"
    },
    {
     "name": "stderr",
     "output_type": "stream",
     "text": [
      "[2020-04-20 21:16:47,936][INFO] fonduer.candidates.candidates:145 - Clearing table part_temp (split 2)\n"
     ]
    },
    {
     "name": "stdout",
     "output_type": "stream",
     "text": [
      "\n",
      "Number of Candidates in split=1: 2553\n"
     ]
    },
    {
     "name": "stderr",
     "output_type": "stream",
     "text": [
      "[2020-04-20 21:16:48,213][INFO] fonduer.utils.udf:69 - Running UDF...\n"
     ]
    },
    {
     "data": {
      "application/vnd.jupyter.widget-view+json": {
       "model_id": "7ccf618c41ab43c594fd15838874527e",
       "version_major": 2,
       "version_minor": 0
      },
      "text/plain": [
       "HBox(children=(FloatProgress(value=0.0, max=10.0), HTML(value='')))"
      ]
     },
     "metadata": {},
     "output_type": "display_data"
    },
    {
     "name": "stdout",
     "output_type": "stream",
     "text": [
      "\n",
      "Number of Candidates in split=2: 2080\n"
     ]
    }
   ],
   "source": [
    "for i, docs in enumerate([train_docs, dev_docs, test_docs]):\n",
    "    candidate_extractor.apply(docs, split=i, parallelism=PARALLEL)\n",
    "    print(f\"Number of Candidates in split={i}: {session.query(PartTemp).filter(PartTemp.split == i).count()}\")\n",
    "\n",
    "train_cands = candidate_extractor.get_candidates(split = 0)\n",
    "dev_cands = candidate_extractor.get_candidates(split = 1)\n",
    "test_cands = candidate_extractor.get_candidates(split = 2)"
   ]
  },
  {
   "cell_type": "markdown",
   "metadata": {},
   "source": [
    "## 2.2 Multimodal Featurization\n",
    "Unlike dealing with plain unstructured text, `Fonduer` deals with richly formatted data, and consequently featurizes each candidate with a baseline library of multimodal features. \n",
    "\n",
    "### Featurize with `Fonduer`'s optimized Postgres Featurizer\n",
    "We now annotate the candidates in our training, dev, and test sets with features. The `Featurizer` provided by `Fonduer` allows this to be done in parallel to improve performance.\n",
    "\n",
    "View the API provided by the `Featurizer` on [ReadTheDocs](https://fonduer.readthedocs.io/en/stable/user/features.html#fonduer.features.Featurizer)."
   ]
  },
  {
   "cell_type": "code",
   "execution_count": 22,
   "metadata": {},
   "outputs": [
    {
     "name": "stderr",
     "output_type": "stream",
     "text": [
      "[2020-04-20 21:17:11,384][INFO] fonduer.features.featurizer:277 - Clearing Features (split 0)\n",
      "[2020-04-20 21:17:21,965][INFO] fonduer.utils.udf:69 - Running UDF...\n"
     ]
    },
    {
     "data": {
      "application/vnd.jupyter.widget-view+json": {
       "model_id": "e7bbca618ccc449babebd80b43df5d45",
       "version_major": 2,
       "version_minor": 0
      },
      "text/plain": [
       "HBox(children=(FloatProgress(value=0.0, max=80.0), HTML(value='')))"
      ]
     },
     "metadata": {},
     "output_type": "display_data"
    },
    {
     "name": "stdout",
     "output_type": "stream",
     "text": [
      "\n",
      "CPU times: user 1min 13s, sys: 3.01 s, total: 1min 16s\n",
      "Wall time: 2min 7s\n",
      "CPU times: user 48.3 s, sys: 2.82 s, total: 51.1 s\n",
      "Wall time: 1min 9s\n"
     ]
    }
   ],
   "source": [
    "from fonduer.features import Featurizer\n",
    "\n",
    "featurizer = Featurizer(session, [PartTemp])\n",
    "%time featurizer.apply(split=0, train=True, parallelism=PARALLEL)\n",
    "%time F_train = featurizer.get_feature_matrices(train_cands)"
   ]
  },
  {
   "cell_type": "code",
   "execution_count": 23,
   "metadata": {},
   "outputs": [
    {
     "name": "stdout",
     "output_type": "stream",
     "text": [
      "(28935, 27735)\n"
     ]
    },
    {
     "name": "stderr",
     "output_type": "stream",
     "text": [
      "[2020-04-20 21:20:26,963][INFO] fonduer.features.featurizer:277 - Clearing Features (split 1)\n",
      "[2020-04-20 21:20:27,000][INFO] fonduer.utils.udf:69 - Running UDF...\n"
     ]
    },
    {
     "data": {
      "application/vnd.jupyter.widget-view+json": {
       "model_id": "0f1301d83c6649a4bf186426f695f130",
       "version_major": 2,
       "version_minor": 0
      },
      "text/plain": [
       "HBox(children=(FloatProgress(value=0.0, max=10.0), HTML(value='')))"
      ]
     },
     "metadata": {},
     "output_type": "display_data"
    },
    {
     "name": "stdout",
     "output_type": "stream",
     "text": [
      "\n",
      "CPU times: user 5.5 s, sys: 936 ms, total: 6.44 s\n",
      "Wall time: 10 s\n",
      "CPU times: user 4.68 s, sys: 248 ms, total: 4.93 s\n",
      "Wall time: 6.83 s\n",
      "(2553, 27735)\n"
     ]
    }
   ],
   "source": [
    "print(F_train[0].shape)\n",
    "%time featurizer.apply(split=1, parallelism=PARALLEL)\n",
    "%time F_dev = featurizer.get_feature_matrices(dev_cands)\n",
    "print(F_dev[0].shape)"
   ]
  },
  {
   "cell_type": "code",
   "execution_count": 24,
   "metadata": {},
   "outputs": [
    {
     "name": "stderr",
     "output_type": "stream",
     "text": [
      "[2020-04-20 21:20:43,877][INFO] fonduer.features.featurizer:277 - Clearing Features (split 2)\n",
      "[2020-04-20 21:20:43,921][INFO] fonduer.utils.udf:69 - Running UDF...\n"
     ]
    },
    {
     "data": {
      "application/vnd.jupyter.widget-view+json": {
       "model_id": "cc1243022c6c400d90c68920fb418ab5",
       "version_major": 2,
       "version_minor": 0
      },
      "text/plain": [
       "HBox(children=(FloatProgress(value=0.0, max=9.0), HTML(value='')))"
      ]
     },
     "metadata": {},
     "output_type": "display_data"
    },
    {
     "name": "stdout",
     "output_type": "stream",
     "text": [
      "\n",
      "CPU times: user 4.4 s, sys: 328 ms, total: 4.73 s\n",
      "Wall time: 11.5 s\n",
      "CPU times: user 4.31 s, sys: 176 ms, total: 4.49 s\n",
      "Wall time: 6.1 s\n",
      "(2080, 27735)\n"
     ]
    }
   ],
   "source": [
    "%time featurizer.apply(split=2, parallelism=PARALLEL)\n",
    "%time F_test = featurizer.get_feature_matrices(test_cands)\n",
    "print(F_test[0].shape)"
   ]
  },
  {
   "cell_type": "markdown",
   "metadata": {},
   "source": [
    "At the end of this phase, `Fonduer` has generated the set of candidates and the feature matrix. Note that Phase 1 and 2 are relatively static and typically are only executed once during the KBC process.\n",
    "\n",
    "# Phase 3: Probabilistic Relation Classification\n",
    "In this phase, `Fonduer` applies user-defined **labeling functions**, which express various heuristics, patterns, and [weak supervision](http://hazyresearch.github.io/snorkel/blog/weak_supervision.html) strategies to label our data, to each of the candidates to create a label matrix that is used by our data programming engine.\n",
    "\n",
    "In the wild, hand-labeled training data is rare and expensive. A common scenario is to have access to tons of unlabeled training data, and have some idea of how to label them programmatically. For example:\n",
    "* We may be able to think of text patterns that would indicate a part and polarity mention are related, for example the word \"temperature\" appearing between them.\n",
    "* We may have access to an external knowledge base that lists some pairs of parts and polarities, and can use these to noisily label some of our mention pairs.\n",
    "Our labeling functions will capture these types of strategies. We know that these labeling functions will not be perfect, and some may be quite low-quality, so we will model their accuracies with a generative model, which `Fonduer` will help us easily apply.\n",
    "\n",
    "Using data programming, we can then train machine learning models to learn which features are the most important in classifying candidates.\n",
    "\n",
    "### Loading Gold Data\n",
    "For convenience in error analysis and evaluation, we have already annotated the dev and test set for this tutorial, and we'll now load it using an externally-defined helper function: `gold`. Technically, this is also a labeling function similar to labeling functions we will be writing later. The only difference is that (gold) labels are written to `GoldLabel` table while (non-gold) labels are written to `Label` table. If you're interested in the example implementation details, please see the script we now load:"
   ]
  },
  {
   "cell_type": "code",
   "execution_count": 25,
   "metadata": {},
   "outputs": [
    {
     "name": "stderr",
     "output_type": "stream",
     "text": [
      "[2020-04-20 21:21:01,478][INFO] fonduer.supervision.labeler:340 - Clearing Labels (split ALL)\n",
      "[2020-04-20 21:21:01,500][INFO] fonduer.utils.udf:69 - Running UDF...\n"
     ]
    },
    {
     "data": {
      "application/vnd.jupyter.widget-view+json": {
       "model_id": "1aa48165e8fc4de88618040a77931d07",
       "version_major": 2,
       "version_minor": 0
      },
      "text/plain": [
       "HBox(children=(FloatProgress(value=0.0), HTML(value='')))"
      ]
     },
     "metadata": {},
     "output_type": "display_data"
    },
    {
     "name": "stdout",
     "output_type": "stream",
     "text": [
      "\n",
      "CPU times: user 49.4 s, sys: 1.52 s, total: 50.9 s\n",
      "Wall time: 1min 4s\n"
     ]
    }
   ],
   "source": [
    "from fonduer.supervision.models import GoldLabel\n",
    "from hardware_utils import gold\n",
    "\n",
    "from fonduer.supervision import Labeler\n",
    "\n",
    "docs = corpus_parser.get_documents()\n",
    "labeler = Labeler(session, [PartTemp])\n",
    "%time labeler.apply(docs=docs, lfs=[[gold]], table=GoldLabel, train=True, parallelism=PARALLEL)"
   ]
  },
  {
   "cell_type": "markdown",
   "metadata": {},
   "source": [
    "### Creating Labeling Functions\n",
    "\n",
    "In `Fonduer`, our primary interface through which we provide training signal to\n",
    "the end extraction model we are training is by writing labeling functions\n",
    "(**LFs**) (as opposed to hand-labeling massive training sets).\n",
    "\n",
    "A labeling function isn't anything special. It's just a Python function that\n",
    "accepts a `Candidate` as the input argument and returns `1` if it says the\n",
    "Candidate should be marked as true, `0` if it says the `Candidate` should be\n",
    "marked as false, and `-1` if it doesn't know how to vote and abstains. In\n",
    "practice, many labeling functions are unipolar: it labels only 1s and -1s, or it\n",
    "labels only 0s and -1s.\n",
    "\n",
    "Recall that our goal is ultimately to train a high-performance classification\n",
    "model that predicts which of our Candidates are true mentions of maximum\n",
    "storage temperature relations. It turns out that we can do this by writing\n",
    "potentially low-quality labeling functions!\n",
    "\n",
    "With `Fonduer`, labeling functions can be written using intuitive patterns\n",
    "discovered by inspecting the target corpus. A library of data model utilities\n",
    "which can be used to write labeling functions are outline in [Read the\n",
    "Docs](http://fonduer.readthedocs.io/en/stable/user/data_model_utils.html). \n",
    "\n",
    "For example, inspecting several documents may reveal that storage temperatures\n",
    "are typically listed inside a table where the row header contains the word\n",
    "\"storage\". This intuitive pattern can be directly expressed as a labeling\n",
    "function. Similarly, the word \"temperature\" is an obvious positive signal."
   ]
  },
  {
   "cell_type": "code",
   "execution_count": 26,
   "metadata": {},
   "outputs": [],
   "source": [
    "from snorkel.labeling import labeling_function\n",
    "from fonduer.utils.data_model_utils import *\n",
    "import re\n",
    "\n",
    "ABSTAIN = -1\n",
    "FALSE = 0\n",
    "TRUE = 1\n",
    "\n",
    "@labeling_function()\n",
    "def LF_storage_row(c):\n",
    "    return TRUE if 'storage' in get_row_ngrams(c.temp) else ABSTAIN\n",
    "\n",
    "@labeling_function()\n",
    "def LF_temperature_row(c):\n",
    "    return TRUE if 'temperature' in get_row_ngrams(c.temp) else ABSTAIN"
   ]
  },
  {
   "cell_type": "markdown",
   "metadata": {},
   "source": [
    "We express several of these simple patterns below as a set of labeling functions:"
   ]
  },
  {
   "cell_type": "code",
   "execution_count": 27,
   "metadata": {},
   "outputs": [],
   "source": [
    "@labeling_function()\n",
    "def LF_operating_row(c):\n",
    "    return TRUE if 'operating' in get_row_ngrams(c.temp) else ABSTAIN\n",
    "\n",
    "@labeling_function()\n",
    "def LF_tstg_row(c):\n",
    "    return TRUE if overlap(\n",
    "        ['tstg','stg','ts'], \n",
    "        list(get_row_ngrams(c.temp))) else ABSTAIN\n",
    "\n",
    "@labeling_function()\n",
    "def LF_to_left(c):\n",
    "    return TRUE if 'to' in get_left_ngrams(c.temp, window=2) else ABSTAIN\n",
    "\n",
    "@labeling_function()\n",
    "def LF_negative_number_left(c):\n",
    "    return TRUE if any([re.match(r'-\\s*\\d+', ngram) for ngram in get_left_ngrams(c.temp, window=4)]) else ABSTAIN"
   ]
  },
  {
   "cell_type": "markdown",
   "metadata": {},
   "source": [
    "Then, we collect all of the labeling function we would like to use into a single list, which is provided as input to the `Labeler`."
   ]
  },
  {
   "cell_type": "code",
   "execution_count": 28,
   "metadata": {},
   "outputs": [],
   "source": [
    "stg_temp_lfs = [\n",
    "    LF_storage_row,\n",
    "    LF_operating_row,\n",
    "    LF_temperature_row,\n",
    "    LF_tstg_row,\n",
    "    LF_to_left,\n",
    "    LF_negative_number_left,\n",
    "]"
   ]
  },
  {
   "cell_type": "markdown",
   "metadata": {},
   "source": [
    "### Applying the Labeling Functions\n",
    "\n",
    "Next, we need to actually run the LFs over all of our training candidates, producing a set of `Labels` and `LabelKeys` (just the names of the LFs) in the database. Note that this will delete any existing `Labels` and `LabelKeys` for this candidate set.\n",
    "\n",
    "View the API provided by the `Labeler` on [ReadTheDocs](https://fonduer.readthedocs.io/en/stable/user/supervision.html#fonduer.supervision.Labeler)."
   ]
  },
  {
   "cell_type": "code",
   "execution_count": 29,
   "metadata": {},
   "outputs": [
    {
     "name": "stderr",
     "output_type": "stream",
     "text": [
      "[2020-04-20 21:22:07,787][INFO] fonduer.supervision.labeler:340 - Clearing Labels (split 0)\n",
      "[2020-04-20 21:22:07,813][INFO] fonduer.utils.udf:69 - Running UDF...\n"
     ]
    },
    {
     "data": {
      "application/vnd.jupyter.widget-view+json": {
       "model_id": "8eb8933e48a34eb486e0758b64fa0a07",
       "version_major": 2,
       "version_minor": 0
      },
      "text/plain": [
       "HBox(children=(FloatProgress(value=0.0, max=80.0), HTML(value='')))"
      ]
     },
     "metadata": {},
     "output_type": "display_data"
    },
    {
     "name": "stdout",
     "output_type": "stream",
     "text": [
      "\n",
      "CPU times: user 41 s, sys: 1.36 s, total: 42.4 s\n",
      "Wall time: 2min 14s\n",
      "CPU times: user 35.3 s, sys: 1.57 s, total: 36.9 s\n",
      "Wall time: 48.7 s\n"
     ]
    }
   ],
   "source": [
    "%time labeler.apply(split=0, lfs=[stg_temp_lfs], train=True, parallelism=PARALLEL)\n",
    "%time L_train = labeler.get_label_matrices(train_cands)"
   ]
  },
  {
   "cell_type": "markdown",
   "metadata": {},
   "source": [
    "We can also view statistics about the resulting label matrix.\n",
    "* **Coverage** is the fraction of candidates that the labeling function emits a non-zero label for.\n",
    "* **Overlap** is the fraction candidates that the labeling function emits a non-zero label for and that another labeling function emits a non-zero label for.\n",
    "* **Conflict** is the fraction candidates that the labeling function emits a non-zero label for and that another labeling function emits a conflicting non-zero label for.\n",
    "\n",
    "In addition, because we have already loaded the gold labels, we can view the emperical accuracy of these labeling functions when compared to our gold labels using the `analysis` module of [Snorkel](https://github.com/snorkel-team/snorkel)."
   ]
  },
  {
   "cell_type": "code",
   "execution_count": 30,
   "metadata": {},
   "outputs": [],
   "source": [
    "L_gold_train = labeler.get_gold_labels(train_cands, annotator='gold')"
   ]
  },
  {
   "cell_type": "code",
   "execution_count": 31,
   "metadata": {},
   "outputs": [
    {
     "data": {
      "text/html": [
       "<div>\n",
       "<style scoped>\n",
       "    .dataframe tbody tr th:only-of-type {\n",
       "        vertical-align: middle;\n",
       "    }\n",
       "\n",
       "    .dataframe tbody tr th {\n",
       "        vertical-align: top;\n",
       "    }\n",
       "\n",
       "    .dataframe thead th {\n",
       "        text-align: right;\n",
       "    }\n",
       "</style>\n",
       "<table border=\"1\" class=\"dataframe\">\n",
       "  <thead>\n",
       "    <tr style=\"text-align: right;\">\n",
       "      <th></th>\n",
       "      <th>j</th>\n",
       "      <th>Polarity</th>\n",
       "      <th>Coverage</th>\n",
       "      <th>Overlaps</th>\n",
       "      <th>Conflicts</th>\n",
       "      <th>Correct</th>\n",
       "      <th>Incorrect</th>\n",
       "      <th>Emp. Acc.</th>\n",
       "    </tr>\n",
       "  </thead>\n",
       "  <tbody>\n",
       "    <tr>\n",
       "      <th>LF_negative_number_left</th>\n",
       "      <td>0</td>\n",
       "      <td>[1]</td>\n",
       "      <td>0.051356</td>\n",
       "      <td>0.051356</td>\n",
       "      <td>0.0</td>\n",
       "      <td>1342</td>\n",
       "      <td>144</td>\n",
       "      <td>0.903096</td>\n",
       "    </tr>\n",
       "    <tr>\n",
       "      <th>LF_operating_row</th>\n",
       "      <td>1</td>\n",
       "      <td>[1]</td>\n",
       "      <td>0.032072</td>\n",
       "      <td>0.032072</td>\n",
       "      <td>0.0</td>\n",
       "      <td>597</td>\n",
       "      <td>331</td>\n",
       "      <td>0.643319</td>\n",
       "    </tr>\n",
       "    <tr>\n",
       "      <th>LF_storage_row</th>\n",
       "      <td>2</td>\n",
       "      <td>[1]</td>\n",
       "      <td>0.063522</td>\n",
       "      <td>0.063522</td>\n",
       "      <td>0.0</td>\n",
       "      <td>1335</td>\n",
       "      <td>503</td>\n",
       "      <td>0.726333</td>\n",
       "    </tr>\n",
       "    <tr>\n",
       "      <th>LF_temperature_row</th>\n",
       "      <td>3</td>\n",
       "      <td>[1]</td>\n",
       "      <td>0.086504</td>\n",
       "      <td>0.068395</td>\n",
       "      <td>0.0</td>\n",
       "      <td>2014</td>\n",
       "      <td>489</td>\n",
       "      <td>0.804634</td>\n",
       "    </tr>\n",
       "    <tr>\n",
       "      <th>LF_to_left</th>\n",
       "      <td>4</td>\n",
       "      <td>[1]</td>\n",
       "      <td>0.056575</td>\n",
       "      <td>0.053430</td>\n",
       "      <td>0.0</td>\n",
       "      <td>1233</td>\n",
       "      <td>404</td>\n",
       "      <td>0.753207</td>\n",
       "    </tr>\n",
       "    <tr>\n",
       "      <th>LF_tstg_row</th>\n",
       "      <td>5</td>\n",
       "      <td>[1]</td>\n",
       "      <td>0.063522</td>\n",
       "      <td>0.063522</td>\n",
       "      <td>0.0</td>\n",
       "      <td>1335</td>\n",
       "      <td>503</td>\n",
       "      <td>0.726333</td>\n",
       "    </tr>\n",
       "  </tbody>\n",
       "</table>\n",
       "</div>"
      ],
      "text/plain": [
       "                         j Polarity  Coverage  Overlaps  Conflicts  Correct  \\\n",
       "LF_negative_number_left  0      [1]  0.051356  0.051356        0.0     1342   \n",
       "LF_operating_row         1      [1]  0.032072  0.032072        0.0      597   \n",
       "LF_storage_row           2      [1]  0.063522  0.063522        0.0     1335   \n",
       "LF_temperature_row       3      [1]  0.086504  0.068395        0.0     2014   \n",
       "LF_to_left               4      [1]  0.056575  0.053430        0.0     1233   \n",
       "LF_tstg_row              5      [1]  0.063522  0.063522        0.0     1335   \n",
       "\n",
       "                         Incorrect  Emp. Acc.  \n",
       "LF_negative_number_left        144   0.903096  \n",
       "LF_operating_row               331   0.643319  \n",
       "LF_storage_row                 503   0.726333  \n",
       "LF_temperature_row             489   0.804634  \n",
       "LF_to_left                     404   0.753207  \n",
       "LF_tstg_row                    503   0.726333  "
      ]
     },
     "execution_count": 31,
     "metadata": {},
     "output_type": "execute_result"
    }
   ],
   "source": [
    "from snorkel.labeling import LFAnalysis\n",
    "\n",
    "# Sort LFs for LFAnalysis because LFAnalysis does not sort LFs,\n",
    "# while columns of L_train are sorted alphabetically already.\n",
    "sorted_lfs = sorted(stg_temp_lfs, key=lambda lf: lf.name)\n",
    "\n",
    "LFAnalysis(L=L_train[0], lfs=sorted_lfs).lf_summary(Y=L_gold_train[0].reshape(-1))"
   ]
  },
  {
   "cell_type": "markdown",
   "metadata": {},
   "source": [
    "### Fitting the Generative Model\n",
    "\n",
    "Now, we'll train a model of the LFs to estimate their accuracies. Once the model is trained, we can combine the outputs of the LFs into a single, noise-aware training label set for our extractor. Intuitively, we'll model the LFs by observing how they overlap and conflict with each other. To do so, we use [Snorkel](https://github.com/snorkel-team/snorkel)'s single-task label model."
   ]
  },
  {
   "cell_type": "code",
   "execution_count": 32,
   "metadata": {},
   "outputs": [
    {
     "name": "stderr",
     "output_type": "stream",
     "text": [
      "[2020-04-20 21:25:26,059][INFO] root:852 - Computing O...\n",
      "[2020-04-20 21:25:26,068][INFO] root:858 - Estimating \\mu...\n",
      "[2020-04-20 21:25:27,320][INFO] root:79 - [0 epochs]: TRAIN:[loss=0.065]\n",
      "[2020-04-20 21:25:27,550][INFO] root:79 - [100 epochs]: TRAIN:[loss=0.000]\n",
      "[2020-04-20 21:25:27,761][INFO] root:79 - [200 epochs]: TRAIN:[loss=0.000]\n",
      "[2020-04-20 21:25:27,967][INFO] root:79 - [300 epochs]: TRAIN:[loss=0.000]\n",
      "[2020-04-20 21:25:28,127][INFO] root:79 - [400 epochs]: TRAIN:[loss=0.000]\n",
      "[2020-04-20 21:25:28,284][INFO] root:915 - Finished Training\n"
     ]
    },
    {
     "name": "stdout",
     "output_type": "stream",
     "text": [
      "CPU times: user 964 ms, sys: 1.19 s, total: 2.15 s\n",
      "Wall time: 2.24 s\n"
     ]
    }
   ],
   "source": [
    "from snorkel.labeling.model import LabelModel\n",
    "\n",
    "gen_model = LabelModel(cardinality=2)\n",
    "%time gen_model.fit(L_train[0], n_epochs=500, log_freq=100)"
   ]
  },
  {
   "cell_type": "markdown",
   "metadata": {},
   "source": [
    "We now apply the generative model to the training candidates to get the noise-aware training label set. We'll refer to these as the training marginals:"
   ]
  },
  {
   "cell_type": "code",
   "execution_count": 33,
   "metadata": {},
   "outputs": [],
   "source": [
    "train_marginals = gen_model.predict_proba(L_train[0])"
   ]
  },
  {
   "cell_type": "markdown",
   "metadata": {},
   "source": [
    "We'll look at the distribution of the training marginals:"
   ]
  },
  {
   "cell_type": "code",
   "execution_count": 34,
   "metadata": {},
   "outputs": [
    {
     "data": {
      "image/png": "[encoded data removed]",
      "text/plain": [
       "<Figure size 432x288 with 1 Axes>"
      ]
     },
     "metadata": {
      "needs_background": "light"
     },
     "output_type": "display_data"
    }
   ],
   "source": [
    "import matplotlib.pyplot as plt\n",
    "\n",
    "plt.hist(train_marginals[:, TRUE], bins=20)\n",
    "plt.show()"
   ]
  },
  {
   "cell_type": "markdown",
   "metadata": {
    "scrolled": true
   },
   "source": [
    "### Using the Model to Iterate on Labeling Functions\n",
    "\n",
    "Now that we have learned the generative model, we can stop here and use this to potentially debug and/or improve our labeling function set. First, we apply the LFs to our development set:"
   ]
  },
  {
   "cell_type": "code",
   "execution_count": 35,
   "metadata": {},
   "outputs": [
    {
     "name": "stderr",
     "output_type": "stream",
     "text": [
      "[2020-04-20 21:25:28,954][INFO] fonduer.supervision.labeler:340 - Clearing Labels (split 1)\n",
      "[2020-04-20 21:25:28,972][INFO] fonduer.utils.udf:69 - Running UDF...\n"
     ]
    },
    {
     "data": {
      "application/vnd.jupyter.widget-view+json": {
       "model_id": "9e65a07f28b5476a855738044d16e632",
       "version_major": 2,
       "version_minor": 0
      },
      "text/plain": [
       "HBox(children=(FloatProgress(value=0.0, max=10.0), HTML(value='')))"
      ]
     },
     "metadata": {},
     "output_type": "display_data"
    },
    {
     "name": "stdout",
     "output_type": "stream",
     "text": [
      "\n",
      "CPU times: user 3.03 s, sys: 152 ms, total: 3.18 s\n",
      "Wall time: 4.23 s\n"
     ]
    }
   ],
   "source": [
    "labeler.apply(split=1, lfs=[stg_temp_lfs], parallelism=PARALLEL)\n",
    "%time L_dev = labeler.get_label_matrices(dev_cands)"
   ]
  },
  {
   "cell_type": "code",
   "execution_count": 36,
   "metadata": {},
   "outputs": [
    {
     "data": {
      "text/plain": [
       "(2553, 6)"
      ]
     },
     "execution_count": 36,
     "metadata": {},
     "output_type": "execute_result"
    }
   ],
   "source": [
    "L_dev[0].shape"
   ]
  },
  {
   "cell_type": "markdown",
   "metadata": {},
   "source": [
    "### Interpreting Generative Model Performance\n",
    "\n",
    "At this point, we should be getting an F1 score of around 0.6 to 0.7 on the development set, which is pretty good! However, we should be very careful in interpreting this. Since we developed our labeling functions using this development set as a guide, and our generative model is composed of these labeling functions, we expect it to score very well here!\n",
    "\n",
    "In fact, it is probably somewhat overfit to this set. However this is fine, since in the next, we'll train a more powerful end extraction model which will generalize beyond the development set, and which we will evaluate on a blind test set (i.e. one we never looked at during development).\n",
    "\n",
    "\n",
    "### Training the Discriminative Model\n",
    "\n",
    "Now, we'll use the noisy training labels we generated in the last part to train our end extraction model. For this tutorial, we will be training a simple--but fairly effective--logistic regression model.\n",
    "\n",
    "We use the training marginals to train a discriminative model that classifies each Candidate as a true or false mention.\n",
    "\n",
    "In `Fonduer`, we use a new machine learning framework [Emmental](https://github.com/SenWu/emmental) to support all model training."
   ]
  },
  {
   "cell_type": "code",
   "execution_count": 37,
   "metadata": {},
   "outputs": [
    {
     "name": "stderr",
     "output_type": "stream",
     "text": [
      "[2020-04-20 21:25:37,313][INFO] emmental.meta:115 - Setting logging directory to: logs/2020-04-20_20-53-42/2020_04_20/21_25_37/cfaff007\n",
      "[2020-04-20 21:25:37,347][INFO] emmental.meta:63 - Loading Emmental default config from /dfs/scratch1/senwu/mmtl/test/data_augmentation/new_eda5/emmental/src/emmental/emmental-default-config.yaml.\n",
      "[2020-04-20 21:25:37,348][INFO] emmental.meta:169 - Updating Emmental config from user provided config.\n"
     ]
    }
   ],
   "source": [
    "import emmental\n",
    "\n",
    "# Setup training config\n",
    "config = {\n",
    "    \"meta_config\": {\"verbose\": True},\n",
    "    \"model_config\": {\"model_path\": None, \"device\": 0, \"dataparallel\": False},\n",
    "    \"learner_config\": {\n",
    "        \"n_epochs\": 50,\n",
    "        \"optimizer_config\": {\"lr\": 0.001, \"l2\": 0.0},\n",
    "        \"task_scheduler\": \"round_robin\",\n",
    "    },\n",
    "    \"logging_config\": {\n",
    "        \"evaluation_freq\": 1,\n",
    "        \"counter_unit\": \"epoch\",\n",
    "        \"checkpointing\": False,\n",
    "        \"checkpointer_config\": {\n",
    "            \"checkpoint_metric\": {f\"{ATTRIBUTE}/{ATTRIBUTE}/train/loss\": \"min\"},\n",
    "            \"checkpoint_freq\": 1,\n",
    "            \"checkpoint_runway\": 2,\n",
    "            \"clear_intermediate_checkpoints\": True,\n",
    "            \"clear_all_checkpoints\": True,\n",
    "        },\n",
    "    },\n",
    "}\n",
    "\n",
    "emmental.init(Meta.log_path)\n",
    "emmental.Meta.update_config(config=config)"
   ]
  },
  {
   "cell_type": "code",
   "execution_count": 38,
   "metadata": {},
   "outputs": [],
   "source": [
    "# Collect word counter from training data\n",
    "from fonduer.learning.utils import collect_word_counter\n",
    "\n",
    "word_counter = collect_word_counter(train_cands)"
   ]
  },
  {
   "cell_type": "code",
   "execution_count": 39,
   "metadata": {},
   "outputs": [],
   "source": [
    "# Generate word embedding module for LSTM model\n",
    "# (in Logistic Regression, we generate it since Fonduer dataset requires word2id dict)\n",
    "from emmental.modules.embedding_module import EmbeddingModule\n",
    "\n",
    "arity = 2\n",
    "\n",
    "# Geneate special tokens\n",
    "specials = []\n",
    "for i in range(arity):\n",
    "    specials += [f\"~~[[{i}\", f\"{i}]]~~\"]\n",
    "\n",
    "emb_layer = EmbeddingModule(\n",
    "    word_counter=word_counter, word_dim=300, specials=specials\n",
    ")"
   ]
  },
  {
   "cell_type": "code",
   "execution_count": 40,
   "metadata": {},
   "outputs": [],
   "source": [
    "# Generate dataloader for training set\n",
    "from emmental.data import EmmentalDataLoader\n",
    "from fonduer.learning.dataset import FonduerDataset\n",
    "import numpy as np\n",
    "\n",
    "# Filter out noise samples\n",
    "diffs = train_marginals.max(axis=1) - train_marginals.min(axis=1)\n",
    "train_idxs = np.where(diffs > 1e-6)[0]\n",
    "\n",
    "train_dataloader = EmmentalDataLoader(\n",
    "    task_to_label_dict={ATTRIBUTE: \"labels\"},\n",
    "    dataset=FonduerDataset(\n",
    "        ATTRIBUTE,\n",
    "        train_cands[0],\n",
    "        F_train[0],\n",
    "        emb_layer.word2id,\n",
    "        train_marginals,\n",
    "        train_idxs,\n",
    "    ),\n",
    "    split=\"train\",\n",
    "    batch_size=100,\n",
    "    shuffle=True,\n",
    ")"
   ]
  },
  {
   "cell_type": "code",
   "execution_count": 41,
   "metadata": {},
   "outputs": [
    {
     "name": "stderr",
     "output_type": "stream",
     "text": [
      "[2020-04-20 21:26:30,769][INFO] fonduer.learning.task:87 - LogisticRegression model config: {'hidden_dim': 100, 'bias': False}\n",
      "[2020-04-20 21:26:30,933][INFO] emmental.task:50 - Created task: stg_temp_max\n",
      "[2020-04-20 21:26:30,935][INFO] emmental.model:56 - Created emmental model stg_temp_max_task that contains task set().\n",
      "[2020-04-20 21:26:30,940][INFO] emmental.model:70 - Moving model to GPU (cuda:0).\n",
      "[2020-04-20 21:26:30,942][INFO] emmental.model:70 - Moving model to GPU (cuda:0).\n",
      "[2020-04-20 21:26:35,158][INFO] emmental.logging.logging_manager:38 - Evaluating every 1 epoch.\n",
      "[2020-04-20 21:26:35,161][INFO] emmental.logging.logging_manager:59 - No checkpointing.\n",
      "[2020-04-20 21:26:35,189][INFO] emmental.learner:101 - Using optimizer Adam (\n",
      "Parameter Group 0\n",
      "    amsgrad: False\n",
      "    betas: (0.9, 0.999)\n",
      "    eps: 1e-08\n",
      "    lr: 0.001\n",
      "    weight_decay: 0.0\n",
      ")\n",
      "[2020-04-20 21:26:35,190][INFO] emmental.learner:190 - Using lr_scheduler None with step every 1 batch.\n",
      "[2020-04-20 21:26:35,192][INFO] emmental.learner:539 - Start learning...\n"
     ]
    },
    {
     "data": {
      "application/vnd.jupyter.widget-view+json": {
       "model_id": "3e3111e3f5fd46c5a80886037e84c5f3",
       "version_major": 2,
       "version_minor": 0
      },
      "text/plain": [
       "HBox(children=(FloatProgress(value=0.0, description='Epoch 0:', max=27.0, style=ProgressStyle(description_widt…"
      ]
     },
     "metadata": {},
     "output_type": "display_data"
    },
    {
     "name": "stderr",
     "output_type": "stream",
     "text": [
      "/dfs/scratch1/senwu/mmtl/test/fonduer/src/fonduer/learning/task.py:42: UserWarning: Implicit dimension choice for softmax has been deprecated. Change the call to include dim=X as an argument.\n",
      "  return F.softmax(intermediate_output_dict[module_name][0])\n",
      "/lfs/local/0/senwu/.venv_hack_tecs/lib/python3.6/site-packages/numpy/core/fromnumeric.py:3335: RuntimeWarning: Mean of empty slice.\n",
      "  out=out, **kwargs)\n",
      "/lfs/local/0/senwu/.venv_hack_tecs/lib/python3.6/site-packages/numpy/core/_methods.py:161: RuntimeWarning: invalid value encountered in double_scalars\n",
      "  ret = ret.dtype.type(ret / rcount)\n",
      "[2020-04-20 21:26:36,079][INFO] emmental.learner:392 - Epoch: 1.00 {'stg_temp_max/stg_temp_max/train/loss': 0.05179595725631752, 'model/all/train/loss': 0.05179595725631752, 'stg_temp_max/stg_temp_max/train/accuracy': 0.9636498516320475, 'stg_temp_max/stg_temp_max/train/precision': 1.0, 'stg_temp_max/stg_temp_max/train/recall': 0.9636498516320475, 'stg_temp_max/stg_temp_max/train/f1': 0.9814884775217227, 'stg_temp_max/stg_temp_max/train/average': 0.9771970451964545, 'model/all/train/micro_average': 0.9771970451964545, 'model/all/train/macro_average': 0.9771970451964545, 'model/all/train/lr': 0.001, 'model/all/all/micro_average': nan, 'model/all/all/macro_average': nan, 'model/all/all/loss': nan}\n"
     ]
    },
    {
     "name": "stdout",
     "output_type": "stream",
     "text": [
      "\n"
     ]
    },
    {
     "data": {
      "application/vnd.jupyter.widget-view+json": {
       "model_id": "1dcd9857d91840429f7fc58c419f2c91",
       "version_major": 2,
       "version_minor": 0
      },
      "text/plain": [
       "HBox(children=(FloatProgress(value=0.0, description='Epoch 1:', max=27.0, style=ProgressStyle(description_widt…"
      ]
     },
     "metadata": {},
     "output_type": "display_data"
    },
    {
     "name": "stderr",
     "output_type": "stream",
     "text": [
      "[2020-04-20 21:26:36,896][INFO] emmental.learner:392 - Epoch: 2.00 {'stg_temp_max/stg_temp_max/train/loss': 0.00013235022504060897, 'model/all/train/loss': 0.00013235022504060897, 'stg_temp_max/stg_temp_max/train/accuracy': 1.0, 'stg_temp_max/stg_temp_max/train/precision': 1.0, 'stg_temp_max/stg_temp_max/train/recall': 1.0, 'stg_temp_max/stg_temp_max/train/f1': 1.0, 'stg_temp_max/stg_temp_max/train/average': 1.0, 'model/all/train/micro_average': 1.0, 'model/all/train/macro_average': 1.0, 'model/all/train/lr': 0.001, 'model/all/all/micro_average': nan, 'model/all/all/macro_average': nan, 'model/all/all/loss': nan}\n"
     ]
    },
    {
     "name": "stdout",
     "output_type": "stream",
     "text": [
      "\n"
     ]
    },
    {
     "data": {
      "application/vnd.jupyter.widget-view+json": {
       "model_id": "e2aa24ff25c24832a3f91f8412bdce3a",
       "version_major": 2,
       "version_minor": 0
      },
      "text/plain": [
       "HBox(children=(FloatProgress(value=0.0, description='Epoch 2:', max=27.0, style=ProgressStyle(description_widt…"
      ]
     },
     "metadata": {},
     "output_type": "display_data"
    },
    {
     "name": "stderr",
     "output_type": "stream",
     "text": [
      "[2020-04-20 21:26:37,673][INFO] emmental.learner:392 - Epoch: 3.00 {'stg_temp_max/stg_temp_max/train/loss': 0.00012038995430261402, 'model/all/train/loss': 0.00012038995430261402, 'stg_temp_max/stg_temp_max/train/accuracy': 1.0, 'stg_temp_max/stg_temp_max/train/precision': 1.0, 'stg_temp_max/stg_temp_max/train/recall': 1.0, 'stg_temp_max/stg_temp_max/train/f1': 1.0, 'stg_temp_max/stg_temp_max/train/average': 1.0, 'model/all/train/micro_average': 1.0, 'model/all/train/macro_average': 1.0, 'model/all/train/lr': 0.001, 'model/all/all/micro_average': nan, 'model/all/all/macro_average': nan, 'model/all/all/loss': nan}\n"
     ]
    },
    {
     "name": "stdout",
     "output_type": "stream",
     "text": [
      "\n"
     ]
    },
    {
     "data": {
      "application/vnd.jupyter.widget-view+json": {
       "model_id": "52af7bd9bcc24a21b981348201d312f3",
       "version_major": 2,
       "version_minor": 0
      },
      "text/plain": [
       "HBox(children=(FloatProgress(value=0.0, description='Epoch 3:', max=27.0, style=ProgressStyle(description_widt…"
      ]
     },
     "metadata": {},
     "output_type": "display_data"
    },
    {
     "name": "stderr",
     "output_type": "stream",
     "text": [
      "[2020-04-20 21:26:38,496][INFO] emmental.learner:392 - Epoch: 4.00 {'stg_temp_max/stg_temp_max/train/loss': 0.00011830532486826521, 'model/all/train/loss': 0.00011830532486826521, 'stg_temp_max/stg_temp_max/train/accuracy': 1.0, 'stg_temp_max/stg_temp_max/train/precision': 1.0, 'stg_temp_max/stg_temp_max/train/recall': 1.0, 'stg_temp_max/stg_temp_max/train/f1': 1.0, 'stg_temp_max/stg_temp_max/train/average': 1.0, 'model/all/train/micro_average': 1.0, 'model/all/train/macro_average': 1.0, 'model/all/train/lr': 0.001, 'model/all/all/micro_average': nan, 'model/all/all/macro_average': nan, 'model/all/all/loss': nan}\n"
     ]
    },
    {
     "name": "stdout",
     "output_type": "stream",
     "text": [
      "\n"
     ]
    },
    {
     "data": {
      "application/vnd.jupyter.widget-view+json": {
       "model_id": "0ded16ae41f4436880b244e30953a083",
       "version_major": 2,
       "version_minor": 0
      },
      "text/plain": [
       "HBox(children=(FloatProgress(value=0.0, description='Epoch 4:', max=27.0, style=ProgressStyle(description_widt…"
      ]
     },
     "metadata": {},
     "output_type": "display_data"
    },
    {
     "name": "stderr",
     "output_type": "stream",
     "text": [
      "[2020-04-20 21:26:39,363][INFO] emmental.learner:392 - Epoch: 5.00 {'stg_temp_max/stg_temp_max/train/loss': 0.00011692590351635866, 'model/all/train/loss': 0.00011692590351635866, 'stg_temp_max/stg_temp_max/train/accuracy': 1.0, 'stg_temp_max/stg_temp_max/train/precision': 1.0, 'stg_temp_max/stg_temp_max/train/recall': 1.0, 'stg_temp_max/stg_temp_max/train/f1': 1.0, 'stg_temp_max/stg_temp_max/train/average': 1.0, 'model/all/train/micro_average': 1.0, 'model/all/train/macro_average': 1.0, 'model/all/train/lr': 0.001, 'model/all/all/micro_average': nan, 'model/all/all/macro_average': nan, 'model/all/all/loss': nan}\n"
     ]
    },
    {
     "name": "stdout",
     "output_type": "stream",
     "text": [
      "\n"
     ]
    },
    {
     "data": {
      "application/vnd.jupyter.widget-view+json": {
       "model_id": "d8fbb3ba53db417e84d93de49a92251d",
       "version_major": 2,
       "version_minor": 0
      },
      "text/plain": [
       "HBox(children=(FloatProgress(value=0.0, description='Epoch 5:', max=27.0, style=ProgressStyle(description_widt…"
      ]
     },
     "metadata": {},
     "output_type": "display_data"
    },
    {
     "name": "stderr",
     "output_type": "stream",
     "text": [
      "[2020-04-20 21:26:40,172][INFO] emmental.learner:392 - Epoch: 6.00 {'stg_temp_max/stg_temp_max/train/loss': 0.00011552115768660205, 'model/all/train/loss': 0.00011552115768660205, 'stg_temp_max/stg_temp_max/train/accuracy': 1.0, 'stg_temp_max/stg_temp_max/train/precision': 1.0, 'stg_temp_max/stg_temp_max/train/recall': 1.0, 'stg_temp_max/stg_temp_max/train/f1': 1.0, 'stg_temp_max/stg_temp_max/train/average': 1.0, 'model/all/train/micro_average': 1.0, 'model/all/train/macro_average': 1.0, 'model/all/train/lr': 0.001, 'model/all/all/micro_average': nan, 'model/all/all/macro_average': nan, 'model/all/all/loss': nan}\n"
     ]
    },
    {
     "name": "stdout",
     "output_type": "stream",
     "text": [
      "\n"
     ]
    },
    {
     "data": {
      "application/vnd.jupyter.widget-view+json": {
       "model_id": "e739b76594ab4bbdaf823e98a3abe2af",
       "version_major": 2,
       "version_minor": 0
      },
      "text/plain": [
       "HBox(children=(FloatProgress(value=0.0, description='Epoch 6:', max=27.0, style=ProgressStyle(description_widt…"
      ]
     },
     "metadata": {},
     "output_type": "display_data"
    },
    {
     "name": "stderr",
     "output_type": "stream",
     "text": [
      "[2020-04-20 21:26:40,982][INFO] emmental.learner:392 - Epoch: 7.00 {'stg_temp_max/stg_temp_max/train/loss': 0.00011423139800355585, 'model/all/train/loss': 0.00011423139800355585, 'stg_temp_max/stg_temp_max/train/accuracy': 1.0, 'stg_temp_max/stg_temp_max/train/precision': 1.0, 'stg_temp_max/stg_temp_max/train/recall': 1.0, 'stg_temp_max/stg_temp_max/train/f1': 1.0, 'stg_temp_max/stg_temp_max/train/average': 1.0, 'model/all/train/micro_average': 1.0, 'model/all/train/macro_average': 1.0, 'model/all/train/lr': 0.001, 'model/all/all/micro_average': nan, 'model/all/all/macro_average': nan, 'model/all/all/loss': nan}\n"
     ]
    },
    {
     "name": "stdout",
     "output_type": "stream",
     "text": [
      "\n"
     ]
    },
    {
     "data": {
      "application/vnd.jupyter.widget-view+json": {
       "model_id": "c1936adbf6884d4494fae40d31ae1c61",
       "version_major": 2,
       "version_minor": 0
      },
      "text/plain": [
       "HBox(children=(FloatProgress(value=0.0, description='Epoch 7:', max=27.0, style=ProgressStyle(description_widt…"
      ]
     },
     "metadata": {},
     "output_type": "display_data"
    },
    {
     "name": "stderr",
     "output_type": "stream",
     "text": [
      "[2020-04-20 21:26:41,910][INFO] emmental.learner:392 - Epoch: 8.00 {'stg_temp_max/stg_temp_max/train/loss': 0.0001129790645294639, 'model/all/train/loss': 0.0001129790645294639, 'stg_temp_max/stg_temp_max/train/accuracy': 1.0, 'stg_temp_max/stg_temp_max/train/precision': 1.0, 'stg_temp_max/stg_temp_max/train/recall': 1.0, 'stg_temp_max/stg_temp_max/train/f1': 1.0, 'stg_temp_max/stg_temp_max/train/average': 1.0, 'model/all/train/micro_average': 1.0, 'model/all/train/macro_average': 1.0, 'model/all/train/lr': 0.001, 'model/all/all/micro_average': nan, 'model/all/all/macro_average': nan, 'model/all/all/loss': nan}\n"
     ]
    },
    {
     "name": "stdout",
     "output_type": "stream",
     "text": [
      "\n"
     ]
    },
    {
     "data": {
      "application/vnd.jupyter.widget-view+json": {
       "model_id": "ab47970545f0405284f6ccacd7e738f9",
       "version_major": 2,
       "version_minor": 0
      },
      "text/plain": [
       "HBox(children=(FloatProgress(value=0.0, description='Epoch 8:', max=27.0, style=ProgressStyle(description_widt…"
      ]
     },
     "metadata": {},
     "output_type": "display_data"
    },
    {
     "name": "stderr",
     "output_type": "stream",
     "text": [
      "[2020-04-20 21:26:42,866][INFO] emmental.learner:392 - Epoch: 9.00 {'stg_temp_max/stg_temp_max/train/loss': 0.00011179436008823837, 'model/all/train/loss': 0.00011179436008823837, 'stg_temp_max/stg_temp_max/train/accuracy': 1.0, 'stg_temp_max/stg_temp_max/train/precision': 1.0, 'stg_temp_max/stg_temp_max/train/recall': 1.0, 'stg_temp_max/stg_temp_max/train/f1': 1.0, 'stg_temp_max/stg_temp_max/train/average': 1.0, 'model/all/train/micro_average': 1.0, 'model/all/train/macro_average': 1.0, 'model/all/train/lr': 0.001, 'model/all/all/micro_average': nan, 'model/all/all/macro_average': nan, 'model/all/all/loss': nan}\n"
     ]
    },
    {
     "name": "stdout",
     "output_type": "stream",
     "text": [
      "\n"
     ]
    },
    {
     "data": {
      "application/vnd.jupyter.widget-view+json": {
       "model_id": "d0a09ab39a094427bd057c0db8a1b907",
       "version_major": 2,
       "version_minor": 0
      },
      "text/plain": [
       "HBox(children=(FloatProgress(value=0.0, description='Epoch 9:', max=27.0, style=ProgressStyle(description_widt…"
      ]
     },
     "metadata": {},
     "output_type": "display_data"
    },
    {
     "name": "stderr",
     "output_type": "stream",
     "text": [
      "[2020-04-20 21:26:43,827][INFO] emmental.learner:392 - Epoch: 10.00 {'stg_temp_max/stg_temp_max/train/loss': 0.00011073761562499333, 'model/all/train/loss': 0.00011073761562499333, 'stg_temp_max/stg_temp_max/train/accuracy': 1.0, 'stg_temp_max/stg_temp_max/train/precision': 1.0, 'stg_temp_max/stg_temp_max/train/recall': 1.0, 'stg_temp_max/stg_temp_max/train/f1': 1.0, 'stg_temp_max/stg_temp_max/train/average': 1.0, 'model/all/train/micro_average': 1.0, 'model/all/train/macro_average': 1.0, 'model/all/train/lr': 0.001, 'model/all/all/micro_average': nan, 'model/all/all/macro_average': nan, 'model/all/all/loss': nan}\n"
     ]
    },
    {
     "name": "stdout",
     "output_type": "stream",
     "text": [
      "\n"
     ]
    },
    {
     "data": {
      "application/vnd.jupyter.widget-view+json": {
       "model_id": "5ef27be3019443c0a9abbeab627e3e4c",
       "version_major": 2,
       "version_minor": 0
      },
      "text/plain": [
       "HBox(children=(FloatProgress(value=0.0, description='Epoch 10:', max=27.0, style=ProgressStyle(description_wid…"
      ]
     },
     "metadata": {},
     "output_type": "display_data"
    },
    {
     "name": "stderr",
     "output_type": "stream",
     "text": [
      "[2020-04-20 21:26:44,760][INFO] emmental.learner:392 - Epoch: 11.00 {'stg_temp_max/stg_temp_max/train/loss': 0.0001096987777144492, 'model/all/train/loss': 0.0001096987777144492, 'stg_temp_max/stg_temp_max/train/accuracy': 1.0, 'stg_temp_max/stg_temp_max/train/precision': 1.0, 'stg_temp_max/stg_temp_max/train/recall': 1.0, 'stg_temp_max/stg_temp_max/train/f1': 1.0, 'stg_temp_max/stg_temp_max/train/average': 1.0, 'model/all/train/micro_average': 1.0, 'model/all/train/macro_average': 1.0, 'model/all/train/lr': 0.001, 'model/all/all/micro_average': nan, 'model/all/all/macro_average': nan, 'model/all/all/loss': nan}\n"
     ]
    },
    {
     "name": "stdout",
     "output_type": "stream",
     "text": [
      "\n"
     ]
    },
    {
     "data": {
      "application/vnd.jupyter.widget-view+json": {
       "model_id": "806703c4757643baa1c1f7f038b301a3",
       "version_major": 2,
       "version_minor": 0
      },
      "text/plain": [
       "HBox(children=(FloatProgress(value=0.0, description='Epoch 11:', max=27.0, style=ProgressStyle(description_wid…"
      ]
     },
     "metadata": {},
     "output_type": "display_data"
    },
    {
     "name": "stderr",
     "output_type": "stream",
     "text": [
      "[2020-04-20 21:26:45,696][INFO] emmental.learner:392 - Epoch: 12.00 {'stg_temp_max/stg_temp_max/train/loss': 0.00010878091995250773, 'model/all/train/loss': 0.00010878091995250773, 'stg_temp_max/stg_temp_max/train/accuracy': 1.0, 'stg_temp_max/stg_temp_max/train/precision': 1.0, 'stg_temp_max/stg_temp_max/train/recall': 1.0, 'stg_temp_max/stg_temp_max/train/f1': 1.0, 'stg_temp_max/stg_temp_max/train/average': 1.0, 'model/all/train/micro_average': 1.0, 'model/all/train/macro_average': 1.0, 'model/all/train/lr': 0.001, 'model/all/all/micro_average': nan, 'model/all/all/macro_average': nan, 'model/all/all/loss': nan}\n"
     ]
    },
    {
     "name": "stdout",
     "output_type": "stream",
     "text": [
      "\n"
     ]
    },
    {
     "data": {
      "application/vnd.jupyter.widget-view+json": {
       "model_id": "f8b3b9a0ec234d8b8c93bf268cb33bfb",
       "version_major": 2,
       "version_minor": 0
      },
      "text/plain": [
       "HBox(children=(FloatProgress(value=0.0, description='Epoch 12:', max=27.0, style=ProgressStyle(description_wid…"
      ]
     },
     "metadata": {},
     "output_type": "display_data"
    },
    {
     "name": "stderr",
     "output_type": "stream",
     "text": [
      "[2020-04-20 21:26:46,606][INFO] emmental.learner:392 - Epoch: 13.00 {'stg_temp_max/stg_temp_max/train/loss': 0.00010788206474645511, 'model/all/train/loss': 0.00010788206474645511, 'stg_temp_max/stg_temp_max/train/accuracy': 1.0, 'stg_temp_max/stg_temp_max/train/precision': 1.0, 'stg_temp_max/stg_temp_max/train/recall': 1.0, 'stg_temp_max/stg_temp_max/train/f1': 1.0, 'stg_temp_max/stg_temp_max/train/average': 1.0, 'model/all/train/micro_average': 1.0, 'model/all/train/macro_average': 1.0, 'model/all/train/lr': 0.001, 'model/all/all/micro_average': nan, 'model/all/all/macro_average': nan, 'model/all/all/loss': nan}\n"
     ]
    },
    {
     "name": "stdout",
     "output_type": "stream",
     "text": [
      "\n"
     ]
    },
    {
     "data": {
      "application/vnd.jupyter.widget-view+json": {
       "model_id": "9ad858c6cb804e069e406a4500efa41a",
       "version_major": 2,
       "version_minor": 0
      },
      "text/plain": [
       "HBox(children=(FloatProgress(value=0.0, description='Epoch 13:', max=27.0, style=ProgressStyle(description_wid…"
      ]
     },
     "metadata": {},
     "output_type": "display_data"
    },
    {
     "name": "stderr",
     "output_type": "stream",
     "text": [
      "[2020-04-20 21:26:47,516][INFO] emmental.learner:392 - Epoch: 14.00 {'stg_temp_max/stg_temp_max/train/loss': 0.00010704151280891035, 'model/all/train/loss': 0.00010704151280891035, 'stg_temp_max/stg_temp_max/train/accuracy': 1.0, 'stg_temp_max/stg_temp_max/train/precision': 1.0, 'stg_temp_max/stg_temp_max/train/recall': 1.0, 'stg_temp_max/stg_temp_max/train/f1': 1.0, 'stg_temp_max/stg_temp_max/train/average': 1.0, 'model/all/train/micro_average': 1.0, 'model/all/train/macro_average': 1.0, 'model/all/train/lr': 0.001, 'model/all/all/micro_average': nan, 'model/all/all/macro_average': nan, 'model/all/all/loss': nan}\n"
     ]
    },
    {
     "name": "stdout",
     "output_type": "stream",
     "text": [
      "\n"
     ]
    },
    {
     "data": {
      "application/vnd.jupyter.widget-view+json": {
       "model_id": "7cc6d6147a694bd082169f5d33b0e33b",
       "version_major": 2,
       "version_minor": 0
      },
      "text/plain": [
       "HBox(children=(FloatProgress(value=0.0, description='Epoch 14:', max=27.0, style=ProgressStyle(description_wid…"
      ]
     },
     "metadata": {},
     "output_type": "display_data"
    },
    {
     "name": "stderr",
     "output_type": "stream",
     "text": [
      "[2020-04-20 21:26:48,457][INFO] emmental.learner:392 - Epoch: 15.00 {'stg_temp_max/stg_temp_max/train/loss': 0.00010628562461585152, 'model/all/train/loss': 0.00010628562461585152, 'stg_temp_max/stg_temp_max/train/accuracy': 1.0, 'stg_temp_max/stg_temp_max/train/precision': 1.0, 'stg_temp_max/stg_temp_max/train/recall': 1.0, 'stg_temp_max/stg_temp_max/train/f1': 1.0, 'stg_temp_max/stg_temp_max/train/average': 1.0, 'model/all/train/micro_average': 1.0, 'model/all/train/macro_average': 1.0, 'model/all/train/lr': 0.001, 'model/all/all/micro_average': nan, 'model/all/all/macro_average': nan, 'model/all/all/loss': nan}\n"
     ]
    },
    {
     "name": "stdout",
     "output_type": "stream",
     "text": [
      "\n"
     ]
    },
    {
     "data": {
      "application/vnd.jupyter.widget-view+json": {
       "model_id": "a45dd96766e54a22abc280203ea0d7a8",
       "version_major": 2,
       "version_minor": 0
      },
      "text/plain": [
       "HBox(children=(FloatProgress(value=0.0, description='Epoch 15:', max=27.0, style=ProgressStyle(description_wid…"
      ]
     },
     "metadata": {},
     "output_type": "display_data"
    },
    {
     "name": "stderr",
     "output_type": "stream",
     "text": [
      "[2020-04-20 21:26:49,363][INFO] emmental.learner:392 - Epoch: 16.00 {'stg_temp_max/stg_temp_max/train/loss': 0.00010553800528413907, 'model/all/train/loss': 0.00010553800528413907, 'stg_temp_max/stg_temp_max/train/accuracy': 1.0, 'stg_temp_max/stg_temp_max/train/precision': 1.0, 'stg_temp_max/stg_temp_max/train/recall': 1.0, 'stg_temp_max/stg_temp_max/train/f1': 1.0, 'stg_temp_max/stg_temp_max/train/average': 1.0, 'model/all/train/micro_average': 1.0, 'model/all/train/macro_average': 1.0, 'model/all/train/lr': 0.001, 'model/all/all/micro_average': nan, 'model/all/all/macro_average': nan, 'model/all/all/loss': nan}\n"
     ]
    },
    {
     "name": "stdout",
     "output_type": "stream",
     "text": [
      "\n"
     ]
    },
    {
     "data": {
      "application/vnd.jupyter.widget-view+json": {
       "model_id": "aaec96173645435287121777f4ceb6ec",
       "version_major": 2,
       "version_minor": 0
      },
      "text/plain": [
       "HBox(children=(FloatProgress(value=0.0, description='Epoch 16:', max=27.0, style=ProgressStyle(description_wid…"
      ]
     },
     "metadata": {},
     "output_type": "display_data"
    },
    {
     "name": "stderr",
     "output_type": "stream",
     "text": [
      "[2020-04-20 21:26:50,273][INFO] emmental.learner:392 - Epoch: 17.00 {'stg_temp_max/stg_temp_max/train/loss': 0.00010484103059005102, 'model/all/train/loss': 0.00010484103059005102, 'stg_temp_max/stg_temp_max/train/accuracy': 1.0, 'stg_temp_max/stg_temp_max/train/precision': 1.0, 'stg_temp_max/stg_temp_max/train/recall': 1.0, 'stg_temp_max/stg_temp_max/train/f1': 1.0, 'stg_temp_max/stg_temp_max/train/average': 1.0, 'model/all/train/micro_average': 1.0, 'model/all/train/macro_average': 1.0, 'model/all/train/lr': 0.001, 'model/all/all/micro_average': nan, 'model/all/all/macro_average': nan, 'model/all/all/loss': nan}\n"
     ]
    },
    {
     "name": "stdout",
     "output_type": "stream",
     "text": [
      "\n"
     ]
    },
    {
     "data": {
      "application/vnd.jupyter.widget-view+json": {
       "model_id": "5b5ca6f552eb4d9bbd691587eef94c42",
       "version_major": 2,
       "version_minor": 0
      },
      "text/plain": [
       "HBox(children=(FloatProgress(value=0.0, description='Epoch 17:', max=27.0, style=ProgressStyle(description_wid…"
      ]
     },
     "metadata": {},
     "output_type": "display_data"
    },
    {
     "name": "stderr",
     "output_type": "stream",
     "text": [
      "[2020-04-20 21:26:51,182][INFO] emmental.learner:392 - Epoch: 18.00 {'stg_temp_max/stg_temp_max/train/loss': 0.00010419751850441472, 'model/all/train/loss': 0.00010419751850441472, 'stg_temp_max/stg_temp_max/train/accuracy': 1.0, 'stg_temp_max/stg_temp_max/train/precision': 1.0, 'stg_temp_max/stg_temp_max/train/recall': 1.0, 'stg_temp_max/stg_temp_max/train/f1': 1.0, 'stg_temp_max/stg_temp_max/train/average': 1.0, 'model/all/train/micro_average': 1.0, 'model/all/train/macro_average': 1.0, 'model/all/train/lr': 0.001, 'model/all/all/micro_average': nan, 'model/all/all/macro_average': nan, 'model/all/all/loss': nan}\n"
     ]
    },
    {
     "name": "stdout",
     "output_type": "stream",
     "text": [
      "\n"
     ]
    },
    {
     "data": {
      "application/vnd.jupyter.widget-view+json": {
       "model_id": "bf13bc4cb393497ebbee289c98488387",
       "version_major": 2,
       "version_minor": 0
      },
      "text/plain": [
       "HBox(children=(FloatProgress(value=0.0, description='Epoch 18:', max=27.0, style=ProgressStyle(description_wid…"
      ]
     },
     "metadata": {},
     "output_type": "display_data"
    },
    {
     "name": "stderr",
     "output_type": "stream",
     "text": [
      "[2020-04-20 21:26:52,134][INFO] emmental.learner:392 - Epoch: 19.00 {'stg_temp_max/stg_temp_max/train/loss': 0.0001035802920786968, 'model/all/train/loss': 0.0001035802920786968, 'stg_temp_max/stg_temp_max/train/accuracy': 1.0, 'stg_temp_max/stg_temp_max/train/precision': 1.0, 'stg_temp_max/stg_temp_max/train/recall': 1.0, 'stg_temp_max/stg_temp_max/train/f1': 1.0, 'stg_temp_max/stg_temp_max/train/average': 1.0, 'model/all/train/micro_average': 1.0, 'model/all/train/macro_average': 1.0, 'model/all/train/lr': 0.001, 'model/all/all/micro_average': nan, 'model/all/all/macro_average': nan, 'model/all/all/loss': nan}\n"
     ]
    },
    {
     "name": "stdout",
     "output_type": "stream",
     "text": [
      "\n"
     ]
    },
    {
     "data": {
      "application/vnd.jupyter.widget-view+json": {
       "model_id": "e2a41f3317b549aa8e804ff5dec6559f",
       "version_major": 2,
       "version_minor": 0
      },
      "text/plain": [
       "HBox(children=(FloatProgress(value=0.0, description='Epoch 19:', max=27.0, style=ProgressStyle(description_wid…"
      ]
     },
     "metadata": {},
     "output_type": "display_data"
    },
    {
     "name": "stderr",
     "output_type": "stream",
     "text": [
      "[2020-04-20 21:26:53,123][INFO] emmental.learner:392 - Epoch: 20.00 {'stg_temp_max/stg_temp_max/train/loss': 0.00010300275171607407, 'model/all/train/loss': 0.00010300275171607407, 'stg_temp_max/stg_temp_max/train/accuracy': 1.0, 'stg_temp_max/stg_temp_max/train/precision': 1.0, 'stg_temp_max/stg_temp_max/train/recall': 1.0, 'stg_temp_max/stg_temp_max/train/f1': 1.0, 'stg_temp_max/stg_temp_max/train/average': 1.0, 'model/all/train/micro_average': 1.0, 'model/all/train/macro_average': 1.0, 'model/all/train/lr': 0.001, 'model/all/all/micro_average': nan, 'model/all/all/macro_average': nan, 'model/all/all/loss': nan}\n"
     ]
    },
    {
     "name": "stdout",
     "output_type": "stream",
     "text": [
      "\n"
     ]
    },
    {
     "data": {
      "application/vnd.jupyter.widget-view+json": {
       "model_id": "e501f07f0d2047bc9cb6eafa7c7457db",
       "version_major": 2,
       "version_minor": 0
      },
      "text/plain": [
       "HBox(children=(FloatProgress(value=0.0, description='Epoch 20:', max=27.0, style=ProgressStyle(description_wid…"
      ]
     },
     "metadata": {},
     "output_type": "display_data"
    },
    {
     "name": "stderr",
     "output_type": "stream",
     "text": [
      "[2020-04-20 21:26:54,065][INFO] emmental.learner:392 - Epoch: 21.00 {'stg_temp_max/stg_temp_max/train/loss': 0.00010243893858098538, 'model/all/train/loss': 0.00010243893858098538, 'stg_temp_max/stg_temp_max/train/accuracy': 1.0, 'stg_temp_max/stg_temp_max/train/precision': 1.0, 'stg_temp_max/stg_temp_max/train/recall': 1.0, 'stg_temp_max/stg_temp_max/train/f1': 1.0, 'stg_temp_max/stg_temp_max/train/average': 1.0, 'model/all/train/micro_average': 1.0, 'model/all/train/macro_average': 1.0, 'model/all/train/lr': 0.001, 'model/all/all/micro_average': nan, 'model/all/all/macro_average': nan, 'model/all/all/loss': nan}\n"
     ]
    },
    {
     "name": "stdout",
     "output_type": "stream",
     "text": [
      "\n"
     ]
    },
    {
     "data": {
      "application/vnd.jupyter.widget-view+json": {
       "model_id": "54c8ebe0d28043c3ac7bd3890b0d8c9f",
       "version_major": 2,
       "version_minor": 0
      },
      "text/plain": [
       "HBox(children=(FloatProgress(value=0.0, description='Epoch 21:', max=27.0, style=ProgressStyle(description_wid…"
      ]
     },
     "metadata": {},
     "output_type": "display_data"
    },
    {
     "name": "stderr",
     "output_type": "stream",
     "text": [
      "[2020-04-20 21:26:55,001][INFO] emmental.learner:392 - Epoch: 22.00 {'stg_temp_max/stg_temp_max/train/loss': 0.00010190629761304031, 'model/all/train/loss': 0.00010190629761304031, 'stg_temp_max/stg_temp_max/train/accuracy': 1.0, 'stg_temp_max/stg_temp_max/train/precision': 1.0, 'stg_temp_max/stg_temp_max/train/recall': 1.0, 'stg_temp_max/stg_temp_max/train/f1': 1.0, 'stg_temp_max/stg_temp_max/train/average': 1.0, 'model/all/train/micro_average': 1.0, 'model/all/train/macro_average': 1.0, 'model/all/train/lr': 0.001, 'model/all/all/micro_average': nan, 'model/all/all/macro_average': nan, 'model/all/all/loss': nan}\n"
     ]
    },
    {
     "name": "stdout",
     "output_type": "stream",
     "text": [
      "\n"
     ]
    },
    {
     "data": {
      "application/vnd.jupyter.widget-view+json": {
       "model_id": "76c106a3944842bdbf97bf2cb1ac3d8e",
       "version_major": 2,
       "version_minor": 0
      },
      "text/plain": [
       "HBox(children=(FloatProgress(value=0.0, description='Epoch 22:', max=27.0, style=ProgressStyle(description_wid…"
      ]
     },
     "metadata": {},
     "output_type": "display_data"
    },
    {
     "name": "stderr",
     "output_type": "stream",
     "text": [
      "[2020-04-20 21:26:55,912][INFO] emmental.learner:392 - Epoch: 23.00 {'stg_temp_max/stg_temp_max/train/loss': 0.00010139073247559098, 'model/all/train/loss': 0.00010139073247559098, 'stg_temp_max/stg_temp_max/train/accuracy': 1.0, 'stg_temp_max/stg_temp_max/train/precision': 1.0, 'stg_temp_max/stg_temp_max/train/recall': 1.0, 'stg_temp_max/stg_temp_max/train/f1': 1.0, 'stg_temp_max/stg_temp_max/train/average': 1.0, 'model/all/train/micro_average': 1.0, 'model/all/train/macro_average': 1.0, 'model/all/train/lr': 0.001, 'model/all/all/micro_average': nan, 'model/all/all/macro_average': nan, 'model/all/all/loss': nan}\n"
     ]
    },
    {
     "name": "stdout",
     "output_type": "stream",
     "text": [
      "\n"
     ]
    },
    {
     "data": {
      "application/vnd.jupyter.widget-view+json": {
       "model_id": "46eaab9362db4e0fa529105b1f6bc2f4",
       "version_major": 2,
       "version_minor": 0
      },
      "text/plain": [
       "HBox(children=(FloatProgress(value=0.0, description='Epoch 23:', max=27.0, style=ProgressStyle(description_wid…"
      ]
     },
     "metadata": {},
     "output_type": "display_data"
    },
    {
     "name": "stderr",
     "output_type": "stream",
     "text": [
      "[2020-04-20 21:26:56,851][INFO] emmental.learner:392 - Epoch: 24.00 {'stg_temp_max/stg_temp_max/train/loss': 0.0001008943637972214, 'model/all/train/loss': 0.0001008943637972214, 'stg_temp_max/stg_temp_max/train/accuracy': 1.0, 'stg_temp_max/stg_temp_max/train/precision': 1.0, 'stg_temp_max/stg_temp_max/train/recall': 1.0, 'stg_temp_max/stg_temp_max/train/f1': 1.0, 'stg_temp_max/stg_temp_max/train/average': 1.0, 'model/all/train/micro_average': 1.0, 'model/all/train/macro_average': 1.0, 'model/all/train/lr': 0.001, 'model/all/all/micro_average': nan, 'model/all/all/macro_average': nan, 'model/all/all/loss': nan}\n"
     ]
    },
    {
     "name": "stdout",
     "output_type": "stream",
     "text": [
      "\n"
     ]
    },
    {
     "data": {
      "application/vnd.jupyter.widget-view+json": {
       "model_id": "36e2283cf3bf497b9f3a73493f39b3cd",
       "version_major": 2,
       "version_minor": 0
      },
      "text/plain": [
       "HBox(children=(FloatProgress(value=0.0, description='Epoch 24:', max=27.0, style=ProgressStyle(description_wid…"
      ]
     },
     "metadata": {},
     "output_type": "display_data"
    },
    {
     "name": "stderr",
     "output_type": "stream",
     "text": [
      "[2020-04-20 21:26:57,777][INFO] emmental.learner:392 - Epoch: 25.00 {'stg_temp_max/stg_temp_max/train/loss': 0.00010040723086752409, 'model/all/train/loss': 0.00010040723086752409, 'stg_temp_max/stg_temp_max/train/accuracy': 1.0, 'stg_temp_max/stg_temp_max/train/precision': 1.0, 'stg_temp_max/stg_temp_max/train/recall': 1.0, 'stg_temp_max/stg_temp_max/train/f1': 1.0, 'stg_temp_max/stg_temp_max/train/average': 1.0, 'model/all/train/micro_average': 1.0, 'model/all/train/macro_average': 1.0, 'model/all/train/lr': 0.001, 'model/all/all/micro_average': nan, 'model/all/all/macro_average': nan, 'model/all/all/loss': nan}\n"
     ]
    },
    {
     "name": "stdout",
     "output_type": "stream",
     "text": [
      "\n"
     ]
    },
    {
     "data": {
      "application/vnd.jupyter.widget-view+json": {
       "model_id": "cbdb29dfe0824985836855ead4dc5a4d",
       "version_major": 2,
       "version_minor": 0
      },
      "text/plain": [
       "HBox(children=(FloatProgress(value=0.0, description='Epoch 25:', max=27.0, style=ProgressStyle(description_wid…"
      ]
     },
     "metadata": {},
     "output_type": "display_data"
    },
    {
     "name": "stderr",
     "output_type": "stream",
     "text": [
      "[2020-04-20 21:26:58,725][INFO] emmental.learner:392 - Epoch: 26.00 {'stg_temp_max/stg_temp_max/train/loss': 9.994212153824724e-05, 'model/all/train/loss': 9.994212153824724e-05, 'stg_temp_max/stg_temp_max/train/accuracy': 1.0, 'stg_temp_max/stg_temp_max/train/precision': 1.0, 'stg_temp_max/stg_temp_max/train/recall': 1.0, 'stg_temp_max/stg_temp_max/train/f1': 1.0, 'stg_temp_max/stg_temp_max/train/average': 1.0, 'model/all/train/micro_average': 1.0, 'model/all/train/macro_average': 1.0, 'model/all/train/lr': 0.001, 'model/all/all/micro_average': nan, 'model/all/all/macro_average': nan, 'model/all/all/loss': nan}\n"
     ]
    },
    {
     "name": "stdout",
     "output_type": "stream",
     "text": [
      "\n"
     ]
    },
    {
     "data": {
      "application/vnd.jupyter.widget-view+json": {
       "model_id": "51e0f51317434cc7934db6a938a41fef",
       "version_major": 2,
       "version_minor": 0
      },
      "text/plain": [
       "HBox(children=(FloatProgress(value=0.0, description='Epoch 26:', max=27.0, style=ProgressStyle(description_wid…"
      ]
     },
     "metadata": {},
     "output_type": "display_data"
    },
    {
     "name": "stderr",
     "output_type": "stream",
     "text": [
      "[2020-04-20 21:26:59,635][INFO] emmental.learner:392 - Epoch: 27.00 {'stg_temp_max/stg_temp_max/train/loss': 9.948839607077875e-05, 'model/all/train/loss': 9.948839607077875e-05, 'stg_temp_max/stg_temp_max/train/accuracy': 1.0, 'stg_temp_max/stg_temp_max/train/precision': 1.0, 'stg_temp_max/stg_temp_max/train/recall': 1.0, 'stg_temp_max/stg_temp_max/train/f1': 1.0, 'stg_temp_max/stg_temp_max/train/average': 1.0, 'model/all/train/micro_average': 1.0, 'model/all/train/macro_average': 1.0, 'model/all/train/lr': 0.001, 'model/all/all/micro_average': nan, 'model/all/all/macro_average': nan, 'model/all/all/loss': nan}\n"
     ]
    },
    {
     "name": "stdout",
     "output_type": "stream",
     "text": [
      "\n"
     ]
    },
    {
     "data": {
      "application/vnd.jupyter.widget-view+json": {
       "model_id": "78759ed5002a4d25b7535ad393785e92",
       "version_major": 2,
       "version_minor": 0
      },
      "text/plain": [
       "HBox(children=(FloatProgress(value=0.0, description='Epoch 27:', max=27.0, style=ProgressStyle(description_wid…"
      ]
     },
     "metadata": {},
     "output_type": "display_data"
    },
    {
     "name": "stderr",
     "output_type": "stream",
     "text": [
      "[2020-04-20 21:27:00,702][INFO] emmental.learner:392 - Epoch: 28.00 {'stg_temp_max/stg_temp_max/train/loss': 9.905155085736073e-05, 'model/all/train/loss': 9.905155085736073e-05, 'stg_temp_max/stg_temp_max/train/accuracy': 1.0, 'stg_temp_max/stg_temp_max/train/precision': 1.0, 'stg_temp_max/stg_temp_max/train/recall': 1.0, 'stg_temp_max/stg_temp_max/train/f1': 1.0, 'stg_temp_max/stg_temp_max/train/average': 1.0, 'model/all/train/micro_average': 1.0, 'model/all/train/macro_average': 1.0, 'model/all/train/lr': 0.001, 'model/all/all/micro_average': nan, 'model/all/all/macro_average': nan, 'model/all/all/loss': nan}\n"
     ]
    },
    {
     "name": "stdout",
     "output_type": "stream",
     "text": [
      "\n"
     ]
    },
    {
     "data": {
      "application/vnd.jupyter.widget-view+json": {
       "model_id": "7d1fd9aac4ba4d6da9257dadf97f236b",
       "version_major": 2,
       "version_minor": 0
      },
      "text/plain": [
       "HBox(children=(FloatProgress(value=0.0, description='Epoch 28:', max=27.0, style=ProgressStyle(description_wid…"
      ]
     },
     "metadata": {},
     "output_type": "display_data"
    },
    {
     "name": "stderr",
     "output_type": "stream",
     "text": [
      "[2020-04-20 21:27:01,619][INFO] emmental.learner:392 - Epoch: 29.00 {'stg_temp_max/stg_temp_max/train/loss': 9.863519258694398e-05, 'model/all/train/loss': 9.863519258694398e-05, 'stg_temp_max/stg_temp_max/train/accuracy': 1.0, 'stg_temp_max/stg_temp_max/train/precision': 1.0, 'stg_temp_max/stg_temp_max/train/recall': 1.0, 'stg_temp_max/stg_temp_max/train/f1': 1.0, 'stg_temp_max/stg_temp_max/train/average': 1.0, 'model/all/train/micro_average': 1.0, 'model/all/train/macro_average': 1.0, 'model/all/train/lr': 0.001, 'model/all/all/micro_average': nan, 'model/all/all/macro_average': nan, 'model/all/all/loss': nan}\n"
     ]
    },
    {
     "name": "stdout",
     "output_type": "stream",
     "text": [
      "\n"
     ]
    },
    {
     "data": {
      "application/vnd.jupyter.widget-view+json": {
       "model_id": "0fbb5b0996464e33a4a78faaa5cce741",
       "version_major": 2,
       "version_minor": 0
      },
      "text/plain": [
       "HBox(children=(FloatProgress(value=0.0, description='Epoch 29:', max=27.0, style=ProgressStyle(description_wid…"
      ]
     },
     "metadata": {},
     "output_type": "display_data"
    },
    {
     "name": "stderr",
     "output_type": "stream",
     "text": [
      "[2020-04-20 21:27:02,553][INFO] emmental.learner:392 - Epoch: 30.00 {'stg_temp_max/stg_temp_max/train/loss': 9.821767968466597e-05, 'model/all/train/loss': 9.821767968466597e-05, 'stg_temp_max/stg_temp_max/train/accuracy': 1.0, 'stg_temp_max/stg_temp_max/train/precision': 1.0, 'stg_temp_max/stg_temp_max/train/recall': 1.0, 'stg_temp_max/stg_temp_max/train/f1': 1.0, 'stg_temp_max/stg_temp_max/train/average': 1.0, 'model/all/train/micro_average': 1.0, 'model/all/train/macro_average': 1.0, 'model/all/train/lr': 0.001, 'model/all/all/micro_average': nan, 'model/all/all/macro_average': nan, 'model/all/all/loss': nan}\n"
     ]
    },
    {
     "name": "stdout",
     "output_type": "stream",
     "text": [
      "\n"
     ]
    },
    {
     "data": {
      "application/vnd.jupyter.widget-view+json": {
       "model_id": "06e1d75dbb8349eba3561f9747e3a589",
       "version_major": 2,
       "version_minor": 0
      },
      "text/plain": [
       "HBox(children=(FloatProgress(value=0.0, description='Epoch 30:', max=27.0, style=ProgressStyle(description_wid…"
      ]
     },
     "metadata": {},
     "output_type": "display_data"
    },
    {
     "name": "stderr",
     "output_type": "stream",
     "text": [
      "[2020-04-20 21:27:03,554][INFO] emmental.learner:392 - Epoch: 31.00 {'stg_temp_max/stg_temp_max/train/loss': 9.782543567041051e-05, 'model/all/train/loss': 9.782543567041051e-05, 'stg_temp_max/stg_temp_max/train/accuracy': 1.0, 'stg_temp_max/stg_temp_max/train/precision': 1.0, 'stg_temp_max/stg_temp_max/train/recall': 1.0, 'stg_temp_max/stg_temp_max/train/f1': 1.0, 'stg_temp_max/stg_temp_max/train/average': 1.0, 'model/all/train/micro_average': 1.0, 'model/all/train/macro_average': 1.0, 'model/all/train/lr': 0.001, 'model/all/all/micro_average': nan, 'model/all/all/macro_average': nan, 'model/all/all/loss': nan}\n"
     ]
    },
    {
     "name": "stdout",
     "output_type": "stream",
     "text": [
      "\n"
     ]
    },
    {
     "data": {
      "application/vnd.jupyter.widget-view+json": {
       "model_id": "c979eff83fed4939bc16e7c223d1d4b1",
       "version_major": 2,
       "version_minor": 0
      },
      "text/plain": [
       "HBox(children=(FloatProgress(value=0.0, description='Epoch 31:', max=27.0, style=ProgressStyle(description_wid…"
      ]
     },
     "metadata": {},
     "output_type": "display_data"
    },
    {
     "name": "stderr",
     "output_type": "stream",
     "text": [
      "[2020-04-20 21:27:04,480][INFO] emmental.learner:392 - Epoch: 32.00 {'stg_temp_max/stg_temp_max/train/loss': 9.743897426125209e-05, 'model/all/train/loss': 9.743897426125209e-05, 'stg_temp_max/stg_temp_max/train/accuracy': 1.0, 'stg_temp_max/stg_temp_max/train/precision': 1.0, 'stg_temp_max/stg_temp_max/train/recall': 1.0, 'stg_temp_max/stg_temp_max/train/f1': 1.0, 'stg_temp_max/stg_temp_max/train/average': 1.0, 'model/all/train/micro_average': 1.0, 'model/all/train/macro_average': 1.0, 'model/all/train/lr': 0.001, 'model/all/all/micro_average': nan, 'model/all/all/macro_average': nan, 'model/all/all/loss': nan}\n"
     ]
    },
    {
     "name": "stdout",
     "output_type": "stream",
     "text": [
      "\n"
     ]
    },
    {
     "data": {
      "application/vnd.jupyter.widget-view+json": {
       "model_id": "9675992fb3374615b2be86633fb92f65",
       "version_major": 2,
       "version_minor": 0
      },
      "text/plain": [
       "HBox(children=(FloatProgress(value=0.0, description='Epoch 32:', max=27.0, style=ProgressStyle(description_wid…"
      ]
     },
     "metadata": {},
     "output_type": "display_data"
    },
    {
     "name": "stderr",
     "output_type": "stream",
     "text": [
      "[2020-04-20 21:27:05,938][INFO] emmental.learner:392 - Epoch: 33.00 {'stg_temp_max/stg_temp_max/train/loss': 9.707118614391252e-05, 'model/all/train/loss': 9.707118614391252e-05, 'stg_temp_max/stg_temp_max/train/accuracy': 1.0, 'stg_temp_max/stg_temp_max/train/precision': 1.0, 'stg_temp_max/stg_temp_max/train/recall': 1.0, 'stg_temp_max/stg_temp_max/train/f1': 1.0, 'stg_temp_max/stg_temp_max/train/average': 1.0, 'model/all/train/micro_average': 1.0, 'model/all/train/macro_average': 1.0, 'model/all/train/lr': 0.001, 'model/all/all/micro_average': nan, 'model/all/all/macro_average': nan, 'model/all/all/loss': nan}\n"
     ]
    },
    {
     "name": "stdout",
     "output_type": "stream",
     "text": [
      "\n"
     ]
    },
    {
     "data": {
      "application/vnd.jupyter.widget-view+json": {
       "model_id": "b3d7944ee5cf4663986d27d4bc81378a",
       "version_major": 2,
       "version_minor": 0
      },
      "text/plain": [
       "HBox(children=(FloatProgress(value=0.0, description='Epoch 33:', max=27.0, style=ProgressStyle(description_wid…"
      ]
     },
     "metadata": {},
     "output_type": "display_data"
    },
    {
     "name": "stderr",
     "output_type": "stream",
     "text": [
      "[2020-04-20 21:27:06,889][INFO] emmental.learner:392 - Epoch: 34.00 {'stg_temp_max/stg_temp_max/train/loss': 9.670325680390603e-05, 'model/all/train/loss': 9.670325680390603e-05, 'stg_temp_max/stg_temp_max/train/accuracy': 1.0, 'stg_temp_max/stg_temp_max/train/precision': 1.0, 'stg_temp_max/stg_temp_max/train/recall': 1.0, 'stg_temp_max/stg_temp_max/train/f1': 1.0, 'stg_temp_max/stg_temp_max/train/average': 1.0, 'model/all/train/micro_average': 1.0, 'model/all/train/macro_average': 1.0, 'model/all/train/lr': 0.001, 'model/all/all/micro_average': nan, 'model/all/all/macro_average': nan, 'model/all/all/loss': nan}\n"
     ]
    },
    {
     "name": "stdout",
     "output_type": "stream",
     "text": [
      "\n"
     ]
    },
    {
     "data": {
      "application/vnd.jupyter.widget-view+json": {
       "model_id": "b42773541cd649b8b9c9167ef3c2d7a4",
       "version_major": 2,
       "version_minor": 0
      },
      "text/plain": [
       "HBox(children=(FloatProgress(value=0.0, description='Epoch 34:', max=27.0, style=ProgressStyle(description_wid…"
      ]
     },
     "metadata": {},
     "output_type": "display_data"
    },
    {
     "name": "stderr",
     "output_type": "stream",
     "text": [
      "[2020-04-20 21:27:07,843][INFO] emmental.learner:392 - Epoch: 35.00 {'stg_temp_max/stg_temp_max/train/loss': 9.632730221219335e-05, 'model/all/train/loss': 9.632730221219335e-05, 'stg_temp_max/stg_temp_max/train/accuracy': 1.0, 'stg_temp_max/stg_temp_max/train/precision': 1.0, 'stg_temp_max/stg_temp_max/train/recall': 1.0, 'stg_temp_max/stg_temp_max/train/f1': 1.0, 'stg_temp_max/stg_temp_max/train/average': 1.0, 'model/all/train/micro_average': 1.0, 'model/all/train/macro_average': 1.0, 'model/all/train/lr': 0.001, 'model/all/all/micro_average': nan, 'model/all/all/macro_average': nan, 'model/all/all/loss': nan}\n"
     ]
    },
    {
     "name": "stdout",
     "output_type": "stream",
     "text": [
      "\n"
     ]
    },
    {
     "data": {
      "application/vnd.jupyter.widget-view+json": {
       "model_id": "aa3c7cfc372a4d0fb98a0eab7f0eb4bc",
       "version_major": 2,
       "version_minor": 0
      },
      "text/plain": [
       "HBox(children=(FloatProgress(value=0.0, description='Epoch 35:', max=27.0, style=ProgressStyle(description_wid…"
      ]
     },
     "metadata": {},
     "output_type": "display_data"
    },
    {
     "name": "stderr",
     "output_type": "stream",
     "text": [
      "[2020-04-20 21:27:08,825][INFO] emmental.learner:392 - Epoch: 36.00 {'stg_temp_max/stg_temp_max/train/loss': 9.597491137056407e-05, 'model/all/train/loss': 9.597491137056407e-05, 'stg_temp_max/stg_temp_max/train/accuracy': 1.0, 'stg_temp_max/stg_temp_max/train/precision': 1.0, 'stg_temp_max/stg_temp_max/train/recall': 1.0, 'stg_temp_max/stg_temp_max/train/f1': 1.0, 'stg_temp_max/stg_temp_max/train/average': 1.0, 'model/all/train/micro_average': 1.0, 'model/all/train/macro_average': 1.0, 'model/all/train/lr': 0.001, 'model/all/all/micro_average': nan, 'model/all/all/macro_average': nan, 'model/all/all/loss': nan}\n"
     ]
    },
    {
     "name": "stdout",
     "output_type": "stream",
     "text": [
      "\n"
     ]
    },
    {
     "data": {
      "application/vnd.jupyter.widget-view+json": {
       "model_id": "760a72a1825545d3bd49aa69507f47af",
       "version_major": 2,
       "version_minor": 0
      },
      "text/plain": [
       "HBox(children=(FloatProgress(value=0.0, description='Epoch 36:', max=27.0, style=ProgressStyle(description_wid…"
      ]
     },
     "metadata": {},
     "output_type": "display_data"
    },
    {
     "name": "stderr",
     "output_type": "stream",
     "text": [
      "[2020-04-20 21:27:09,724][INFO] emmental.learner:392 - Epoch: 37.00 {'stg_temp_max/stg_temp_max/train/loss': 9.562604422986754e-05, 'model/all/train/loss': 9.562604422986754e-05, 'stg_temp_max/stg_temp_max/train/accuracy': 1.0, 'stg_temp_max/stg_temp_max/train/precision': 1.0, 'stg_temp_max/stg_temp_max/train/recall': 1.0, 'stg_temp_max/stg_temp_max/train/f1': 1.0, 'stg_temp_max/stg_temp_max/train/average': 1.0, 'model/all/train/micro_average': 1.0, 'model/all/train/macro_average': 1.0, 'model/all/train/lr': 0.001, 'model/all/all/micro_average': nan, 'model/all/all/macro_average': nan, 'model/all/all/loss': nan}\n"
     ]
    },
    {
     "name": "stdout",
     "output_type": "stream",
     "text": [
      "\n"
     ]
    },
    {
     "data": {
      "application/vnd.jupyter.widget-view+json": {
       "model_id": "f73ebf7a0ddc4643a76090a6ee91640f",
       "version_major": 2,
       "version_minor": 0
      },
      "text/plain": [
       "HBox(children=(FloatProgress(value=0.0, description='Epoch 37:', max=27.0, style=ProgressStyle(description_wid…"
      ]
     },
     "metadata": {},
     "output_type": "display_data"
    },
    {
     "name": "stderr",
     "output_type": "stream",
     "text": [
      "[2020-04-20 21:27:10,682][INFO] emmental.learner:392 - Epoch: 38.00 {'stg_temp_max/stg_temp_max/train/loss': 9.527761023534801e-05, 'model/all/train/loss': 9.527761023534801e-05, 'stg_temp_max/stg_temp_max/train/accuracy': 1.0, 'stg_temp_max/stg_temp_max/train/precision': 1.0, 'stg_temp_max/stg_temp_max/train/recall': 1.0, 'stg_temp_max/stg_temp_max/train/f1': 1.0, 'stg_temp_max/stg_temp_max/train/average': 1.0, 'model/all/train/micro_average': 1.0, 'model/all/train/macro_average': 1.0, 'model/all/train/lr': 0.001, 'model/all/all/micro_average': nan, 'model/all/all/macro_average': nan, 'model/all/all/loss': nan}\n"
     ]
    },
    {
     "name": "stdout",
     "output_type": "stream",
     "text": [
      "\n"
     ]
    },
    {
     "data": {
      "application/vnd.jupyter.widget-view+json": {
       "model_id": "45d2cd18fd91438995fcf2d8ca4bab8d",
       "version_major": 2,
       "version_minor": 0
      },
      "text/plain": [
       "HBox(children=(FloatProgress(value=0.0, description='Epoch 38:', max=27.0, style=ProgressStyle(description_wid…"
      ]
     },
     "metadata": {},
     "output_type": "display_data"
    },
    {
     "name": "stderr",
     "output_type": "stream",
     "text": [
      "[2020-04-20 21:27:11,587][INFO] emmental.learner:392 - Epoch: 39.00 {'stg_temp_max/stg_temp_max/train/loss': 9.493132631868906e-05, 'model/all/train/loss': 9.493132631868906e-05, 'stg_temp_max/stg_temp_max/train/accuracy': 1.0, 'stg_temp_max/stg_temp_max/train/precision': 1.0, 'stg_temp_max/stg_temp_max/train/recall': 1.0, 'stg_temp_max/stg_temp_max/train/f1': 1.0, 'stg_temp_max/stg_temp_max/train/average': 1.0, 'model/all/train/micro_average': 1.0, 'model/all/train/macro_average': 1.0, 'model/all/train/lr': 0.001, 'model/all/all/micro_average': nan, 'model/all/all/macro_average': nan, 'model/all/all/loss': nan}\n"
     ]
    },
    {
     "name": "stdout",
     "output_type": "stream",
     "text": [
      "\n"
     ]
    },
    {
     "data": {
      "application/vnd.jupyter.widget-view+json": {
       "model_id": "bb97020f324d40da8dc9a040eb9a0e56",
       "version_major": 2,
       "version_minor": 0
      },
      "text/plain": [
       "HBox(children=(FloatProgress(value=0.0, description='Epoch 39:', max=27.0, style=ProgressStyle(description_wid…"
      ]
     },
     "metadata": {},
     "output_type": "display_data"
    },
    {
     "name": "stderr",
     "output_type": "stream",
     "text": [
      "[2020-04-20 21:27:12,516][INFO] emmental.learner:392 - Epoch: 40.00 {'stg_temp_max/stg_temp_max/train/loss': 9.459060331711888e-05, 'model/all/train/loss': 9.459060331711888e-05, 'stg_temp_max/stg_temp_max/train/accuracy': 1.0, 'stg_temp_max/stg_temp_max/train/precision': 1.0, 'stg_temp_max/stg_temp_max/train/recall': 1.0, 'stg_temp_max/stg_temp_max/train/f1': 1.0, 'stg_temp_max/stg_temp_max/train/average': 1.0, 'model/all/train/micro_average': 1.0, 'model/all/train/macro_average': 1.0, 'model/all/train/lr': 0.001, 'model/all/all/micro_average': nan, 'model/all/all/macro_average': nan, 'model/all/all/loss': nan}\n"
     ]
    },
    {
     "name": "stdout",
     "output_type": "stream",
     "text": [
      "\n"
     ]
    },
    {
     "data": {
      "application/vnd.jupyter.widget-view+json": {
       "model_id": "ce44dfae8d6e4a2994d1b77a7e63c0a1",
       "version_major": 2,
       "version_minor": 0
      },
      "text/plain": [
       "HBox(children=(FloatProgress(value=0.0, description='Epoch 40:', max=27.0, style=ProgressStyle(description_wid…"
      ]
     },
     "metadata": {},
     "output_type": "display_data"
    },
    {
     "name": "stderr",
     "output_type": "stream",
     "text": [
      "[2020-04-20 21:27:13,492][INFO] emmental.learner:392 - Epoch: 41.00 {'stg_temp_max/stg_temp_max/train/loss': 9.42584774262173e-05, 'model/all/train/loss': 9.42584774262173e-05, 'stg_temp_max/stg_temp_max/train/accuracy': 1.0, 'stg_temp_max/stg_temp_max/train/precision': 1.0, 'stg_temp_max/stg_temp_max/train/recall': 1.0, 'stg_temp_max/stg_temp_max/train/f1': 1.0, 'stg_temp_max/stg_temp_max/train/average': 1.0, 'model/all/train/micro_average': 1.0, 'model/all/train/macro_average': 1.0, 'model/all/train/lr': 0.001, 'model/all/all/micro_average': nan, 'model/all/all/macro_average': nan, 'model/all/all/loss': nan}\n"
     ]
    },
    {
     "name": "stdout",
     "output_type": "stream",
     "text": [
      "\n"
     ]
    },
    {
     "data": {
      "application/vnd.jupyter.widget-view+json": {
       "model_id": "794ee0c567fa4d21b93c999cfc86f064",
       "version_major": 2,
       "version_minor": 0
      },
      "text/plain": [
       "HBox(children=(FloatProgress(value=0.0, description='Epoch 41:', max=27.0, style=ProgressStyle(description_wid…"
      ]
     },
     "metadata": {},
     "output_type": "display_data"
    },
    {
     "name": "stderr",
     "output_type": "stream",
     "text": [
      "[2020-04-20 21:27:14,441][INFO] emmental.learner:392 - Epoch: 42.00 {'stg_temp_max/stg_temp_max/train/loss': 9.391928549015823e-05, 'model/all/train/loss': 9.391928549015823e-05, 'stg_temp_max/stg_temp_max/train/accuracy': 1.0, 'stg_temp_max/stg_temp_max/train/precision': 1.0, 'stg_temp_max/stg_temp_max/train/recall': 1.0, 'stg_temp_max/stg_temp_max/train/f1': 1.0, 'stg_temp_max/stg_temp_max/train/average': 1.0, 'model/all/train/micro_average': 1.0, 'model/all/train/macro_average': 1.0, 'model/all/train/lr': 0.001, 'model/all/all/micro_average': nan, 'model/all/all/macro_average': nan, 'model/all/all/loss': nan}\n"
     ]
    },
    {
     "name": "stdout",
     "output_type": "stream",
     "text": [
      "\n"
     ]
    },
    {
     "data": {
      "application/vnd.jupyter.widget-view+json": {
       "model_id": "7e0d45586fb8493aaa010e6dedd03f8a",
       "version_major": 2,
       "version_minor": 0
      },
      "text/plain": [
       "HBox(children=(FloatProgress(value=0.0, description='Epoch 42:', max=27.0, style=ProgressStyle(description_wid…"
      ]
     },
     "metadata": {},
     "output_type": "display_data"
    },
    {
     "name": "stderr",
     "output_type": "stream",
     "text": [
      "[2020-04-20 21:27:15,426][INFO] emmental.learner:392 - Epoch: 43.00 {'stg_temp_max/stg_temp_max/train/loss': 9.358254739779251e-05, 'model/all/train/loss': 9.358254739779251e-05, 'stg_temp_max/stg_temp_max/train/accuracy': 1.0, 'stg_temp_max/stg_temp_max/train/precision': 1.0, 'stg_temp_max/stg_temp_max/train/recall': 1.0, 'stg_temp_max/stg_temp_max/train/f1': 1.0, 'stg_temp_max/stg_temp_max/train/average': 1.0, 'model/all/train/micro_average': 1.0, 'model/all/train/macro_average': 1.0, 'model/all/train/lr': 0.001, 'model/all/all/micro_average': nan, 'model/all/all/macro_average': nan, 'model/all/all/loss': nan}\n"
     ]
    },
    {
     "name": "stdout",
     "output_type": "stream",
     "text": [
      "\n"
     ]
    },
    {
     "data": {
      "application/vnd.jupyter.widget-view+json": {
       "model_id": "e290090fbb194ef7b02e7ab5441b992a",
       "version_major": 2,
       "version_minor": 0
      },
      "text/plain": [
       "HBox(children=(FloatProgress(value=0.0, description='Epoch 43:', max=27.0, style=ProgressStyle(description_wid…"
      ]
     },
     "metadata": {},
     "output_type": "display_data"
    },
    {
     "name": "stderr",
     "output_type": "stream",
     "text": [
      "[2020-04-20 21:27:16,500][INFO] emmental.learner:392 - Epoch: 44.00 {'stg_temp_max/stg_temp_max/train/loss': 9.325349964178133e-05, 'model/all/train/loss': 9.325349964178133e-05, 'stg_temp_max/stg_temp_max/train/accuracy': 1.0, 'stg_temp_max/stg_temp_max/train/precision': 1.0, 'stg_temp_max/stg_temp_max/train/recall': 1.0, 'stg_temp_max/stg_temp_max/train/f1': 1.0, 'stg_temp_max/stg_temp_max/train/average': 1.0, 'model/all/train/micro_average': 1.0, 'model/all/train/macro_average': 1.0, 'model/all/train/lr': 0.001, 'model/all/all/micro_average': nan, 'model/all/all/macro_average': nan, 'model/all/all/loss': nan}\n"
     ]
    },
    {
     "name": "stdout",
     "output_type": "stream",
     "text": [
      "\n"
     ]
    },
    {
     "data": {
      "application/vnd.jupyter.widget-view+json": {
       "model_id": "d928a0f095ff4db0875544ad8b972bac",
       "version_major": 2,
       "version_minor": 0
      },
      "text/plain": [
       "HBox(children=(FloatProgress(value=0.0, description='Epoch 44:', max=27.0, style=ProgressStyle(description_wid…"
      ]
     },
     "metadata": {},
     "output_type": "display_data"
    },
    {
     "name": "stderr",
     "output_type": "stream",
     "text": [
      "[2020-04-20 21:27:17,430][INFO] emmental.learner:392 - Epoch: 45.00 {'stg_temp_max/stg_temp_max/train/loss': 9.293863987897313e-05, 'model/all/train/loss': 9.293863987897313e-05, 'stg_temp_max/stg_temp_max/train/accuracy': 1.0, 'stg_temp_max/stg_temp_max/train/precision': 1.0, 'stg_temp_max/stg_temp_max/train/recall': 1.0, 'stg_temp_max/stg_temp_max/train/f1': 1.0, 'stg_temp_max/stg_temp_max/train/average': 1.0, 'model/all/train/micro_average': 1.0, 'model/all/train/macro_average': 1.0, 'model/all/train/lr': 0.001, 'model/all/all/micro_average': nan, 'model/all/all/macro_average': nan, 'model/all/all/loss': nan}\n"
     ]
    },
    {
     "name": "stdout",
     "output_type": "stream",
     "text": [
      "\n"
     ]
    },
    {
     "data": {
      "application/vnd.jupyter.widget-view+json": {
       "model_id": "4a3066ea7cc34f14925f7e83ddcbcd6c",
       "version_major": 2,
       "version_minor": 0
      },
      "text/plain": [
       "HBox(children=(FloatProgress(value=0.0, description='Epoch 45:', max=27.0, style=ProgressStyle(description_wid…"
      ]
     },
     "metadata": {},
     "output_type": "display_data"
    },
    {
     "name": "stderr",
     "output_type": "stream",
     "text": [
      "[2020-04-20 21:27:18,346][INFO] emmental.learner:392 - Epoch: 46.00 {'stg_temp_max/stg_temp_max/train/loss': 9.261433254968505e-05, 'model/all/train/loss': 9.261433254968505e-05, 'stg_temp_max/stg_temp_max/train/accuracy': 1.0, 'stg_temp_max/stg_temp_max/train/precision': 1.0, 'stg_temp_max/stg_temp_max/train/recall': 1.0, 'stg_temp_max/stg_temp_max/train/f1': 1.0, 'stg_temp_max/stg_temp_max/train/average': 1.0, 'model/all/train/micro_average': 1.0, 'model/all/train/macro_average': 1.0, 'model/all/train/lr': 0.001, 'model/all/all/micro_average': nan, 'model/all/all/macro_average': nan, 'model/all/all/loss': nan}\n"
     ]
    },
    {
     "name": "stdout",
     "output_type": "stream",
     "text": [
      "\n"
     ]
    },
    {
     "data": {
      "application/vnd.jupyter.widget-view+json": {
       "model_id": "47ea458ae932415695cb39f58c98cdfe",
       "version_major": 2,
       "version_minor": 0
      },
      "text/plain": [
       "HBox(children=(FloatProgress(value=0.0, description='Epoch 46:', max=27.0, style=ProgressStyle(description_wid…"
      ]
     },
     "metadata": {},
     "output_type": "display_data"
    },
    {
     "name": "stderr",
     "output_type": "stream",
     "text": [
      "[2020-04-20 21:27:19,397][INFO] emmental.learner:392 - Epoch: 47.00 {'stg_temp_max/stg_temp_max/train/loss': 9.230599741010826e-05, 'model/all/train/loss': 9.230599741010826e-05, 'stg_temp_max/stg_temp_max/train/accuracy': 1.0, 'stg_temp_max/stg_temp_max/train/precision': 1.0, 'stg_temp_max/stg_temp_max/train/recall': 1.0, 'stg_temp_max/stg_temp_max/train/f1': 1.0, 'stg_temp_max/stg_temp_max/train/average': 1.0, 'model/all/train/micro_average': 1.0, 'model/all/train/macro_average': 1.0, 'model/all/train/lr': 0.001, 'model/all/all/micro_average': nan, 'model/all/all/macro_average': nan, 'model/all/all/loss': nan}\n"
     ]
    },
    {
     "name": "stdout",
     "output_type": "stream",
     "text": [
      "\n"
     ]
    },
    {
     "data": {
      "application/vnd.jupyter.widget-view+json": {
       "model_id": "e3f180117967474695c7af8f0fe7196c",
       "version_major": 2,
       "version_minor": 0
      },
      "text/plain": [
       "HBox(children=(FloatProgress(value=0.0, description='Epoch 47:', max=27.0, style=ProgressStyle(description_wid…"
      ]
     },
     "metadata": {},
     "output_type": "display_data"
    },
    {
     "name": "stderr",
     "output_type": "stream",
     "text": [
      "[2020-04-20 21:27:20,426][INFO] emmental.learner:392 - Epoch: 48.00 {'stg_temp_max/stg_temp_max/train/loss': 9.200147936312007e-05, 'model/all/train/loss': 9.200147936312007e-05, 'stg_temp_max/stg_temp_max/train/accuracy': 1.0, 'stg_temp_max/stg_temp_max/train/precision': 1.0, 'stg_temp_max/stg_temp_max/train/recall': 1.0, 'stg_temp_max/stg_temp_max/train/f1': 1.0, 'stg_temp_max/stg_temp_max/train/average': 1.0, 'model/all/train/micro_average': 1.0, 'model/all/train/macro_average': 1.0, 'model/all/train/lr': 0.001, 'model/all/all/micro_average': nan, 'model/all/all/macro_average': nan, 'model/all/all/loss': nan}\n"
     ]
    },
    {
     "name": "stdout",
     "output_type": "stream",
     "text": [
      "\n"
     ]
    },
    {
     "data": {
      "application/vnd.jupyter.widget-view+json": {
       "model_id": "05b04eb04a134f2c9b59e440c5344247",
       "version_major": 2,
       "version_minor": 0
      },
      "text/plain": [
       "HBox(children=(FloatProgress(value=0.0, description='Epoch 48:', max=27.0, style=ProgressStyle(description_wid…"
      ]
     },
     "metadata": {},
     "output_type": "display_data"
    },
    {
     "name": "stderr",
     "output_type": "stream",
     "text": [
      "[2020-04-20 21:27:21,390][INFO] emmental.learner:392 - Epoch: 49.00 {'stg_temp_max/stg_temp_max/train/loss': 9.171657081534851e-05, 'model/all/train/loss': 9.171657081534851e-05, 'stg_temp_max/stg_temp_max/train/accuracy': 1.0, 'stg_temp_max/stg_temp_max/train/precision': 1.0, 'stg_temp_max/stg_temp_max/train/recall': 1.0, 'stg_temp_max/stg_temp_max/train/f1': 1.0, 'stg_temp_max/stg_temp_max/train/average': 1.0, 'model/all/train/micro_average': 1.0, 'model/all/train/macro_average': 1.0, 'model/all/train/lr': 0.001, 'model/all/all/micro_average': nan, 'model/all/all/macro_average': nan, 'model/all/all/loss': nan}\n"
     ]
    },
    {
     "name": "stdout",
     "output_type": "stream",
     "text": [
      "\n"
     ]
    },
    {
     "data": {
      "application/vnd.jupyter.widget-view+json": {
       "model_id": "fc4a01d2584848a1a29cbb117df81071",
       "version_major": 2,
       "version_minor": 0
      },
      "text/plain": [
       "HBox(children=(FloatProgress(value=0.0, description='Epoch 49:', max=27.0, style=ProgressStyle(description_wid…"
      ]
     },
     "metadata": {},
     "output_type": "display_data"
    },
    {
     "name": "stderr",
     "output_type": "stream",
     "text": [
      "[2020-04-20 21:27:22,319][INFO] emmental.learner:392 - Epoch: 50.00 {'stg_temp_max/stg_temp_max/train/loss': 9.144040215002215e-05, 'model/all/train/loss': 9.144040215002215e-05, 'stg_temp_max/stg_temp_max/train/accuracy': 1.0, 'stg_temp_max/stg_temp_max/train/precision': 1.0, 'stg_temp_max/stg_temp_max/train/recall': 1.0, 'stg_temp_max/stg_temp_max/train/f1': 1.0, 'stg_temp_max/stg_temp_max/train/average': 1.0, 'model/all/train/micro_average': 1.0, 'model/all/train/macro_average': 1.0, 'model/all/train/lr': 0.001, 'model/all/all/micro_average': nan, 'model/all/all/macro_average': nan, 'model/all/all/loss': nan}\n"
     ]
    },
    {
     "name": "stdout",
     "output_type": "stream",
     "text": [
      "\n"
     ]
    }
   ],
   "source": [
    "# Creaet task and model, and perform training\n",
    "from emmental.model import EmmentalModel\n",
    "from fonduer.learning.task import create_task\n",
    "from emmental.learner import EmmentalLearner\n",
    "\n",
    "tasks = create_task(\n",
    "    ATTRIBUTE, 2, F_train[0].shape[1], 2, emb_layer, model=\"LogisticRegression\"\n",
    ")\n",
    "\n",
    "model = EmmentalModel(name=f\"{ATTRIBUTE}_task\")\n",
    "\n",
    "for task in tasks:\n",
    "    model.add_task(task)\n",
    "\n",
    "emmental_learner = EmmentalLearner()\n",
    "emmental_learner.learn(model, [train_dataloader])"
   ]
  },
  {
   "cell_type": "markdown",
   "metadata": {},
   "source": [
    "### Evaluating on the Test Set\n",
    "In this final section, we'll get the score we've been after: the performance of the extraction model on the blind test set (split 2). First, we load the test set labels and gold candidates from earlier:"
   ]
  },
  {
   "cell_type": "code",
   "execution_count": 42,
   "metadata": {},
   "outputs": [],
   "source": [
    "import numpy as np\n",
    "from hardware_utils import entity_level_f1\n",
    "import pickle\n",
    "pickle_file = 'data/parts_by_doc_dict.pkl'\n",
    "with open(pickle_file, 'rb') as f:\n",
    "    parts_by_doc = pickle.load(f)"
   ]
  },
  {
   "cell_type": "markdown",
   "metadata": {
    "scrolled": true
   },
   "source": [
    "Now, we score using the discriminitive model:"
   ]
  },
  {
   "cell_type": "code",
   "execution_count": 43,
   "metadata": {},
   "outputs": [],
   "source": [
    "# Generate dataloader for test data\n",
    "test_dataloader = EmmentalDataLoader(\n",
    "    task_to_label_dict={ATTRIBUTE: \"labels\"},\n",
    "    dataset=FonduerDataset(\n",
    "        ATTRIBUTE, test_cands[0], F_test[0], emb_layer.word2id, 2\n",
    "    ),\n",
    "    split=\"test\",\n",
    "    batch_size=100,\n",
    "    shuffle=False,\n",
    ")"
   ]
  },
  {
   "cell_type": "code",
   "execution_count": 44,
   "metadata": {},
   "outputs": [
    {
     "name": "stdout",
     "output_type": "stream",
     "text": [
      "Preparing candidates...\n"
     ]
    },
    {
     "data": {
      "application/vnd.jupyter.widget-view+json": {
       "model_id": "524383538add42849f7b01fc0de2b654",
       "version_major": 2,
       "version_minor": 0
      },
      "text/plain": [
       "HBox(children=(FloatProgress(value=0.0, max=2080.0), HTML(value='')))"
      ]
     },
     "metadata": {},
     "output_type": "display_data"
    },
    {
     "name": "stdout",
     "output_type": "stream",
     "text": [
      "\n",
      "========================================\n",
      "Scoring on Entity-Level Gold Data\n",
      "========================================\n",
      "Corpus Precision 0.333\n",
      "Corpus Recall    0.988\n",
      "Corpus F1        0.498\n",
      "----------------------------------------\n",
      "TP: 82 | FP: 164 | FN: 1\n",
      "========================================\n",
      "\n",
      "CPU times: user 204 ms, sys: 16 ms, total: 220 ms\n",
      "Wall time: 220 ms\n"
     ]
    }
   ],
   "source": [
    "gold_file = 'data/hardware_tutorial_gold.csv'\n",
    "\n",
    "test_preds = model.predict(test_dataloader, return_preds=True)\n",
    "positive = np.where(np.array(test_preds[\"probs\"][ATTRIBUTE])[:, TRUE] > 0.6)\n",
    "true_pred = [test_cands[0][_] for _ in positive[0]]\n",
    "%time (TP, FP, FN) = entity_level_f1(true_pred, gold_file, ATTRIBUTE, test_docs, parts_by_doc=parts_by_doc)"
   ]
  },
  {
   "cell_type": "markdown",
   "metadata": {},
   "source": [
    "# Phase 4:  Error Analysis & Iterative KBC\n",
    "\n",
    "During the development process, we can iteratively improve the quality of our labeling functions through error analysis, without executing the full pipeline as in previous techniques. \n",
    "\n",
    "You may have noticed that our final score is about 50 F1 points. To remedy this and improve our quality, we can perform error analysis to understand what kinds of patterns we may have missed, or what issues exist with our labeling functions. Then, we can edit our set of labeling functions and rerun Phase 3, Probabilistic Relation Classification. \n",
    "\n",
    "## Error Analysis\n",
    "For example, notice that our `entity_level_f1` returns `TP`, `FP`, `FN` sets. We can also see that our recall is high, but we have low precision, so let's look at our false positivies, `FP`."
   ]
  },
  {
   "cell_type": "code",
   "execution_count": 45,
   "metadata": {},
   "outputs": [
    {
     "data": {
      "text/plain": [
       "[('BC546-D', 'BC546', '180'),\n",
       " ('BC546-D', 'BC546', '200'),\n",
       " ('BC546-D', 'BC546B', '180'),\n",
       " ('BC546-D', 'BC546B', '200'),\n",
       " ('BC546-D', 'BC546BG', '180'),\n",
       " ('BC546-D', 'BC546BG', '200'),\n",
       " ('BC546-D', 'BC546BRL1', '180'),\n",
       " ('BC546-D', 'BC546BRL1', '200'),\n",
       " ('BC546-D', 'BC546BRL1G', '180'),\n",
       " ('BC546-D', 'BC546BRL1G', '200'),\n",
       " ('BC546-D', 'BC546BZL1G', '180'),\n",
       " ('BC546-D', 'BC546BZL1G', '200'),\n",
       " ('BC546-D', 'BC547', '180'),\n",
       " ('BC546-D', 'BC547', '200'),\n",
       " ('BC546-D', 'BC547A', '180'),\n",
       " ('BC546-D', 'BC547A', '200'),\n",
       " ('BC546-D', 'BC547ARL', '180'),\n",
       " ('BC546-D', 'BC547ARL', '200'),\n",
       " ('BC546-D', 'BC547ARLG', '180'),\n",
       " ('BC546-D', 'BC547ARLG', '200'),\n",
       " ('BC546-D', 'BC547AZL1G', '180'),\n",
       " ('BC546-D', 'BC547AZL1G', '200'),\n",
       " ('BC546-D', 'BC547B', '180'),\n",
       " ('BC546-D', 'BC547B', '200'),\n",
       " ('BC546-D', 'BC547BG', '180'),\n",
       " ('BC546-D', 'BC547BG', '200'),\n",
       " ('BC546-D', 'BC547BRL1G', '180'),\n",
       " ('BC546-D', 'BC547BRL1G', '200'),\n",
       " ('BC546-D', 'BC547BZL1G', '180'),\n",
       " ('BC546-D', 'BC547BZL1G', '200'),\n",
       " ('BC546-D', 'BC547C', '180'),\n",
       " ('BC546-D', 'BC547C', '200'),\n",
       " ('BC546-D', 'BC547CG', '180'),\n",
       " ('BC546-D', 'BC547CG', '200'),\n",
       " ('BC546-D', 'BC547CZL1G', '180'),\n",
       " ('BC546-D', 'BC547CZL1G', '200'),\n",
       " ('BC546-D', 'BC548', '180'),\n",
       " ('BC546-D', 'BC548', '200'),\n",
       " ('BC546-D', 'BC548B', '180'),\n",
       " ('BC546-D', 'BC548B', '200'),\n",
       " ('BC546-D', 'BC548BG', '180'),\n",
       " ('BC546-D', 'BC548BG', '200'),\n",
       " ('BC546-D', 'BC548BRL1G', '180'),\n",
       " ('BC546-D', 'BC548BRL1G', '200'),\n",
       " ('BC546-D', 'BC548BZL1G', '180'),\n",
       " ('BC546-D', 'BC548BZL1G', '200'),\n",
       " ('BC546-D', 'BC548C', '180'),\n",
       " ('BC546-D', 'BC548C', '200'),\n",
       " ('BC546-D', 'BC548CG', '180'),\n",
       " ('BC546-D', 'BC548CG', '200'),\n",
       " ('BC546-D', 'BC548CZL1G', '180'),\n",
       " ('BC546-D', 'BC548CZL1G', '200'),\n",
       " ('BC546_DIOTEC', 'BC546', '200'),\n",
       " ('BC546_DIOTEC', 'BC546A', '200'),\n",
       " ('BC546_DIOTEC', 'BC546B', '200'),\n",
       " ('BC546_DIOTEC', 'BC546C', '150'),\n",
       " ('BC546_DIOTEC', 'BC546C', '200'),\n",
       " ('BC546_DIOTEC', 'BC547', '200'),\n",
       " ('BC546_DIOTEC', 'BC547A', '200'),\n",
       " ('BC546_DIOTEC', 'BC547B', '200'),\n",
       " ('BC546_DIOTEC', 'BC547C', '200'),\n",
       " ('BC546_DIOTEC', 'BC548', '200'),\n",
       " ('BC546_DIOTEC', 'BC548A', '200'),\n",
       " ('BC546_DIOTEC', 'BC548B', '200'),\n",
       " ('BC546_DIOTEC', 'BC548C', '200'),\n",
       " ('BC546_DIOTEC', 'BC549', '200'),\n",
       " ('BC546_DIOTEC', 'BC549A', '150'),\n",
       " ('BC546_DIOTEC', 'BC549A', '200'),\n",
       " ('BC546_DIOTEC', 'BC549B', '200'),\n",
       " ('BC546_DIOTEC', 'BC549C', '200'),\n",
       " ('BC546_DIOTEC', 'BC556', '150'),\n",
       " ('BC546_DIOTEC', 'BC556', '200'),\n",
       " ('BC550', 'BC546', '200'),\n",
       " ('BC550', 'BC546A', '200'),\n",
       " ('BC550', 'BC546B', '200'),\n",
       " ('BC550', 'BC546C', '200'),\n",
       " ('BC550', 'BC547', '200'),\n",
       " ('BC550', 'BC547A', '200'),\n",
       " ('BC550', 'BC547B', '200'),\n",
       " ('BC550', 'BC547C', '200'),\n",
       " ('BC550', 'BC548', '200'),\n",
       " ('BC550', 'BC548A', '200'),\n",
       " ('BC550', 'BC548B', '200'),\n",
       " ('BC550', 'BC548C', '200'),\n",
       " ('BC550', 'BC549', '200'),\n",
       " ('BC550', 'BC549A', '200'),\n",
       " ('BC550', 'BC549B', '200'),\n",
       " ('BC550', 'BC549C', '200'),\n",
       " ('BC550', 'BC550', '200'),\n",
       " ('BC550', 'BC550A', '200'),\n",
       " ('BC550', 'BC550B', '200'),\n",
       " ('BC550', 'BC550C', '200'),\n",
       " ('BC550', 'BC556', '150'),\n",
       " ('BC550', 'BC556', '200'),\n",
       " ('BC550', 'BC560', '150'),\n",
       " ('BC550', 'BC560', '200'),\n",
       " ('DTC114W', 'DTC114W', '180'),\n",
       " ('DTC114W', 'DTC114W', '200'),\n",
       " ('DTC114W', 'DTC114WE', '180'),\n",
       " ('DTC114W', 'DTC114WE', '200'),\n",
       " ('DTC114W', 'DTC114WKA', '180'),\n",
       " ('DTC114W', 'DTC114WKA', '200'),\n",
       " ('DTC114W', 'DTC114WUA', '180'),\n",
       " ('DTC114W', 'DTC114WUA', '200'),\n",
       " ('RECTS01214-1', 'DTC114ECA', '150'),\n",
       " ('RECTS01214-1', 'DTC114ECA', '200'),\n",
       " ('RECTS01214-1', 'DTC114ECA-1', '150'),\n",
       " ('RECTS01214-1', 'DTC114ECA-1', '200'),\n",
       " ('RECTS01214-1', 'DTC114EUA', '200'),\n",
       " ('RECTS01325-1', 'DTC114YCA', '150'),\n",
       " ('RECTS01325-1', 'DTC114YCA', '200'),\n",
       " ('RECTS01325-1', 'DTC114YCA-1', '150'),\n",
       " ('RECTS01325-1', 'DTC114YCA-1', '200'),\n",
       " ('RECTS01325-1', 'DTC114YUA', '200'),\n",
       " ('UTCLS01324-1', 'MMBT3904', '200'),\n",
       " ('UTCLS01324-1', 'MMBT3904-E', '150'),\n",
       " ('UTCLS01324-1', 'MMBT3904-E', '200'),\n",
       " ('UTCLS01324-1', 'MMBT3904G-AE3-R', '200'),\n",
       " ('UTCLS01324-1', 'MMBT3904G-AL3-R', '200'),\n",
       " ('UTCLS01324-1', 'MMBT3904L-AE3-R', '200'),\n",
       " ('UTCLS01324-1', 'MMBT3904L-AL3-R', '200'),\n",
       " ('UTCLS01324-1', 'MMBT3906', '150'),\n",
       " ('UTCLS01324-1', 'MMBT3906', '200'),\n",
       " ('VSMIS00373-1', 'BC327', '150'),\n",
       " ('VSMIS00373-1', 'BC327', '160'),\n",
       " ('VSMIS00373-1', 'BC327', '170'),\n",
       " ('VSMIS00373-1', 'BC327', '200'),\n",
       " ('VSMIS00373-1', 'BC328', '150'),\n",
       " ('VSMIS00373-1', 'BC328', '160'),\n",
       " ('VSMIS00373-1', 'BC328', '170'),\n",
       " ('VSMIS00373-1', 'BC328', '200'),\n",
       " ('VSMIS00373-1', 'BC337', '160'),\n",
       " ('VSMIS00373-1', 'BC337', '170'),\n",
       " ('VSMIS00373-1', 'BC337', '200'),\n",
       " ('VSMIS00373-1', 'BC337-16', '160'),\n",
       " ('VSMIS00373-1', 'BC337-16', '170'),\n",
       " ('VSMIS00373-1', 'BC337-16', '200'),\n",
       " ('VSMIS00373-1', 'BC337-25', '160'),\n",
       " ('VSMIS00373-1', 'BC337-25', '170'),\n",
       " ('VSMIS00373-1', 'BC337-25', '200'),\n",
       " ('VSMIS00373-1', 'BC337-40', '160'),\n",
       " ('VSMIS00373-1', 'BC337-40', '170'),\n",
       " ('VSMIS00373-1', 'BC337-40', '200'),\n",
       " ('VSMIS00373-1', 'BC338', '160'),\n",
       " ('VSMIS00373-1', 'BC338', '170'),\n",
       " ('VSMIS00373-1', 'BC338', '200'),\n",
       " ('VSMIS00373-1', 'BC338-16', '160'),\n",
       " ('VSMIS00373-1', 'BC338-16', '170'),\n",
       " ('VSMIS00373-1', 'BC338-16', '200'),\n",
       " ('VSMIS00373-1', 'BC338-25', '160'),\n",
       " ('VSMIS00373-1', 'BC338-25', '170'),\n",
       " ('VSMIS00373-1', 'BC338-25', '200'),\n",
       " ('VSMIS00373-1', 'BC338-40', '160'),\n",
       " ('VSMIS00373-1', 'BC338-40', '170'),\n",
       " ('VSMIS00373-1', 'BC338-40', '200'),\n",
       " ('WEITS00252-1', 'BC807', '150'),\n",
       " ('WEITS00252-1', 'BC807', '160'),\n",
       " ('WEITS00252-1', 'BC807-1', '150'),\n",
       " ('WEITS00252-1', 'BC807-1', '160'),\n",
       " ('WEITS00252-1', 'BC807-16', '160'),\n",
       " ('WEITS00252-1', 'BC807-17', '150'),\n",
       " ('WEITS00252-1', 'BC807-17', '160'),\n",
       " ('WEITS00252-1', 'BC807-25', '160'),\n",
       " ('WEITS00252-1', 'BC807-40', '160')]"
      ]
     },
     "execution_count": 45,
     "metadata": {},
     "output_type": "execute_result"
    }
   ],
   "source": [
    "FP"
   ]
  },
  {
   "cell_type": "markdown",
   "metadata": {},
   "source": [
    "We can see that there are actually only a few documents that are causing us problems. In particular, we see that `BC546-D` is giving us many false positives. So, let's inspect one of those candidates. "
   ]
  },
  {
   "cell_type": "code",
   "execution_count": 46,
   "metadata": {},
   "outputs": [
    {
     "data": {
      "image/png": "[encoded data removed]",
      "text/plain": [
       "<wand.image.Image: d72c048 'PNG' (612x792)>"
      ]
     },
     "metadata": {},
     "output_type": "display_data"
    },
    {
     "data": {
      "image/png": "[encoded data removed]",
      "text/plain": [
       "<wand.image.Image: fa809d1 'PNG' (612x792)>"
      ]
     },
     "metadata": {},
     "output_type": "display_data"
    }
   ],
   "source": [
    "from fonduer.utils.visualizer import Visualizer\n",
    "from hardware_utils import entity_to_candidates\n",
    "vis = Visualizer(pdf_path)\n",
    "\n",
    "# Get a list of candidates that match the FN[10] entity\n",
    "fp_cands = entity_to_candidates(FP[10], test_cands[0])\n",
    "# Display a candidate\n",
    "vis.display_candidates([fp_cands[0]])"
   ]
  },
  {
   "cell_type": "markdown",
   "metadata": {},
   "source": [
    "Here, the candidates are boxed in blue. We see that the temperature falls within the range of numbers that our matcher for storage temperature allows to match. By inspecting candidates like this, or just by examining the problematic PDFs directly, we can notice some patterns that we can exploit as new labeling functions."
   ]
  },
  {
   "cell_type": "code",
   "execution_count": 47,
   "metadata": {},
   "outputs": [
    {
     "data": {
      "image/png": "[encoded data removed]",
      "text/plain": [
       "<wand.image.Image: 4efdd76 'PNG' (612x792)>"
      ]
     },
     "metadata": {},
     "output_type": "display_data"
    },
    {
     "data": {
      "image/png": "[encoded data removed]",
      "text/plain": [
       "<wand.image.Image: 3096e99 'PNG' (612x792)>"
      ]
     },
     "metadata": {},
     "output_type": "display_data"
    }
   ],
   "source": [
    "# Get a list of candidates that match the FN[10] entity\n",
    "fp_cands = entity_to_candidates(FP[2], test_cands[0])\n",
    "\n",
    "# # Display this candidate\n",
    "vis.display_candidates([fp_cands[0]])"
   ]
  },
  {
   "cell_type": "markdown",
   "metadata": {},
   "source": [
    "## Iteratively Improving Labeling Functions\n",
    "\n",
    "From this error analysis, we may notice two important things. First, our original set of labeling functions had no labeling functions that labeled candidates a negative. This resulted in most skewing the models to accept most candidates, and hurt our precision. Second, we have now noticed that we need to focus on negatively labeling numbers that pass through our storage temperature matchers, but are not related to storage temperature.\n",
    "\n",
    "Below are a set of negative labeling functions that capture some of these patterns. For example, we label candidates an negative if the number is aligned with attributes that are not related to storage temperature, if a candidate represents a typical value, rather than a maximum value, if a temperature value is found outside of a table, and other intuitive patterns we noticed when carefully inspecting our false positives."
   ]
  },
  {
   "cell_type": "code",
   "execution_count": 48,
   "metadata": {},
   "outputs": [],
   "source": [
    "from itertools import chain\n",
    "\n",
    "\n",
    "@labeling_function()\n",
    "def LF_test_condition_aligned(c):\n",
    "    return (\n",
    "        FALSE\n",
    "        if overlap([\"test\", \"condition\"], list(get_aligned_ngrams(c.temp)))\n",
    "        else ABSTAIN\n",
    "    )\n",
    "\n",
    "\n",
    "@labeling_function()\n",
    "def LF_collector_aligned(c):\n",
    "    return (\n",
    "        FALSE\n",
    "        if overlap(\n",
    "            [\"collector\", \"collector-current\", \"collector-base\", \"collector-emitter\"],\n",
    "            list(get_aligned_ngrams(c.temp)),\n",
    "        )\n",
    "        else ABSTAIN\n",
    "    )\n",
    "\n",
    "\n",
    "@labeling_function()\n",
    "def LF_current_aligned(c):\n",
    "    return (\n",
    "        FALSE\n",
    "        if overlap([\"current\", \"dc\", \"ic\"], list(get_aligned_ngrams(c.temp)))\n",
    "        else ABSTAIN\n",
    "    )\n",
    "\n",
    "\n",
    "@labeling_function()\n",
    "def LF_voltage_row_temp(c):\n",
    "    return (\n",
    "        FALSE\n",
    "        if overlap(\n",
    "            [\"voltage\", \"cbo\", \"ceo\", \"ebo\", \"v\"], list(get_aligned_ngrams(c.temp))\n",
    "        )\n",
    "        else ABSTAIN\n",
    "    )\n",
    "\n",
    "\n",
    "@labeling_function()\n",
    "def LF_voltage_row_part(c):\n",
    "    return (\n",
    "        FALSE\n",
    "        if overlap(\n",
    "            [\"voltage\", \"cbo\", \"ceo\", \"ebo\", \"v\"], list(get_aligned_ngrams(c.temp))\n",
    "        )\n",
    "        else ABSTAIN\n",
    "    )\n",
    "\n",
    "\n",
    "@labeling_function()\n",
    "def LF_typ_row(c):\n",
    "    return FALSE if overlap([\"typ\", \"typ.\"], list(get_row_ngrams(c.temp))) else ABSTAIN\n",
    "\n",
    "\n",
    "@labeling_function()\n",
    "def LF_complement_left_row(c):\n",
    "    return (\n",
    "        FALSE\n",
    "        if (\n",
    "            overlap(\n",
    "                [\"complement\", \"complementary\"],\n",
    "                chain.from_iterable(\n",
    "                    [get_row_ngrams(c.part), get_left_ngrams(c.part, window=10)]\n",
    "                ),\n",
    "            )\n",
    "        )\n",
    "        else ABSTAIN\n",
    "    )\n",
    "\n",
    "\n",
    "@labeling_function()\n",
    "def LF_too_many_numbers_row(c):\n",
    "    num_numbers = list(get_row_ngrams(c.temp, attrib=\"ner_tags\")).count(\"number\")\n",
    "    return FALSE if num_numbers >= 3 else ABSTAIN\n",
    "\n",
    "\n",
    "@labeling_function()\n",
    "def LF_temp_on_high_page_num(c):\n",
    "    return FALSE if c.temp.context.get_attrib_tokens(\"page\")[0] > 2 else ABSTAIN\n",
    "\n",
    "\n",
    "@labeling_function()\n",
    "def LF_temp_outside_table(c):\n",
    "    return FALSE if not c.temp.context.sentence.is_tabular() is None else ABSTAIN\n",
    "\n",
    "\n",
    "@labeling_function()\n",
    "def LF_not_temp_relevant(c):\n",
    "    return (\n",
    "        FALSE\n",
    "        if not overlap(\n",
    "            [\"storage\", \"temperature\", \"tstg\", \"stg\", \"ts\"],\n",
    "            list(get_aligned_ngrams(c.temp)),\n",
    "        )\n",
    "        else ABSTAIN\n",
    "    )"
   ]
  },
  {
   "cell_type": "markdown",
   "metadata": {
    "collapsed": true
   },
   "source": [
    "Then, we can add these to our list of labeling functions"
   ]
  },
  {
   "cell_type": "code",
   "execution_count": 49,
   "metadata": {},
   "outputs": [],
   "source": [
    "stg_temp_lfs_2 = [\n",
    "    LF_test_condition_aligned,\n",
    "    LF_collector_aligned,\n",
    "    LF_current_aligned,\n",
    "    LF_voltage_row_temp,\n",
    "    LF_voltage_row_part,\n",
    "    LF_typ_row,\n",
    "    LF_complement_left_row,\n",
    "#     LF_too_many_numbers_row,\n",
    "    LF_temp_on_high_page_num,\n",
    "    LF_temp_outside_table,\n",
    "    LF_not_temp_relevant,\n",
    "]"
   ]
  },
  {
   "cell_type": "markdown",
   "metadata": {},
   "source": [
    "And rerun labeling. Importantly, this time we use the `.update()` function to reflect the fact that we are adding new labeling functions, but do not want to throw away the computations already performed in the previous iteration."
   ]
  },
  {
   "cell_type": "code",
   "execution_count": 50,
   "metadata": {},
   "outputs": [
    {
     "name": "stderr",
     "output_type": "stream",
     "text": [
      "[2020-04-20 21:27:41,910][INFO] fonduer.utils.udf:69 - Running UDF...\n"
     ]
    },
    {
     "data": {
      "application/vnd.jupyter.widget-view+json": {
       "model_id": "0c9ee366bfbd4f5185b6cfe6d16231b8",
       "version_major": 2,
       "version_minor": 0
      },
      "text/plain": [
       "HBox(children=(FloatProgress(value=0.0, max=80.0), HTML(value='')))"
      ]
     },
     "metadata": {},
     "output_type": "display_data"
    },
    {
     "name": "stdout",
     "output_type": "stream",
     "text": [
      "\n",
      "CPU times: user 45.7 s, sys: 2.2 s, total: 47.9 s\n",
      "Wall time: 5min 46s\n",
      "CPU times: user 36.7 s, sys: 2.09 s, total: 38.8 s\n",
      "Wall time: 51.3 s\n",
      "(28935, 16)\n"
     ]
    }
   ],
   "source": [
    "%time labeler.update(split=0, lfs=[stg_temp_lfs_2], parallelism=PARALLEL)\n",
    "%time L_train = labeler.get_label_matrices(train_cands)\n",
    "print(L_train[0].shape)"
   ]
  },
  {
   "cell_type": "code",
   "execution_count": 52,
   "metadata": {},
   "outputs": [
    {
     "data": {
      "text/html": [
       "<div>\n",
       "<style scoped>\n",
       "    .dataframe tbody tr th:only-of-type {\n",
       "        vertical-align: middle;\n",
       "    }\n",
       "\n",
       "    .dataframe tbody tr th {\n",
       "        vertical-align: top;\n",
       "    }\n",
       "\n",
       "    .dataframe thead th {\n",
       "        text-align: right;\n",
       "    }\n",
       "</style>\n",
       "<table border=\"1\" class=\"dataframe\">\n",
       "  <thead>\n",
       "    <tr style=\"text-align: right;\">\n",
       "      <th></th>\n",
       "      <th>j</th>\n",
       "      <th>Polarity</th>\n",
       "      <th>Coverage</th>\n",
       "      <th>Overlaps</th>\n",
       "      <th>Conflicts</th>\n",
       "      <th>Correct</th>\n",
       "      <th>Incorrect</th>\n",
       "      <th>Emp. Acc.</th>\n",
       "    </tr>\n",
       "  </thead>\n",
       "  <tbody>\n",
       "    <tr>\n",
       "      <th>LF_collector_aligned</th>\n",
       "      <td>0</td>\n",
       "      <td>[0]</td>\n",
       "      <td>0.043200</td>\n",
       "      <td>0.043200</td>\n",
       "      <td>0.000000</td>\n",
       "      <td>1159</td>\n",
       "      <td>91</td>\n",
       "      <td>0.927200</td>\n",
       "    </tr>\n",
       "    <tr>\n",
       "      <th>LF_complement_left_row</th>\n",
       "      <td>1</td>\n",
       "      <td>[0]</td>\n",
       "      <td>0.009953</td>\n",
       "      <td>0.009953</td>\n",
       "      <td>0.002765</td>\n",
       "      <td>287</td>\n",
       "      <td>1</td>\n",
       "      <td>0.996528</td>\n",
       "    </tr>\n",
       "    <tr>\n",
       "      <th>LF_current_aligned</th>\n",
       "      <td>2</td>\n",
       "      <td>[0]</td>\n",
       "      <td>0.303266</td>\n",
       "      <td>0.303266</td>\n",
       "      <td>0.002246</td>\n",
       "      <td>8181</td>\n",
       "      <td>594</td>\n",
       "      <td>0.932308</td>\n",
       "    </tr>\n",
       "    <tr>\n",
       "      <th>LF_negative_number_left</th>\n",
       "      <td>3</td>\n",
       "      <td>[1]</td>\n",
       "      <td>0.051356</td>\n",
       "      <td>0.051356</td>\n",
       "      <td>0.051356</td>\n",
       "      <td>1342</td>\n",
       "      <td>144</td>\n",
       "      <td>0.903096</td>\n",
       "    </tr>\n",
       "    <tr>\n",
       "      <th>LF_not_temp_relevant</th>\n",
       "      <td>4</td>\n",
       "      <td>[0]</td>\n",
       "      <td>0.910005</td>\n",
       "      <td>0.910005</td>\n",
       "      <td>0.003767</td>\n",
       "      <td>23224</td>\n",
       "      <td>3107</td>\n",
       "      <td>0.882002</td>\n",
       "    </tr>\n",
       "    <tr>\n",
       "      <th>LF_operating_row</th>\n",
       "      <td>5</td>\n",
       "      <td>[1]</td>\n",
       "      <td>0.032072</td>\n",
       "      <td>0.032072</td>\n",
       "      <td>0.032072</td>\n",
       "      <td>597</td>\n",
       "      <td>331</td>\n",
       "      <td>0.643319</td>\n",
       "    </tr>\n",
       "    <tr>\n",
       "      <th>LF_storage_row</th>\n",
       "      <td>6</td>\n",
       "      <td>[1]</td>\n",
       "      <td>0.063522</td>\n",
       "      <td>0.063522</td>\n",
       "      <td>0.063522</td>\n",
       "      <td>1335</td>\n",
       "      <td>503</td>\n",
       "      <td>0.726333</td>\n",
       "    </tr>\n",
       "    <tr>\n",
       "      <th>LF_temp_on_high_page_num</th>\n",
       "      <td>7</td>\n",
       "      <td>[1]</td>\n",
       "      <td>0.086504</td>\n",
       "      <td>0.086504</td>\n",
       "      <td>0.086504</td>\n",
       "      <td>2014</td>\n",
       "      <td>489</td>\n",
       "      <td>0.804634</td>\n",
       "    </tr>\n",
       "    <tr>\n",
       "      <th>LF_temp_outside_table</th>\n",
       "      <td>8</td>\n",
       "      <td>[0]</td>\n",
       "      <td>0.331260</td>\n",
       "      <td>0.331260</td>\n",
       "      <td>0.005461</td>\n",
       "      <td>7803</td>\n",
       "      <td>1782</td>\n",
       "      <td>0.814085</td>\n",
       "    </tr>\n",
       "    <tr>\n",
       "      <th>LF_temperature_row</th>\n",
       "      <td>9</td>\n",
       "      <td>[0]</td>\n",
       "      <td>1.000000</td>\n",
       "      <td>1.000000</td>\n",
       "      <td>0.093174</td>\n",
       "      <td>23814</td>\n",
       "      <td>5121</td>\n",
       "      <td>0.823017</td>\n",
       "    </tr>\n",
       "    <tr>\n",
       "      <th>LF_test_condition_aligned</th>\n",
       "      <td>10</td>\n",
       "      <td>[0]</td>\n",
       "      <td>0.000138</td>\n",
       "      <td>0.000138</td>\n",
       "      <td>0.000069</td>\n",
       "      <td>0</td>\n",
       "      <td>4</td>\n",
       "      <td>0.000000</td>\n",
       "    </tr>\n",
       "    <tr>\n",
       "      <th>LF_to_left</th>\n",
       "      <td>11</td>\n",
       "      <td>[1]</td>\n",
       "      <td>0.056575</td>\n",
       "      <td>0.056575</td>\n",
       "      <td>0.056575</td>\n",
       "      <td>1233</td>\n",
       "      <td>404</td>\n",
       "      <td>0.753207</td>\n",
       "    </tr>\n",
       "    <tr>\n",
       "      <th>LF_tstg_row</th>\n",
       "      <td>12</td>\n",
       "      <td>[1]</td>\n",
       "      <td>0.063522</td>\n",
       "      <td>0.063522</td>\n",
       "      <td>0.063522</td>\n",
       "      <td>1335</td>\n",
       "      <td>503</td>\n",
       "      <td>0.726333</td>\n",
       "    </tr>\n",
       "    <tr>\n",
       "      <th>LF_typ_row</th>\n",
       "      <td>13</td>\n",
       "      <td>[0]</td>\n",
       "      <td>0.002004</td>\n",
       "      <td>0.002004</td>\n",
       "      <td>0.000000</td>\n",
       "      <td>33</td>\n",
       "      <td>25</td>\n",
       "      <td>0.568966</td>\n",
       "    </tr>\n",
       "    <tr>\n",
       "      <th>LF_voltage_row_part</th>\n",
       "      <td>14</td>\n",
       "      <td>[0]</td>\n",
       "      <td>0.203076</td>\n",
       "      <td>0.203076</td>\n",
       "      <td>0.009884</td>\n",
       "      <td>5269</td>\n",
       "      <td>607</td>\n",
       "      <td>0.896698</td>\n",
       "    </tr>\n",
       "    <tr>\n",
       "      <th>LF_voltage_row_temp</th>\n",
       "      <td>15</td>\n",
       "      <td>[0]</td>\n",
       "      <td>0.203076</td>\n",
       "      <td>0.203076</td>\n",
       "      <td>0.009884</td>\n",
       "      <td>5269</td>\n",
       "      <td>607</td>\n",
       "      <td>0.896698</td>\n",
       "    </tr>\n",
       "  </tbody>\n",
       "</table>\n",
       "</div>"
      ],
      "text/plain": [
       "                            j Polarity  Coverage  Overlaps  Conflicts  \\\n",
       "LF_collector_aligned        0      [0]  0.043200  0.043200   0.000000   \n",
       "LF_complement_left_row      1      [0]  0.009953  0.009953   0.002765   \n",
       "LF_current_aligned          2      [0]  0.303266  0.303266   0.002246   \n",
       "LF_negative_number_left     3      [1]  0.051356  0.051356   0.051356   \n",
       "LF_not_temp_relevant        4      [0]  0.910005  0.910005   0.003767   \n",
       "LF_operating_row            5      [1]  0.032072  0.032072   0.032072   \n",
       "LF_storage_row              6      [1]  0.063522  0.063522   0.063522   \n",
       "LF_temp_on_high_page_num    7      [1]  0.086504  0.086504   0.086504   \n",
       "LF_temp_outside_table       8      [0]  0.331260  0.331260   0.005461   \n",
       "LF_temperature_row          9      [0]  1.000000  1.000000   0.093174   \n",
       "LF_test_condition_aligned  10      [0]  0.000138  0.000138   0.000069   \n",
       "LF_to_left                 11      [1]  0.056575  0.056575   0.056575   \n",
       "LF_tstg_row                12      [1]  0.063522  0.063522   0.063522   \n",
       "LF_typ_row                 13      [0]  0.002004  0.002004   0.000000   \n",
       "LF_voltage_row_part        14      [0]  0.203076  0.203076   0.009884   \n",
       "LF_voltage_row_temp        15      [0]  0.203076  0.203076   0.009884   \n",
       "\n",
       "                           Correct  Incorrect  Emp. Acc.  \n",
       "LF_collector_aligned          1159         91   0.927200  \n",
       "LF_complement_left_row         287          1   0.996528  \n",
       "LF_current_aligned            8181        594   0.932308  \n",
       "LF_negative_number_left       1342        144   0.903096  \n",
       "LF_not_temp_relevant         23224       3107   0.882002  \n",
       "LF_operating_row               597        331   0.643319  \n",
       "LF_storage_row                1335        503   0.726333  \n",
       "LF_temp_on_high_page_num      2014        489   0.804634  \n",
       "LF_temp_outside_table         7803       1782   0.814085  \n",
       "LF_temperature_row           23814       5121   0.823017  \n",
       "LF_test_condition_aligned        0          4   0.000000  \n",
       "LF_to_left                    1233        404   0.753207  \n",
       "LF_tstg_row                   1335        503   0.726333  \n",
       "LF_typ_row                      33         25   0.568966  \n",
       "LF_voltage_row_part           5269        607   0.896698  \n",
       "LF_voltage_row_temp           5269        607   0.896698  "
      ]
     },
     "execution_count": 52,
     "metadata": {},
     "output_type": "execute_result"
    }
   ],
   "source": [
    "LFAnalysis(L=L_train[0], lfs=sorted(stg_temp_lfs + stg_temp_lfs_2, key=lambda lf: lf.name)).lf_summary(Y=L_gold_train[0].reshape(-1))"
   ]
  },
  {
   "cell_type": "markdown",
   "metadata": {},
   "source": [
    "Now, we can rerun probablistic relation classification, the same way we did above. We start with the generative model."
   ]
  },
  {
   "cell_type": "code",
   "execution_count": 53,
   "metadata": {},
   "outputs": [
    {
     "name": "stderr",
     "output_type": "stream",
     "text": [
      "[2020-04-20 22:46:45,520][INFO] root:852 - Computing O...\n",
      "[2020-04-20 22:46:45,536][INFO] root:858 - Estimating \\mu...\n",
      "[2020-04-20 22:46:45,541][INFO] root:79 - [0 epochs]: TRAIN:[loss=2.891]\n",
      "[2020-04-20 22:46:45,769][INFO] root:79 - [100 epochs]: TRAIN:[loss=0.106]\n",
      "[2020-04-20 22:46:46,004][INFO] root:79 - [200 epochs]: TRAIN:[loss=0.102]\n",
      "[2020-04-20 22:46:46,249][INFO] root:79 - [300 epochs]: TRAIN:[loss=0.102]\n",
      "[2020-04-20 22:46:46,491][INFO] root:79 - [400 epochs]: TRAIN:[loss=0.102]\n",
      "[2020-04-20 22:46:46,720][INFO] root:915 - Finished Training\n"
     ]
    },
    {
     "name": "stdout",
     "output_type": "stream",
     "text": [
      "CPU times: user 1.17 s, sys: 24 ms, total: 1.19 s\n",
      "Wall time: 1.22 s\n"
     ]
    },
    {
     "data": {
      "image/png": "[encoded data removed]",
      "text/plain": [
       "<Figure size 432x288 with 1 Axes>"
      ]
     },
     "metadata": {
      "needs_background": "light"
     },
     "output_type": "display_data"
    }
   ],
   "source": [
    "gen_model = LabelModel(cardinality=2)\n",
    "\n",
    "%time gen_model.fit(L_train[0], n_epochs=500, log_freq=100)\n",
    "train_marginals = gen_model.predict_proba(L_train[0])\n",
    "plt.hist(train_marginals[:, TRUE], bins=20)\n",
    "plt.show()"
   ]
  },
  {
   "cell_type": "markdown",
   "metadata": {},
   "source": [
    "Next, we rerun the discriminitive model and see that our score has improved significantly to about 80 F1 points."
   ]
  },
  {
   "cell_type": "code",
   "execution_count": 54,
   "metadata": {},
   "outputs": [],
   "source": [
    "# Regenerate dataloader for training data based on new train_marginals\n",
    "diffs = train_marginals.max(axis=1) - train_marginals.min(axis=1)\n",
    "train_idxs = np.where(diffs > 1e-6)[0]\n",
    "\n",
    "train_dataloader = EmmentalDataLoader(\n",
    "    task_to_label_dict={ATTRIBUTE: \"labels\"},\n",
    "    dataset=FonduerDataset(\n",
    "        ATTRIBUTE,\n",
    "        train_cands[0],\n",
    "        F_train[0],\n",
    "        emb_layer.word2id,\n",
    "        train_marginals,\n",
    "        train_idxs,\n",
    "    ),\n",
    "    split=\"train\",\n",
    "    batch_size=100,\n",
    "    shuffle=True,\n",
    ")"
   ]
  },
  {
   "cell_type": "code",
   "execution_count": 55,
   "metadata": {
    "scrolled": true
   },
   "outputs": [
    {
     "name": "stderr",
     "output_type": "stream",
     "text": [
      "[2020-04-20 22:47:09,277][INFO] emmental.meta:115 - Setting logging directory to: logs/2020-04-20_20-53-42/2020_04_20/22_47_09/90e6f98d\n",
      "[2020-04-20 22:47:09,310][INFO] emmental.meta:63 - Loading Emmental default config from /dfs/scratch1/senwu/mmtl/test/data_augmentation/new_eda5/emmental/src/emmental/emmental-default-config.yaml.\n",
      "[2020-04-20 22:47:09,311][INFO] emmental.meta:169 - Updating Emmental config from user provided config.\n",
      "[2020-04-20 22:47:09,315][INFO] fonduer.learning.task:87 - LogisticRegression model config: {'hidden_dim': 100, 'bias': False}\n",
      "[2020-04-20 22:47:09,450][INFO] emmental.task:50 - Created task: stg_temp_max\n",
      "[2020-04-20 22:47:09,451][INFO] emmental.model:56 - Created emmental model stg_temp_max_task that contains task set().\n",
      "[2020-04-20 22:47:09,451][INFO] emmental.model:70 - Moving model to GPU (cuda:0).\n",
      "[2020-04-20 22:47:09,453][INFO] emmental.model:70 - Moving model to GPU (cuda:0).\n",
      "[2020-04-20 22:47:09,470][INFO] emmental.logging.logging_manager:38 - Evaluating every 1 epoch.\n",
      "[2020-04-20 22:47:09,471][INFO] emmental.logging.logging_manager:59 - No checkpointing.\n",
      "[2020-04-20 22:47:09,519][INFO] emmental.learner:101 - Using optimizer Adam (\n",
      "Parameter Group 0\n",
      "    amsgrad: False\n",
      "    betas: (0.9, 0.999)\n",
      "    eps: 1e-08\n",
      "    lr: 0.001\n",
      "    weight_decay: 0.0\n",
      ")\n",
      "[2020-04-20 22:47:09,520][INFO] emmental.learner:190 - Using lr_scheduler None with step every 1 batch.\n",
      "[2020-04-20 22:47:09,521][INFO] emmental.learner:539 - Start learning...\n"
     ]
    },
    {
     "data": {
      "application/vnd.jupyter.widget-view+json": {
       "model_id": "4eae5c53afff49ff99cdbe83209bca94",
       "version_major": 2,
       "version_minor": 0
      },
      "text/plain": [
       "HBox(children=(FloatProgress(value=0.0, description='Epoch 0:', max=290.0, style=ProgressStyle(description_wid…"
      ]
     },
     "metadata": {},
     "output_type": "display_data"
    },
    {
     "name": "stderr",
     "output_type": "stream",
     "text": [
      "/dfs/scratch1/senwu/mmtl/test/fonduer/src/fonduer/learning/task.py:42: UserWarning: Implicit dimension choice for softmax has been deprecated. Change the call to include dim=X as an argument.\n",
      "  return F.softmax(intermediate_output_dict[module_name][0])\n",
      "/lfs/local/0/senwu/.venv_hack_tecs/lib/python3.6/site-packages/numpy/core/fromnumeric.py:3335: RuntimeWarning: Mean of empty slice.\n",
      "  out=out, **kwargs)\n",
      "/lfs/local/0/senwu/.venv_hack_tecs/lib/python3.6/site-packages/numpy/core/_methods.py:161: RuntimeWarning: invalid value encountered in double_scalars\n",
      "  ret = ret.dtype.type(ret / rcount)\n",
      "[2020-04-20 22:47:18,348][INFO] emmental.learner:392 - Epoch: 1.00 {'stg_temp_max/stg_temp_max/train/loss': 0.45423642227290023, 'model/all/train/loss': 0.45423642227290023, 'stg_temp_max/stg_temp_max/train/accuracy': 0.9571798859512701, 'stg_temp_max/stg_temp_max/train/precision': 0.7007077856420627, 'stg_temp_max/stg_temp_max/train/recall': 0.980544747081712, 'stg_temp_max/stg_temp_max/train/f1': 0.8173374613003097, 'stg_temp_max/stg_temp_max/train/average': 0.8639424699938386, 'model/all/train/micro_average': 0.8639424699938386, 'model/all/train/macro_average': 0.8639424699938386, 'model/all/train/lr': 0.001, 'model/all/all/micro_average': nan, 'model/all/all/macro_average': nan, 'model/all/all/loss': nan}\n"
     ]
    },
    {
     "name": "stdout",
     "output_type": "stream",
     "text": [
      "\n"
     ]
    },
    {
     "data": {
      "application/vnd.jupyter.widget-view+json": {
       "model_id": "757734cb25fa4d1d911e311a58d49edd",
       "version_major": 2,
       "version_minor": 0
      },
      "text/plain": [
       "HBox(children=(FloatProgress(value=0.0, description='Epoch 1:', max=290.0, style=ProgressStyle(description_wid…"
      ]
     },
     "metadata": {},
     "output_type": "display_data"
    },
    {
     "name": "stderr",
     "output_type": "stream",
     "text": [
      "[2020-04-20 22:47:26,511][INFO] emmental.learner:392 - Epoch: 2.00 {'stg_temp_max/stg_temp_max/train/loss': 0.4422165915789702, 'model/all/train/loss': 0.4422165915789702, 'stg_temp_max/stg_temp_max/train/accuracy': 0.9868671159495421, 'stg_temp_max/stg_temp_max/train/precision': 0.8841444270015698, 'stg_temp_max/stg_temp_max/train/recall': 0.9961089494163424, 'stg_temp_max/stg_temp_max/train/f1': 0.9367930805056555, 'stg_temp_max/stg_temp_max/train/average': 0.9509783932182774, 'model/all/train/micro_average': 0.9509783932182774, 'model/all/train/macro_average': 0.9509783932182774, 'model/all/train/lr': 0.001, 'model/all/all/micro_average': nan, 'model/all/all/macro_average': nan, 'model/all/all/loss': nan}\n"
     ]
    },
    {
     "name": "stdout",
     "output_type": "stream",
     "text": [
      "\n"
     ]
    },
    {
     "data": {
      "application/vnd.jupyter.widget-view+json": {
       "model_id": "f77da1b9f19d4f56abaa8a9883f85b99",
       "version_major": 2,
       "version_minor": 0
      },
      "text/plain": [
       "HBox(children=(FloatProgress(value=0.0, description='Epoch 2:', max=290.0, style=ProgressStyle(description_wid…"
      ]
     },
     "metadata": {},
     "output_type": "display_data"
    },
    {
     "name": "stderr",
     "output_type": "stream",
     "text": [
      "[2020-04-20 22:47:34,421][INFO] emmental.learner:392 - Epoch: 3.00 {'stg_temp_max/stg_temp_max/train/loss': 0.4412563848839495, 'model/all/train/loss': 0.4412563848839495, 'stg_temp_max/stg_temp_max/train/accuracy': 0.9896319336443753, 'stg_temp_max/stg_temp_max/train/precision': 0.9056179775280899, 'stg_temp_max/stg_temp_max/train/recall': 0.9978776087725504, 'stg_temp_max/stg_temp_max/train/f1': 0.9495119488387748, 'stg_temp_max/stg_temp_max/train/average': 0.9606598671959476, 'model/all/train/micro_average': 0.9606598671959476, 'model/all/train/macro_average': 0.9606598671959476, 'model/all/train/lr': 0.001, 'model/all/all/micro_average': nan, 'model/all/all/macro_average': nan, 'model/all/all/loss': nan}\n"
     ]
    },
    {
     "name": "stdout",
     "output_type": "stream",
     "text": [
      "\n"
     ]
    },
    {
     "data": {
      "application/vnd.jupyter.widget-view+json": {
       "model_id": "f5ea900c5fe749a1b81b46bfc48b3e43",
       "version_major": 2,
       "version_minor": 0
      },
      "text/plain": [
       "HBox(children=(FloatProgress(value=0.0, description='Epoch 3:', max=290.0, style=ProgressStyle(description_wid…"
      ]
     },
     "metadata": {},
     "output_type": "display_data"
    },
    {
     "name": "stderr",
     "output_type": "stream",
     "text": [
      "[2020-04-20 22:47:42,448][INFO] emmental.learner:392 - Epoch: 4.00 {'stg_temp_max/stg_temp_max/train/loss': 0.4404539025744482, 'model/all/train/loss': 0.4404539025744482, 'stg_temp_max/stg_temp_max/train/accuracy': 0.9934681181959565, 'stg_temp_max/stg_temp_max/train/precision': 0.9384973404255319, 'stg_temp_max/stg_temp_max/train/recall': 0.9985850725150336, 'stg_temp_max/stg_temp_max/train/f1': 0.9676092544987146, 'stg_temp_max/stg_temp_max/train/average': 0.974539946408809, 'model/all/train/micro_average': 0.974539946408809, 'model/all/train/macro_average': 0.974539946408809, 'model/all/train/lr': 0.001, 'model/all/all/micro_average': nan, 'model/all/all/macro_average': nan, 'model/all/all/loss': nan}\n"
     ]
    },
    {
     "name": "stdout",
     "output_type": "stream",
     "text": [
      "\n"
     ]
    },
    {
     "data": {
      "application/vnd.jupyter.widget-view+json": {
       "model_id": "fb052a9afaf5476c9d9e02546a36ed93",
       "version_major": 2,
       "version_minor": 0
      },
      "text/plain": [
       "HBox(children=(FloatProgress(value=0.0, description='Epoch 4:', max=290.0, style=ProgressStyle(description_wid…"
      ]
     },
     "metadata": {},
     "output_type": "display_data"
    },
    {
     "name": "stderr",
     "output_type": "stream",
     "text": [
      "[2020-04-20 22:47:50,571][INFO] emmental.learner:392 - Epoch: 5.00 {'stg_temp_max/stg_temp_max/train/loss': 0.43988635953749444, 'model/all/train/loss': 0.43988635953749444, 'stg_temp_max/stg_temp_max/train/accuracy': 0.9951270088128564, 'stg_temp_max/stg_temp_max/train/precision': 0.9527983816587997, 'stg_temp_max/stg_temp_max/train/recall': 0.9996462681287585, 'stg_temp_max/stg_temp_max/train/f1': 0.9756602796478508, 'stg_temp_max/stg_temp_max/train/average': 0.9808079845620663, 'model/all/train/micro_average': 0.9808079845620663, 'model/all/train/macro_average': 0.9808079845620663, 'model/all/train/lr': 0.001, 'model/all/all/micro_average': nan, 'model/all/all/macro_average': nan, 'model/all/all/loss': nan}\n"
     ]
    },
    {
     "name": "stdout",
     "output_type": "stream",
     "text": [
      "\n"
     ]
    },
    {
     "data": {
      "application/vnd.jupyter.widget-view+json": {
       "model_id": "d58e1f7288be4eae80eebd9be0d120a5",
       "version_major": 2,
       "version_minor": 0
      },
      "text/plain": [
       "HBox(children=(FloatProgress(value=0.0, description='Epoch 5:', max=290.0, style=ProgressStyle(description_wid…"
      ]
     },
     "metadata": {},
     "output_type": "display_data"
    },
    {
     "name": "stderr",
     "output_type": "stream",
     "text": [
      "[2020-04-20 22:47:58,647][INFO] emmental.learner:392 - Epoch: 6.00 {'stg_temp_max/stg_temp_max/train/loss': 0.4396978337797287, 'model/all/train/loss': 0.4396978337797287, 'stg_temp_max/stg_temp_max/train/accuracy': 0.9950233281493002, 'stg_temp_max/stg_temp_max/train/precision': 0.9530563998649105, 'stg_temp_max/stg_temp_max/train/recall': 0.998231340643792, 'stg_temp_max/stg_temp_max/train/f1': 0.9751209398756048, 'stg_temp_max/stg_temp_max/train/average': 0.9803580021334019, 'model/all/train/micro_average': 0.9803580021334019, 'model/all/train/macro_average': 0.9803580021334019, 'model/all/train/lr': 0.001, 'model/all/all/micro_average': nan, 'model/all/all/macro_average': nan, 'model/all/all/loss': nan}\n"
     ]
    },
    {
     "name": "stdout",
     "output_type": "stream",
     "text": [
      "\n"
     ]
    },
    {
     "data": {
      "application/vnd.jupyter.widget-view+json": {
       "model_id": "1d8f22b8c50243349d164b220ac93083",
       "version_major": 2,
       "version_minor": 0
      },
      "text/plain": [
       "HBox(children=(FloatProgress(value=0.0, description='Epoch 6:', max=290.0, style=ProgressStyle(description_wid…"
      ]
     },
     "metadata": {},
     "output_type": "display_data"
    },
    {
     "name": "stderr",
     "output_type": "stream",
     "text": [
      "[2020-04-20 22:48:06,774][INFO] emmental.learner:392 - Epoch: 7.00 {'stg_temp_max/stg_temp_max/train/loss': 0.439533066534308, 'model/all/train/loss': 0.439533066534308, 'stg_temp_max/stg_temp_max/train/accuracy': 0.9955071712458959, 'stg_temp_max/stg_temp_max/train/precision': 0.9572736520854527, 'stg_temp_max/stg_temp_max/train/recall': 0.9985850725150336, 'stg_temp_max/stg_temp_max/train/f1': 0.9774930747922437, 'stg_temp_max/stg_temp_max/train/average': 0.9822147426596564, 'model/all/train/micro_average': 0.9822147426596564, 'model/all/train/macro_average': 0.9822147426596564, 'model/all/train/lr': 0.001, 'model/all/all/micro_average': nan, 'model/all/all/macro_average': nan, 'model/all/all/loss': nan}\n"
     ]
    },
    {
     "name": "stdout",
     "output_type": "stream",
     "text": [
      "\n"
     ]
    },
    {
     "data": {
      "application/vnd.jupyter.widget-view+json": {
       "model_id": "23d2dd4469a74bbda1015f7918bf6b83",
       "version_major": 2,
       "version_minor": 0
      },
      "text/plain": [
       "HBox(children=(FloatProgress(value=0.0, description='Epoch 7:', max=290.0, style=ProgressStyle(description_wid…"
      ]
     },
     "metadata": {},
     "output_type": "display_data"
    },
    {
     "name": "stderr",
     "output_type": "stream",
     "text": [
      "[2020-04-20 22:48:14,949][INFO] emmental.learner:392 - Epoch: 8.00 {'stg_temp_max/stg_temp_max/train/loss': 0.43943478782724504, 'model/all/train/loss': 0.43943478782724504, 'stg_temp_max/stg_temp_max/train/accuracy': 0.996509417660273, 'stg_temp_max/stg_temp_max/train/precision': 0.9671007539410555, 'stg_temp_max/stg_temp_max/train/recall': 0.998231340643792, 'stg_temp_max/stg_temp_max/train/f1': 0.982419495213229, 'stg_temp_max/stg_temp_max/train/average': 0.9860652518645874, 'model/all/train/micro_average': 0.9860652518645874, 'model/all/train/macro_average': 0.9860652518645874, 'model/all/train/lr': 0.001, 'model/all/all/micro_average': nan, 'model/all/all/macro_average': nan, 'model/all/all/loss': nan}\n"
     ]
    },
    {
     "name": "stdout",
     "output_type": "stream",
     "text": [
      "\n"
     ]
    },
    {
     "data": {
      "application/vnd.jupyter.widget-view+json": {
       "model_id": "17a128f06ffd43eea04e5420be2b1e4a",
       "version_major": 2,
       "version_minor": 0
      },
      "text/plain": [
       "HBox(children=(FloatProgress(value=0.0, description='Epoch 8:', max=290.0, style=ProgressStyle(description_wid…"
      ]
     },
     "metadata": {},
     "output_type": "display_data"
    },
    {
     "name": "stderr",
     "output_type": "stream",
     "text": [
      "[2020-04-20 22:48:22,944][INFO] emmental.learner:392 - Epoch: 9.00 {'stg_temp_max/stg_temp_max/train/loss': 0.4393197322872321, 'model/all/train/loss': 0.4393197322872321, 'stg_temp_max/stg_temp_max/train/accuracy': 0.9966476585450147, 'stg_temp_max/stg_temp_max/train/precision': 0.96875, 'stg_temp_max/stg_temp_max/train/recall': 0.9978776087725504, 'stg_temp_max/stg_temp_max/train/f1': 0.9830981007144101, 'stg_temp_max/stg_temp_max/train/average': 0.9865933420079939, 'model/all/train/micro_average': 0.9865933420079939, 'model/all/train/macro_average': 0.9865933420079939, 'model/all/train/lr': 0.001, 'model/all/all/micro_average': nan, 'model/all/all/macro_average': nan, 'model/all/all/loss': nan}\n"
     ]
    },
    {
     "name": "stdout",
     "output_type": "stream",
     "text": [
      "\n"
     ]
    },
    {
     "data": {
      "application/vnd.jupyter.widget-view+json": {
       "model_id": "e328f4b30d174082904e955ae364f214",
       "version_major": 2,
       "version_minor": 0
      },
      "text/plain": [
       "HBox(children=(FloatProgress(value=0.0, description='Epoch 9:', max=290.0, style=ProgressStyle(description_wid…"
      ]
     },
     "metadata": {},
     "output_type": "display_data"
    },
    {
     "name": "stderr",
     "output_type": "stream",
     "text": [
      "[2020-04-20 22:48:32,490][INFO] emmental.learner:392 - Epoch: 10.00 {'stg_temp_max/stg_temp_max/train/loss': 0.43905561767403933, 'model/all/train/loss': 0.43905561767403933, 'stg_temp_max/stg_temp_max/train/accuracy': 0.9980991878348021, 'stg_temp_max/stg_temp_max/train/precision': 0.9815844336344683, 'stg_temp_max/stg_temp_max/train/recall': 0.9992925362575168, 'stg_temp_max/stg_temp_max/train/f1': 0.990359333917616, 'stg_temp_max/stg_temp_max/train/average': 0.9923338729111008, 'model/all/train/micro_average': 0.9923338729111008, 'model/all/train/macro_average': 0.9923338729111008, 'model/all/train/lr': 0.001, 'model/all/all/micro_average': nan, 'model/all/all/macro_average': nan, 'model/all/all/loss': nan}\n"
     ]
    },
    {
     "name": "stdout",
     "output_type": "stream",
     "text": [
      "\n"
     ]
    },
    {
     "data": {
      "application/vnd.jupyter.widget-view+json": {
       "model_id": "18c10722599e465f9c6017f877ea169a",
       "version_major": 2,
       "version_minor": 0
      },
      "text/plain": [
       "HBox(children=(FloatProgress(value=0.0, description='Epoch 10:', max=290.0, style=ProgressStyle(description_wi…"
      ]
     },
     "metadata": {},
     "output_type": "display_data"
    },
    {
     "name": "stderr",
     "output_type": "stream",
     "text": [
      "[2020-04-20 22:48:40,687][INFO] emmental.learner:392 - Epoch: 11.00 {'stg_temp_max/stg_temp_max/train/loss': 0.4389877746312013, 'model/all/train/loss': 0.4389877746312013, 'stg_temp_max/stg_temp_max/train/accuracy': 0.9986175911525834, 'stg_temp_max/stg_temp_max/train/precision': 0.9860481339379142, 'stg_temp_max/stg_temp_max/train/recall': 1.0, 'stg_temp_max/stg_temp_max/train/f1': 0.9929750614682121, 'stg_temp_max/stg_temp_max/train/average': 0.9944101966396774, 'model/all/train/micro_average': 0.9944101966396774, 'model/all/train/macro_average': 0.9944101966396774, 'model/all/train/lr': 0.001, 'model/all/all/micro_average': nan, 'model/all/all/macro_average': nan, 'model/all/all/loss': nan}\n"
     ]
    },
    {
     "name": "stdout",
     "output_type": "stream",
     "text": [
      "\n"
     ]
    },
    {
     "data": {
      "application/vnd.jupyter.widget-view+json": {
       "model_id": "8d1af0e11d6e41818caaf1d6f59ab152",
       "version_major": 2,
       "version_minor": 0
      },
      "text/plain": [
       "HBox(children=(FloatProgress(value=0.0, description='Epoch 11:', max=290.0, style=ProgressStyle(description_wi…"
      ]
     },
     "metadata": {},
     "output_type": "display_data"
    },
    {
     "name": "stderr",
     "output_type": "stream",
     "text": [
      "[2020-04-20 22:48:48,787][INFO] emmental.learner:392 - Epoch: 12.00 {'stg_temp_max/stg_temp_max/train/loss': 0.4388081867274213, 'model/all/train/loss': 0.4388081867274213, 'stg_temp_max/stg_temp_max/train/accuracy': 0.9991359944703646, 'stg_temp_max/stg_temp_max/train/precision': 0.991578947368421, 'stg_temp_max/stg_temp_max/train/recall': 0.9996462681287585, 'stg_temp_max/stg_temp_max/train/f1': 0.9955962656332571, 'stg_temp_max/stg_temp_max/train/average': 0.9964893689002003, 'model/all/train/micro_average': 0.9964893689002003, 'model/all/train/macro_average': 0.9964893689002003, 'model/all/train/lr': 0.001, 'model/all/all/micro_average': nan, 'model/all/all/macro_average': nan, 'model/all/all/loss': nan}\n"
     ]
    },
    {
     "name": "stdout",
     "output_type": "stream",
     "text": [
      "\n"
     ]
    },
    {
     "data": {
      "application/vnd.jupyter.widget-view+json": {
       "model_id": "0d3fe876f15643dca7dffb1a31581179",
       "version_major": 2,
       "version_minor": 0
      },
      "text/plain": [
       "HBox(children=(FloatProgress(value=0.0, description='Epoch 12:', max=290.0, style=ProgressStyle(description_wi…"
      ]
     },
     "metadata": {},
     "output_type": "display_data"
    },
    {
     "name": "stderr",
     "output_type": "stream",
     "text": [
      "[2020-04-20 22:48:56,834][INFO] emmental.learner:392 - Epoch: 13.00 {'stg_temp_max/stg_temp_max/train/loss': 0.4386904388073917, 'model/all/train/loss': 0.4386904388073917, 'stg_temp_max/stg_temp_max/train/accuracy': 0.999585277345775, 'stg_temp_max/stg_temp_max/train/precision': 0.9957731595632265, 'stg_temp_max/stg_temp_max/train/recall': 1.0, 'stg_temp_max/stg_temp_max/train/f1': 0.997882103776915, 'stg_temp_max/stg_temp_max/train/average': 0.9983101351714792, 'model/all/train/micro_average': 0.9983101351714792, 'model/all/train/macro_average': 0.9983101351714792, 'model/all/train/lr': 0.001, 'model/all/all/micro_average': nan, 'model/all/all/macro_average': nan, 'model/all/all/loss': nan}\n"
     ]
    },
    {
     "name": "stdout",
     "output_type": "stream",
     "text": [
      "\n"
     ]
    },
    {
     "data": {
      "application/vnd.jupyter.widget-view+json": {
       "model_id": "f792d470d59c46b0a47b56e709761523",
       "version_major": 2,
       "version_minor": 0
      },
      "text/plain": [
       "HBox(children=(FloatProgress(value=0.0, description='Epoch 13:', max=290.0, style=ProgressStyle(description_wi…"
      ]
     },
     "metadata": {},
     "output_type": "display_data"
    },
    {
     "name": "stderr",
     "output_type": "stream",
     "text": [
      "[2020-04-20 22:49:05,003][INFO] emmental.learner:392 - Epoch: 14.00 {'stg_temp_max/stg_temp_max/train/loss': 0.4386718115422193, 'model/all/train/loss': 0.4386718115422193, 'stg_temp_max/stg_temp_max/train/accuracy': 0.99917055469155, 'stg_temp_max/stg_temp_max/train/precision': 0.991926991926992, 'stg_temp_max/stg_temp_max/train/recall': 0.9996462681287585, 'stg_temp_max/stg_temp_max/train/f1': 0.9957716701902749, 'stg_temp_max/stg_temp_max/train/average': 0.9966288712343938, 'model/all/train/micro_average': 0.9966288712343938, 'model/all/train/macro_average': 0.9966288712343938, 'model/all/train/lr': 0.001, 'model/all/all/micro_average': nan, 'model/all/all/macro_average': nan, 'model/all/all/loss': nan}\n"
     ]
    },
    {
     "name": "stdout",
     "output_type": "stream",
     "text": [
      "\n"
     ]
    },
    {
     "data": {
      "application/vnd.jupyter.widget-view+json": {
       "model_id": "1e260e7dd06a451a8bb75332e33a3417",
       "version_major": 2,
       "version_minor": 0
      },
      "text/plain": [
       "HBox(children=(FloatProgress(value=0.0, description='Epoch 14:', max=290.0, style=ProgressStyle(description_wi…"
      ]
     },
     "metadata": {},
     "output_type": "display_data"
    },
    {
     "name": "stderr",
     "output_type": "stream",
     "text": [
      "[2020-04-20 22:49:13,080][INFO] emmental.learner:392 - Epoch: 15.00 {'stg_temp_max/stg_temp_max/train/loss': 0.4385989303722352, 'model/all/train/loss': 0.4385989303722352, 'stg_temp_max/stg_temp_max/train/accuracy': 0.9996889580093312, 'stg_temp_max/stg_temp_max/train/precision': 0.9975282485875706, 'stg_temp_max/stg_temp_max/train/recall': 0.9992925362575168, 'stg_temp_max/stg_temp_max/train/f1': 0.9984096130058314, 'stg_temp_max/stg_temp_max/train/average': 0.9987298389650625, 'model/all/train/micro_average': 0.9987298389650625, 'model/all/train/macro_average': 0.9987298389650625, 'model/all/train/lr': 0.001, 'model/all/all/micro_average': nan, 'model/all/all/macro_average': nan, 'model/all/all/loss': nan}\n"
     ]
    },
    {
     "name": "stdout",
     "output_type": "stream",
     "text": [
      "\n"
     ]
    },
    {
     "data": {
      "application/vnd.jupyter.widget-view+json": {
       "model_id": "689d3eb432e44b1dabf892b15047b097",
       "version_major": 2,
       "version_minor": 0
      },
      "text/plain": [
       "HBox(children=(FloatProgress(value=0.0, description='Epoch 15:', max=290.0, style=ProgressStyle(description_wi…"
      ]
     },
     "metadata": {},
     "output_type": "display_data"
    },
    {
     "name": "stderr",
     "output_type": "stream",
     "text": [
      "[2020-04-20 22:49:21,188][INFO] emmental.learner:392 - Epoch: 16.00 {'stg_temp_max/stg_temp_max/train/loss': 0.4385950964350393, 'model/all/train/loss': 0.4385950964350393, 'stg_temp_max/stg_temp_max/train/accuracy': 0.9998617591152583, 'stg_temp_max/stg_temp_max/train/precision': 0.9989395546129375, 'stg_temp_max/stg_temp_max/train/recall': 0.9996462681287585, 'stg_temp_max/stg_temp_max/train/f1': 0.9992927864214993, 'stg_temp_max/stg_temp_max/train/average': 0.9994350920696133, 'model/all/train/micro_average': 0.9994350920696133, 'model/all/train/macro_average': 0.9994350920696133, 'model/all/train/lr': 0.001, 'model/all/all/micro_average': nan, 'model/all/all/macro_average': nan, 'model/all/all/loss': nan}\n"
     ]
    },
    {
     "name": "stdout",
     "output_type": "stream",
     "text": [
      "\n"
     ]
    },
    {
     "data": {
      "application/vnd.jupyter.widget-view+json": {
       "model_id": "327d6892c8e144b192527952f6967116",
       "version_major": 2,
       "version_minor": 0
      },
      "text/plain": [
       "HBox(children=(FloatProgress(value=0.0, description='Epoch 16:', max=290.0, style=ProgressStyle(description_wi…"
      ]
     },
     "metadata": {},
     "output_type": "display_data"
    },
    {
     "name": "stderr",
     "output_type": "stream",
     "text": [
      "[2020-04-20 22:49:29,342][INFO] emmental.learner:392 - Epoch: 17.00 {'stg_temp_max/stg_temp_max/train/loss': 0.43852364900550095, 'model/all/train/loss': 0.43852364900550095, 'stg_temp_max/stg_temp_max/train/accuracy': 0.9998963193364437, 'stg_temp_max/stg_temp_max/train/precision': 0.9989399293286219, 'stg_temp_max/stg_temp_max/train/recall': 1.0, 'stg_temp_max/stg_temp_max/train/f1': 0.9994696835778681, 'stg_temp_max/stg_temp_max/train/average': 0.9995764830607334, 'model/all/train/micro_average': 0.9995764830607334, 'model/all/train/macro_average': 0.9995764830607334, 'model/all/train/lr': 0.001, 'model/all/all/micro_average': nan, 'model/all/all/macro_average': nan, 'model/all/all/loss': nan}\n"
     ]
    },
    {
     "name": "stdout",
     "output_type": "stream",
     "text": [
      "\n"
     ]
    },
    {
     "data": {
      "application/vnd.jupyter.widget-view+json": {
       "model_id": "eea25a7eb1a34cf0bc048c0a98078ad0",
       "version_major": 2,
       "version_minor": 0
      },
      "text/plain": [
       "HBox(children=(FloatProgress(value=0.0, description='Epoch 17:', max=290.0, style=ProgressStyle(description_wi…"
      ]
     },
     "metadata": {},
     "output_type": "display_data"
    },
    {
     "name": "stderr",
     "output_type": "stream",
     "text": [
      "[2020-04-20 22:49:38,410][INFO] emmental.learner:392 - Epoch: 18.00 {'stg_temp_max/stg_temp_max/train/loss': 0.43856616570312207, 'model/all/train/loss': 0.43856616570312207, 'stg_temp_max/stg_temp_max/train/accuracy': 0.9997235182305166, 'stg_temp_max/stg_temp_max/train/precision': 0.9978806075591664, 'stg_temp_max/stg_temp_max/train/recall': 0.9992925362575168, 'stg_temp_max/stg_temp_max/train/f1': 0.99858607281725, 'stg_temp_max/stg_temp_max/train/average': 0.9988706837161124, 'model/all/train/micro_average': 0.9988706837161124, 'model/all/train/macro_average': 0.9988706837161124, 'model/all/train/lr': 0.001, 'model/all/all/micro_average': nan, 'model/all/all/macro_average': nan, 'model/all/all/loss': nan}\n"
     ]
    },
    {
     "name": "stdout",
     "output_type": "stream",
     "text": [
      "\n"
     ]
    },
    {
     "data": {
      "application/vnd.jupyter.widget-view+json": {
       "model_id": "db05a24dd9c24cdab2d0ee39b20954e1",
       "version_major": 2,
       "version_minor": 0
      },
      "text/plain": [
       "HBox(children=(FloatProgress(value=0.0, description='Epoch 18:', max=290.0, style=ProgressStyle(description_wi…"
      ]
     },
     "metadata": {},
     "output_type": "display_data"
    },
    {
     "name": "stderr",
     "output_type": "stream",
     "text": [
      "[2020-04-20 22:49:46,674][INFO] emmental.learner:392 - Epoch: 19.00 {'stg_temp_max/stg_temp_max/train/loss': 0.43850410460437006, 'model/all/train/loss': 0.43850410460437006, 'stg_temp_max/stg_temp_max/train/accuracy': 0.9997926386728875, 'stg_temp_max/stg_temp_max/train/precision': 0.9978821037769149, 'stg_temp_max/stg_temp_max/train/recall': 1.0, 'stg_temp_max/stg_temp_max/train/f1': 0.998939929328622, 'stg_temp_max/stg_temp_max/train/average': 0.9991536679446061, 'model/all/train/micro_average': 0.9991536679446061, 'model/all/train/macro_average': 0.9991536679446061, 'model/all/train/lr': 0.001, 'model/all/all/micro_average': nan, 'model/all/all/macro_average': nan, 'model/all/all/loss': nan}\n"
     ]
    },
    {
     "name": "stdout",
     "output_type": "stream",
     "text": [
      "\n"
     ]
    },
    {
     "data": {
      "application/vnd.jupyter.widget-view+json": {
       "model_id": "cbe41cefc04241aa8f195a9dac7e3d1c",
       "version_major": 2,
       "version_minor": 0
      },
      "text/plain": [
       "HBox(children=(FloatProgress(value=0.0, description='Epoch 19:', max=290.0, style=ProgressStyle(description_wi…"
      ]
     },
     "metadata": {},
     "output_type": "display_data"
    },
    {
     "name": "stderr",
     "output_type": "stream",
     "text": [
      "[2020-04-20 22:49:54,847][INFO] emmental.learner:392 - Epoch: 20.00 {'stg_temp_max/stg_temp_max/train/loss': 0.43850727476397183, 'model/all/train/loss': 0.43850727476397183, 'stg_temp_max/stg_temp_max/train/accuracy': 0.9998271988940729, 'stg_temp_max/stg_temp_max/train/precision': 0.9982344632768362, 'stg_temp_max/stg_temp_max/train/recall': 1.0, 'stg_temp_max/stg_temp_max/train/f1': 0.9991164516699064, 'stg_temp_max/stg_temp_max/train/average': 0.9992945284602038, 'model/all/train/micro_average': 0.9992945284602038, 'model/all/train/macro_average': 0.9992945284602038, 'model/all/train/lr': 0.001, 'model/all/all/micro_average': nan, 'model/all/all/macro_average': nan, 'model/all/all/loss': nan}\n"
     ]
    },
    {
     "name": "stdout",
     "output_type": "stream",
     "text": [
      "\n"
     ]
    },
    {
     "data": {
      "application/vnd.jupyter.widget-view+json": {
       "model_id": "9b2fb23bd75946df8de403f89df8b4c5",
       "version_major": 2,
       "version_minor": 0
      },
      "text/plain": [
       "HBox(children=(FloatProgress(value=0.0, description='Epoch 20:', max=290.0, style=ProgressStyle(description_wi…"
      ]
     },
     "metadata": {},
     "output_type": "display_data"
    },
    {
     "name": "stderr",
     "output_type": "stream",
     "text": [
      "[2020-04-20 22:50:02,917][INFO] emmental.learner:392 - Epoch: 21.00 {'stg_temp_max/stg_temp_max/train/loss': 0.43850533409050263, 'model/all/train/loss': 0.43850533409050263, 'stg_temp_max/stg_temp_max/train/accuracy': 0.9997926386728875, 'stg_temp_max/stg_temp_max/train/precision': 0.9978821037769149, 'stg_temp_max/stg_temp_max/train/recall': 1.0, 'stg_temp_max/stg_temp_max/train/f1': 0.998939929328622, 'stg_temp_max/stg_temp_max/train/average': 0.9991536679446061, 'model/all/train/micro_average': 0.9991536679446061, 'model/all/train/macro_average': 0.9991536679446061, 'model/all/train/lr': 0.001, 'model/all/all/micro_average': nan, 'model/all/all/macro_average': nan, 'model/all/all/loss': nan}\n"
     ]
    },
    {
     "name": "stdout",
     "output_type": "stream",
     "text": [
      "\n"
     ]
    },
    {
     "data": {
      "application/vnd.jupyter.widget-view+json": {
       "model_id": "a13aba10f7944c898efaa4441c4a9325",
       "version_major": 2,
       "version_minor": 0
      },
      "text/plain": [
       "HBox(children=(FloatProgress(value=0.0, description='Epoch 21:', max=290.0, style=ProgressStyle(description_wi…"
      ]
     },
     "metadata": {},
     "output_type": "display_data"
    },
    {
     "name": "stderr",
     "output_type": "stream",
     "text": [
      "[2020-04-20 22:50:11,066][INFO] emmental.learner:392 - Epoch: 22.00 {'stg_temp_max/stg_temp_max/train/loss': 0.4386593612628381, 'model/all/train/loss': 0.4386593612628381, 'stg_temp_max/stg_temp_max/train/accuracy': 0.9992742353551063, 'stg_temp_max/stg_temp_max/train/precision': 0.9933192686357243, 'stg_temp_max/stg_temp_max/train/recall': 0.9992925362575168, 'stg_temp_max/stg_temp_max/train/f1': 0.9962969493916417, 'stg_temp_max/stg_temp_max/train/average': 0.9970457474099973, 'model/all/train/micro_average': 0.9970457474099973, 'model/all/train/macro_average': 0.9970457474099973, 'model/all/train/lr': 0.001, 'model/all/all/micro_average': nan, 'model/all/all/macro_average': nan, 'model/all/all/loss': nan}\n"
     ]
    },
    {
     "name": "stdout",
     "output_type": "stream",
     "text": [
      "\n"
     ]
    },
    {
     "data": {
      "application/vnd.jupyter.widget-view+json": {
       "model_id": "4f347c7dcc00473a95e69d656b1c3c00",
       "version_major": 2,
       "version_minor": 0
      },
      "text/plain": [
       "HBox(children=(FloatProgress(value=0.0, description='Epoch 22:', max=290.0, style=ProgressStyle(description_wi…"
      ]
     },
     "metadata": {},
     "output_type": "display_data"
    },
    {
     "name": "stderr",
     "output_type": "stream",
     "text": [
      "[2020-04-20 22:50:19,547][INFO] emmental.learner:392 - Epoch: 23.00 {'stg_temp_max/stg_temp_max/train/loss': 0.4387702694597569, 'model/all/train/loss': 0.4387702694597569, 'stg_temp_max/stg_temp_max/train/accuracy': 0.9990668740279938, 'stg_temp_max/stg_temp_max/train/precision': 0.9908835904628331, 'stg_temp_max/stg_temp_max/train/recall': 0.9996462681287585, 'stg_temp_max/stg_temp_max/train/f1': 0.9952456418383518, 'stg_temp_max/stg_temp_max/train/average': 0.9962105936144844, 'model/all/train/micro_average': 0.9962105936144844, 'model/all/train/macro_average': 0.9962105936144844, 'model/all/train/lr': 0.001, 'model/all/all/micro_average': nan, 'model/all/all/macro_average': nan, 'model/all/all/loss': nan}\n"
     ]
    },
    {
     "name": "stdout",
     "output_type": "stream",
     "text": [
      "\n"
     ]
    },
    {
     "data": {
      "application/vnd.jupyter.widget-view+json": {
       "model_id": "b2a3fe557c104743a3ede7b5f75e6eb4",
       "version_major": 2,
       "version_minor": 0
      },
      "text/plain": [
       "HBox(children=(FloatProgress(value=0.0, description='Epoch 23:', max=290.0, style=ProgressStyle(description_wi…"
      ]
     },
     "metadata": {},
     "output_type": "display_data"
    },
    {
     "name": "stderr",
     "output_type": "stream",
     "text": [
      "[2020-04-20 22:50:28,079][INFO] emmental.learner:392 - Epoch: 24.00 {'stg_temp_max/stg_temp_max/train/loss': 0.43847598606942334, 'model/all/train/loss': 0.43847598606942334, 'stg_temp_max/stg_temp_max/train/accuracy': 0.9998963193364437, 'stg_temp_max/stg_temp_max/train/precision': 0.9996461429582448, 'stg_temp_max/stg_temp_max/train/recall': 0.9992925362575168, 'stg_temp_max/stg_temp_max/train/f1': 0.9994693083318591, 'stg_temp_max/stg_temp_max/train/average': 0.9995760767210161, 'model/all/train/micro_average': 0.9995760767210161, 'model/all/train/macro_average': 0.9995760767210161, 'model/all/train/lr': 0.001, 'model/all/all/micro_average': nan, 'model/all/all/macro_average': nan, 'model/all/all/loss': nan}\n"
     ]
    },
    {
     "name": "stdout",
     "output_type": "stream",
     "text": [
      "\n"
     ]
    },
    {
     "data": {
      "application/vnd.jupyter.widget-view+json": {
       "model_id": "bccd8dc2a09b4f2187aef44a1c8abba7",
       "version_major": 2,
       "version_minor": 0
      },
      "text/plain": [
       "HBox(children=(FloatProgress(value=0.0, description='Epoch 24:', max=290.0, style=ProgressStyle(description_wi…"
      ]
     },
     "metadata": {},
     "output_type": "display_data"
    },
    {
     "name": "stderr",
     "output_type": "stream",
     "text": [
      "[2020-04-20 22:50:36,544][INFO] emmental.learner:392 - Epoch: 25.00 {'stg_temp_max/stg_temp_max/train/loss': 0.43842379705819806, 'model/all/train/loss': 0.43842379705819806, 'stg_temp_max/stg_temp_max/train/accuracy': 1.0, 'stg_temp_max/stg_temp_max/train/precision': 1.0, 'stg_temp_max/stg_temp_max/train/recall': 1.0, 'stg_temp_max/stg_temp_max/train/f1': 1.0, 'stg_temp_max/stg_temp_max/train/average': 1.0, 'model/all/train/micro_average': 1.0, 'model/all/train/macro_average': 1.0, 'model/all/train/lr': 0.001, 'model/all/all/micro_average': nan, 'model/all/all/macro_average': nan, 'model/all/all/loss': nan}\n"
     ]
    },
    {
     "name": "stdout",
     "output_type": "stream",
     "text": [
      "\n"
     ]
    },
    {
     "data": {
      "application/vnd.jupyter.widget-view+json": {
       "model_id": "0e67b92853c94c07bf30b1439ccb6497",
       "version_major": 2,
       "version_minor": 0
      },
      "text/plain": [
       "HBox(children=(FloatProgress(value=0.0, description='Epoch 25:', max=290.0, style=ProgressStyle(description_wi…"
      ]
     },
     "metadata": {},
     "output_type": "display_data"
    },
    {
     "name": "stderr",
     "output_type": "stream",
     "text": [
      "[2020-04-20 22:50:44,502][INFO] emmental.learner:392 - Epoch: 26.00 {'stg_temp_max/stg_temp_max/train/loss': 0.4384099963839363, 'model/all/train/loss': 0.4384099963839363, 'stg_temp_max/stg_temp_max/train/accuracy': 1.0, 'stg_temp_max/stg_temp_max/train/precision': 1.0, 'stg_temp_max/stg_temp_max/train/recall': 1.0, 'stg_temp_max/stg_temp_max/train/f1': 1.0, 'stg_temp_max/stg_temp_max/train/average': 1.0, 'model/all/train/micro_average': 1.0, 'model/all/train/macro_average': 1.0, 'model/all/train/lr': 0.001, 'model/all/all/micro_average': nan, 'model/all/all/macro_average': nan, 'model/all/all/loss': nan}\n"
     ]
    },
    {
     "name": "stdout",
     "output_type": "stream",
     "text": [
      "\n"
     ]
    },
    {
     "data": {
      "application/vnd.jupyter.widget-view+json": {
       "model_id": "27906c195412410b9ecbb8dfe974711d",
       "version_major": 2,
       "version_minor": 0
      },
      "text/plain": [
       "HBox(children=(FloatProgress(value=0.0, description='Epoch 26:', max=290.0, style=ProgressStyle(description_wi…"
      ]
     },
     "metadata": {},
     "output_type": "display_data"
    },
    {
     "name": "stderr",
     "output_type": "stream",
     "text": [
      "[2020-04-20 22:50:53,923][INFO] emmental.learner:392 - Epoch: 27.00 {'stg_temp_max/stg_temp_max/train/loss': 0.4384152434002824, 'model/all/train/loss': 0.4384152434002824, 'stg_temp_max/stg_temp_max/train/accuracy': 1.0, 'stg_temp_max/stg_temp_max/train/precision': 1.0, 'stg_temp_max/stg_temp_max/train/recall': 1.0, 'stg_temp_max/stg_temp_max/train/f1': 1.0, 'stg_temp_max/stg_temp_max/train/average': 1.0, 'model/all/train/micro_average': 1.0, 'model/all/train/macro_average': 1.0, 'model/all/train/lr': 0.001, 'model/all/all/micro_average': nan, 'model/all/all/macro_average': nan, 'model/all/all/loss': nan}\n"
     ]
    },
    {
     "name": "stdout",
     "output_type": "stream",
     "text": [
      "\n"
     ]
    },
    {
     "data": {
      "application/vnd.jupyter.widget-view+json": {
       "model_id": "56e42a5032be4b6ca1582b4893df4eda",
       "version_major": 2,
       "version_minor": 0
      },
      "text/plain": [
       "HBox(children=(FloatProgress(value=0.0, description='Epoch 27:', max=290.0, style=ProgressStyle(description_wi…"
      ]
     },
     "metadata": {},
     "output_type": "display_data"
    },
    {
     "name": "stderr",
     "output_type": "stream",
     "text": [
      "[2020-04-20 22:51:02,066][INFO] emmental.learner:392 - Epoch: 28.00 {'stg_temp_max/stg_temp_max/train/loss': 0.438451449838516, 'model/all/train/loss': 0.438451449838516, 'stg_temp_max/stg_temp_max/train/accuracy': 0.9999308795576292, 'stg_temp_max/stg_temp_max/train/precision': 0.999293036408625, 'stg_temp_max/stg_temp_max/train/recall': 1.0, 'stg_temp_max/stg_temp_max/train/f1': 0.9996463932107497, 'stg_temp_max/stg_temp_max/train/average': 0.9997175772942509, 'model/all/train/micro_average': 0.9997175772942509, 'model/all/train/macro_average': 0.9997175772942509, 'model/all/train/lr': 0.001, 'model/all/all/micro_average': nan, 'model/all/all/macro_average': nan, 'model/all/all/loss': nan}\n"
     ]
    },
    {
     "name": "stdout",
     "output_type": "stream",
     "text": [
      "\n"
     ]
    },
    {
     "data": {
      "application/vnd.jupyter.widget-view+json": {
       "model_id": "556458df4b2a486483d50a48604e43d2",
       "version_major": 2,
       "version_minor": 0
      },
      "text/plain": [
       "HBox(children=(FloatProgress(value=0.0, description='Epoch 28:', max=290.0, style=ProgressStyle(description_wi…"
      ]
     },
     "metadata": {},
     "output_type": "display_data"
    },
    {
     "name": "stderr",
     "output_type": "stream",
     "text": [
      "[2020-04-20 22:51:10,382][INFO] emmental.learner:392 - Epoch: 29.00 {'stg_temp_max/stg_temp_max/train/loss': 0.4384858094442894, 'model/all/train/loss': 0.4384858094442894, 'stg_temp_max/stg_temp_max/train/accuracy': 0.9998617591152583, 'stg_temp_max/stg_temp_max/train/precision': 0.9992925362575168, 'stg_temp_max/stg_temp_max/train/recall': 0.9992925362575168, 'stg_temp_max/stg_temp_max/train/f1': 0.9992925362575168, 'stg_temp_max/stg_temp_max/train/average': 0.9994348419719521, 'model/all/train/micro_average': 0.9994348419719521, 'model/all/train/macro_average': 0.9994348419719521, 'model/all/train/lr': 0.001, 'model/all/all/micro_average': nan, 'model/all/all/macro_average': nan, 'model/all/all/loss': nan}\n"
     ]
    },
    {
     "name": "stdout",
     "output_type": "stream",
     "text": [
      "\n"
     ]
    },
    {
     "data": {
      "application/vnd.jupyter.widget-view+json": {
       "model_id": "c14dee964a8d412d913f3ac746340fa1",
       "version_major": 2,
       "version_minor": 0
      },
      "text/plain": [
       "HBox(children=(FloatProgress(value=0.0, description='Epoch 29:', max=290.0, style=ProgressStyle(description_wi…"
      ]
     },
     "metadata": {},
     "output_type": "display_data"
    },
    {
     "name": "stderr",
     "output_type": "stream",
     "text": [
      "[2020-04-20 22:51:23,407][INFO] emmental.learner:392 - Epoch: 30.00 {'stg_temp_max/stg_temp_max/train/loss': 0.43867693358656656, 'model/all/train/loss': 0.43867693358656656, 'stg_temp_max/stg_temp_max/train/accuracy': 0.9994470364610334, 'stg_temp_max/stg_temp_max/train/precision': 0.9954176947479733, 'stg_temp_max/stg_temp_max/train/recall': 0.9989388043862752, 'stg_temp_max/stg_temp_max/train/f1': 0.9971751412429379, 'stg_temp_max/stg_temp_max/train/average': 0.9977446692095548, 'model/all/train/micro_average': 0.9977446692095548, 'model/all/train/macro_average': 0.9977446692095548, 'model/all/train/lr': 0.001, 'model/all/all/micro_average': nan, 'model/all/all/macro_average': nan, 'model/all/all/loss': nan}\n"
     ]
    },
    {
     "name": "stdout",
     "output_type": "stream",
     "text": [
      "\n"
     ]
    },
    {
     "data": {
      "application/vnd.jupyter.widget-view+json": {
       "model_id": "d5c1a47b7818427388e22594cb736f24",
       "version_major": 2,
       "version_minor": 0
      },
      "text/plain": [
       "HBox(children=(FloatProgress(value=0.0, description='Epoch 30:', max=290.0, style=ProgressStyle(description_wi…"
      ]
     },
     "metadata": {},
     "output_type": "display_data"
    },
    {
     "name": "stderr",
     "output_type": "stream",
     "text": [
      "[2020-04-20 22:51:32,519][INFO] emmental.learner:392 - Epoch: 31.00 {'stg_temp_max/stg_temp_max/train/loss': 0.43897139512650063, 'model/all/train/loss': 0.43897139512650063, 'stg_temp_max/stg_temp_max/train/accuracy': 0.9980991878348021, 'stg_temp_max/stg_temp_max/train/precision': 0.9822546972860126, 'stg_temp_max/stg_temp_max/train/recall': 0.9985850725150336, 'stg_temp_max/stg_temp_max/train/f1': 0.9903525697246098, 'stg_temp_max/stg_temp_max/train/average': 0.9923228818401145, 'model/all/train/micro_average': 0.9923228818401145, 'model/all/train/macro_average': 0.9923228818401145, 'model/all/train/lr': 0.001, 'model/all/all/micro_average': nan, 'model/all/all/macro_average': nan, 'model/all/all/loss': nan}\n"
     ]
    },
    {
     "name": "stdout",
     "output_type": "stream",
     "text": [
      "\n"
     ]
    },
    {
     "data": {
      "application/vnd.jupyter.widget-view+json": {
       "model_id": "5ee6343f1dc649c9a79477d43491a37f",
       "version_major": 2,
       "version_minor": 0
      },
      "text/plain": [
       "HBox(children=(FloatProgress(value=0.0, description='Epoch 31:', max=290.0, style=ProgressStyle(description_wi…"
      ]
     },
     "metadata": {},
     "output_type": "display_data"
    },
    {
     "name": "stderr",
     "output_type": "stream",
     "text": [
      "[2020-04-20 22:51:40,595][INFO] emmental.learner:392 - Epoch: 32.00 {'stg_temp_max/stg_temp_max/train/loss': 0.43864220934394565, 'model/all/train/loss': 0.43864220934394565, 'stg_temp_max/stg_temp_max/train/accuracy': 0.9993779160186625, 'stg_temp_max/stg_temp_max/train/precision': 0.994368180218233, 'stg_temp_max/stg_temp_max/train/recall': 0.9992925362575168, 'stg_temp_max/stg_temp_max/train/f1': 0.9968242766407904, 'stg_temp_max/stg_temp_max/train/average': 0.9974657272838007, 'model/all/train/micro_average': 0.9974657272838007, 'model/all/train/macro_average': 0.9974657272838007, 'model/all/train/lr': 0.001, 'model/all/all/micro_average': nan, 'model/all/all/macro_average': nan, 'model/all/all/loss': nan}\n"
     ]
    },
    {
     "name": "stdout",
     "output_type": "stream",
     "text": [
      "\n"
     ]
    },
    {
     "data": {
      "application/vnd.jupyter.widget-view+json": {
       "model_id": "1279927cabf543f49d591a200d5a5700",
       "version_major": 2,
       "version_minor": 0
      },
      "text/plain": [
       "HBox(children=(FloatProgress(value=0.0, description='Epoch 32:', max=290.0, style=ProgressStyle(description_wi…"
      ]
     },
     "metadata": {},
     "output_type": "display_data"
    },
    {
     "name": "stderr",
     "output_type": "stream",
     "text": [
      "[2020-04-20 22:51:49,132][INFO] emmental.learner:392 - Epoch: 33.00 {'stg_temp_max/stg_temp_max/train/loss': 0.43841019786246727, 'model/all/train/loss': 0.43841019786246727, 'stg_temp_max/stg_temp_max/train/accuracy': 1.0, 'stg_temp_max/stg_temp_max/train/precision': 1.0, 'stg_temp_max/stg_temp_max/train/recall': 1.0, 'stg_temp_max/stg_temp_max/train/f1': 1.0, 'stg_temp_max/stg_temp_max/train/average': 1.0, 'model/all/train/micro_average': 1.0, 'model/all/train/macro_average': 1.0, 'model/all/train/lr': 0.001, 'model/all/all/micro_average': nan, 'model/all/all/macro_average': nan, 'model/all/all/loss': nan}\n"
     ]
    },
    {
     "name": "stdout",
     "output_type": "stream",
     "text": [
      "\n"
     ]
    },
    {
     "data": {
      "application/vnd.jupyter.widget-view+json": {
       "model_id": "69c475ae32f448a9a9221027e873b91f",
       "version_major": 2,
       "version_minor": 0
      },
      "text/plain": [
       "HBox(children=(FloatProgress(value=0.0, description='Epoch 33:', max=290.0, style=ProgressStyle(description_wi…"
      ]
     },
     "metadata": {},
     "output_type": "display_data"
    },
    {
     "name": "stderr",
     "output_type": "stream",
     "text": [
      "[2020-04-20 22:51:56,982][INFO] emmental.learner:392 - Epoch: 34.00 {'stg_temp_max/stg_temp_max/train/loss': 0.4383975721114201, 'model/all/train/loss': 0.4383975721114201, 'stg_temp_max/stg_temp_max/train/accuracy': 0.9999654397788146, 'stg_temp_max/stg_temp_max/train/precision': 0.9996463932107497, 'stg_temp_max/stg_temp_max/train/recall': 1.0, 'stg_temp_max/stg_temp_max/train/f1': 0.9998231653404068, 'stg_temp_max/stg_temp_max/train/average': 0.9998587495824928, 'model/all/train/micro_average': 0.9998587495824928, 'model/all/train/macro_average': 0.9998587495824928, 'model/all/train/lr': 0.001, 'model/all/all/micro_average': nan, 'model/all/all/macro_average': nan, 'model/all/all/loss': nan}\n"
     ]
    },
    {
     "name": "stdout",
     "output_type": "stream",
     "text": [
      "\n"
     ]
    },
    {
     "data": {
      "application/vnd.jupyter.widget-view+json": {
       "model_id": "a26bc2389fd9487dbc57c3bb89b30818",
       "version_major": 2,
       "version_minor": 0
      },
      "text/plain": [
       "HBox(children=(FloatProgress(value=0.0, description='Epoch 34:', max=290.0, style=ProgressStyle(description_wi…"
      ]
     },
     "metadata": {},
     "output_type": "display_data"
    },
    {
     "name": "stderr",
     "output_type": "stream",
     "text": [
      "[2020-04-20 22:52:04,962][INFO] emmental.learner:392 - Epoch: 35.00 {'stg_temp_max/stg_temp_max/train/loss': 0.4384000454827337, 'model/all/train/loss': 0.4384000454827337, 'stg_temp_max/stg_temp_max/train/accuracy': 1.0, 'stg_temp_max/stg_temp_max/train/precision': 1.0, 'stg_temp_max/stg_temp_max/train/recall': 1.0, 'stg_temp_max/stg_temp_max/train/f1': 1.0, 'stg_temp_max/stg_temp_max/train/average': 1.0, 'model/all/train/micro_average': 1.0, 'model/all/train/macro_average': 1.0, 'model/all/train/lr': 0.001, 'model/all/all/micro_average': nan, 'model/all/all/macro_average': nan, 'model/all/all/loss': nan}\n"
     ]
    },
    {
     "name": "stdout",
     "output_type": "stream",
     "text": [
      "\n"
     ]
    },
    {
     "data": {
      "application/vnd.jupyter.widget-view+json": {
       "model_id": "64ead75c581449ee837bf613dd4974fa",
       "version_major": 2,
       "version_minor": 0
      },
      "text/plain": [
       "HBox(children=(FloatProgress(value=0.0, description='Epoch 35:', max=290.0, style=ProgressStyle(description_wi…"
      ]
     },
     "metadata": {},
     "output_type": "display_data"
    },
    {
     "name": "stderr",
     "output_type": "stream",
     "text": [
      "[2020-04-20 22:52:13,974][INFO] emmental.learner:392 - Epoch: 36.00 {'stg_temp_max/stg_temp_max/train/loss': 0.4386990506691864, 'model/all/train/loss': 0.4386990506691864, 'stg_temp_max/stg_temp_max/train/accuracy': 0.9993433557974771, 'stg_temp_max/stg_temp_max/train/precision': 0.994018296973962, 'stg_temp_max/stg_temp_max/train/recall': 0.9992925362575168, 'stg_temp_max/stg_temp_max/train/f1': 0.996648438878109, 'stg_temp_max/stg_temp_max/train/average': 0.9973256569767662, 'model/all/train/micro_average': 0.9973256569767662, 'model/all/train/macro_average': 0.9973256569767662, 'model/all/train/lr': 0.001, 'model/all/all/micro_average': nan, 'model/all/all/macro_average': nan, 'model/all/all/loss': nan}\n"
     ]
    },
    {
     "name": "stdout",
     "output_type": "stream",
     "text": [
      "\n"
     ]
    },
    {
     "data": {
      "application/vnd.jupyter.widget-view+json": {
       "model_id": "ba183d62eff54598afc9f99018769b10",
       "version_major": 2,
       "version_minor": 0
      },
      "text/plain": [
       "HBox(children=(FloatProgress(value=0.0, description='Epoch 36:', max=290.0, style=ProgressStyle(description_wi…"
      ]
     },
     "metadata": {},
     "output_type": "display_data"
    },
    {
     "name": "stderr",
     "output_type": "stream",
     "text": [
      "[2020-04-20 22:52:22,096][INFO] emmental.learner:392 - Epoch: 37.00 {'stg_temp_max/stg_temp_max/train/loss': 0.43842109075807134, 'model/all/train/loss': 0.43842109075807134, 'stg_temp_max/stg_temp_max/train/accuracy': 0.9999654397788146, 'stg_temp_max/stg_temp_max/train/precision': 0.9996463932107497, 'stg_temp_max/stg_temp_max/train/recall': 1.0, 'stg_temp_max/stg_temp_max/train/f1': 0.9998231653404068, 'stg_temp_max/stg_temp_max/train/average': 0.9998587495824928, 'model/all/train/micro_average': 0.9998587495824928, 'model/all/train/macro_average': 0.9998587495824928, 'model/all/train/lr': 0.001, 'model/all/all/micro_average': nan, 'model/all/all/macro_average': nan, 'model/all/all/loss': nan}\n"
     ]
    },
    {
     "name": "stdout",
     "output_type": "stream",
     "text": [
      "\n"
     ]
    },
    {
     "data": {
      "application/vnd.jupyter.widget-view+json": {
       "model_id": "7a98938806004e71a82ea58c45b581bf",
       "version_major": 2,
       "version_minor": 0
      },
      "text/plain": [
       "HBox(children=(FloatProgress(value=0.0, description='Epoch 37:', max=290.0, style=ProgressStyle(description_wi…"
      ]
     },
     "metadata": {},
     "output_type": "display_data"
    },
    {
     "name": "stderr",
     "output_type": "stream",
     "text": [
      "[2020-04-20 22:52:30,261][INFO] emmental.learner:392 - Epoch: 38.00 {'stg_temp_max/stg_temp_max/train/loss': 0.4384037681208469, 'model/all/train/loss': 0.4384037681208469, 'stg_temp_max/stg_temp_max/train/accuracy': 0.9999654397788146, 'stg_temp_max/stg_temp_max/train/precision': 0.9996463932107497, 'stg_temp_max/stg_temp_max/train/recall': 1.0, 'stg_temp_max/stg_temp_max/train/f1': 0.9998231653404068, 'stg_temp_max/stg_temp_max/train/average': 0.9998587495824928, 'model/all/train/micro_average': 0.9998587495824928, 'model/all/train/macro_average': 0.9998587495824928, 'model/all/train/lr': 0.001, 'model/all/all/micro_average': nan, 'model/all/all/macro_average': nan, 'model/all/all/loss': nan}\n"
     ]
    },
    {
     "name": "stdout",
     "output_type": "stream",
     "text": [
      "\n"
     ]
    },
    {
     "data": {
      "application/vnd.jupyter.widget-view+json": {
       "model_id": "85a36f06056e4e7a907482b88a28d9ad",
       "version_major": 2,
       "version_minor": 0
      },
      "text/plain": [
       "HBox(children=(FloatProgress(value=0.0, description='Epoch 38:', max=290.0, style=ProgressStyle(description_wi…"
      ]
     },
     "metadata": {},
     "output_type": "display_data"
    },
    {
     "name": "stderr",
     "output_type": "stream",
     "text": [
      "[2020-04-20 22:52:38,335][INFO] emmental.learner:392 - Epoch: 39.00 {'stg_temp_max/stg_temp_max/train/loss': 0.43839554835502936, 'model/all/train/loss': 0.43839554835502936, 'stg_temp_max/stg_temp_max/train/accuracy': 1.0, 'stg_temp_max/stg_temp_max/train/precision': 1.0, 'stg_temp_max/stg_temp_max/train/recall': 1.0, 'stg_temp_max/stg_temp_max/train/f1': 1.0, 'stg_temp_max/stg_temp_max/train/average': 1.0, 'model/all/train/micro_average': 1.0, 'model/all/train/macro_average': 1.0, 'model/all/train/lr': 0.001, 'model/all/all/micro_average': nan, 'model/all/all/macro_average': nan, 'model/all/all/loss': nan}\n"
     ]
    },
    {
     "name": "stdout",
     "output_type": "stream",
     "text": [
      "\n"
     ]
    },
    {
     "data": {
      "application/vnd.jupyter.widget-view+json": {
       "model_id": "1c67401fcc0d4bd09f5815e4fc4635a2",
       "version_major": 2,
       "version_minor": 0
      },
      "text/plain": [
       "HBox(children=(FloatProgress(value=0.0, description='Epoch 39:', max=290.0, style=ProgressStyle(description_wi…"
      ]
     },
     "metadata": {},
     "output_type": "display_data"
    },
    {
     "name": "stderr",
     "output_type": "stream",
     "text": [
      "[2020-04-20 22:52:46,308][INFO] emmental.learner:392 - Epoch: 40.00 {'stg_temp_max/stg_temp_max/train/loss': 0.43840605065326976, 'model/all/train/loss': 0.43840605065326976, 'stg_temp_max/stg_temp_max/train/accuracy': 0.9999654397788146, 'stg_temp_max/stg_temp_max/train/precision': 0.9996463932107497, 'stg_temp_max/stg_temp_max/train/recall': 1.0, 'stg_temp_max/stg_temp_max/train/f1': 0.9998231653404068, 'stg_temp_max/stg_temp_max/train/average': 0.9998587495824928, 'model/all/train/micro_average': 0.9998587495824928, 'model/all/train/macro_average': 0.9998587495824928, 'model/all/train/lr': 0.001, 'model/all/all/micro_average': nan, 'model/all/all/macro_average': nan, 'model/all/all/loss': nan}\n"
     ]
    },
    {
     "name": "stdout",
     "output_type": "stream",
     "text": [
      "\n"
     ]
    },
    {
     "data": {
      "application/vnd.jupyter.widget-view+json": {
       "model_id": "4de1faab19e14489ae1b01d493ca5b6a",
       "version_major": 2,
       "version_minor": 0
      },
      "text/plain": [
       "HBox(children=(FloatProgress(value=0.0, description='Epoch 40:', max=290.0, style=ProgressStyle(description_wi…"
      ]
     },
     "metadata": {},
     "output_type": "display_data"
    },
    {
     "name": "stderr",
     "output_type": "stream",
     "text": [
      "[2020-04-20 22:52:55,380][INFO] emmental.learner:392 - Epoch: 41.00 {'stg_temp_max/stg_temp_max/train/loss': 0.4384177100819093, 'model/all/train/loss': 0.4384177100819093, 'stg_temp_max/stg_temp_max/train/accuracy': 0.9999654397788146, 'stg_temp_max/stg_temp_max/train/precision': 0.9996463932107497, 'stg_temp_max/stg_temp_max/train/recall': 1.0, 'stg_temp_max/stg_temp_max/train/f1': 0.9998231653404068, 'stg_temp_max/stg_temp_max/train/average': 0.9998587495824928, 'model/all/train/micro_average': 0.9998587495824928, 'model/all/train/macro_average': 0.9998587495824928, 'model/all/train/lr': 0.001, 'model/all/all/micro_average': nan, 'model/all/all/macro_average': nan, 'model/all/all/loss': nan}\n"
     ]
    },
    {
     "name": "stdout",
     "output_type": "stream",
     "text": [
      "\n"
     ]
    },
    {
     "data": {
      "application/vnd.jupyter.widget-view+json": {
       "model_id": "55502efbad094aad83d5f72074e59913",
       "version_major": 2,
       "version_minor": 0
      },
      "text/plain": [
       "HBox(children=(FloatProgress(value=0.0, description='Epoch 41:', max=290.0, style=ProgressStyle(description_wi…"
      ]
     },
     "metadata": {},
     "output_type": "display_data"
    },
    {
     "name": "stderr",
     "output_type": "stream",
     "text": [
      "[2020-04-20 22:53:03,674][INFO] emmental.learner:392 - Epoch: 42.00 {'stg_temp_max/stg_temp_max/train/loss': 0.43845350114158427, 'model/all/train/loss': 0.43845350114158427, 'stg_temp_max/stg_temp_max/train/accuracy': 1.0, 'stg_temp_max/stg_temp_max/train/precision': 1.0, 'stg_temp_max/stg_temp_max/train/recall': 1.0, 'stg_temp_max/stg_temp_max/train/f1': 1.0, 'stg_temp_max/stg_temp_max/train/average': 1.0, 'model/all/train/micro_average': 1.0, 'model/all/train/macro_average': 1.0, 'model/all/train/lr': 0.001, 'model/all/all/micro_average': nan, 'model/all/all/macro_average': nan, 'model/all/all/loss': nan}\n"
     ]
    },
    {
     "name": "stdout",
     "output_type": "stream",
     "text": [
      "\n"
     ]
    },
    {
     "data": {
      "application/vnd.jupyter.widget-view+json": {
       "model_id": "cfb8121479a44a1f8b8e0fc8edc44b37",
       "version_major": 2,
       "version_minor": 0
      },
      "text/plain": [
       "HBox(children=(FloatProgress(value=0.0, description='Epoch 42:', max=290.0, style=ProgressStyle(description_wi…"
      ]
     },
     "metadata": {},
     "output_type": "display_data"
    },
    {
     "name": "stderr",
     "output_type": "stream",
     "text": [
      "[2020-04-20 22:53:11,682][INFO] emmental.learner:392 - Epoch: 43.00 {'stg_temp_max/stg_temp_max/train/loss': 0.43842904459468146, 'model/all/train/loss': 0.43842904459468146, 'stg_temp_max/stg_temp_max/train/accuracy': 0.9999654397788146, 'stg_temp_max/stg_temp_max/train/precision': 0.9996463932107497, 'stg_temp_max/stg_temp_max/train/recall': 1.0, 'stg_temp_max/stg_temp_max/train/f1': 0.9998231653404068, 'stg_temp_max/stg_temp_max/train/average': 0.9998587495824928, 'model/all/train/micro_average': 0.9998587495824928, 'model/all/train/macro_average': 0.9998587495824928, 'model/all/train/lr': 0.001, 'model/all/all/micro_average': nan, 'model/all/all/macro_average': nan, 'model/all/all/loss': nan}\n"
     ]
    },
    {
     "name": "stdout",
     "output_type": "stream",
     "text": [
      "\n"
     ]
    },
    {
     "data": {
      "application/vnd.jupyter.widget-view+json": {
       "model_id": "e429e248e7004de58b99102f97225ba3",
       "version_major": 2,
       "version_minor": 0
      },
      "text/plain": [
       "HBox(children=(FloatProgress(value=0.0, description='Epoch 43:', max=290.0, style=ProgressStyle(description_wi…"
      ]
     },
     "metadata": {},
     "output_type": "display_data"
    },
    {
     "name": "stderr",
     "output_type": "stream",
     "text": [
      "[2020-04-20 22:53:19,760][INFO] emmental.learner:392 - Epoch: 44.00 {'stg_temp_max/stg_temp_max/train/loss': 0.4385569857638468, 'model/all/train/loss': 0.4385569857638468, 'stg_temp_max/stg_temp_max/train/accuracy': 0.9998271988940729, 'stg_temp_max/stg_temp_max/train/precision': 0.998939179632249, 'stg_temp_max/stg_temp_max/train/recall': 0.9992925362575168, 'stg_temp_max/stg_temp_max/train/f1': 0.9991158267020336, 'stg_temp_max/stg_temp_max/train/average': 0.9992936853714681, 'model/all/train/micro_average': 0.9992936853714681, 'model/all/train/macro_average': 0.9992936853714681, 'model/all/train/lr': 0.001, 'model/all/all/micro_average': nan, 'model/all/all/macro_average': nan, 'model/all/all/loss': nan}\n"
     ]
    },
    {
     "name": "stdout",
     "output_type": "stream",
     "text": [
      "\n"
     ]
    },
    {
     "data": {
      "application/vnd.jupyter.widget-view+json": {
       "model_id": "cb4ef99faf654e099379a64000789355",
       "version_major": 2,
       "version_minor": 0
      },
      "text/plain": [
       "HBox(children=(FloatProgress(value=0.0, description='Epoch 44:', max=290.0, style=ProgressStyle(description_wi…"
      ]
     },
     "metadata": {},
     "output_type": "display_data"
    },
    {
     "name": "stderr",
     "output_type": "stream",
     "text": [
      "[2020-04-20 22:53:29,010][INFO] emmental.learner:392 - Epoch: 45.00 {'stg_temp_max/stg_temp_max/train/loss': 0.43878962376357894, 'model/all/train/loss': 0.43878962376357894, 'stg_temp_max/stg_temp_max/train/accuracy': 0.9984102298254709, 'stg_temp_max/stg_temp_max/train/precision': 0.9850017439832578, 'stg_temp_max/stg_temp_max/train/recall': 0.9989388043862752, 'stg_temp_max/stg_temp_max/train/f1': 0.9919213206884441, 'stg_temp_max/stg_temp_max/train/average': 0.993568024720862, 'model/all/train/micro_average': 0.993568024720862, 'model/all/train/macro_average': 0.993568024720862, 'model/all/train/lr': 0.001, 'model/all/all/micro_average': nan, 'model/all/all/macro_average': nan, 'model/all/all/loss': nan}\n"
     ]
    },
    {
     "name": "stdout",
     "output_type": "stream",
     "text": [
      "\n"
     ]
    },
    {
     "data": {
      "application/vnd.jupyter.widget-view+json": {
       "model_id": "c719dd67c5ba43749fbb21542c689ada",
       "version_major": 2,
       "version_minor": 0
      },
      "text/plain": [
       "HBox(children=(FloatProgress(value=0.0, description='Epoch 45:', max=290.0, style=ProgressStyle(description_wi…"
      ]
     },
     "metadata": {},
     "output_type": "display_data"
    },
    {
     "name": "stderr",
     "output_type": "stream",
     "text": [
      "[2020-04-20 22:53:37,669][INFO] emmental.learner:392 - Epoch: 46.00 {'stg_temp_max/stg_temp_max/train/loss': 0.43895718619080637, 'model/all/train/loss': 0.43895718619080637, 'stg_temp_max/stg_temp_max/train/accuracy': 0.9977881458441334, 'stg_temp_max/stg_temp_max/train/precision': 0.9781931464174455, 'stg_temp_max/stg_temp_max/train/recall': 0.9996462681287585, 'stg_temp_max/stg_temp_max/train/f1': 0.9888033589923023, 'stg_temp_max/stg_temp_max/train/average': 0.99110772984566, 'model/all/train/micro_average': 0.99110772984566, 'model/all/train/macro_average': 0.99110772984566, 'model/all/train/lr': 0.001, 'model/all/all/micro_average': nan, 'model/all/all/macro_average': nan, 'model/all/all/loss': nan}\n"
     ]
    },
    {
     "name": "stdout",
     "output_type": "stream",
     "text": [
      "\n"
     ]
    },
    {
     "data": {
      "application/vnd.jupyter.widget-view+json": {
       "model_id": "3c2eb01f717241f6b70475f495f83ecf",
       "version_major": 2,
       "version_minor": 0
      },
      "text/plain": [
       "HBox(children=(FloatProgress(value=0.0, description='Epoch 46:', max=290.0, style=ProgressStyle(description_wi…"
      ]
     },
     "metadata": {},
     "output_type": "display_data"
    },
    {
     "name": "stderr",
     "output_type": "stream",
     "text": [
      "[2020-04-20 22:53:46,255][INFO] emmental.learner:392 - Epoch: 47.00 {'stg_temp_max/stg_temp_max/train/loss': 0.43862108883409484, 'model/all/train/loss': 0.43862108883409484, 'stg_temp_max/stg_temp_max/train/accuracy': 0.9995161569034042, 'stg_temp_max/stg_temp_max/train/precision': 0.995420922860162, 'stg_temp_max/stg_temp_max/train/recall': 0.9996462681287585, 'stg_temp_max/stg_temp_max/train/f1': 0.9975291210730676, 'stg_temp_max/stg_temp_max/train/average': 0.9980281172413481, 'model/all/train/micro_average': 0.9980281172413481, 'model/all/train/macro_average': 0.9980281172413481, 'model/all/train/lr': 0.001, 'model/all/all/micro_average': nan, 'model/all/all/macro_average': nan, 'model/all/all/loss': nan}\n"
     ]
    },
    {
     "name": "stdout",
     "output_type": "stream",
     "text": [
      "\n"
     ]
    },
    {
     "data": {
      "application/vnd.jupyter.widget-view+json": {
       "model_id": "7e53e7a7582442ed93f08ce9f28680c6",
       "version_major": 2,
       "version_minor": 0
      },
      "text/plain": [
       "HBox(children=(FloatProgress(value=0.0, description='Epoch 47:', max=290.0, style=ProgressStyle(description_wi…"
      ]
     },
     "metadata": {},
     "output_type": "display_data"
    },
    {
     "name": "stderr",
     "output_type": "stream",
     "text": [
      "[2020-04-20 22:53:54,223][INFO] emmental.learner:392 - Epoch: 48.00 {'stg_temp_max/stg_temp_max/train/loss': 0.43845111549837884, 'model/all/train/loss': 0.43845111549837884, 'stg_temp_max/stg_temp_max/train/accuracy': 0.9999654397788146, 'stg_temp_max/stg_temp_max/train/precision': 1.0, 'stg_temp_max/stg_temp_max/train/recall': 0.9996462681287585, 'stg_temp_max/stg_temp_max/train/f1': 0.9998231027772864, 'stg_temp_max/stg_temp_max/train/average': 0.9998587026712149, 'model/all/train/micro_average': 0.9998587026712149, 'model/all/train/macro_average': 0.9998587026712149, 'model/all/train/lr': 0.001, 'model/all/all/micro_average': nan, 'model/all/all/macro_average': nan, 'model/all/all/loss': nan}\n"
     ]
    },
    {
     "name": "stdout",
     "output_type": "stream",
     "text": [
      "\n"
     ]
    },
    {
     "data": {
      "application/vnd.jupyter.widget-view+json": {
       "model_id": "f0811d3c01c84d628be62e2bfae1553b",
       "version_major": 2,
       "version_minor": 0
      },
      "text/plain": [
       "HBox(children=(FloatProgress(value=0.0, description='Epoch 48:', max=290.0, style=ProgressStyle(description_wi…"
      ]
     },
     "metadata": {},
     "output_type": "display_data"
    },
    {
     "name": "stderr",
     "output_type": "stream",
     "text": [
      "[2020-04-20 22:54:02,512][INFO] emmental.learner:392 - Epoch: 49.00 {'stg_temp_max/stg_temp_max/train/loss': 0.43838795047772866, 'model/all/train/loss': 0.43838795047772866, 'stg_temp_max/stg_temp_max/train/accuracy': 1.0, 'stg_temp_max/stg_temp_max/train/precision': 1.0, 'stg_temp_max/stg_temp_max/train/recall': 1.0, 'stg_temp_max/stg_temp_max/train/f1': 1.0, 'stg_temp_max/stg_temp_max/train/average': 1.0, 'model/all/train/micro_average': 1.0, 'model/all/train/macro_average': 1.0, 'model/all/train/lr': 0.001, 'model/all/all/micro_average': nan, 'model/all/all/macro_average': nan, 'model/all/all/loss': nan}\n"
     ]
    },
    {
     "name": "stdout",
     "output_type": "stream",
     "text": [
      "\n"
     ]
    },
    {
     "data": {
      "application/vnd.jupyter.widget-view+json": {
       "model_id": "1198c3b61a1246a5aec43311d766f689",
       "version_major": 2,
       "version_minor": 0
      },
      "text/plain": [
       "HBox(children=(FloatProgress(value=0.0, description='Epoch 49:', max=290.0, style=ProgressStyle(description_wi…"
      ]
     },
     "metadata": {},
     "output_type": "display_data"
    },
    {
     "name": "stderr",
     "output_type": "stream",
     "text": [
      "[2020-04-20 22:54:10,702][INFO] emmental.learner:392 - Epoch: 50.00 {'stg_temp_max/stg_temp_max/train/loss': 0.4383835614561849, 'model/all/train/loss': 0.4383835614561849, 'stg_temp_max/stg_temp_max/train/accuracy': 1.0, 'stg_temp_max/stg_temp_max/train/precision': 1.0, 'stg_temp_max/stg_temp_max/train/recall': 1.0, 'stg_temp_max/stg_temp_max/train/f1': 1.0, 'stg_temp_max/stg_temp_max/train/average': 1.0, 'model/all/train/micro_average': 1.0, 'model/all/train/macro_average': 1.0, 'model/all/train/lr': 0.001, 'model/all/all/micro_average': nan, 'model/all/all/macro_average': nan, 'model/all/all/loss': nan}\n"
     ]
    },
    {
     "name": "stdout",
     "output_type": "stream",
     "text": [
      "\n"
     ]
    }
   ],
   "source": [
    "# Retrain the model\n",
    "emmental.Meta.reset()\n",
    "emmental.init(Meta.log_path)\n",
    "emmental.Meta.update_config(config=config)\n",
    "\n",
    "tasks = create_task(\n",
    "    ATTRIBUTE, 2, F_train[0].shape[1], 2, emb_layer, model=\"LogisticRegression\"\n",
    ")\n",
    "\n",
    "model = EmmentalModel(name=f\"{ATTRIBUTE}_task\")\n",
    "\n",
    "for task in tasks:\n",
    "    model.add_task(task)\n",
    "\n",
    "emmental_learner = EmmentalLearner()\n",
    "emmental_learner.learn(model, [train_dataloader])"
   ]
  },
  {
   "cell_type": "code",
   "execution_count": 56,
   "metadata": {},
   "outputs": [
    {
     "name": "stdout",
     "output_type": "stream",
     "text": [
      "Preparing candidates...\n"
     ]
    },
    {
     "data": {
      "application/vnd.jupyter.widget-view+json": {
       "model_id": "8da4b5d2ab9f43648764d2fdeb2cf2df",
       "version_major": 2,
       "version_minor": 0
      },
      "text/plain": [
       "HBox(children=(FloatProgress(value=0.0, max=222.0), HTML(value='')))"
      ]
     },
     "metadata": {},
     "output_type": "display_data"
    },
    {
     "name": "stdout",
     "output_type": "stream",
     "text": [
      "\n",
      "========================================\n",
      "Scoring on Entity-Level Gold Data\n",
      "========================================\n",
      "Corpus Precision 0.837\n",
      "Corpus Recall    0.988\n",
      "Corpus F1        0.906\n",
      "----------------------------------------\n",
      "TP: 82 | FP: 16 | FN: 1\n",
      "========================================\n",
      "\n",
      "CPU times: user 1.27 s, sys: 32 ms, total: 1.3 s\n",
      "Wall time: 1.59 s\n"
     ]
    }
   ],
   "source": [
    "test_preds = model.predict(test_dataloader, return_preds=True)\n",
    "positive = np.where(np.array(test_preds[\"probs\"][ATTRIBUTE])[:, TRUE] > 0.6)\n",
    "true_pred = [test_cands[0][_] for _ in positive[0]]\n",
    "%time (TP, FP, FN) = entity_level_f1(true_pred, gold_file, ATTRIBUTE, test_docs, parts_by_doc=parts_by_doc)"
   ]
  },
  {
   "cell_type": "markdown",
   "metadata": {},
   "source": [
    "Using these new LFs, we've significantly improved precision and lowered our number of false positives for an F1 score of about 80."
   ]
  }
 ],
 "metadata": {
  "anaconda-cloud": {},
  "kernelspec": {
   "display_name": "Python 3",
   "language": "python",
   "name": "python3"
  },
  "language_info": {
   "codemirror_mode": {
    "name": "ipython",
    "version": 3
   },
   "file_extension": ".py",
   "mimetype": "text/x-python",
   "name": "python",
   "nbconvert_exporter": "python",
   "pygments_lexer": "ipython3",
   "version": "3.6.5"
  }
 },
 "nbformat": 4,
 "nbformat_minor": 1
}
