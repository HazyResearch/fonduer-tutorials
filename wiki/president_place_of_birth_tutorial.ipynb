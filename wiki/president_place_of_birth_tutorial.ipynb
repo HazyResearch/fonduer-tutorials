{
 "cells": [
  {
   "cell_type": "markdown",
   "metadata": {},
   "source": [
    "# Tutorial: Extracting the Place of Birth of American Presidents from their Wikipedia HTML Pages"
   ]
  },
  {
   "cell_type": "markdown",
   "metadata": {},
   "source": [
    "If you already have the database pob_presidents in your postgresql, please uncomment the first line to drop and create it."
   ]
  },
  {
   "cell_type": "code",
   "execution_count": 1,
   "metadata": {},
   "outputs": [],
   "source": [
    "#! dropdb --if-exists pob_presidents #Uncomment to remove databases created in previous runs\n",
    "! createdb pob_presidents"
   ]
  },
  {
   "cell_type": "markdown",
   "metadata": {},
   "source": [
    "# Introduction\n",
    "\n",
    "We will walk through the process of using `Fonduer` to extract relations from [**richly formatted** data](https://hazyresearch.github.io/snorkel/blog/fonduer.html), where information is conveyed via combinations of textual, structural and tabular, and visual expressions, as seen in webpages, business reports, product specifications, and scientific literature.\n",
    "\n",
    "In this tutorial, we use `Fonduer` to identify the place of birth of presidents and vice presidents from their wikipedia articles. The HTML files are generated from Wikipedia's markup language Wikitext via [wtf_wikipedia](https://github.com/spencermountain/wtf_wikipedia).\n",
    "\n",
    "The tutorial is broken into several parts, each covering a phase of the `Fonduer` pipeline (as outlined in the [paper](https://arxiv.org/abs/1703.05028)), and the iterative KBC process:\n",
    "\n",
    "1. KBC Initialization\n",
    "2. Candidate Generation and Multimodal Featurization\n",
    "3. Probabilistic Relation Classification\n",
    "4. Error Analysis and Iterative KBC\n",
    "\n",
    "In addition, we show how users can iteratively improve labeling functions to improve relation extraction quality.\n",
    "\n",
    "# Phase 1: KBC Initialization\n",
    "\n",
    "In this first phase of `Fonduer`'s pipeline, `Fonduer` uses a user-specified _schema_ to initialize a relational database where the output KB will be stored. Furthermore, `Fonduer` iterates over its input _corpus_ and transforms each document into a unified data model, which captures the variability and multimodality of richly formatted data. This unified data model then servers as an intermediate representation used in the rest of the phases.\n",
    "\n",
    "This preprocessed data is saved to a database. The connection string to the database is provided to the `Meta` object, which will initialize a PostgreSQL database for parallel execution.\n",
    "\n",
    "We initialize several variables for convenience that define what the database should be called and what level of parallelization the `Fonduer` pipeline will be run with.\n",
    "\n",
    "Before you continue, please make sure that you have PostgreSQL installed and have created a new database named `pob_presidents`."
   ]
  },
  {
   "cell_type": "code",
   "execution_count": 2,
   "metadata": {
    "scrolled": false
   },
   "outputs": [],
   "source": [
    "%load_ext autoreload\n",
    "%autoreload 2\n",
    "%matplotlib inline\n",
    "import os\n",
    "import sys\n",
    "import logging\n",
    "\n",
    "PARALLEL = 4 # assuming a quad-core machine\n",
    "ATTRIBUTE = \"pob_presidents\"\n",
    "conn_string = 'postgresql://localhost:5432/' + ATTRIBUTE"
   ]
  },
  {
   "cell_type": "markdown",
   "metadata": {},
   "source": [
    "## 1.1 Parsing and Transforming the Input Documents into Unified Data Models\n",
    "\n",
    "We first initialize a `Meta` object, which manages the connection to the database automatically, and enables us to save intermediate results."
   ]
  },
  {
   "cell_type": "code",
   "execution_count": 3,
   "metadata": {
    "scrolled": false
   },
   "outputs": [
    {
     "name": "stderr",
     "output_type": "stream",
     "text": [
      "[2020-04-21 15:04:56,752][INFO] fonduer.meta:51 - Setting logging directory to: logs/2020-04-21_15-04-56\n",
      "[2020-04-21 15:04:56,810][INFO] fonduer.meta:135 - Connecting user:senwu to localhost:5433/pob_presidents\n",
      "[2020-04-21 15:04:57,957][INFO] fonduer.meta:162 - Initializing the storage schema\n"
     ]
    }
   ],
   "source": [
    "from fonduer import Meta, init_logging\n",
    "\n",
    "# Configure logging for Fonduer\n",
    "init_logging(log_dir=\"logs\")\n",
    "\n",
    "session = Meta.init(conn_string).Session()"
   ]
  },
  {
   "cell_type": "markdown",
   "metadata": {},
   "source": [
    "Next, we load the corpus of wikpedia articles and transform them into the unified data model. Each article is represented by an HTML file. The HTML file is parsed to create a robust unified data model with textual, structural, and tabular modality information. Note that since each document is independent of each other, we can parse the documents in parallel. We depend on PostgreSQL for this functionality.\n",
    "\n",
    "### Configuring an `HTMLDocPreprocessor`\n",
    "We start by setting the paths to where our documents are stored, and defining a `HTMLDocPreprocessor` to read in the documents found in the specified paths. `max_docs` specified the maximum number of documents to parse.\n",
    "\n",
    "**Note that you need to have run `download_data.sh` before executing these next steps or you won't have the documents needed for the tutorial.**"
   ]
  },
  {
   "cell_type": "code",
   "execution_count": 4,
   "metadata": {},
   "outputs": [],
   "source": [
    "from fonduer.parser.preprocessors import HTMLDocPreprocessor\n",
    "from fonduer.parser import Parser\n",
    "\n",
    "docs_path = \"data/presidents/\"\n",
    "doc_preprocessor = HTMLDocPreprocessor(docs_path)"
   ]
  },
  {
   "cell_type": "markdown",
   "metadata": {},
   "source": [
    "### Configuring a `Parser`\n",
    "Next, we configure a `Parser`, which serves as our `CorpusParser` for PDF documents. We use [spaCy](https://spacy.io/) as a preprocessing tool to split our documents into sentences and tokens.In addition, we can specify which modality information to include in the unified data model for each document. Below, we enable structural information, as well as lingual information, which uses [spaCy] to provide annotations such as part-of-speech tags and dependency parse structures for these sentences. \n",
    "Note that after the progress bar indicates the completion of the parsing process, some more time will pass until all objects have been inserted into the database."
   ]
  },
  {
   "cell_type": "code",
   "execution_count": 5,
   "metadata": {
    "scrolled": false
   },
   "outputs": [
    {
     "name": "stderr",
     "output_type": "stream",
     "text": [
      "[2020-04-21 15:05:09,865][INFO] fonduer.utils.udf:69 - Running UDF...\n"
     ]
    },
    {
     "data": {
      "application/vnd.jupyter.widget-view+json": {
       "model_id": "82d53436d7ee4f60914314fe1e208272",
       "version_major": 2,
       "version_minor": 0
      },
      "text/plain": [
       "HBox(children=(FloatProgress(value=0.0, max=78.0), HTML(value='')))"
      ]
     },
     "metadata": {},
     "output_type": "display_data"
    },
    {
     "name": "stdout",
     "output_type": "stream",
     "text": [
      "\n",
      "CPU times: user 35.2 s, sys: 1.26 s, total: 36.4 s\n",
      "Wall time: 14min 36s\n"
     ]
    }
   ],
   "source": [
    "corpus_parser = Parser(session, structural=True, lingual=True)\n",
    "%time corpus_parser.apply(doc_preprocessor, parallelism=PARALLEL)"
   ]
  },
  {
   "cell_type": "markdown",
   "metadata": {},
   "source": [
    "We can then use simple database queries (written in the syntax of [SQLAlchemy](http://www.sqlalchemy.org/), which `Fonduer` uses) to check how many documents and sentences were parsed, or even check how many sentences are contained in each document."
   ]
  },
  {
   "cell_type": "code",
   "execution_count": 6,
   "metadata": {
    "scrolled": false
   },
   "outputs": [
    {
     "name": "stdout",
     "output_type": "stream",
     "text": [
      "Documents: 78\n",
      "Sentences: 95140\n"
     ]
    }
   ],
   "source": [
    "from fonduer.parser.models import Document, Sentence\n",
    "\n",
    "print(f\"Documents: {session.query(Document).count()}\")\n",
    "print(f\"Sentences: {session.query(Sentence).count()}\")"
   ]
  },
  {
   "cell_type": "markdown",
   "metadata": {},
   "source": [
    "## 1.2 Dividing the Corpus into Test and Train\n",
    "\n",
    "We'll split the documents 80/10/10 into train/dev/test splits. Note that here we do this in a non-random order to preverse the consistency in the tutorial, and we reference the splits by 0/1/2 respectively."
   ]
  },
  {
   "cell_type": "code",
   "execution_count": 7,
   "metadata": {},
   "outputs": [
    {
     "name": "stdout",
     "output_type": "stream",
     "text": [
      "['George_Clinton',\n",
      " 'James_A._Garfield',\n",
      " 'James_Madison',\n",
      " 'Adlai_Stevenson',\n",
      " 'James_K._Polk',\n",
      " 'Andrew_Johnson',\n",
      " 'Martin_Van_Buren',\n",
      " 'Abraham_Lincoln',\n",
      " 'Franklin_Pierce',\n",
      " 'James_Buchanan',\n",
      " 'Barack_Obama',\n",
      " 'Al_Gore',\n",
      " 'Elbridge_Gerry',\n",
      " 'Alben_W._Barkley',\n",
      " 'Harry_S._Truman',\n",
      " 'Levi_P._Morton',\n",
      " 'Franklin_D._Roosevelt',\n",
      " 'Henry_Wilson',\n",
      " 'Lyndon_B._Johnson',\n",
      " 'John_Quincy_Adams',\n",
      " 'Henry_A._Wallace',\n",
      " 'Aaron_Burr',\n",
      " 'Daniel_D._Tompkins',\n",
      " 'John_Nance_Garner',\n",
      " 'Hubert_Humphrey',\n",
      " 'Dick_Cheney',\n",
      " 'John_Tyler',\n",
      " 'Herbert_Hoover',\n",
      " 'Dan_Quayle',\n",
      " 'Andrew_Jackson',\n",
      " 'Dwight_D._Eisenhower',\n",
      " 'John_C._Breckinridge',\n",
      " 'Gerald_Ford',\n",
      " 'Donald_Trump',\n",
      " 'John_F._Kennedy',\n",
      " 'Hannibal_Hamlin',\n",
      " 'John_C._Calhoun',\n",
      " 'Grover_Cleveland',\n",
      " 'Calvin_Coolidge',\n",
      " 'Benjamin_Harrison',\n",
      " 'Charles_G._Dawes',\n",
      " 'James_Monroe',\n",
      " 'George_M._Dallas',\n",
      " 'George_W._Bush',\n",
      " 'Charles_Curtis',\n",
      " 'Jimmy_Carter',\n",
      " 'George_Washington',\n",
      " 'Chester_A._Arthur',\n",
      " 'James_S._Sherman',\n",
      " 'Charles_W._Fairbanks',\n",
      " 'John_Adams',\n",
      " 'Garret_Hobart',\n",
      " 'Joe_Biden',\n",
      " 'Bill_Clinton',\n",
      " 'George_H._W._Bush']\n"
     ]
    }
   ],
   "source": [
    "docs = session.query(Document).order_by(Document.name).all()\n",
    "ld = len(docs)\n",
    "\n",
    "train_docs = set()\n",
    "dev_docs = set()\n",
    "test_docs = set()\n",
    "splits = (0.7, 0.85)\n",
    "data = [(doc.name, doc) for doc in docs]\n",
    "data.sort(key=lambda x: 0x[0])\n",
    "for i, (doc_name, doc) in enumerate(data):\n",
    "    if i < splits[0] * ld:\n",
    "        train_docs.add(doc)\n",
    "    elif i < splits[1] * ld:\n",
    "        dev_docs.add(doc)\n",
    "    else:\n",
    "        test_docs.add(doc)\n",
    "from pprint import pprint\n",
    "\n",
    "pprint([x.name for x in train_docs])"
   ]
  },
  {
   "cell_type": "markdown",
   "metadata": {},
   "source": [
    "# Phase 2: Mention Extraction, Candidate Extraction Multimodal Featurization\n",
    "\n",
    "Given the unified data model from Phase 1, `Fonduer` extracts relation\n",
    "candidates based on user-provided **matchers** and **throttlers**. Then,\n",
    "`Fonduer` leverages the multimodality information captured in the unified data\n",
    "model to provide multimodal features for each candidate.\n",
    "\n",
    "## 2.1 Mention Extraction\n",
    "\n",
    "The first step is to extract **mentions** from our corpus. A `mention` is the\n",
    "type of object which makes up a `candidate`. For example, if we wanted to\n",
    "extract pairs of (vice) president names and their corresponding place of birth, the name would be one `mention` while\n",
    "the place of birth would be another. These `mention`s are then combined to\n",
    "create `candidates`, where our task is to predict which `candidates` are true\n",
    "in the associated document.\n",
    "\n",
    "We first start by defining and naming our two `mention`s:"
   ]
  },
  {
   "cell_type": "code",
   "execution_count": 8,
   "metadata": {},
   "outputs": [],
   "source": [
    "from fonduer.candidates.models import mention_subclass\n",
    "\n",
    "Presidentname = mention_subclass(\"Presidentname\")\n",
    "Placeofbirth = mention_subclass(\"Placeofbirth\")"
   ]
  },
  {
   "cell_type": "markdown",
   "metadata": {},
   "source": [
    "Next, we write **matchers** to define which spans of text in the corpus are\n",
    "instances of each entity. Matchers can leverage a variety of information from\n",
    "regular expressions, to dictionaries, to user-defined functions. Furthermore,\n",
    "different techniques can be combined to form higher quality matchers. In\n",
    "general, matchers should seek to be as precise as possible while maintaining\n",
    "complete recall. More documentation about Matchers can be found on [Read the Docs](https://fonduer.readthedocs.io/en/stable/user/candidates.html#matchers).\n",
    "\n",
    "In our case, we need to write a matcher that defines a string for the name of \n",
    "the president and another matcher to define the place of birth\n",
    "\n",
    "### Writing a simple name matcher\n",
    "\n",
    "Our name matcher makes use of the fact that the name of the president is \n",
    "indicated in the html file name. We define a function that compares a `span` of \n",
    "text with the file name to find mentions of the president.\n",
    "Because we previously converted the document into a unified data model, each\n",
    "`span` of text has a reference to its source document name, which makes comparison\n",
    "with the source file name easy:"
   ]
  },
  {
   "cell_type": "code",
   "execution_count": 9,
   "metadata": {},
   "outputs": [],
   "source": [
    "def mention_span_matches_file_name(mention):\n",
    "    president_name_string = mention.get_span()\n",
    "    file_name = mention.sentence.document.name.replace(\"_\", \" \")\n",
    "    if president_name_string == file_name:\n",
    "        return True\n",
    "    else:\n",
    "        return False"
   ]
  },
  {
   "cell_type": "markdown",
   "metadata": {},
   "source": [
    "We use a `LambdaFunctionMatcher` to wrap this function into a `Fonduer` mention matcher."
   ]
  },
  {
   "cell_type": "code",
   "execution_count": 10,
   "metadata": {},
   "outputs": [],
   "source": [
    "from fonduer.candidates.matchers import LambdaFunctionMatcher, Intersect, Union\n",
    "\n",
    "president_name_matcher = LambdaFunctionMatcher(func=mention_span_matches_file_name)"
   ]
  },
  {
   "cell_type": "markdown",
   "metadata": {},
   "source": [
    "### Writing a place of birth matcher\n",
    "\n",
    "While the place of birth is also a regular string, we rather want to match it based on it's location in the document.\n",
    "By inspecting the html files, we can find out that each file contains a table with the most important information about the respective president. We observe that there is typically a label in the left column and the corresponding value in the right column.\n",
    "To capture this information, we define a function that checks whether a `span` is inside a table and its neighboring cells in the same row contain the label 'birth place'.\n",
    "Furthermore, we observe that birth places are typically split into a fine-grained location, followed by its respective state. As we want to gather more fine-grained information, we specify to extract only the first `spans` of text inside the cell."
   ]
  },
  {
   "cell_type": "code",
   "execution_count": 11,
   "metadata": {},
   "outputs": [],
   "source": [
    "from fonduer.utils.data_model_utils import get_row_ngrams\n",
    "\n",
    "\n",
    "def is_in_birthplace_table_row(mention):\n",
    "    if not mention.sentence.is_tabular():\n",
    "        return False\n",
    "    ngrams = get_row_ngrams(mention, lower=True)\n",
    "    birth_place_words = set([\"birth\", \"place\"])\n",
    "    if birth_place_words <= set(ngrams):\n",
    "        return True\n",
    "    else:\n",
    "        return False\n",
    "\n",
    "\n",
    "def birthplace_left_aligned_to_punctuation(mention):\n",
    "    # Return false, if the cell containing the text candidate does not have any reference\n",
    "    # to `sentence` objects\n",
    "    for sentence in mention.sentence.cell.sentences:\n",
    "        sentence_parts = sentence.text.split(\",\")\n",
    "        for sentence_part in sentence_parts:\n",
    "            if sentence_part.startswith(mention.get_span()):\n",
    "                return True\n",
    "    return False\n",
    "\n",
    "\n",
    "# We only want one granularity of the birth place\n",
    "def no_commas_in_birth_place(mention):\n",
    "    if \",\" in mention.get_span():\n",
    "        return False\n",
    "    else:\n",
    "        return True"
   ]
  },
  {
   "cell_type": "markdown",
   "metadata": {},
   "source": [
    "After defining all functions to capture the properties of a birth place mention, we combine them via an `Intersect` matcher. This matcher will only select a `span`, if all three functions agree."
   ]
  },
  {
   "cell_type": "code",
   "execution_count": 12,
   "metadata": {},
   "outputs": [],
   "source": [
    "birth_place_in_labeled_row_matcher = LambdaFunctionMatcher(\n",
    "    func=is_in_birthplace_table_row\n",
    ")\n",
    "birth_place_in_labeled_row_matcher.longest_match_only = False\n",
    "birth_place_no_commas_matcher = LambdaFunctionMatcher(func=no_commas_in_birth_place)\n",
    "birth_place_left_aligned_matcher = LambdaFunctionMatcher(\n",
    "    func=birthplace_left_aligned_to_punctuation\n",
    ")\n",
    "\n",
    "place_of_birth_matcher = Intersect(\n",
    "    birth_place_in_labeled_row_matcher,\n",
    "    birth_place_no_commas_matcher,\n",
    "    birth_place_left_aligned_matcher,\n",
    ")"
   ]
  },
  {
   "cell_type": "markdown",
   "metadata": {},
   "source": [
    "These two matchers define each entity in our relation schema."
   ]
  },
  {
   "cell_type": "markdown",
   "metadata": {},
   "source": [
    "### Define a Mention's `MentionSpace`\n",
    "\n",
    "Next, in order to define the \"space\" of all mentions that are even considered\n",
    "from the document, we need to define a `MentionSpace` for each component of the\n",
    "relation we wish to extract. Fonduer provides a default `MentionSpace` for you\n",
    "to use, but you can also extend the default `MentionSpace` depending on your\n",
    "needs.\n",
    "\n",
    "In the case of names, the `MentionSpace` can be relatively simple: We know that\n",
    "each name will contain at least two words (first name, last name). Considering\n",
    "additional middle names, we expect a maximum of four words per name.\n",
    "\n",
    "Similarly, we expect the place of birth to be a `span` of one to three words.\n",
    "\n",
    "We use the default `Ngrams` class provided by `fonduer` to define these properties:"
   ]
  },
  {
   "cell_type": "code",
   "execution_count": 13,
   "metadata": {},
   "outputs": [],
   "source": [
    "from fonduer.candidates import MentionNgrams\n",
    "\n",
    "presname_ngrams = MentionNgrams(n_max=4, n_min=2)\n",
    "placeofbirth_ngrams = MentionNgrams(n_max=3)"
   ]
  },
  {
   "cell_type": "markdown",
   "metadata": {},
   "source": [
    "### Running Mention Extraction \n",
    "\n",
    "Next, we create a `MentionExtractor` to extract the mentions from all of\n",
    "our documents based on the `MentionSpace` and matchers we defined above.\n",
    "\n",
    "View the API for the MentionExtractor on [ReadTheDocs](https://fonduer.readthedocs.io/en/stable/user/candidates.html#fonduer.candidates.MentionExtractor).\n"
   ]
  },
  {
   "cell_type": "code",
   "execution_count": 14,
   "metadata": {},
   "outputs": [],
   "source": [
    "from fonduer.candidates import MentionExtractor\n",
    "\n",
    "mention_extractor = MentionExtractor(\n",
    "    session,\n",
    "    [Presidentname, Placeofbirth],\n",
    "    [presname_ngrams, placeofbirth_ngrams],\n",
    "    [president_name_matcher, place_of_birth_matcher],\n",
    ")"
   ]
  },
  {
   "cell_type": "markdown",
   "metadata": {},
   "source": [
    "Then, we run the extractor on all of our documents."
   ]
  },
  {
   "cell_type": "code",
   "execution_count": 15,
   "metadata": {},
   "outputs": [
    {
     "name": "stderr",
     "output_type": "stream",
     "text": [
      "[2020-04-21 15:19:37,994][INFO] fonduer.candidates.mentions:473 - Clearing table: presidentname\n",
      "[2020-04-21 15:19:38,024][INFO] fonduer.candidates.mentions:473 - Clearing table: placeofbirth\n",
      "[2020-04-21 15:19:38,028][INFO] fonduer.utils.udf:69 - Running UDF...\n"
     ]
    },
    {
     "data": {
      "application/vnd.jupyter.widget-view+json": {
       "model_id": "e361aba1de85414199caa67f1182e756",
       "version_major": 2,
       "version_minor": 0
      },
      "text/plain": [
       "HBox(children=(FloatProgress(value=0.0, max=78.0), HTML(value='')))"
      ]
     },
     "metadata": {},
     "output_type": "display_data"
    },
    {
     "name": "stdout",
     "output_type": "stream",
     "text": [
      "\n",
      "Total Mentions: 1321 (1197 names, 124 places of birth)\n"
     ]
    }
   ],
   "source": [
    "from fonduer.candidates.models import Mention\n",
    "\n",
    "mention_extractor.apply(docs, parallelism=PARALLEL)\n",
    "num_names = session.query(Presidentname).count()\n",
    "num_pobs = session.query(Placeofbirth).count()\n",
    "print(\n",
    "    f\"Total Mentions: {session.query(Mention).count()} ({num_names} names, {num_pobs} places of birth)\"\n",
    ")"
   ]
  },
  {
   "cell_type": "markdown",
   "metadata": {},
   "source": [
    "## 2.2 Candidate Extraction\n",
    "\n",
    "Now that we have both defined and extracted the Mentions that can be used to compose Candidates, we are ready to move on to extracting Candidates. Like we did with the Mentions, we first define what each candidate schema looks like. In this example, we create a candidate that is composed of a `Presidentname` and a `Placeofbirth` mention as we defined above. We name this candidate \"PresidentnamePlaceofbirth\"."
   ]
  },
  {
   "cell_type": "code",
   "execution_count": 16,
   "metadata": {},
   "outputs": [],
   "source": [
    "from fonduer.candidates.models import candidate_subclass\n",
    "\n",
    "PresidentnamePlaceofbirth = candidate_subclass(\n",
    "    \"PresidentnamePlaceofbirth\", [Presidentname, Placeofbirth]\n",
    ")"
   ]
  },
  {
   "cell_type": "markdown",
   "metadata": {},
   "source": [
    "### Defining candidate `Throttlers`\n",
    "\n",
    "Next, we need to define **throttlers**, which allow us to further prune excess candidates and avoid unnecessarily materializing invalid candidates. Throttlers, like matchers, act as hard filters, and should be created to have high precision while maintaining complete recall, if possible.\n",
    "\n",
    "Here, we create a throttler that discards candidates if they are in the same table. \n",
    "NOTE: Currently, we don't use this throttler, as issues with `wtf_wikipedia` lead to the absence of the president name in the table. We therefore skip this stip for now."
   ]
  },
  {
   "cell_type": "markdown",
   "metadata": {},
   "source": [
    "### Running the `CandidateExtractor`\n",
    "\n",
    "Now, we have all the component necessary to perform candidate extraction. We have defined the Mentions that compose each candidate and a throttler to prunes away excess candidates. We now can define the `CandidateExtractor` with the candidate subclass and corresponding throttler to use.\n",
    "\n",
    "View the API for the CandidateExtractor on [ReadTheDocs](https://fonduer.readthedocs.io/en/stable/user/candidates.html#fonduer.candidates.CandidateExtractor)."
   ]
  },
  {
   "cell_type": "code",
   "execution_count": 17,
   "metadata": {
    "scrolled": false
   },
   "outputs": [],
   "source": [
    "from fonduer.candidates import CandidateExtractor\n",
    "\n",
    "\n",
    "candidate_extractor = CandidateExtractor(session, [PresidentnamePlaceofbirth])"
   ]
  },
  {
   "cell_type": "markdown",
   "metadata": {},
   "source": [
    "Here we specified that these `Candidates` belong to the training set by specifying `split=0`; recall that we're referring to train/dev/test as splits 0/1/2."
   ]
  },
  {
   "cell_type": "code",
   "execution_count": 18,
   "metadata": {},
   "outputs": [
    {
     "name": "stderr",
     "output_type": "stream",
     "text": [
      "[2020-04-21 15:20:21,050][INFO] fonduer.candidates.candidates:145 - Clearing table presidentname_placeofbirth (split 0)\n",
      "[2020-04-21 15:20:21,220][INFO] fonduer.utils.udf:69 - Running UDF...\n"
     ]
    },
    {
     "data": {
      "application/vnd.jupyter.widget-view+json": {
       "model_id": "2cddbdbe326c4b1297ed48c58212724f",
       "version_major": 2,
       "version_minor": 0
      },
      "text/plain": [
       "HBox(children=(FloatProgress(value=0.0, max=55.0), HTML(value='')))"
      ]
     },
     "metadata": {},
     "output_type": "display_data"
    },
    {
     "name": "stderr",
     "output_type": "stream",
     "text": [
      "[2020-04-21 15:20:33,991][INFO] fonduer.candidates.candidates:145 - Clearing table presidentname_placeofbirth (split 1)\n",
      "[2020-04-21 15:20:34,032][INFO] fonduer.utils.udf:69 - Running UDF...\n"
     ]
    },
    {
     "name": "stdout",
     "output_type": "stream",
     "text": [
      "\n",
      "Number of Candidates in split=0: 1561\n"
     ]
    },
    {
     "data": {
      "application/vnd.jupyter.widget-view+json": {
       "model_id": "8723ee8313fd42c7b6a7f3a50fdf37a0",
       "version_major": 2,
       "version_minor": 0
      },
      "text/plain": [
       "HBox(children=(FloatProgress(value=0.0, max=12.0), HTML(value='')))"
      ]
     },
     "metadata": {},
     "output_type": "display_data"
    },
    {
     "name": "stderr",
     "output_type": "stream",
     "text": [
      "[2020-04-21 15:20:36,498][INFO] fonduer.candidates.candidates:145 - Clearing table presidentname_placeofbirth (split 2)\n",
      "[2020-04-21 15:20:36,528][INFO] fonduer.utils.udf:69 - Running UDF...\n"
     ]
    },
    {
     "name": "stdout",
     "output_type": "stream",
     "text": [
      "\n",
      "Number of Candidates in split=1: 324\n"
     ]
    },
    {
     "data": {
      "application/vnd.jupyter.widget-view+json": {
       "model_id": "7e2646431f3d42bc9385138f7c992d55",
       "version_major": 2,
       "version_minor": 0
      },
      "text/plain": [
       "HBox(children=(FloatProgress(value=0.0, max=11.0), HTML(value='')))"
      ]
     },
     "metadata": {},
     "output_type": "display_data"
    },
    {
     "name": "stdout",
     "output_type": "stream",
     "text": [
      "\n",
      "Number of Candidates in split=2: 201\n"
     ]
    }
   ],
   "source": [
    "for i, docs in enumerate([train_docs, dev_docs, test_docs]):\n",
    "    candidate_extractor.apply(docs, split=i, parallelism=PARALLEL)\n",
    "    print(\n",
    "        f\"Number of Candidates in split={i}: {session.query(PresidentnamePlaceofbirth).filter(PresidentnamePlaceofbirth.split == i).count()}\"\n",
    "    )\n",
    "\n",
    "train_cands = candidate_extractor.get_candidates(split=0)\n",
    "dev_cands = candidate_extractor.get_candidates(split=1)\n",
    "test_cands = candidate_extractor.get_candidates(split=2)"
   ]
  },
  {
   "cell_type": "markdown",
   "metadata": {},
   "source": [
    "## 2.2 Multimodal Featurization\n",
    "Unlike dealing with plain unstructured text, `Fonduer` deals with richly formatted data, and consequently featurizes each candidate with a baseline library of multimodal features. \n",
    "\n",
    "### Featurize with `Fonduer`'s optimized Postgres Featurizer\n",
    "We now annotate the candidates in our training, dev, and test sets with features. The `Featurizer` provided by `Fonduer` allows this to be done in parallel to improve performance.\n",
    "\n",
    "View the API provided by the `Featurizer` on [ReadTheDocs](https://fonduer.readthedocs.io/en/stable/user/features.html#fonduer.features.Featurizer)."
   ]
  },
  {
   "cell_type": "code",
   "execution_count": 19,
   "metadata": {},
   "outputs": [
    {
     "name": "stderr",
     "output_type": "stream",
     "text": [
      "[2020-04-21 15:20:39,599][INFO] fonduer.features.featurizer:277 - Clearing Features (split 0)\n",
      "[2020-04-21 15:20:39,606][INFO] fonduer.utils.udf:69 - Running UDF...\n"
     ]
    },
    {
     "data": {
      "application/vnd.jupyter.widget-view+json": {
       "model_id": "ec7dbeed129a435f8995b8d42d17c318",
       "version_major": 2,
       "version_minor": 0
      },
      "text/plain": [
       "HBox(children=(FloatProgress(value=0.0, max=55.0), HTML(value='')))"
      ]
     },
     "metadata": {},
     "output_type": "display_data"
    },
    {
     "name": "stdout",
     "output_type": "stream",
     "text": [
      "\n",
      "CPU times: user 5.89 s, sys: 408 ms, total: 6.3 s\n",
      "Wall time: 19.2 s\n",
      "CPU times: user 3.9 s, sys: 200 ms, total: 4.1 s\n",
      "Wall time: 5.26 s\n"
     ]
    }
   ],
   "source": [
    "from fonduer.features import Featurizer\n",
    "\n",
    "featurizer = Featurizer(session, [PresidentnamePlaceofbirth])\n",
    "%time featurizer.apply(split=0, train=True, parallelism=PARALLEL)\n",
    "%time F_train = featurizer.get_feature_matrices(train_cands)"
   ]
  },
  {
   "cell_type": "code",
   "execution_count": 20,
   "metadata": {},
   "outputs": [
    {
     "name": "stdout",
     "output_type": "stream",
     "text": [
      "(1561, 31945)\n"
     ]
    },
    {
     "name": "stderr",
     "output_type": "stream",
     "text": [
      "[2020-04-21 15:21:03,915][INFO] fonduer.features.featurizer:277 - Clearing Features (split 1)\n",
      "[2020-04-21 15:21:04,104][INFO] fonduer.utils.udf:69 - Running UDF...\n"
     ]
    },
    {
     "data": {
      "application/vnd.jupyter.widget-view+json": {
       "model_id": "8c6e7599c27041ea9f688f8a7ba6ef6a",
       "version_major": 2,
       "version_minor": 0
      },
      "text/plain": [
       "HBox(children=(FloatProgress(value=0.0, max=12.0), HTML(value='')))"
      ]
     },
     "metadata": {},
     "output_type": "display_data"
    },
    {
     "name": "stdout",
     "output_type": "stream",
     "text": [
      "\n",
      "CPU times: user 808 ms, sys: 196 ms, total: 1 s\n",
      "Wall time: 2.61 s\n",
      "CPU times: user 2.18 s, sys: 44 ms, total: 2.23 s\n",
      "Wall time: 2.85 s\n",
      "(324, 31945)\n"
     ]
    }
   ],
   "source": [
    "print(F_train[0].shape)\n",
    "%time featurizer.apply(split=1, parallelism=PARALLEL)\n",
    "%time F_dev = featurizer.get_feature_matrices(dev_cands)\n",
    "print(F_dev[0].shape)"
   ]
  },
  {
   "cell_type": "code",
   "execution_count": 21,
   "metadata": {},
   "outputs": [
    {
     "name": "stderr",
     "output_type": "stream",
     "text": [
      "[2020-04-21 15:21:09,426][INFO] fonduer.features.featurizer:277 - Clearing Features (split 2)\n",
      "[2020-04-21 15:21:09,434][INFO] fonduer.utils.udf:69 - Running UDF...\n"
     ]
    },
    {
     "data": {
      "application/vnd.jupyter.widget-view+json": {
       "model_id": "fb35c3aae6184e31a1888cf27fcee81c",
       "version_major": 2,
       "version_minor": 0
      },
      "text/plain": [
       "HBox(children=(FloatProgress(value=0.0, max=11.0), HTML(value='')))"
      ]
     },
     "metadata": {},
     "output_type": "display_data"
    },
    {
     "name": "stdout",
     "output_type": "stream",
     "text": [
      "\n",
      "CPU times: user 580 ms, sys: 132 ms, total: 712 ms\n",
      "Wall time: 2.42 s\n",
      "CPU times: user 1.69 s, sys: 72 ms, total: 1.76 s\n",
      "Wall time: 2.25 s\n",
      "(201, 31945)\n"
     ]
    }
   ],
   "source": [
    "%time featurizer.apply(split=2, parallelism=PARALLEL)\n",
    "%time F_test = featurizer.get_feature_matrices(test_cands)\n",
    "print(F_test[0].shape)"
   ]
  },
  {
   "cell_type": "markdown",
   "metadata": {},
   "source": [
    "At the end of this phase, `Fonduer` has generated the set of candidates and the feature matrix. Note that Phase 1 and 2 are relatively static and typically are only executed once during the KBC process.\n",
    "\n",
    "# Phase 3: Probabilistic Relation Classification\n",
    "In this phase, `Fonduer` applies user-defined **labeling functions**, which express various heuristics, patterns, and [weak supervision](http://hazyresearch.github.io/snorkel/blog/weak_supervision.html) strategies to label our data, to each of the candidates to create a label matrix that is used by our data programming engine.\n",
    "\n",
    "In the wild, hand-labeled training data is rare and expensive. A common scenario is to have access to tons of unlabeled training data, and have some idea of how to label them programmatically. For example:\n",
    "* We may have knowledge about typical place constructs, such as combinations of strings with words like 'New','County' or 'City'.\n",
    "Our labeling functions will capture these types of strategies. We know that these labeling functions will not be perfect, and some may be quite low-quality, so we will model their accuracies with a generative model, which `Fonduer` will help us easily apply.\n",
    "\n",
    "Using data programming, we can then train machine learning models to learn which features are the most important in classifying candidates.\n",
    "\n",
    "### Loading Gold Data\n",
    "For convenience in error analysis and evaluation, we have already annotated the dev and test set for this tutorial, and we'll now load it using an externally-defined helper function. If you're interested in the example implementation details, please see the script we now load:"
   ]
  },
  {
   "cell_type": "code",
   "execution_count": 22,
   "metadata": {
    "scrolled": false
   },
   "outputs": [
    {
     "name": "stderr",
     "output_type": "stream",
     "text": [
      "[2020-04-21 15:21:14,249][INFO] fonduer.supervision.labeler:340 - Clearing Labels (split ALL)\n",
      "[2020-04-21 15:21:14,255][INFO] fonduer.utils.udf:69 - Running UDF...\n"
     ]
    },
    {
     "data": {
      "application/vnd.jupyter.widget-view+json": {
       "model_id": "ed5c553aca6b4c87b2cb5b5abb14ab18",
       "version_major": 2,
       "version_minor": 0
      },
      "text/plain": [
       "HBox(children=(FloatProgress(value=0.0, max=78.0), HTML(value='')))"
      ]
     },
     "metadata": {},
     "output_type": "display_data"
    },
    {
     "name": "stdout",
     "output_type": "stream",
     "text": [
      "\n",
      "CPU times: user 3.36 s, sys: 196 ms, total: 3.55 s\n",
      "Wall time: 5.76 s\n"
     ]
    }
   ],
   "source": [
    "from fonduer.supervision.models import GoldLabel\n",
    "from wiki_table_utils import gold\n",
    "\n",
    "from fonduer.supervision import Labeler\n",
    "\n",
    "docs = corpus_parser.get_documents()\n",
    "labeler = Labeler(session, [PresidentnamePlaceofbirth])\n",
    "%time labeler.apply(docs=docs, lfs=[[gold]], table=GoldLabel, train=True, parallelism=PARALLEL)"
   ]
  },
  {
   "cell_type": "markdown",
   "metadata": {},
   "source": [
    "### Creating Labeling Functions\n",
    "\n",
    "In `Fonduer`, our primary interface through which we provide training signal to\n",
    "the end extraction model we are training is by writing labeling functions\n",
    "(**LFs**) (as opposed to hand-labeling massive training sets).\n",
    "\n",
    "A labeling function isn't anything special. It's just a Python function that\n",
    "accepts a `Candidate` as the input argument and returns `2` if it says the\n",
    "Candidate should be marked as true, `1` if it says the `Candidate` should be\n",
    "marked as false, and `0` if it doesn't know how to vote and abstains. In\n",
    "practice, many labeling functions are unipolar: it labels only 2s and 0s, or it\n",
    "labels only 1s and 0s.\n",
    "\n",
    "Recall that our goal is ultimately to train a high-performance classification\n",
    "model that predicts which of our Candidates are true mentions of president name to place of birth relations. It turns out that we can do this by writing\n",
    "potentially low-quality labeling functions!\n",
    "\n",
    "With `Fonduer`, labeling functions can be written using intuitive patterns\n",
    "discovered by inspecting the target corpus. A library of data model utilities\n",
    "which can be used to write labeling functions are outline in [Read the\n",
    "Docs](http://fonduer.readthedocs.io/en/stable/user/data_model_utils.html). "
   ]
  },
  {
   "cell_type": "markdown",
   "metadata": {},
   "source": [
    "We express several of these simple patterns below as a set of labeling functions:"
   ]
  },
  {
   "cell_type": "code",
   "execution_count": 23,
   "metadata": {},
   "outputs": [],
   "source": [
    "from snorkel.labeling import labeling_function\n",
    "from fonduer.utils.data_model_utils import *\n",
    "import re\n",
    "\n",
    "ABSTAIN = -1\n",
    "FALSE = 0\n",
    "TRUE = 1\n",
    "\n",
    "\n",
    "@labeling_function()\n",
    "def LF_place_of_birth_has_link(c):\n",
    "    place = c.placeofbirth\n",
    "    ancestor_tag_names = get_ancestor_tag_names(place)\n",
    "    if len(ancestor_tag_names) > 1 and \"a\" in ancestor_tag_names:\n",
    "        return ABSTAIN\n",
    "    else:\n",
    "        return FALSE\n",
    "\n",
    "\n",
    "@labeling_function()\n",
    "def LF_place_of_birth_is_longest_ordered_span_before_comma(c):\n",
    "    place = c.placeofbirth\n",
    "    place_string = place.context.get_span()\n",
    "    place_sentence_string = place.context.sentence.text\n",
    "    left_aligned_first_span = place_sentence_string.split(\",\")[0]\n",
    "    if place_string == left_aligned_first_span:\n",
    "        return TRUE\n",
    "    else:\n",
    "        return FALSE\n",
    "\n",
    "\n",
    "@labeling_function()\n",
    "def LF_place_in_first_sentence_of_cell(c):\n",
    "    place = c.placeofbirth\n",
    "    place_sentence = place.context.sentence\n",
    "    place_cell = place_sentence.cell\n",
    "    if place_sentence == place_cell.sentences[0]:\n",
    "        return TRUE\n",
    "    else:\n",
    "        return FALSE\n",
    "\n",
    "\n",
    "@labeling_function()\n",
    "def LF_place_is_full_sentence(c):\n",
    "    place = c.placeofbirth\n",
    "    place_sentence = place.context.sentence\n",
    "    if place.context.get_span() == place_sentence.text:\n",
    "        return ABSTAIN\n",
    "    else:\n",
    "        return FALSE\n",
    "\n",
    "\n",
    "@labeling_function()\n",
    "def LF_place_not_a_US_state(c):\n",
    "    place = c.placeofbirth\n",
    "    place_string = place.context.get_span().lower()\n",
    "    if place_string is None:\n",
    "        return FALSE\n",
    "    state_dictionary = set(\n",
    "        x.lower()\n",
    "        for x in [\n",
    "            \"Alabama\",\n",
    "            \"Alaska\",\n",
    "            \"Arizona\",\n",
    "            \"Arkansas\",\n",
    "            \"California\",\n",
    "            \"Colorado\",\n",
    "            \"Connecticut\",\n",
    "            \"Delaware\",\n",
    "            \"Florida\",\n",
    "            \"Georgia\",\n",
    "            \"Hawaii\",\n",
    "            \"Idaho\",\n",
    "            \"Illinois\",\n",
    "            \"Indiana\",\n",
    "            \"Iowa\",\n",
    "            \"Kansas\",\n",
    "            \"Kentucky\",\n",
    "            \"Louisiana\",\n",
    "            \"Maine\",\n",
    "            \"Maryland\",\n",
    "            \"Massachusetts\",\n",
    "            \"Michigan\",\n",
    "            \"Minnesota\",\n",
    "            \"Mississippi\",\n",
    "            \"Missouri\",\n",
    "            \"Montana\",\n",
    "            \"Nebraska\",\n",
    "            \"Nevada\",\n",
    "            \"New Hampshire\",\n",
    "            \"New Jersey\",\n",
    "            \"New Mexico\",\n",
    "            \"New York\",\n",
    "            \"North Carolina\",\n",
    "            \"North Dakota\",\n",
    "            \"Ohio\",\n",
    "            \"Oklahoma\",\n",
    "            \"Oregon\",\n",
    "            \"Pennsylvania\",\n",
    "            \"Rhode Island\",\n",
    "            \"South Carolina\",\n",
    "            \"South Dakota\",\n",
    "            \"Tennessee\",\n",
    "            \"Texas\",\n",
    "            \"Utah\",\n",
    "            \"Vermont\",\n",
    "            \"Virginia\",\n",
    "            \"Washington\",\n",
    "            \"West Virginia\",\n",
    "            \"Wisconsin\",\n",
    "            \"Wyoming\",\n",
    "        ]\n",
    "    )\n",
    "    if place_string == \"new york city\":  # exception\n",
    "        return TRUE\n",
    "    if place_string in state_dictionary:\n",
    "        return FALSE\n",
    "    elif any(x in place_string for x in state_dictionary):\n",
    "        return FALSE\n",
    "    else:\n",
    "        return ABSTAIN"
   ]
  },
  {
   "cell_type": "markdown",
   "metadata": {},
   "source": [
    "Then, we collect all of the labeling function we would like to use into a single list, which is provided as input to the `Labeler`."
   ]
  },
  {
   "cell_type": "code",
   "execution_count": 24,
   "metadata": {},
   "outputs": [],
   "source": [
    "president_name_pob_lfs = [\n",
    "    LF_place_of_birth_has_link,\n",
    "    LF_place_of_birth_is_longest_ordered_span_before_comma,\n",
    "    LF_place_not_a_US_state,\n",
    "    LF_place_in_first_sentence_of_cell,\n",
    "    LF_place_is_full_sentence,\n",
    "]"
   ]
  },
  {
   "cell_type": "markdown",
   "metadata": {},
   "source": [
    "### Applying the Labeling Functions\n",
    "\n",
    "Next, we need to actually run the LFs over all of our training candidates, producing a set of `Labels` and `LabelKeys` (just the names of the LFs) in the database. Note that this will delete any existing `Labels` and `LabelKeys` for this candidate set.\n",
    "\n",
    "View the API provided by the `Labeler` on [ReadTheDocs](https://fonduer.readthedocs.io/en/stable/user/supervision.html#fonduer.supervision.Labeler)."
   ]
  },
  {
   "cell_type": "code",
   "execution_count": 25,
   "metadata": {},
   "outputs": [
    {
     "name": "stderr",
     "output_type": "stream",
     "text": [
      "[2020-04-21 15:21:21,526][INFO] fonduer.supervision.labeler:340 - Clearing Labels (split 0)\n",
      "[2020-04-21 15:21:21,533][INFO] fonduer.utils.udf:69 - Running UDF...\n"
     ]
    },
    {
     "data": {
      "application/vnd.jupyter.widget-view+json": {
       "model_id": "b84263c7ca2e4d3ab236955c49f10869",
       "version_major": 2,
       "version_minor": 0
      },
      "text/plain": [
       "HBox(children=(FloatProgress(value=0.0, max=55.0), HTML(value='')))"
      ]
     },
     "metadata": {},
     "output_type": "display_data"
    },
    {
     "name": "stdout",
     "output_type": "stream",
     "text": [
      "\n",
      "CPU times: user 2.87 s, sys: 180 ms, total: 3.05 s\n",
      "Wall time: 4.2 s\n",
      "CPU times: user 2.32 s, sys: 68 ms, total: 2.39 s\n",
      "Wall time: 3.1 s\n"
     ]
    }
   ],
   "source": [
    "%time labeler.apply(split=0, lfs=[president_name_pob_lfs], train=True, parallelism=PARALLEL)\n",
    "%time L_train = labeler.get_label_matrices(train_cands)"
   ]
  },
  {
   "cell_type": "markdown",
   "metadata": {},
   "source": [
    "We can also view statistics about the resulting label matrix.\n",
    "* **Coverage** is the fraction of candidates that the labeling function emits a non-zero label for.\n",
    "* **Overlap** is the fraction candidates that the labeling function emits a non-zero label for and that another labeling function emits a non-zero label for.\n",
    "* **Conflict** is the fraction candidates that the labeling function emits a non-zero label for and that another labeling function emits a conflicting non-zero label for.\n",
    "\n",
    "In addition, because we have already loaded the gold labels, we can view the emperical accuracy of these labeling functions when compared to our gold labels using the `analysis` module of [MeTaL](https://github.com/HazyResearch/metal)."
   ]
  },
  {
   "cell_type": "code",
   "execution_count": 26,
   "metadata": {},
   "outputs": [],
   "source": [
    "L_gold_train = labeler.get_gold_labels(train_cands, annotator=\"gold\")"
   ]
  },
  {
   "cell_type": "code",
   "execution_count": 27,
   "metadata": {},
   "outputs": [
    {
     "data": {
      "text/html": [
       "<div>\n",
       "<style scoped>\n",
       "    .dataframe tbody tr th:only-of-type {\n",
       "        vertical-align: middle;\n",
       "    }\n",
       "\n",
       "    .dataframe tbody tr th {\n",
       "        vertical-align: top;\n",
       "    }\n",
       "\n",
       "    .dataframe thead th {\n",
       "        text-align: right;\n",
       "    }\n",
       "</style>\n",
       "<table border=\"1\" class=\"dataframe\">\n",
       "  <thead>\n",
       "    <tr style=\"text-align: right;\">\n",
       "      <th></th>\n",
       "      <th>j</th>\n",
       "      <th>Polarity</th>\n",
       "      <th>Coverage</th>\n",
       "      <th>Overlaps</th>\n",
       "      <th>Conflicts</th>\n",
       "      <th>Correct</th>\n",
       "      <th>Incorrect</th>\n",
       "      <th>Emp. Acc.</th>\n",
       "    </tr>\n",
       "  </thead>\n",
       "  <tbody>\n",
       "    <tr>\n",
       "      <th>LF_place_in_first_sentence_of_cell</th>\n",
       "      <td>0</td>\n",
       "      <td>[0, 1]</td>\n",
       "      <td>1.000000</td>\n",
       "      <td>1.000000</td>\n",
       "      <td>0.807816</td>\n",
       "      <td>1350</td>\n",
       "      <td>211</td>\n",
       "      <td>0.864830</td>\n",
       "    </tr>\n",
       "    <tr>\n",
       "      <th>LF_place_is_full_sentence</th>\n",
       "      <td>1</td>\n",
       "      <td>[0]</td>\n",
       "      <td>0.538757</td>\n",
       "      <td>0.538757</td>\n",
       "      <td>0.467008</td>\n",
       "      <td>235</td>\n",
       "      <td>606</td>\n",
       "      <td>0.279429</td>\n",
       "    </tr>\n",
       "    <tr>\n",
       "      <th>LF_place_not_a_US_state</th>\n",
       "      <td>2</td>\n",
       "      <td>[0, 1]</td>\n",
       "      <td>0.166560</td>\n",
       "      <td>0.166560</td>\n",
       "      <td>0.124920</td>\n",
       "      <td>251</td>\n",
       "      <td>9</td>\n",
       "      <td>0.965385</td>\n",
       "    </tr>\n",
       "    <tr>\n",
       "      <th>LF_place_of_birth_has_link</th>\n",
       "      <td>3</td>\n",
       "      <td>[0]</td>\n",
       "      <td>0.115311</td>\n",
       "      <td>0.115311</td>\n",
       "      <td>0.070468</td>\n",
       "      <td>170</td>\n",
       "      <td>10</td>\n",
       "      <td>0.944444</td>\n",
       "    </tr>\n",
       "    <tr>\n",
       "      <th>LF_place_of_birth_is_longest_ordered_span_before_comma</th>\n",
       "      <td>4</td>\n",
       "      <td>[0, 1]</td>\n",
       "      <td>1.000000</td>\n",
       "      <td>1.000000</td>\n",
       "      <td>0.807816</td>\n",
       "      <td>989</td>\n",
       "      <td>572</td>\n",
       "      <td>0.633568</td>\n",
       "    </tr>\n",
       "  </tbody>\n",
       "</table>\n",
       "</div>"
      ],
      "text/plain": [
       "                                                    j Polarity  Coverage  \\\n",
       "LF_place_in_first_sentence_of_cell                  0   [0, 1]  1.000000   \n",
       "LF_place_is_full_sentence                           1      [0]  0.538757   \n",
       "LF_place_not_a_US_state                             2   [0, 1]  0.166560   \n",
       "LF_place_of_birth_has_link                          3      [0]  0.115311   \n",
       "LF_place_of_birth_is_longest_ordered_span_befor...  4   [0, 1]  1.000000   \n",
       "\n",
       "                                                    Overlaps  Conflicts  \\\n",
       "LF_place_in_first_sentence_of_cell                  1.000000   0.807816   \n",
       "LF_place_is_full_sentence                           0.538757   0.467008   \n",
       "LF_place_not_a_US_state                             0.166560   0.124920   \n",
       "LF_place_of_birth_has_link                          0.115311   0.070468   \n",
       "LF_place_of_birth_is_longest_ordered_span_befor...  1.000000   0.807816   \n",
       "\n",
       "                                                    Correct  Incorrect  \\\n",
       "LF_place_in_first_sentence_of_cell                     1350        211   \n",
       "LF_place_is_full_sentence                               235        606   \n",
       "LF_place_not_a_US_state                                 251          9   \n",
       "LF_place_of_birth_has_link                              170         10   \n",
       "LF_place_of_birth_is_longest_ordered_span_befor...      989        572   \n",
       "\n",
       "                                                    Emp. Acc.  \n",
       "LF_place_in_first_sentence_of_cell                   0.864830  \n",
       "LF_place_is_full_sentence                            0.279429  \n",
       "LF_place_not_a_US_state                              0.965385  \n",
       "LF_place_of_birth_has_link                           0.944444  \n",
       "LF_place_of_birth_is_longest_ordered_span_befor...   0.633568  "
      ]
     },
     "execution_count": 27,
     "metadata": {},
     "output_type": "execute_result"
    }
   ],
   "source": [
    "from snorkel.labeling import LFAnalysis\n",
    "\n",
    "LFAnalysis(\n",
    "    L_train[0],\n",
    "    lfs=sorted(president_name_pob_lfs, key=lambda lf: lf.name)\n",
    ").lf_summary(Y=L_gold_train[0].reshape(-1))"
   ]
  },
  {
   "cell_type": "markdown",
   "metadata": {},
   "source": [
    "### Fitting the Generative Model\n",
    "\n",
    "Now, we'll train a model of the LFs to estimate their accuracies. Once the model is trained, we can combine the outputs of the LFs into a single, noise-aware training label set for our extractor. Intuitively, we'll model the LFs by observing how they overlap and conflict with each other. To do so, we use [MeTaL](https://github.com/HazyResearch/metal)'s single-task label model."
   ]
  },
  {
   "cell_type": "code",
   "execution_count": 28,
   "metadata": {},
   "outputs": [
    {
     "name": "stderr",
     "output_type": "stream",
     "text": [
      "[2020-04-21 15:21:30,336][INFO] root:852 - Computing O...\n",
      "[2020-04-21 15:21:30,346][INFO] root:858 - Estimating \\mu...\n",
      "[2020-04-21 15:21:30,382][INFO] root:79 - [0 epochs]: TRAIN:[loss=1.897]\n",
      "[2020-04-21 15:21:30,546][INFO] root:79 - [100 epochs]: TRAIN:[loss=0.018]\n",
      "[2020-04-21 15:21:30,706][INFO] root:79 - [200 epochs]: TRAIN:[loss=0.014]\n",
      "[2020-04-21 15:21:30,866][INFO] root:79 - [300 epochs]: TRAIN:[loss=0.013]\n",
      "[2020-04-21 15:21:31,028][INFO] root:79 - [400 epochs]: TRAIN:[loss=0.013]\n",
      "[2020-04-21 15:21:31,192][INFO] root:915 - Finished Training\n"
     ]
    },
    {
     "name": "stdout",
     "output_type": "stream",
     "text": [
      "CPU times: user 832 ms, sys: 32 ms, total: 864 ms\n",
      "Wall time: 872 ms\n"
     ]
    }
   ],
   "source": [
    "from snorkel.labeling.model import LabelModel\n",
    "\n",
    "gen_model = LabelModel(cardinality=2)\n",
    "%time gen_model.fit(L_train[0], n_epochs=500, log_freq=100)"
   ]
  },
  {
   "cell_type": "markdown",
   "metadata": {},
   "source": [
    "We now apply the generative model to the training candidates to get the noise-aware training label set. We'll refer to these as the training marginals:"
   ]
  },
  {
   "cell_type": "code",
   "execution_count": 29,
   "metadata": {},
   "outputs": [],
   "source": [
    "train_marginals = gen_model.predict_proba(L_train[0])"
   ]
  },
  {
   "cell_type": "markdown",
   "metadata": {},
   "source": [
    "We'll look at the distribution of the training marginals:"
   ]
  },
  {
   "cell_type": "code",
   "execution_count": 30,
   "metadata": {},
   "outputs": [
    {
     "data": {
      "image/png": "[encoded data removed]",
      "text/plain": [
       "<Figure size 432x288 with 1 Axes>"
      ]
     },
     "metadata": {
      "needs_background": "light"
     },
     "output_type": "display_data"
    }
   ],
   "source": [
    "import matplotlib.pyplot as plt\n",
    "\n",
    "plt.hist(train_marginals[:, TRUE], bins=20)\n",
    "plt.show()"
   ]
  },
  {
   "cell_type": "markdown",
   "metadata": {
    "scrolled": true
   },
   "source": [
    "### Using the Model to Iterate on Labeling Functions\n",
    "\n",
    "Now that we have learned the generative model, we can stop here and use this to potentially debug and/or improve our labeling function set. First, we apply the LFs to our development set:"
   ]
  },
  {
   "cell_type": "code",
   "execution_count": 31,
   "metadata": {},
   "outputs": [
    {
     "name": "stderr",
     "output_type": "stream",
     "text": [
      "[2020-04-21 15:21:31,697][INFO] fonduer.supervision.labeler:340 - Clearing Labels (split 1)\n",
      "[2020-04-21 15:21:31,704][INFO] fonduer.utils.udf:69 - Running UDF...\n"
     ]
    },
    {
     "data": {
      "application/vnd.jupyter.widget-view+json": {
       "model_id": "861d9ed71ee64cfc97f11efd764b7af9",
       "version_major": 2,
       "version_minor": 0
      },
      "text/plain": [
       "HBox(children=(FloatProgress(value=0.0, max=12.0), HTML(value='')))"
      ]
     },
     "metadata": {},
     "output_type": "display_data"
    },
    {
     "name": "stdout",
     "output_type": "stream",
     "text": [
      "\n",
      "CPU times: user 404 ms, sys: 28 ms, total: 432 ms\n",
      "Wall time: 572 ms\n"
     ]
    }
   ],
   "source": [
    "labeler.apply(split=1, lfs=[president_name_pob_lfs], parallelism=PARALLEL)\n",
    "%time L_dev = labeler.get_label_matrices(dev_cands)"
   ]
  },
  {
   "cell_type": "code",
   "execution_count": 32,
   "metadata": {},
   "outputs": [
    {
     "data": {
      "text/plain": [
       "(324, 5)"
      ]
     },
     "execution_count": 32,
     "metadata": {},
     "output_type": "execute_result"
    }
   ],
   "source": [
    "L_dev[0].shape"
   ]
  },
  {
   "cell_type": "markdown",
   "metadata": {},
   "source": [
    "### Interpreting Generative Model Performance\n",
    "\n",
    "At this point, we should be getting an F1 score of around 0.6 to 0.7 on the development set, which is pretty good! However, we should be very careful in interpreting this. Since we developed our labeling functions using this development set as a guide, and our generative model is composed of these labeling functions, we expect it to score very well here!\n",
    "\n",
    "In fact, it is probably somewhat overfit to this set. However this is fine, since in the next, we'll train a more powerful end extraction model which will generalize beyond the development set, and which we will evaluate on a blind test set (i.e. one we never looked at during development).\n",
    "\n",
    "\n",
    "### Training the Discriminative Model\n",
    "\n",
    "Now, we'll use the noisy training labels we generated in the last part to train our end extraction model. For this tutorial, we will be training a simple--but fairly effective--logistic regression model.\n",
    "\n",
    "We use the training marginals to train a discriminative model that classifies each Candidate as a true or false mention.\n",
    "\n",
    "In `Fonduer`, we use a new machine learning framework [Emmental](https://github.com/SenWu/emmental) to support all model training."
   ]
  },
  {
   "cell_type": "code",
   "execution_count": 39,
   "metadata": {},
   "outputs": [
    {
     "name": "stderr",
     "output_type": "stream",
     "text": [
      "[2020-04-21 15:26:23,167][INFO] emmental.meta:119 - Logging was already initialized to use logs/2020-04-21_15-04-56/2020_04_21/15_25_26/095c7af0.  To configure logging manually, call emmental.init_logging before initialiting Meta.\n",
      "[2020-04-21 15:26:23,212][INFO] emmental.meta:63 - Loading Emmental default config from /dfs/scratch1/senwu/mmtl/test/data_augmentation/new_eda5/emmental/src/emmental/emmental-default-config.yaml.\n",
      "[2020-04-21 15:26:23,214][INFO] emmental.meta:169 - Updating Emmental config from user provided config.\n"
     ]
    }
   ],
   "source": [
    "import emmental\n",
    "\n",
    "# Setup training config\n",
    "config = {\n",
    "    \"meta_config\": {\"verbose\": True},\n",
    "    \"model_config\": {\"model_path\": None, \"device\": 0, \"dataparallel\": False},\n",
    "    \"learner_config\": {\n",
    "        \"n_epochs\": 30,\n",
    "        \"optimizer_config\": {\"lr\": 0.001, \"l2\": 0.0},\n",
    "        \"task_scheduler\": \"round_robin\",\n",
    "    },\n",
    "    \"logging_config\": {\n",
    "        \"evaluation_freq\": 1,\n",
    "        \"counter_unit\": \"epoch\",\n",
    "        \"checkpointing\": False,\n",
    "        \"checkpointer_config\": {\n",
    "            \"checkpoint_metric\": {f\"{ATTRIBUTE}/{ATTRIBUTE}/train/loss\": \"min\"},\n",
    "            \"checkpoint_freq\": 1,\n",
    "            \"checkpoint_runway\": 2,\n",
    "            \"clear_intermediate_checkpoints\": True,\n",
    "            \"clear_all_checkpoints\": True,\n",
    "        },\n",
    "    },\n",
    "}\n",
    "\n",
    "emmental.init(Meta.log_path)\n",
    "emmental.Meta.update_config(config=config)"
   ]
  },
  {
   "cell_type": "code",
   "execution_count": 40,
   "metadata": {},
   "outputs": [],
   "source": [
    "# Collect word counter from training data\n",
    "from fonduer.learning.utils import collect_word_counter\n",
    "\n",
    "word_counter = collect_word_counter(train_cands)"
   ]
  },
  {
   "cell_type": "code",
   "execution_count": 41,
   "metadata": {},
   "outputs": [],
   "source": [
    "# Generate word embedding module for LSTM model\n",
    "# (in Logistic Regression, we generate it since Fonduer dataset requires word2id dict)\n",
    "from emmental.modules.embedding_module import EmbeddingModule\n",
    "\n",
    "arity = 2\n",
    "\n",
    "# Geneate special tokens\n",
    "specials = []\n",
    "for i in range(arity):\n",
    "    specials += [f\"~~[[{i}\", f\"{i}]]~~\"]\n",
    "\n",
    "emb_layer = EmbeddingModule(\n",
    "    word_counter=word_counter, word_dim=300, specials=specials\n",
    ")"
   ]
  },
  {
   "cell_type": "code",
   "execution_count": 42,
   "metadata": {},
   "outputs": [],
   "source": [
    "# Generate dataloader for training set\n",
    "from emmental.data import EmmentalDataLoader\n",
    "from fonduer.learning.dataset import FonduerDataset\n",
    "import numpy as np\n",
    "\n",
    "# Filter out noise samples\n",
    "diffs = train_marginals.max(axis=1) - train_marginals.min(axis=1)\n",
    "train_idxs = np.where(diffs > 1e-6)[0]\n",
    "\n",
    "train_dataloader = EmmentalDataLoader(\n",
    "    task_to_label_dict={ATTRIBUTE: \"labels\"},\n",
    "    dataset=FonduerDataset(\n",
    "        ATTRIBUTE,\n",
    "        train_cands[0],\n",
    "        F_train[0],\n",
    "        emb_layer.word2id,\n",
    "        train_marginals,\n",
    "        train_idxs,\n",
    "    ),\n",
    "    split=\"train\",\n",
    "    batch_size=100,\n",
    "    shuffle=True,\n",
    ")"
   ]
  },
  {
   "cell_type": "code",
   "execution_count": 43,
   "metadata": {},
   "outputs": [
    {
     "name": "stderr",
     "output_type": "stream",
     "text": [
      "[2020-04-21 15:26:24,759][INFO] fonduer.learning.task:87 - LogisticRegression model config: {'hidden_dim': 100, 'bias': False}\n",
      "[2020-04-21 15:26:24,881][INFO] emmental.task:50 - Created task: pob_presidents\n",
      "[2020-04-21 15:26:24,882][INFO] emmental.model:56 - Created emmental model pob_presidents_task that contains task set().\n",
      "[2020-04-21 15:26:24,883][INFO] emmental.model:70 - Moving model to GPU (cuda:1).\n",
      "[2020-04-21 15:26:24,884][INFO] emmental.model:70 - Moving model to GPU (cuda:1).\n",
      "[2020-04-21 15:26:28,882][INFO] emmental.logging.logging_manager:38 - Evaluating every 1 epoch.\n",
      "[2020-04-21 15:26:28,884][INFO] emmental.logging.logging_manager:59 - No checkpointing.\n",
      "[2020-04-21 15:26:29,094][INFO] emmental.learner:101 - Using optimizer Adam (\n",
      "Parameter Group 0\n",
      "    amsgrad: False\n",
      "    betas: (0.9, 0.999)\n",
      "    eps: 1e-08\n",
      "    lr: 0.001\n",
      "    weight_decay: 0.0\n",
      ")\n",
      "[2020-04-21 15:26:29,096][INFO] emmental.learner:190 - Using lr_scheduler None with step every 1 batch.\n",
      "[2020-04-21 15:26:29,097][INFO] emmental.learner:539 - Start learning...\n"
     ]
    },
    {
     "data": {
      "application/vnd.jupyter.widget-view+json": {
       "model_id": "103b321e3d86402d82667f47f8b2e63b",
       "version_major": 2,
       "version_minor": 0
      },
      "text/plain": [
       "HBox(children=(FloatProgress(value=0.0, description='Epoch 0:', max=16.0, style=ProgressStyle(description_widt…"
      ]
     },
     "metadata": {},
     "output_type": "display_data"
    },
    {
     "name": "stderr",
     "output_type": "stream",
     "text": [
      "/dfs/scratch1/senwu/mmtl/test/fonduer/src/fonduer/learning/task.py:42: UserWarning: Implicit dimension choice for softmax has been deprecated. Change the call to include dim=X as an argument.\n",
      "  return F.softmax(intermediate_output_dict[module_name][0])\n",
      "/lfs/local/0/senwu/.venv_hack_tecs/lib/python3.6/site-packages/numpy/core/fromnumeric.py:3335: RuntimeWarning: Mean of empty slice.\n",
      "  out=out, **kwargs)\n",
      "/lfs/local/0/senwu/.venv_hack_tecs/lib/python3.6/site-packages/numpy/core/_methods.py:161: RuntimeWarning: invalid value encountered in double_scalars\n",
      "  ret = ret.dtype.type(ret / rcount)\n",
      "[2020-04-21 15:26:29,781][INFO] emmental.learner:392 - Epoch: 1.00 {'pob_presidents/pob_presidents/train/loss': 0.41926426558369323, 'model/all/train/loss': 0.41926426558369323, 'pob_presidents/pob_presidents/train/accuracy': 0.8187059577194107, 'pob_presidents/pob_presidents/train/precision': 0.8409090909090909, 'pob_presidents/pob_presidents/train/recall': 0.7931904161412359, 'pob_presidents/pob_presidents/train/f1': 0.8163530175210902, 'pob_presidents/pob_presidents/train/average': 0.8172896205727069, 'model/all/train/micro_average': 0.8172896205727069, 'model/all/train/macro_average': 0.8172896205727069, 'model/all/train/lr': 0.001, 'model/all/all/micro_average': nan, 'model/all/all/macro_average': nan, 'model/all/all/loss': nan}\n"
     ]
    },
    {
     "name": "stdout",
     "output_type": "stream",
     "text": [
      "\n"
     ]
    },
    {
     "data": {
      "application/vnd.jupyter.widget-view+json": {
       "model_id": "78706cd305d14018912b7ad6c5965eb8",
       "version_major": 2,
       "version_minor": 0
      },
      "text/plain": [
       "HBox(children=(FloatProgress(value=0.0, description='Epoch 1:', max=16.0, style=ProgressStyle(description_widt…"
      ]
     },
     "metadata": {},
     "output_type": "display_data"
    },
    {
     "name": "stderr",
     "output_type": "stream",
     "text": [
      "[2020-04-21 15:26:30,501][INFO] emmental.learner:392 - Epoch: 2.00 {'pob_presidents/pob_presidents/train/loss': 0.20826441640467463, 'model/all/train/loss': 0.20826441640467463, 'pob_presidents/pob_presidents/train/accuracy': 0.957078795643818, 'pob_presidents/pob_presidents/train/precision': 0.984, 'pob_presidents/pob_presidents/train/recall': 0.9306431273644389, 'pob_presidents/pob_presidents/train/f1': 0.9565780946208684, 'pob_presidents/pob_presidents/train/average': 0.9570750044072813, 'model/all/train/micro_average': 0.9570750044072813, 'model/all/train/macro_average': 0.9570750044072813, 'model/all/train/lr': 0.001, 'model/all/all/micro_average': nan, 'model/all/all/macro_average': nan, 'model/all/all/loss': nan}\n"
     ]
    },
    {
     "name": "stdout",
     "output_type": "stream",
     "text": [
      "\n"
     ]
    },
    {
     "data": {
      "application/vnd.jupyter.widget-view+json": {
       "model_id": "fb9378905f6c463ea247ce45ff56e3d3",
       "version_major": 2,
       "version_minor": 0
      },
      "text/plain": [
       "HBox(children=(FloatProgress(value=0.0, description='Epoch 2:', max=16.0, style=ProgressStyle(description_widt…"
      ]
     },
     "metadata": {},
     "output_type": "display_data"
    },
    {
     "name": "stderr",
     "output_type": "stream",
     "text": [
      "[2020-04-21 15:26:31,102][INFO] emmental.learner:392 - Epoch: 3.00 {'pob_presidents/pob_presidents/train/loss': 0.1582615865032922, 'model/all/train/loss': 0.1582615865032922, 'pob_presidents/pob_presidents/train/accuracy': 0.9788597053171044, 'pob_presidents/pob_presidents/train/precision': 0.9810126582278481, 'pob_presidents/pob_presidents/train/recall': 0.9773013871374527, 'pob_presidents/pob_presidents/train/f1': 0.9791535060012634, 'pob_presidents/pob_presidents/train/average': 0.9790818141709172, 'model/all/train/micro_average': 0.9790818141709172, 'model/all/train/macro_average': 0.9790818141709172, 'model/all/train/lr': 0.001, 'model/all/all/micro_average': nan, 'model/all/all/macro_average': nan, 'model/all/all/loss': nan}\n"
     ]
    },
    {
     "name": "stdout",
     "output_type": "stream",
     "text": [
      "\n"
     ]
    },
    {
     "data": {
      "application/vnd.jupyter.widget-view+json": {
       "model_id": "7901a3d28a37469595c70e896decea24",
       "version_major": 2,
       "version_minor": 0
      },
      "text/plain": [
       "HBox(children=(FloatProgress(value=0.0, description='Epoch 3:', max=16.0, style=ProgressStyle(description_widt…"
      ]
     },
     "metadata": {},
     "output_type": "display_data"
    },
    {
     "name": "stderr",
     "output_type": "stream",
     "text": [
      "[2020-04-21 15:26:31,702][INFO] emmental.learner:392 - Epoch: 4.00 {'pob_presidents/pob_presidents/train/loss': 0.1431487132768307, 'model/all/train/loss': 0.1431487132768307, 'pob_presidents/pob_presidents/train/accuracy': 0.9814221652786675, 'pob_presidents/pob_presidents/train/precision': 0.9847715736040609, 'pob_presidents/pob_presidents/train/recall': 0.978562421185372, 'pob_presidents/pob_presidents/train/f1': 0.9816571790006324, 'pob_presidents/pob_presidents/train/average': 0.9816033347671832, 'model/all/train/micro_average': 0.9816033347671832, 'model/all/train/macro_average': 0.9816033347671832, 'model/all/train/lr': 0.001, 'model/all/all/micro_average': nan, 'model/all/all/macro_average': nan, 'model/all/all/loss': nan}\n"
     ]
    },
    {
     "name": "stdout",
     "output_type": "stream",
     "text": [
      "\n"
     ]
    },
    {
     "data": {
      "application/vnd.jupyter.widget-view+json": {
       "model_id": "c9502026e7e44bcdb4c9750c15de1852",
       "version_major": 2,
       "version_minor": 0
      },
      "text/plain": [
       "HBox(children=(FloatProgress(value=0.0, description='Epoch 4:', max=16.0, style=ProgressStyle(description_widt…"
      ]
     },
     "metadata": {},
     "output_type": "display_data"
    },
    {
     "name": "stderr",
     "output_type": "stream",
     "text": [
      "[2020-04-21 15:26:32,436][INFO] emmental.learner:392 - Epoch: 5.00 {'pob_presidents/pob_presidents/train/loss': 0.1398938044638377, 'model/all/train/loss': 0.1398938044638377, 'pob_presidents/pob_presidents/train/accuracy': 0.9724535554131967, 'pob_presidents/pob_presidents/train/precision': 0.9722921914357683, 'pob_presidents/pob_presidents/train/recall': 0.9735182849936949, 'pob_presidents/pob_presidents/train/f1': 0.9729048519218652, 'pob_presidents/pob_presidents/train/average': 0.9727922209411313, 'model/all/train/micro_average': 0.9727922209411313, 'model/all/train/macro_average': 0.9727922209411313, 'model/all/train/lr': 0.001, 'model/all/all/micro_average': nan, 'model/all/all/macro_average': nan, 'model/all/all/loss': nan}\n"
     ]
    },
    {
     "name": "stdout",
     "output_type": "stream",
     "text": [
      "\n"
     ]
    },
    {
     "data": {
      "application/vnd.jupyter.widget-view+json": {
       "model_id": "8b1a2eecf81747e29a836c2cd1714881",
       "version_major": 2,
       "version_minor": 0
      },
      "text/plain": [
       "HBox(children=(FloatProgress(value=0.0, description='Epoch 5:', max=16.0, style=ProgressStyle(description_widt…"
      ]
     },
     "metadata": {},
     "output_type": "display_data"
    },
    {
     "name": "stderr",
     "output_type": "stream",
     "text": [
      "[2020-04-21 15:26:33,053][INFO] emmental.learner:392 - Epoch: 6.00 {'pob_presidents/pob_presidents/train/loss': 0.131754475137998, 'model/all/train/loss': 0.131754475137998, 'pob_presidents/pob_presidents/train/accuracy': 0.9807815502882767, 'pob_presidents/pob_presidents/train/precision': 0.9786700125470514, 'pob_presidents/pob_presidents/train/recall': 0.9836065573770492, 'pob_presidents/pob_presidents/train/f1': 0.9811320754716982, 'pob_presidents/pob_presidents/train/average': 0.981047548921019, 'model/all/train/micro_average': 0.981047548921019, 'model/all/train/macro_average': 0.981047548921019, 'model/all/train/lr': 0.001, 'model/all/all/micro_average': nan, 'model/all/all/macro_average': nan, 'model/all/all/loss': nan}\n"
     ]
    },
    {
     "name": "stdout",
     "output_type": "stream",
     "text": [
      "\n"
     ]
    },
    {
     "data": {
      "application/vnd.jupyter.widget-view+json": {
       "model_id": "8f46b8d8602344c19d8b7c5008e95f2c",
       "version_major": 2,
       "version_minor": 0
      },
      "text/plain": [
       "HBox(children=(FloatProgress(value=0.0, description='Epoch 6:', max=16.0, style=ProgressStyle(description_widt…"
      ]
     },
     "metadata": {},
     "output_type": "display_data"
    },
    {
     "name": "stderr",
     "output_type": "stream",
     "text": [
      "[2020-04-21 15:26:33,723][INFO] emmental.learner:392 - Epoch: 7.00 {'pob_presidents/pob_presidents/train/loss': 0.13266588256364445, 'model/all/train/loss': 0.13266588256364445, 'pob_presidents/pob_presidents/train/accuracy': 0.9769378603459321, 'pob_presidents/pob_presidents/train/precision': 0.9785082174462706, 'pob_presidents/pob_presidents/train/recall': 0.9760403530895334, 'pob_presidents/pob_presidents/train/f1': 0.9772727272727273, 'pob_presidents/pob_presidents/train/average': 0.9771897895386159, 'model/all/train/micro_average': 0.9771897895386159, 'model/all/train/macro_average': 0.9771897895386159, 'model/all/train/lr': 0.001, 'model/all/all/micro_average': nan, 'model/all/all/macro_average': nan, 'model/all/all/loss': nan}\n"
     ]
    },
    {
     "name": "stdout",
     "output_type": "stream",
     "text": [
      "\n"
     ]
    },
    {
     "data": {
      "application/vnd.jupyter.widget-view+json": {
       "model_id": "d13c911702314feebd02f7b3e81f58c3",
       "version_major": 2,
       "version_minor": 0
      },
      "text/plain": [
       "HBox(children=(FloatProgress(value=0.0, description='Epoch 7:', max=16.0, style=ProgressStyle(description_widt…"
      ]
     },
     "metadata": {},
     "output_type": "display_data"
    },
    {
     "name": "stderr",
     "output_type": "stream",
     "text": [
      "[2020-04-21 15:26:34,352][INFO] emmental.learner:392 - Epoch: 8.00 {'pob_presidents/pob_presidents/train/loss': 0.1292330452230861, 'model/all/train/loss': 0.1292330452230861, 'pob_presidents/pob_presidents/train/accuracy': 0.9801409352978859, 'pob_presidents/pob_presidents/train/precision': 0.9810606060606061, 'pob_presidents/pob_presidents/train/recall': 0.9798234552332913, 'pob_presidents/pob_presidents/train/f1': 0.9804416403785489, 'pob_presidents/pob_presidents/train/average': 0.980366659242583, 'model/all/train/micro_average': 0.980366659242583, 'model/all/train/macro_average': 0.980366659242583, 'model/all/train/lr': 0.001, 'model/all/all/micro_average': nan, 'model/all/all/macro_average': nan, 'model/all/all/loss': nan}\n"
     ]
    },
    {
     "name": "stdout",
     "output_type": "stream",
     "text": [
      "\n"
     ]
    },
    {
     "data": {
      "application/vnd.jupyter.widget-view+json": {
       "model_id": "fe4cc831701c43ba93846e14629530a7",
       "version_major": 2,
       "version_minor": 0
      },
      "text/plain": [
       "HBox(children=(FloatProgress(value=0.0, description='Epoch 8:', max=16.0, style=ProgressStyle(description_widt…"
      ]
     },
     "metadata": {},
     "output_type": "display_data"
    },
    {
     "name": "stderr",
     "output_type": "stream",
     "text": [
      "[2020-04-21 15:26:35,198][INFO] emmental.learner:392 - Epoch: 9.00 {'pob_presidents/pob_presidents/train/loss': 0.13059886346865282, 'model/all/train/loss': 0.13059886346865282, 'pob_presidents/pob_presidents/train/accuracy': 0.9788597053171044, 'pob_presidents/pob_presidents/train/precision': 0.9785894206549118, 'pob_presidents/pob_presidents/train/recall': 0.9798234552332913, 'pob_presidents/pob_presidents/train/f1': 0.9792060491493383, 'pob_presidents/pob_presidents/train/average': 0.9791196575886615, 'model/all/train/micro_average': 0.9791196575886615, 'model/all/train/macro_average': 0.9791196575886615, 'model/all/train/lr': 0.001, 'model/all/all/micro_average': nan, 'model/all/all/macro_average': nan, 'model/all/all/loss': nan}\n"
     ]
    },
    {
     "name": "stdout",
     "output_type": "stream",
     "text": [
      "\n"
     ]
    },
    {
     "data": {
      "application/vnd.jupyter.widget-view+json": {
       "model_id": "4c4956351f644052bb6e16bfa4f0c41b",
       "version_major": 2,
       "version_minor": 0
      },
      "text/plain": [
       "HBox(children=(FloatProgress(value=0.0, description='Epoch 9:', max=16.0, style=ProgressStyle(description_widt…"
      ]
     },
     "metadata": {},
     "output_type": "display_data"
    },
    {
     "name": "stderr",
     "output_type": "stream",
     "text": [
      "[2020-04-21 15:26:35,825][INFO] emmental.learner:392 - Epoch: 10.00 {'pob_presidents/pob_presidents/train/loss': 0.1274191699086818, 'model/all/train/loss': 0.1274191699086818, 'pob_presidents/pob_presidents/train/accuracy': 0.9801409352978859, 'pob_presidents/pob_presidents/train/precision': 0.9810606060606061, 'pob_presidents/pob_presidents/train/recall': 0.9798234552332913, 'pob_presidents/pob_presidents/train/f1': 0.9804416403785489, 'pob_presidents/pob_presidents/train/average': 0.980366659242583, 'model/all/train/micro_average': 0.980366659242583, 'model/all/train/macro_average': 0.980366659242583, 'model/all/train/lr': 0.001, 'model/all/all/micro_average': nan, 'model/all/all/macro_average': nan, 'model/all/all/loss': nan}\n"
     ]
    },
    {
     "name": "stdout",
     "output_type": "stream",
     "text": [
      "\n"
     ]
    },
    {
     "data": {
      "application/vnd.jupyter.widget-view+json": {
       "model_id": "548e9f9dee69423fbffb89cf45de53e5",
       "version_major": 2,
       "version_minor": 0
      },
      "text/plain": [
       "HBox(children=(FloatProgress(value=0.0, description='Epoch 10:', max=16.0, style=ProgressStyle(description_wid…"
      ]
     },
     "metadata": {},
     "output_type": "display_data"
    },
    {
     "name": "stderr",
     "output_type": "stream",
     "text": [
      "[2020-04-21 15:26:36,595][INFO] emmental.learner:392 - Epoch: 11.00 {'pob_presidents/pob_presidents/train/loss': 0.1253222955831116, 'model/all/train/loss': 0.1253222955831116, 'pob_presidents/pob_presidents/train/accuracy': 0.985906470211403, 'pob_presidents/pob_presidents/train/precision': 0.9849056603773585, 'pob_presidents/pob_presidents/train/recall': 0.987389659520807, 'pob_presidents/pob_presidents/train/f1': 0.9861460957178841, 'pob_presidents/pob_presidents/train/average': 0.9860869714568632, 'model/all/train/micro_average': 0.9860869714568632, 'model/all/train/macro_average': 0.9860869714568632, 'model/all/train/lr': 0.001, 'model/all/all/micro_average': nan, 'model/all/all/macro_average': nan, 'model/all/all/loss': nan}\n"
     ]
    },
    {
     "name": "stdout",
     "output_type": "stream",
     "text": [
      "\n"
     ]
    },
    {
     "data": {
      "application/vnd.jupyter.widget-view+json": {
       "model_id": "99ea9f9464714fa9b24bf3df1220a6df",
       "version_major": 2,
       "version_minor": 0
      },
      "text/plain": [
       "HBox(children=(FloatProgress(value=0.0, description='Epoch 11:', max=16.0, style=ProgressStyle(description_wid…"
      ]
     },
     "metadata": {},
     "output_type": "display_data"
    },
    {
     "name": "stderr",
     "output_type": "stream",
     "text": [
      "[2020-04-21 15:26:37,324][INFO] emmental.learner:392 - Epoch: 12.00 {'pob_presidents/pob_presidents/train/loss': 0.12405537659258203, 'model/all/train/loss': 0.12405537659258203, 'pob_presidents/pob_presidents/train/accuracy': 0.982703395259449, 'pob_presidents/pob_presidents/train/precision': 0.9860406091370558, 'pob_presidents/pob_presidents/train/recall': 0.9798234552332913, 'pob_presidents/pob_presidents/train/f1': 0.9829222011385199, 'pob_presidents/pob_presidents/train/average': 0.982872415192079, 'model/all/train/micro_average': 0.982872415192079, 'model/all/train/macro_average': 0.982872415192079, 'model/all/train/lr': 0.001, 'model/all/all/micro_average': nan, 'model/all/all/macro_average': nan, 'model/all/all/loss': nan}\n"
     ]
    },
    {
     "name": "stdout",
     "output_type": "stream",
     "text": [
      "\n"
     ]
    },
    {
     "data": {
      "application/vnd.jupyter.widget-view+json": {
       "model_id": "63e99cacecd3451a8f2f9736822512f9",
       "version_major": 2,
       "version_minor": 0
      },
      "text/plain": [
       "HBox(children=(FloatProgress(value=0.0, description='Epoch 12:', max=16.0, style=ProgressStyle(description_wid…"
      ]
     },
     "metadata": {},
     "output_type": "display_data"
    },
    {
     "name": "stderr",
     "output_type": "stream",
     "text": [
      "[2020-04-21 15:26:38,034][INFO] emmental.learner:392 - Epoch: 13.00 {'pob_presidents/pob_presidents/train/loss': 0.12811840306024838, 'model/all/train/loss': 0.12811840306024838, 'pob_presidents/pob_presidents/train/accuracy': 0.9846252402306214, 'pob_presidents/pob_presidents/train/precision': 0.9873257287705957, 'pob_presidents/pob_presidents/train/recall': 0.9823455233291298, 'pob_presidents/pob_presidents/train/f1': 0.9848293299620733, 'pob_presidents/pob_presidents/train/average': 0.984781455573105, 'model/all/train/micro_average': 0.984781455573105, 'model/all/train/macro_average': 0.984781455573105, 'model/all/train/lr': 0.001, 'model/all/all/micro_average': nan, 'model/all/all/macro_average': nan, 'model/all/all/loss': nan}\n"
     ]
    },
    {
     "name": "stdout",
     "output_type": "stream",
     "text": [
      "\n"
     ]
    },
    {
     "data": {
      "application/vnd.jupyter.widget-view+json": {
       "model_id": "32ae0b2acd54445387b9cf191292044a",
       "version_major": 2,
       "version_minor": 0
      },
      "text/plain": [
       "HBox(children=(FloatProgress(value=0.0, description='Epoch 13:', max=16.0, style=ProgressStyle(description_wid…"
      ]
     },
     "metadata": {},
     "output_type": "display_data"
    },
    {
     "name": "stderr",
     "output_type": "stream",
     "text": [
      "[2020-04-21 15:26:38,863][INFO] emmental.learner:392 - Epoch: 14.00 {'pob_presidents/pob_presidents/train/loss': 0.12409053343866668, 'model/all/train/loss': 0.12409053343866668, 'pob_presidents/pob_presidents/train/accuracy': 0.9878283151825753, 'pob_presidents/pob_presidents/train/precision': 0.9849624060150376, 'pob_presidents/pob_presidents/train/recall': 0.9911727616645649, 'pob_presidents/pob_presidents/train/f1': 0.9880578252671277, 'pob_presidents/pob_presidents/train/average': 0.9880053270323264, 'model/all/train/micro_average': 0.9880053270323264, 'model/all/train/macro_average': 0.9880053270323264, 'model/all/train/lr': 0.001, 'model/all/all/micro_average': nan, 'model/all/all/macro_average': nan, 'model/all/all/loss': nan}\n"
     ]
    },
    {
     "name": "stdout",
     "output_type": "stream",
     "text": [
      "\n"
     ]
    },
    {
     "data": {
      "application/vnd.jupyter.widget-view+json": {
       "model_id": "73770a3835924941a62aa31a5e4101a3",
       "version_major": 2,
       "version_minor": 0
      },
      "text/plain": [
       "HBox(children=(FloatProgress(value=0.0, description='Epoch 14:', max=16.0, style=ProgressStyle(description_wid…"
      ]
     },
     "metadata": {},
     "output_type": "display_data"
    },
    {
     "name": "stderr",
     "output_type": "stream",
     "text": [
      "[2020-04-21 15:26:39,520][INFO] emmental.learner:392 - Epoch: 15.00 {'pob_presidents/pob_presidents/train/loss': 0.12765676354957192, 'model/all/train/loss': 0.12765676354957192, 'pob_presidents/pob_presidents/train/accuracy': 0.988468930172966, 'pob_presidents/pob_presidents/train/precision': 0.9936305732484076, 'pob_presidents/pob_presidents/train/recall': 0.9836065573770492, 'pob_presidents/pob_presidents/train/f1': 0.9885931558935361, 'pob_presidents/pob_presidents/train/average': 0.9885748041729898, 'model/all/train/micro_average': 0.9885748041729898, 'model/all/train/macro_average': 0.9885748041729898, 'model/all/train/lr': 0.001, 'model/all/all/micro_average': nan, 'model/all/all/macro_average': nan, 'model/all/all/loss': nan}\n"
     ]
    },
    {
     "name": "stdout",
     "output_type": "stream",
     "text": [
      "\n"
     ]
    },
    {
     "data": {
      "application/vnd.jupyter.widget-view+json": {
       "model_id": "7003abddf224464fa8e0c7528d5532a2",
       "version_major": 2,
       "version_minor": 0
      },
      "text/plain": [
       "HBox(children=(FloatProgress(value=0.0, description='Epoch 15:', max=16.0, style=ProgressStyle(description_wid…"
      ]
     },
     "metadata": {},
     "output_type": "display_data"
    },
    {
     "name": "stderr",
     "output_type": "stream",
     "text": [
      "[2020-04-21 15:26:40,273][INFO] emmental.learner:392 - Epoch: 16.00 {'pob_presidents/pob_presidents/train/loss': 0.12591526323713453, 'model/all/train/loss': 0.12591526323713453, 'pob_presidents/pob_presidents/train/accuracy': 0.9846252402306214, 'pob_presidents/pob_presidents/train/precision': 0.9836477987421384, 'pob_presidents/pob_presidents/train/recall': 0.9861286254728878, 'pob_presidents/pob_presidents/train/f1': 0.9848866498740555, 'pob_presidents/pob_presidents/train/average': 0.9848220785799258, 'model/all/train/micro_average': 0.9848220785799258, 'model/all/train/macro_average': 0.9848220785799258, 'model/all/train/lr': 0.001, 'model/all/all/micro_average': nan, 'model/all/all/macro_average': nan, 'model/all/all/loss': nan}\n"
     ]
    },
    {
     "name": "stdout",
     "output_type": "stream",
     "text": [
      "\n"
     ]
    },
    {
     "data": {
      "application/vnd.jupyter.widget-view+json": {
       "model_id": "dc16bf91e5f44426aab91aa247252892",
       "version_major": 2,
       "version_minor": 0
      },
      "text/plain": [
       "HBox(children=(FloatProgress(value=0.0, description='Epoch 16:', max=16.0, style=ProgressStyle(description_wid…"
      ]
     },
     "metadata": {},
     "output_type": "display_data"
    },
    {
     "name": "stderr",
     "output_type": "stream",
     "text": [
      "[2020-04-21 15:26:40,953][INFO] emmental.learner:392 - Epoch: 17.00 {'pob_presidents/pob_presidents/train/loss': 0.12822565846359935, 'model/all/train/loss': 0.12822565846359935, 'pob_presidents/pob_presidents/train/accuracy': 0.9769378603459321, 'pob_presidents/pob_presidents/train/precision': 0.9761006289308176, 'pob_presidents/pob_presidents/train/recall': 0.978562421185372, 'pob_presidents/pob_presidents/train/f1': 0.9773299748110832, 'pob_presidents/pob_presidents/train/average': 0.9772327213183012, 'model/all/train/micro_average': 0.9772327213183012, 'model/all/train/macro_average': 0.9772327213183012, 'model/all/train/lr': 0.001, 'model/all/all/micro_average': nan, 'model/all/all/macro_average': nan, 'model/all/all/loss': nan}\n"
     ]
    },
    {
     "name": "stdout",
     "output_type": "stream",
     "text": [
      "\n"
     ]
    },
    {
     "data": {
      "application/vnd.jupyter.widget-view+json": {
       "model_id": "ab0dc3e680324210b595a7947a482ea6",
       "version_major": 2,
       "version_minor": 0
      },
      "text/plain": [
       "HBox(children=(FloatProgress(value=0.0, description='Epoch 17:', max=16.0, style=ProgressStyle(description_wid…"
      ]
     },
     "metadata": {},
     "output_type": "display_data"
    },
    {
     "name": "stderr",
     "output_type": "stream",
     "text": [
      "[2020-04-21 15:26:41,588][INFO] emmental.learner:392 - Epoch: 18.00 {'pob_presidents/pob_presidents/train/loss': 0.12196376284943568, 'model/all/train/loss': 0.12196376284943568, 'pob_presidents/pob_presidents/train/accuracy': 0.985906470211403, 'pob_presidents/pob_presidents/train/precision': 0.9885931558935361, 'pob_presidents/pob_presidents/train/recall': 0.9836065573770492, 'pob_presidents/pob_presidents/train/f1': 0.9860935524652339, 'pob_presidents/pob_presidents/train/average': 0.9860499339868056, 'model/all/train/micro_average': 0.9860499339868056, 'model/all/train/macro_average': 0.9860499339868056, 'model/all/train/lr': 0.001, 'model/all/all/micro_average': nan, 'model/all/all/macro_average': nan, 'model/all/all/loss': nan}\n"
     ]
    },
    {
     "name": "stdout",
     "output_type": "stream",
     "text": [
      "\n"
     ]
    },
    {
     "data": {
      "application/vnd.jupyter.widget-view+json": {
       "model_id": "19153f8887d646028b42f8192c5e2b81",
       "version_major": 2,
       "version_minor": 0
      },
      "text/plain": [
       "HBox(children=(FloatProgress(value=0.0, description='Epoch 18:', max=16.0, style=ProgressStyle(description_wid…"
      ]
     },
     "metadata": {},
     "output_type": "display_data"
    },
    {
     "name": "stderr",
     "output_type": "stream",
     "text": [
      "[2020-04-21 15:26:42,198][INFO] emmental.learner:392 - Epoch: 19.00 {'pob_presidents/pob_presidents/train/loss': 0.12450768542282097, 'model/all/train/loss': 0.12450768542282097, 'pob_presidents/pob_presidents/train/accuracy': 0.974375400384369, 'pob_presidents/pob_presidents/train/precision': 0.9820742637644047, 'pob_presidents/pob_presidents/train/recall': 0.9672131147540983, 'pob_presidents/pob_presidents/train/f1': 0.974587039390089, 'pob_presidents/pob_presidents/train/average': 0.9745624545732403, 'model/all/train/micro_average': 0.9745624545732403, 'model/all/train/macro_average': 0.9745624545732403, 'model/all/train/lr': 0.001, 'model/all/all/micro_average': nan, 'model/all/all/macro_average': nan, 'model/all/all/loss': nan}\n"
     ]
    },
    {
     "name": "stdout",
     "output_type": "stream",
     "text": [
      "\n"
     ]
    },
    {
     "data": {
      "application/vnd.jupyter.widget-view+json": {
       "model_id": "7f8119bf84b24045863f39de8d54d4cc",
       "version_major": 2,
       "version_minor": 0
      },
      "text/plain": [
       "HBox(children=(FloatProgress(value=0.0, description='Epoch 19:', max=16.0, style=ProgressStyle(description_wid…"
      ]
     },
     "metadata": {},
     "output_type": "display_data"
    },
    {
     "name": "stderr",
     "output_type": "stream",
     "text": [
      "[2020-04-21 15:26:42,890][INFO] emmental.learner:392 - Epoch: 20.00 {'pob_presidents/pob_presidents/train/loss': 0.12416211157216238, 'model/all/train/loss': 0.12416211157216238, 'pob_presidents/pob_presidents/train/accuracy': 0.9762972453555413, 'pob_presidents/pob_presidents/train/precision': 0.9821428571428571, 'pob_presidents/pob_presidents/train/recall': 0.9709962168978562, 'pob_presidents/pob_presidents/train/f1': 0.9765377298668356, 'pob_presidents/pob_presidents/train/average': 0.9764935123157725, 'model/all/train/micro_average': 0.9764935123157725, 'model/all/train/macro_average': 0.9764935123157725, 'model/all/train/lr': 0.001, 'model/all/all/micro_average': nan, 'model/all/all/macro_average': nan, 'model/all/all/loss': nan}\n"
     ]
    },
    {
     "name": "stdout",
     "output_type": "stream",
     "text": [
      "\n"
     ]
    },
    {
     "data": {
      "application/vnd.jupyter.widget-view+json": {
       "model_id": "109e8d051ea84b3b8a89dcb29fe956d4",
       "version_major": 2,
       "version_minor": 0
      },
      "text/plain": [
       "HBox(children=(FloatProgress(value=0.0, description='Epoch 20:', max=16.0, style=ProgressStyle(description_wid…"
      ]
     },
     "metadata": {},
     "output_type": "display_data"
    },
    {
     "name": "stderr",
     "output_type": "stream",
     "text": [
      "[2020-04-21 15:26:43,539][INFO] emmental.learner:392 - Epoch: 21.00 {'pob_presidents/pob_presidents/train/loss': 0.1304919686858124, 'model/all/train/loss': 0.1304919686858124, 'pob_presidents/pob_presidents/train/accuracy': 0.9782190903267136, 'pob_presidents/pob_presidents/train/precision': 0.9773584905660377, 'pob_presidents/pob_presidents/train/recall': 0.9798234552332913, 'pob_presidents/pob_presidents/train/f1': 0.978589420654912, 'pob_presidents/pob_presidents/train/average': 0.9784976141952386, 'model/all/train/micro_average': 0.9784976141952386, 'model/all/train/macro_average': 0.9784976141952386, 'model/all/train/lr': 0.001, 'model/all/all/micro_average': nan, 'model/all/all/macro_average': nan, 'model/all/all/loss': nan}\n"
     ]
    },
    {
     "name": "stdout",
     "output_type": "stream",
     "text": [
      "\n"
     ]
    },
    {
     "data": {
      "application/vnd.jupyter.widget-view+json": {
       "model_id": "87ae67cb63994d7096052a8d02af6976",
       "version_major": 2,
       "version_minor": 0
      },
      "text/plain": [
       "HBox(children=(FloatProgress(value=0.0, description='Epoch 21:', max=16.0, style=ProgressStyle(description_wid…"
      ]
     },
     "metadata": {},
     "output_type": "display_data"
    },
    {
     "name": "stderr",
     "output_type": "stream",
     "text": [
      "[2020-04-21 15:26:44,224][INFO] emmental.learner:392 - Epoch: 22.00 {'pob_presidents/pob_presidents/train/loss': 0.12763787978815008, 'model/all/train/loss': 0.12763787978815008, 'pob_presidents/pob_presidents/train/accuracy': 0.9814221652786675, 'pob_presidents/pob_presidents/train/precision': 0.9798994974874372, 'pob_presidents/pob_presidents/train/recall': 0.9836065573770492, 'pob_presidents/pob_presidents/train/f1': 0.9817495280050346, 'pob_presidents/pob_presidents/train/average': 0.9816694370370471, 'model/all/train/micro_average': 0.9816694370370471, 'model/all/train/macro_average': 0.9816694370370471, 'model/all/train/lr': 0.001, 'model/all/all/micro_average': nan, 'model/all/all/macro_average': nan, 'model/all/all/loss': nan}\n"
     ]
    },
    {
     "name": "stdout",
     "output_type": "stream",
     "text": [
      "\n"
     ]
    },
    {
     "data": {
      "application/vnd.jupyter.widget-view+json": {
       "model_id": "b17754d7ea484426935fcdd2f7313ee9",
       "version_major": 2,
       "version_minor": 0
      },
      "text/plain": [
       "HBox(children=(FloatProgress(value=0.0, description='Epoch 22:', max=16.0, style=ProgressStyle(description_wid…"
      ]
     },
     "metadata": {},
     "output_type": "display_data"
    },
    {
     "name": "stderr",
     "output_type": "stream",
     "text": [
      "[2020-04-21 15:26:44,931][INFO] emmental.learner:392 - Epoch: 23.00 {'pob_presidents/pob_presidents/train/loss': 0.12130675867228535, 'model/all/train/loss': 0.12130675867228535, 'pob_presidents/pob_presidents/train/accuracy': 0.9807815502882767, 'pob_presidents/pob_presidents/train/precision': 0.9823008849557522, 'pob_presidents/pob_presidents/train/recall': 0.9798234552332913, 'pob_presidents/pob_presidents/train/f1': 0.9810606060606061, 'pob_presidents/pob_presidents/train/average': 0.9809916241344815, 'model/all/train/micro_average': 0.9809916241344815, 'model/all/train/macro_average': 0.9809916241344815, 'model/all/train/lr': 0.001, 'model/all/all/micro_average': nan, 'model/all/all/macro_average': nan, 'model/all/all/loss': nan}\n"
     ]
    },
    {
     "name": "stdout",
     "output_type": "stream",
     "text": [
      "\n"
     ]
    },
    {
     "data": {
      "application/vnd.jupyter.widget-view+json": {
       "model_id": "6c4cf2603e7d492083f6a8960e9c7cfc",
       "version_major": 2,
       "version_minor": 0
      },
      "text/plain": [
       "HBox(children=(FloatProgress(value=0.0, description='Epoch 23:', max=16.0, style=ProgressStyle(description_wid…"
      ]
     },
     "metadata": {},
     "output_type": "display_data"
    },
    {
     "name": "stderr",
     "output_type": "stream",
     "text": [
      "[2020-04-21 15:26:45,587][INFO] emmental.learner:392 - Epoch: 24.00 {'pob_presidents/pob_presidents/train/loss': 0.12137356268756287, 'model/all/train/loss': 0.12137356268756287, 'pob_presidents/pob_presidents/train/accuracy': 0.9795003203074952, 'pob_presidents/pob_presidents/train/precision': 0.982256020278834, 'pob_presidents/pob_presidents/train/recall': 0.9773013871374527, 'pob_presidents/pob_presidents/train/f1': 0.9797724399494311, 'pob_presidents/pob_presidents/train/average': 0.9797075419183032, 'model/all/train/micro_average': 0.9797075419183032, 'model/all/train/macro_average': 0.9797075419183032, 'model/all/train/lr': 0.001, 'model/all/all/micro_average': nan, 'model/all/all/macro_average': nan, 'model/all/all/loss': nan}\n"
     ]
    },
    {
     "name": "stdout",
     "output_type": "stream",
     "text": [
      "\n"
     ]
    },
    {
     "data": {
      "application/vnd.jupyter.widget-view+json": {
       "model_id": "e159133165f64258bf51c44eeb3210dd",
       "version_major": 2,
       "version_minor": 0
      },
      "text/plain": [
       "HBox(children=(FloatProgress(value=0.0, description='Epoch 24:', max=16.0, style=ProgressStyle(description_wid…"
      ]
     },
     "metadata": {},
     "output_type": "display_data"
    },
    {
     "name": "stderr",
     "output_type": "stream",
     "text": [
      "[2020-04-21 15:26:46,260][INFO] emmental.learner:392 - Epoch: 25.00 {'pob_presidents/pob_presidents/train/loss': 0.12315360180351079, 'model/all/train/loss': 0.12315360180351079, 'pob_presidents/pob_presidents/train/accuracy': 0.9801409352978859, 'pob_presidents/pob_presidents/train/precision': 0.9810606060606061, 'pob_presidents/pob_presidents/train/recall': 0.9798234552332913, 'pob_presidents/pob_presidents/train/f1': 0.9804416403785489, 'pob_presidents/pob_presidents/train/average': 0.980366659242583, 'model/all/train/micro_average': 0.980366659242583, 'model/all/train/macro_average': 0.980366659242583, 'model/all/train/lr': 0.001, 'model/all/all/micro_average': nan, 'model/all/all/macro_average': nan, 'model/all/all/loss': nan}\n"
     ]
    },
    {
     "name": "stdout",
     "output_type": "stream",
     "text": [
      "\n"
     ]
    },
    {
     "data": {
      "application/vnd.jupyter.widget-view+json": {
       "model_id": "89598783f601469195b7761f30fa4342",
       "version_major": 2,
       "version_minor": 0
      },
      "text/plain": [
       "HBox(children=(FloatProgress(value=0.0, description='Epoch 25:', max=16.0, style=ProgressStyle(description_wid…"
      ]
     },
     "metadata": {},
     "output_type": "display_data"
    },
    {
     "name": "stderr",
     "output_type": "stream",
     "text": [
      "[2020-04-21 15:26:46,931][INFO] emmental.learner:392 - Epoch: 26.00 {'pob_presidents/pob_presidents/train/loss': 0.12399278259445352, 'model/all/train/loss': 0.12399278259445352, 'pob_presidents/pob_presidents/train/accuracy': 0.9795003203074952, 'pob_presidents/pob_presidents/train/precision': 0.982256020278834, 'pob_presidents/pob_presidents/train/recall': 0.9773013871374527, 'pob_presidents/pob_presidents/train/f1': 0.9797724399494311, 'pob_presidents/pob_presidents/train/average': 0.9797075419183032, 'model/all/train/micro_average': 0.9797075419183032, 'model/all/train/macro_average': 0.9797075419183032, 'model/all/train/lr': 0.001, 'model/all/all/micro_average': nan, 'model/all/all/macro_average': nan, 'model/all/all/loss': nan}\n"
     ]
    },
    {
     "name": "stdout",
     "output_type": "stream",
     "text": [
      "\n"
     ]
    },
    {
     "data": {
      "application/vnd.jupyter.widget-view+json": {
       "model_id": "5f7be94b1175414abd3be979951350f2",
       "version_major": 2,
       "version_minor": 0
      },
      "text/plain": [
       "HBox(children=(FloatProgress(value=0.0, description='Epoch 26:', max=16.0, style=ProgressStyle(description_wid…"
      ]
     },
     "metadata": {},
     "output_type": "display_data"
    },
    {
     "name": "stderr",
     "output_type": "stream",
     "text": [
      "[2020-04-21 15:26:47,582][INFO] emmental.learner:392 - Epoch: 27.00 {'pob_presidents/pob_presidents/train/loss': 0.12241180881638317, 'model/all/train/loss': 0.12241180881638317, 'pob_presidents/pob_presidents/train/accuracy': 0.9788597053171044, 'pob_presidents/pob_presidents/train/precision': 0.9797979797979798, 'pob_presidents/pob_presidents/train/recall': 0.978562421185372, 'pob_presidents/pob_presidents/train/f1': 0.979179810725552, 'pob_presidents/pob_presidents/train/average': 0.979099979256502, 'model/all/train/micro_average': 0.979099979256502, 'model/all/train/macro_average': 0.979099979256502, 'model/all/train/lr': 0.001, 'model/all/all/micro_average': nan, 'model/all/all/macro_average': nan, 'model/all/all/loss': nan}\n"
     ]
    },
    {
     "name": "stdout",
     "output_type": "stream",
     "text": [
      "\n"
     ]
    },
    {
     "data": {
      "application/vnd.jupyter.widget-view+json": {
       "model_id": "f4f11c65cdb54d00b80b74e87e4e356c",
       "version_major": 2,
       "version_minor": 0
      },
      "text/plain": [
       "HBox(children=(FloatProgress(value=0.0, description='Epoch 27:', max=16.0, style=ProgressStyle(description_wid…"
      ]
     },
     "metadata": {},
     "output_type": "display_data"
    },
    {
     "name": "stderr",
     "output_type": "stream",
     "text": [
      "[2020-04-21 15:26:48,234][INFO] emmental.learner:392 - Epoch: 28.00 {'pob_presidents/pob_presidents/train/loss': 0.121535575457638, 'model/all/train/loss': 0.121535575457638, 'pob_presidents/pob_presidents/train/accuracy': 0.9833440102498399, 'pob_presidents/pob_presidents/train/precision': 0.9836065573770492, 'pob_presidents/pob_presidents/train/recall': 0.9836065573770492, 'pob_presidents/pob_presidents/train/f1': 0.9836065573770492, 'pob_presidents/pob_presidents/train/average': 0.9835409205952468, 'model/all/train/micro_average': 0.9835409205952468, 'model/all/train/macro_average': 0.9835409205952468, 'model/all/train/lr': 0.001, 'model/all/all/micro_average': nan, 'model/all/all/macro_average': nan, 'model/all/all/loss': nan}\n"
     ]
    },
    {
     "name": "stdout",
     "output_type": "stream",
     "text": [
      "\n"
     ]
    },
    {
     "data": {
      "application/vnd.jupyter.widget-view+json": {
       "model_id": "30e95c17e66242d2b92d67ad67e6d234",
       "version_major": 2,
       "version_minor": 0
      },
      "text/plain": [
       "HBox(children=(FloatProgress(value=0.0, description='Epoch 28:', max=16.0, style=ProgressStyle(description_wid…"
      ]
     },
     "metadata": {},
     "output_type": "display_data"
    },
    {
     "name": "stderr",
     "output_type": "stream",
     "text": [
      "[2020-04-21 15:26:48,905][INFO] emmental.learner:392 - Epoch: 29.00 {'pob_presidents/pob_presidents/train/loss': 0.1217020080495843, 'model/all/train/loss': 0.1217020080495843, 'pob_presidents/pob_presidents/train/accuracy': 0.9820627802690582, 'pob_presidents/pob_presidents/train/precision': 0.9835651074589128, 'pob_presidents/pob_presidents/train/recall': 0.9810844892812106, 'pob_presidents/pob_presidents/train/f1': 0.9823232323232324, 'pob_presidents/pob_presidents/train/average': 0.9822589023331035, 'model/all/train/micro_average': 0.9822589023331035, 'model/all/train/macro_average': 0.9822589023331035, 'model/all/train/lr': 0.001, 'model/all/all/micro_average': nan, 'model/all/all/macro_average': nan, 'model/all/all/loss': nan}\n"
     ]
    },
    {
     "name": "stdout",
     "output_type": "stream",
     "text": [
      "\n"
     ]
    },
    {
     "data": {
      "application/vnd.jupyter.widget-view+json": {
       "model_id": "4d181d463d834a7a9a81ffb00ea73920",
       "version_major": 2,
       "version_minor": 0
      },
      "text/plain": [
       "HBox(children=(FloatProgress(value=0.0, description='Epoch 29:', max=16.0, style=ProgressStyle(description_wid…"
      ]
     },
     "metadata": {},
     "output_type": "display_data"
    },
    {
     "name": "stderr",
     "output_type": "stream",
     "text": [
      "[2020-04-21 15:26:49,601][INFO] emmental.learner:392 - Epoch: 30.00 {'pob_presidents/pob_presidents/train/loss': 0.11954563475720474, 'model/all/train/loss': 0.11954563475720474, 'pob_presidents/pob_presidents/train/accuracy': 0.9820627802690582, 'pob_presidents/pob_presidents/train/precision': 0.9823455233291298, 'pob_presidents/pob_presidents/train/recall': 0.9823455233291298, 'pob_presidents/pob_presidents/train/f1': 0.9823455233291298, 'pob_presidents/pob_presidents/train/average': 0.9822748375641119, 'model/all/train/micro_average': 0.9822748375641119, 'model/all/train/macro_average': 0.9822748375641119, 'model/all/train/lr': 0.001, 'model/all/all/micro_average': nan, 'model/all/all/macro_average': nan, 'model/all/all/loss': nan}\n"
     ]
    },
    {
     "name": "stdout",
     "output_type": "stream",
     "text": [
      "\n"
     ]
    }
   ],
   "source": [
    "# Creaet task and model, and perform training\n",
    "from emmental.model import EmmentalModel\n",
    "from fonduer.learning.task import create_task\n",
    "from emmental.learner import EmmentalLearner\n",
    "\n",
    "tasks = create_task(\n",
    "    ATTRIBUTE, 2, F_train[0].shape[1], 2, emb_layer, model=\"LogisticRegression\"\n",
    ")\n",
    "\n",
    "model = EmmentalModel(name=f\"{ATTRIBUTE}_task\")\n",
    "\n",
    "for task in tasks:\n",
    "    model.add_task(task)\n",
    "\n",
    "emmental_learner = EmmentalLearner()\n",
    "emmental_learner.learn(model, [train_dataloader])"
   ]
  },
  {
   "cell_type": "markdown",
   "metadata": {},
   "source": [
    "### Evaluating on the Test Set\n",
    "In this final section, we'll get the score we've been after: the performance of the extraction model on the blind test set (split 2). First, we load the test set labels and gold candidates from earlier:"
   ]
  },
  {
   "cell_type": "code",
   "execution_count": 45,
   "metadata": {},
   "outputs": [],
   "source": [
    "import numpy as np\n",
    "from wiki_table_utils import entity_level_f1"
   ]
  },
  {
   "cell_type": "markdown",
   "metadata": {
    "scrolled": true
   },
   "source": [
    "Now, we score using the discriminitive model:"
   ]
  },
  {
   "cell_type": "code",
   "execution_count": 46,
   "metadata": {},
   "outputs": [],
   "source": [
    "# Generate dataloader for test data\n",
    "test_dataloader = EmmentalDataLoader(\n",
    "    task_to_label_dict={ATTRIBUTE: \"labels\"},\n",
    "    dataset=FonduerDataset(\n",
    "        ATTRIBUTE, test_cands[0], F_test[0], emb_layer.word2id, 2\n",
    "    ),\n",
    "    split=\"test\",\n",
    "    batch_size=100,\n",
    "    shuffle=False,\n",
    ")"
   ]
  },
  {
   "cell_type": "code",
   "execution_count": 47,
   "metadata": {},
   "outputs": [
    {
     "name": "stdout",
     "output_type": "stream",
     "text": [
      "Preparing candidates...\n"
     ]
    },
    {
     "data": {
      "application/vnd.jupyter.widget-view+json": {
       "model_id": "178aaf7b52b34e8ea7a981a4a5528135",
       "version_major": 2,
       "version_minor": 0
      },
      "text/plain": [
       "HBox(children=(FloatProgress(value=0.0, max=165.0), HTML(value='')))"
      ]
     },
     "metadata": {},
     "output_type": "display_data"
    },
    {
     "name": "stdout",
     "output_type": "stream",
     "text": [
      "\n",
      "========================================\n",
      "Scoring on Entity-Level Gold Data\n",
      "========================================\n",
      "Corpus Precision 0.917\n",
      "Corpus Recall    1.0\n",
      "Corpus F1        0.957\n",
      "----------------------------------------\n",
      "TP: 11 | FP: 1 | FN: 0\n",
      "========================================\n",
      "\n",
      "CPU times: user 48 ms, sys: 12 ms, total: 60 ms\n",
      "Wall time: 71.1 ms\n"
     ]
    }
   ],
   "source": [
    "gold_file = \"data/president_tutorial_gold.csv\"\n",
    "\n",
    "test_preds = model.predict(test_dataloader, return_preds=True)\n",
    "positive = np.where(np.array(test_preds[\"probs\"][ATTRIBUTE])[:, TRUE] > 0.6)\n",
    "true_pred = [test_cands[0][_] for _ in positive[0]]\n",
    "%time (TP, FP, FN) = entity_level_f1(true_pred, gold_file, test_docs)"
   ]
  }
 ],
 "metadata": {
  "anaconda-cloud": {},
  "kernelspec": {
   "display_name": "Python 3",
   "language": "python",
   "name": "python3"
  },
  "language_info": {
   "codemirror_mode": {
    "name": "ipython",
    "version": 3
   },
   "file_extension": ".py",
   "mimetype": "text/x-python",
   "name": "python",
   "nbconvert_exporter": "python",
   "pygments_lexer": "ipython3",
   "version": "3.6.5"
  }
 },
 "nbformat": 4,
 "nbformat_minor": 1
}
