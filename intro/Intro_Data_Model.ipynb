{
 "cells": [
  {
   "cell_type": "markdown",
   "metadata": {},
   "source": [
    "<img align=\"left\" src=\"imgs/fonduer-logo.png\" width=\"100px\" style=\"margin-right:20px\">\n",
    "\n",
    "# Tutorial: Navigating the Fonduer Data Model"
   ]
  },
  {
   "cell_type": "markdown",
   "metadata": {},
   "source": [
    "## Running locally?\n",
    "\n",
    "If you're running this tutorial interactively on your own machine, you'll need to create a new PostgreSQL database named `intro_data_model`.\n",
    "\n",
    "If you have already the database `intro_data_model` in your postgresql, please uncomment the first line to drop it. Otherwise, download our database snapshots by executing `./download_data.sh` in the intro tutorial directory."
   ]
  },
  {
   "cell_type": "code",
   "execution_count": 1,
   "metadata": {},
   "outputs": [],
   "source": [
    "#! dropdb --if-exists intro_data_model\n",
    "! createdb intro_data_model\n",
    "! psql intro_data_model < data/intro_data_model.sql > /dev/null"
   ]
  },
  {
   "cell_type": "markdown",
   "metadata": {},
   "source": [
    "# The Fonduer Data Model API\n",
    "_Complete Fonduer API documentation is available on [Read the Docs](https://fonduer.readthedocs.io)_\n",
    "\n",
    "## The Fonduer Data Model\n",
    "The Fonduer Data Model serves two high-level purposes. First, it allows Fonduer to capture the immense data variety of richly formatted data in a unified representation. Second, it allows users to provide multimodal supervision that leverages document-level context. Nearly everything in the Fonduer pipeline uses information stored in the Fonduer Data Model. The Fonduer Data Model is heirarchical, as shown below.\n",
    "\n",
    "<img src=\"imgs/dag.png\" width=\"250px\">\n",
    "\n",
    "Each box represents a `Context` object, which are units that a document can be broken down into. For example, a `Sentence` can be part of a `Paragraph` in a `Cell` in a `Table`. The default `Context` objects provided by Fonduer are shown above.\n",
    "\n",
    "To explore the data model, we first load the Fonduer `Meta` class, which creates a connection with our PostgreSQL database."
   ]
  },
  {
   "cell_type": "code",
   "execution_count": 2,
   "metadata": {},
   "outputs": [
    {
     "name": "stdout",
     "output_type": "stream",
     "text": [
      "[INFO] fonduer.meta - Connecting user:None to localhost:5432/intro_data_model\n",
      "[INFO] fonduer.meta - Initializing the storage schema\n",
      "Num Docs: 10\n",
      "Num Sentences: 5548\n",
      "Num Tables: 93\n",
      "Num Figures: 229\n"
     ]
    }
   ],
   "source": [
    "%load_ext autoreload\n",
    "%autoreload 2\n",
    "%matplotlib inline\n",
    "import os\n",
    "import sys\n",
    "import logging\n",
    "from pprint import pprint\n",
    "\n",
    "from fonduer.parser.models import Document, Sentence, Table, Figure\n",
    "from fonduer import Meta\n",
    "\n",
    "# Configure logging for Fonduer\n",
    "logging.basicConfig(stream=sys.stdout, format='[%(levelname)s] %(name)s - %(message)s')\n",
    "log = logging.getLogger('fonduer')\n",
    "log.setLevel(logging.INFO)\n",
    "\n",
    "ATTRIBUTE = \"intro_data_model\"\n",
    "conn_string = 'postgresql://localhost:5432/' + ATTRIBUTE\n",
    "\n",
    "session = Meta.init(conn_string).Session()\n",
    "\n",
    "# Print metadata about the tutorial corpus\n",
    "print(\"Num Docs: {}\".format(session.query(Document).count()))\n",
    "print(\"Num Sentences: {}\".format(session.query(Sentence).count()))\n",
    "print(\"Num Tables: {}\".format(session.query(Table).count()))\n",
    "print(\"Num Figures: {}\".format(session.query(Figure).count()))"
   ]
  },
  {
   "cell_type": "markdown",
   "metadata": {},
   "source": [
    "### Parsing Documents into the Data Model\n",
    "\n",
    "The process of parsing input documents containing richly formatted data into Fonduer's data model typically consists of two steps. First, documents can be run through a [Preprocessor](http://fonduer.readthedocs.io/en/latest/user/preprocessors.html), and then fed through the Fonduer Parser to turn the input documents into the directed acyclic graph shown above. For more information about parsing documents, please check out our [end-to-end tutorials](../hardware/max_storage_temp_tutorial.ipynb). The rest of this tutorial assumes that your documents have already been parsed, and instead focuses on the data model itself.\n",
    "\n",
    "\n",
    "### Navigating the Data Model\n",
    "\n",
    "With the `session` object, you can make queries for any of `Context` objects in the data model using the [SQLAlchemy Query API](http://docs.sqlalchemy.org/en/latest/orm/query.html). For example, if we wanted to get a list of all of the Documents in the database, we can issue the following query, which gets all of the Documents ordered by name."
   ]
  },
  {
   "cell_type": "code",
   "execution_count": 3,
   "metadata": {},
   "outputs": [
    {
     "name": "stdout",
     "output_type": "stream",
     "text": [
      "[Document 112823,\n",
      " Document 2N3906,\n",
      " Document 2N3906-D,\n",
      " Document 2N4123-D,\n",
      " Document 2N4124,\n",
      " Document 2N6426-D,\n",
      " Document 2N6427,\n",
      " Document AUKCS04635-1,\n",
      " Document BC182,\n",
      " Document BC182-D]\n"
     ]
    }
   ],
   "source": [
    "docs = session.query(Document).order_by(Document.name).all()\n",
    "\n",
    "pprint(docs)"
   ]
  },
  {
   "cell_type": "markdown",
   "metadata": {},
   "source": [
    "Similarly, if we wanted to inspect all of the Sentences parsed, we could issue the following query."
   ]
  },
  {
   "cell_type": "code",
   "execution_count": 4,
   "metadata": {},
   "outputs": [
    {
     "name": "stdout",
     "output_type": "stream",
     "text": [
      "[Sentence (Doc: '112823', Sec: 0, Par: 0, Idx: 0, Text: 'BC546'),\n",
      " Sentence (Doc: 'BC182', Sec: 0, Par: 0, Idx: 0, Text: 'BC182 NPN General Purpose Amplifier'),\n",
      " Sentence (Doc: '2N4123-D', Sec: 0, Par: 0, Idx: 0, Text: '2n4123.rev4'),\n",
      " Sentence (Doc: '2N3906', Sec: 0, Par: 0, Idx: 0, Text: '2N3906 MMBT3906 PZT3906 - PNP General-Purpose Amplifier'),\n",
      " Sentence (Doc: '2N3906-D', Sec: 0, Par: 0, Idx: 0, Text: '2N3906 - General Purpose Transistors, PNP Silicon')]\n"
     ]
    }
   ],
   "source": [
    "sentences = session.query(Sentence).order_by(Sentence.position).all()\n",
    "pprint(sentences[:5])"
   ]
  },
  {
   "cell_type": "markdown",
   "metadata": {},
   "source": [
    "In addition to simply querying for specific `Context` objects in the database, we can also navigate the data model heirarchy from each `Context` object. The core `Context` objects are described on [Read the Docs](https://fonduer.readthedocs.io/en/stable/user/data_model.html). Let's see some examples.\n",
    "\n",
    "#### Ex. 1: Getting a Sentence's Document"
   ]
  },
  {
   "cell_type": "code",
   "execution_count": 5,
   "metadata": {},
   "outputs": [
    {
     "name": "stdout",
     "output_type": "stream",
     "text": [
      "Document 112823\n"
     ]
    }
   ],
   "source": [
    "bc182 = sentences[0].document\n",
    "print(bc182)"
   ]
  },
  {
   "cell_type": "markdown",
   "metadata": {},
   "source": [
    "#### Ex. 2: Iterate over all a Document's Sentences"
   ]
  },
  {
   "cell_type": "code",
   "execution_count": 6,
   "metadata": {},
   "outputs": [
    {
     "name": "stdout",
     "output_type": "stream",
     "text": [
      "[Sentence (Doc: '112823', Sec: 0, Par: 0, Idx: 0, Text: 'BC546'),\n",
      " Sentence (Doc: '112823', Sec: 0, Par: 1, Idx: 1, Text: 'BC546B, BC547A, B, C, BC548B, C'),\n",
      " Sentence (Doc: '112823', Sec: 0, Par: 2, Idx: 2, Text: 'Amplifier Transistors'),\n",
      " Sentence (Doc: '112823', Sec: 0, Par: 3, Idx: 3, Text: 'NPN Silicon'),\n",
      " Sentence (Doc: '112823', Sec: 0, Par: 4, Idx: 4, Text: 'Features'),\n",
      " Sentence (Doc: '112823', Sec: 0, Par: 5, Idx: 5, Text: 'Pb-Free Packages are Available*'),\n",
      " Sentence (Doc: '112823', Sec: 0, Par: 6, Idx: 6, Text: 'http://onsemi.com'),\n",
      " Sentence (Doc: '112823', Sec: 0, Par: 7, Idx: 7, Text: 'MAXIMUM RATINGS'),\n",
      " Sentence (Doc: '112823', Sec: 0, Par: 8, Idx: 8, Text: '2'),\n",
      " Sentence (Doc: '112823', Sec: 0, Par: 9, Idx: 9, Text: 'BASE')]\n"
     ]
    }
   ],
   "source": [
    "pprint([sentence for sentence in bc182.sentences][:10])"
   ]
  },
  {
   "cell_type": "markdown",
   "metadata": {},
   "source": [
    "#### Ex. 3: Find the first Sentence in the first Table in the Document"
   ]
  },
  {
   "cell_type": "code",
   "execution_count": 7,
   "metadata": {},
   "outputs": [
    {
     "name": "stdout",
     "output_type": "stream",
     "text": [
      "Sentence (Doc: '112823', Table: 0, Row: 0, Col: 0, Index: 11, Text: 'Rating')\n"
     ]
    }
   ],
   "source": [
    "print(bc182.tables[0].sentences[0])"
   ]
  },
  {
   "cell_type": "markdown",
   "metadata": {},
   "source": [
    "#### Ex. 4: Inspect the html attributes of a Sentence"
   ]
  },
  {
   "cell_type": "code",
   "execution_count": 8,
   "metadata": {},
   "outputs": [
    {
     "name": "stdout",
     "output_type": "stream",
     "text": [
      "['class=s4',\n",
      " 'style=padding-top: 2pt;text-indent: 0pt;text-align: center; color: black; '\n",
      " 'font-family:Arial, sans-serif; font-style: normal; font-weight: bold; '\n",
      " 'text-decoration: none; font-size: 8pt; ']\n"
     ]
    }
   ],
   "source": [
    "pprint(bc182.tables[0].sentences[0].html_attrs)"
   ]
  },
  {
   "cell_type": "markdown",
   "metadata": {},
   "source": [
    "#### Ex. 5: Listing the attributes of a Context Object\n",
    "\n",
    "If you forget the API and want to inspect the attributes of a particular Context object, you can just call dir() for a full list if you're working interactively. Otherwise, we'd recommend referring to [Read the Docs](https://fonduer.readthedocs.io/en/stable/user/data_model.html).\n"
   ]
  },
  {
   "cell_type": "code",
   "execution_count": 9,
   "metadata": {},
   "outputs": [
    {
     "data": {
      "text/plain": [
       "['__class__',\n",
       " '__delattr__',\n",
       " '__dict__',\n",
       " '__dir__',\n",
       " '__doc__',\n",
       " '__eq__',\n",
       " '__format__',\n",
       " '__ge__',\n",
       " '__getattribute__',\n",
       " '__gt__',\n",
       " '__hash__',\n",
       " '__init__',\n",
       " '__init_subclass__',\n",
       " '__le__',\n",
       " '__lt__',\n",
       " '__mapper__',\n",
       " '__mapper_args__',\n",
       " '__module__',\n",
       " '__ne__',\n",
       " '__new__',\n",
       " '__reduce__',\n",
       " '__reduce_ex__',\n",
       " '__repr__',\n",
       " '__setattr__',\n",
       " '__sizeof__',\n",
       " '__str__',\n",
       " '__subclasshook__',\n",
       " '__table__',\n",
       " '__table_args__',\n",
       " '__tablename__',\n",
       " '__weakref__',\n",
       " '_asdict',\n",
       " '_decl_class_registry',\n",
       " '_sa_class_manager',\n",
       " '_sa_instance_state',\n",
       " 'abs_char_offsets',\n",
       " 'bottom',\n",
       " 'cell',\n",
       " 'cell_id',\n",
       " 'char_offsets',\n",
       " 'col_end',\n",
       " 'col_start',\n",
       " 'dep_labels',\n",
       " 'dep_parents',\n",
       " 'document',\n",
       " 'document_id',\n",
       " 'html_attrs',\n",
       " 'html_tag',\n",
       " 'id',\n",
       " 'implicit_spans',\n",
       " 'is_cellular',\n",
       " 'is_lingual',\n",
       " 'is_structural',\n",
       " 'is_tabular',\n",
       " 'is_visual',\n",
       " 'left',\n",
       " 'lemmas',\n",
       " 'metadata',\n",
       " 'ner_tags',\n",
       " 'page',\n",
       " 'paragraph',\n",
       " 'paragraph_id',\n",
       " 'pos_tags',\n",
       " 'position',\n",
       " 'right',\n",
       " 'row_end',\n",
       " 'row_start',\n",
       " 'section',\n",
       " 'section_id',\n",
       " 'spans',\n",
       " 'stable_id',\n",
       " 'table',\n",
       " 'table_id',\n",
       " 'text',\n",
       " 'top',\n",
       " 'type',\n",
       " 'words',\n",
       " 'xpath']"
      ]
     },
     "execution_count": 9,
     "metadata": {},
     "output_type": "execute_result"
    }
   ],
   "source": [
    "dir(bc182.tables[0].sentences[0])"
   ]
  },
  {
   "cell_type": "markdown",
   "metadata": {},
   "source": [
    "#### Ex. 6: Inspect the Cell containing a particular Sentence"
   ]
  },
  {
   "cell_type": "code",
   "execution_count": 10,
   "metadata": {},
   "outputs": [
    {
     "name": "stdout",
     "output_type": "stream",
     "text": [
      "Cell(Doc: 112823, Table: 0, Row: (0,), Col: (0,), Pos: 0)\n"
     ]
    }
   ],
   "source": [
    "print(bc182.tables[0].sentences[0].cell)"
   ]
  },
  {
   "cell_type": "markdown",
   "metadata": {},
   "source": [
    "#### Ex. 7: Iterate over all the Cells in a particular row\n",
    "\n",
    "Note that Cells in a Table can span rows or columns. Thus, each Cell's row and column is indicated with `(row_start, row_end)` and `(col_start, col_end)`."
   ]
  },
  {
   "cell_type": "code",
   "execution_count": 11,
   "metadata": {},
   "outputs": [
    {
     "name": "stdout",
     "output_type": "stream",
     "text": [
      "[Cell(Doc: 112823, Table: 0, Row: (1,), Col: (0,), Pos: 4),\n",
      " Cell(Doc: 112823, Table: 0, Row: (1, 3), Col: (1,), Pos: 5),\n",
      " Cell(Doc: 112823, Table: 0, Row: (1,), Col: (2,), Pos: 6),\n",
      " Cell(Doc: 112823, Table: 0, Row: (1, 3), Col: (3,), Pos: 7)]\n"
     ]
    }
   ],
   "source": [
    "table = bc182.tables[0].sentences[0].cell.table\n",
    "pprint([cell for cell in table.cells if cell.row_start == 1])"
   ]
  },
  {
   "cell_type": "markdown",
   "metadata": {},
   "source": [
    "## Summary\n",
    "The Fonduer Data Model is a heirarchical representation of the input documents. Using the data model APIs, you can traverse anywhere in the data model and inspect the attributes of your data. Visit [Fonduer's Documentation](https://fonduer.readthedocs.io/en/stable/user/data_model.html) for a reference of the API."
   ]
  }
 ],
 "metadata": {
  "kernelspec": {
   "display_name": "Python 3",
   "language": "python",
   "name": "python3"
  },
  "language_info": {
   "codemirror_mode": {
    "name": "ipython",
    "version": 3
   },
   "file_extension": ".py",
   "mimetype": "text/x-python",
   "name": "python",
   "nbconvert_exporter": "python",
   "pygments_lexer": "ipython3",
   "version": "3.6.5"
  }
 },
 "nbformat": 4,
 "nbformat_minor": 2
}
